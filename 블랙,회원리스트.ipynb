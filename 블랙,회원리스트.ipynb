{
 "cells": [
  {
   "cell_type": "code",
   "execution_count": 3,
   "metadata": {},
   "outputs": [
    {
     "name": "stdout",
     "output_type": "stream",
     "text": [
      "(466762, 14)\n",
      "<class 'pandas.core.frame.DataFrame'>\n",
      "RangeIndex: 466762 entries, 0 to 466761\n",
      "Data columns (total 14 columns):\n",
      " #   Column      Non-Null Count   Dtype \n",
      "---  ------      --------------   ----- \n",
      " 0   MEMBER_ID   466762 non-null  object\n",
      " 1   GUBUN       466762 non-null  int64 \n",
      " 2   COUNTRY_CD  466579 non-null  object\n",
      " 3   KEYWORD     191511 non-null  object\n",
      " 4   LOGIN_DT    466762 non-null  int64 \n",
      " 5   LOGIN_CNT   466762 non-null  int64 \n",
      " 6   INPUT_DT    466762 non-null  int64 \n",
      " 7   UPDATE_DT   466762 non-null  int64 \n",
      " 8   REMOTEIP    466762 non-null  int64 \n",
      " 9   SHOW_CHK    466762 non-null  int64 \n",
      " 10  MTYPE       466762 non-null  int64 \n",
      " 11  ORDER_FLG   466762 non-null  int64 \n",
      " 12  judge       466762 non-null  int64 \n",
      " 13  BLACK_LIST  466762 non-null  int64 \n",
      "dtypes: int64(11), object(3)\n",
      "memory usage: 49.9+ MB\n",
      "None\n"
     ]
    }
   ],
   "source": [
    "import pandas as pd\n",
    "\n",
    "member_concat = pd.read_csv('./dataset/members_concat_v2.csv')\n",
    "print(member_concat.shape)\n",
    "print(member_concat.info())\n"
   ]
  },
  {
   "cell_type": "code",
   "execution_count": 25,
   "metadata": {},
   "outputs": [
    {
     "data": {
      "text/plain": [
       "BLACK_LIST\n",
       "0    445345\n",
       "1     21417\n",
       "Name: count, dtype: int64"
      ]
     },
     "execution_count": 25,
     "metadata": {},
     "output_type": "execute_result"
    }
   ],
   "source": [
    "member_concat['BLACK_LIST'].value_counts()"
   ]
  },
  {
   "cell_type": "code",
   "execution_count": 35,
   "metadata": {},
   "outputs": [
    {
     "name": "stdout",
     "output_type": "stream",
     "text": [
      "블랙리스트가 포함된 멤버 국가 유니크 개수: 249\n",
      "이상회원 국가 유니크 개수: 203\n",
      "정상회원 국가 유니크 개수: 247\n"
     ]
    }
   ],
   "source": [
    "print('블랙리스트가 포함된 멤버 국가 유니크 개수:',len(member_concat['COUNTRY_CD'].unique()))\n",
    "print('이상회원 국가 유니크 개수:', len(member_concat[member_concat['judge']==0]['COUNTRY_CD'].unique()))\n",
    "print('정상회원 국가 유니크 개수:', len(member_concat[member_concat['judge']==1]['COUNTRY_CD'].unique()))"
   ]
  },
  {
   "cell_type": "code",
   "execution_count": 37,
   "metadata": {},
   "outputs": [
    {
     "name": "stdout",
     "output_type": "stream",
     "text": [
      "(26808, 8)\n",
      "<class 'pandas.core.frame.DataFrame'>\n",
      "RangeIndex: 26808 entries, 0 to 26807\n",
      "Data columns (total 8 columns):\n",
      " #   Column      Non-Null Count  Dtype \n",
      "---  ------      --------------  ----- \n",
      " 0   MEMBER_ID   26808 non-null  object\n",
      " 1   COMP_NM     26803 non-null  object\n",
      " 2   COUNTRY_CD  26807 non-null  object\n",
      " 3   IPADDRESS   26808 non-null  object\n",
      " 4   TYPE_NM     26771 non-null  object\n",
      " 5   INPUT_DT    26808 non-null  int64 \n",
      " 6   ETC         75 non-null     object\n",
      " 7   CONTENT     14806 non-null  object\n",
      "dtypes: int64(1), object(7)\n",
      "memory usage: 1.6+ MB\n",
      "None\n"
     ]
    }
   ],
   "source": [
    "blacklist = pd.read_csv('./dataset/블랙리스트_v2.csv')\n",
    "print(blacklist.shape)\n",
    "print(blacklist.info())"
   ]
  },
  {
   "cell_type": "code",
   "execution_count": 43,
   "metadata": {},
   "outputs": [
    {
     "data": {
      "text/plain": [
       "21858    Jae Li jli@react.org via react365.onmicrosoft....\n",
       "25120                                                  NaN\n",
       "25969                             Report Item을 통한 블랙리스트 등록\n",
       "25970                             Report Item을 통한 블랙리스트 등록\n",
       "25971                             Report Item을 통한 블랙리스트 등록\n",
       "                               ...                        \n",
       "26791    Dear sir/madam.\\n\\nThis is Mohsen from Bastan ...\n",
       "26793    Tricia Knox <pknox@primeplastic.com>\\nJan 27 (...\n",
       "26800    A World of Flavor\\nFeeding the world! Our chic...\n",
       "26801    Detailed Description of Transaction:\\nTHIS IS ...\n",
       "26807    Dear Administrator,\\n\\n \\n\\nWe are from Zamil ...\n",
       "Name: CONTENT, Length: 75, dtype: object"
      ]
     },
     "execution_count": 43,
     "metadata": {},
     "output_type": "execute_result"
    }
   ],
   "source": [
    "blacklist[blacklist['ETC'].isna() == False]['CONTENT'].replace('\\r','',regex=True)"
   ]
  },
  {
   "cell_type": "code",
   "execution_count": 48,
   "metadata": {},
   "outputs": [
    {
     "data": {
      "text/plain": [
       "12002"
      ]
     },
     "execution_count": 48,
     "metadata": {},
     "output_type": "execute_result"
    }
   ],
   "source": [
    "len(blacklist[blacklist['CONTENT'].isna()])"
   ]
  }
 ],
 "metadata": {
  "kernelspec": {
   "display_name": "Python 3",
   "language": "python",
   "name": "python3"
  },
  "language_info": {
   "codemirror_mode": {
    "name": "ipython",
    "version": 3
   },
   "file_extension": ".py",
   "mimetype": "text/x-python",
   "name": "python",
   "nbconvert_exporter": "python",
   "pygments_lexer": "ipython3",
   "version": "3.12.0"
  }
 },
 "nbformat": 4,
 "nbformat_minor": 2
}
