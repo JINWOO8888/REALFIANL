print('김도연 바보')
