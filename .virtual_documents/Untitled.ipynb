<<<<<<< HEAD
print('인영테스트')
=======
print('김도연 바보')
>>>>>>> origin/1.ZOO
