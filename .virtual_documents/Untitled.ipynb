import pandas as pd

Weird_members = pd.read_csv('./dataset/이상회원데이터v2.csv')
Normal_members = pd.read_csv('./dataset/정상회원데이터v2.csv')
Weird_products = pd.read_csv('./dataset/이상상품_V2.csv')
Normal_products = pd.read_csv('./dataset/정상상품_V2.csv')
BlackLists = pd.read_csv('./dataset/블랙리스트_v2.csv')
BlockKeywords = pd.read_csv('./dataset/금지어keyword.csv')



print(Weird_members.info())
