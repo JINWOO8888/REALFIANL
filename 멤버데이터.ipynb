{
 "cells": [
  {
   "cell_type": "code",
   "execution_count": 1,
   "id": "3b174f91-2ca7-4538-9c93-56b009b64686",
   "metadata": {},
   "outputs": [
    {
     "name": "stdout",
     "output_type": "stream",
     "text": [
      "(466762, 14)\n",
      "<class 'pandas.core.frame.DataFrame'>\n",
      "RangeIndex: 466762 entries, 0 to 466761\n",
      "Data columns (total 14 columns):\n",
      " #   Column      Non-Null Count   Dtype \n",
      "---  ------      --------------   ----- \n",
      " 0   MEMBER_ID   466762 non-null  object\n",
      " 1   GUBUN       466762 non-null  int64 \n",
      " 2   COUNTRY_CD  466579 non-null  object\n",
      " 3   KEYWORD     191511 non-null  object\n",
      " 4   LOGIN_DT    466762 non-null  int64 \n",
      " 5   LOGIN_CNT   466762 non-null  int64 \n",
      " 6   INPUT_DT    466762 non-null  int64 \n",
      " 7   UPDATE_DT   466762 non-null  int64 \n",
      " 8   REMOTEIP    466762 non-null  int64 \n",
      " 9   SHOW_CHK    466762 non-null  int64 \n",
      " 10  MTYPE       466762 non-null  int64 \n",
      " 11  ORDER_FLG   466762 non-null  int64 \n",
      " 12  judge       466762 non-null  int64 \n",
      " 13  BLACK_LIST  466762 non-null  int64 \n",
      "dtypes: int64(11), object(3)\n",
      "memory usage: 49.9+ MB\n",
      "None\n"
     ]
    }
   ],
   "source": [
    "import pandas as pd\n",
    "\n",
    "members = pd.read_csv('./dataset/members_concat_v2.csv')\n",
    "print(members.shape)\n",
    "print(members.info())"
   ]
  },
  {
   "cell_type": "code",
   "execution_count": 2,
   "id": "a0bf3370",
   "metadata": {},
   "outputs": [
    {
     "name": "stdout",
     "output_type": "stream",
     "text": [
      "(751315, 11)\n",
      "<class 'pandas.core.frame.DataFrame'>\n",
      "RangeIndex: 751315 entries, 0 to 751314\n",
      "Data columns (total 11 columns):\n",
      " #   Column        Non-Null Count   Dtype \n",
      "---  ------        --------------   ----- \n",
      " 0   MEMBER_ID     751315 non-null  object\n",
      " 1   CATALOG_NM    751315 non-null  object\n",
      " 2   CATEGORYM_ID  751315 non-null  int64 \n",
      " 3   KEYWORD       751315 non-null  object\n",
      " 4   DISPLAY       751315 non-null  int64 \n",
      " 5   CATALOG_DESC  751259 non-null  object\n",
      " 6   INPUT_DT      751315 non-null  int64 \n",
      " 7   UPDATE_DT     751315 non-null  int64 \n",
      " 8   REMOTEIP      751315 non-null  int64 \n",
      " 9   SHOW_CHK      751315 non-null  int64 \n",
      " 10  judge         751315 non-null  int64 \n",
      "dtypes: int64(7), object(4)\n",
      "memory usage: 63.1+ MB\n",
      "None\n"
     ]
    }
   ],
   "source": [
    "products = pd.read_csv('./dataset/product_concat_v3.csv')\n",
    "print(products.shape)\n",
    "print(products.info())"
   ]
  },
  {
   "cell_type": "markdown",
   "id": "77fc0864-df2e-4b9c-ab99-82ee13752bc3",
   "metadata": {},
   "source": [
    "# 정상회원"
   ]
  },
  {
   "cell_type": "code",
   "execution_count": 3,
   "id": "bac7b383-37f6-4e34-bef3-e35723197d26",
   "metadata": {},
   "outputs": [],
   "source": [
    "len(members[members['judge']==1])"
   ]
  },
  {
   "cell_type": "code",
   "execution_count": null,
   "id": "08a56b48",
   "metadata": {},
   "outputs": [],
   "source": []
  }
 ],
 "metadata": {
  "kernelspec": {
   "display_name": "Python 3 (ipykernel)",
   "language": "python",
   "name": "python3"
  },
  "language_info": {
   "codemirror_mode": {
    "name": "ipython",
    "version": 3
   },
   "file_extension": ".py",
   "mimetype": "text/x-python",
   "name": "python",
   "nbconvert_exporter": "python",
   "pygments_lexer": "ipython3",
   "version": "3.12.0"
  }
 },
 "nbformat": 4,
 "nbformat_minor": 5
}
