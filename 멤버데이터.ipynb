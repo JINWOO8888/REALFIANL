{
 "cells": [
  {
   "cell_type": "code",
   "execution_count": 30,
   "id": "3b174f91-2ca7-4538-9c93-56b009b64686",
   "metadata": {},
   "outputs": [
    {
     "name": "stdout",
     "output_type": "stream",
     "text": [
      "(466762, 14)\n",
      "<class 'pandas.core.frame.DataFrame'>\n",
      "RangeIndex: 466762 entries, 0 to 466761\n",
      "Data columns (total 14 columns):\n",
      " #   Column      Non-Null Count   Dtype \n",
      "---  ------      --------------   ----- \n",
      " 0   MEMBER_ID   466762 non-null  object\n",
      " 1   GUBUN       466762 non-null  int64 \n",
      " 2   COUNTRY_CD  466579 non-null  object\n",
      " 3   KEYWORD     191511 non-null  object\n",
      " 4   LOGIN_DT    466762 non-null  int64 \n",
      " 5   LOGIN_CNT   466762 non-null  int64 \n",
      " 6   INPUT_DT    466762 non-null  int64 \n",
      " 7   UPDATE_DT   466762 non-null  int64 \n",
      " 8   REMOTEIP    466762 non-null  int64 \n",
      " 9   SHOW_CHK    466762 non-null  int64 \n",
      " 10  MTYPE       466762 non-null  int64 \n",
      " 11  ORDER_FLG   466762 non-null  int64 \n",
      " 12  judge       466762 non-null  int64 \n",
      " 13  BLACK_LIST  466762 non-null  int64 \n",
      "dtypes: int64(11), object(3)\n",
      "memory usage: 49.9+ MB\n",
      "None\n"
     ]
    }
   ],
   "source": [
    "import pandas as pd\n",
    "\n",
    "members = pd.read_csv('./dataset/members_concat_v2.csv')\n",
    "print(members.shape)\n",
    "print(members.info())"
   ]
  },
  {
   "cell_type": "code",
   "execution_count": 31,
   "id": "a0bf3370",
   "metadata": {},
   "outputs": [
    {
     "name": "stdout",
     "output_type": "stream",
     "text": [
      "(751315, 11)\n",
      "<class 'pandas.core.frame.DataFrame'>\n",
      "RangeIndex: 751315 entries, 0 to 751314\n",
      "Data columns (total 11 columns):\n",
      " #   Column        Non-Null Count   Dtype \n",
      "---  ------        --------------   ----- \n",
      " 0   MEMBER_ID     751315 non-null  object\n",
      " 1   CATALOG_NM    751315 non-null  object\n",
      " 2   CATEGORYM_ID  751315 non-null  int64 \n",
      " 3   KEYWORD       751315 non-null  object\n",
      " 4   DISPLAY       751315 non-null  int64 \n",
      " 5   CATALOG_DESC  751259 non-null  object\n",
      " 6   INPUT_DT      751315 non-null  int64 \n",
      " 7   UPDATE_DT     751315 non-null  int64 \n",
      " 8   REMOTEIP      751315 non-null  int64 \n",
      " 9   SHOW_CHK      751315 non-null  int64 \n",
      " 10  judge         751315 non-null  int64 \n",
      "dtypes: int64(7), object(4)\n",
      "memory usage: 63.1+ MB\n",
      "None\n"
     ]
    }
   ],
   "source": [
    "products = pd.read_csv('./dataset/product_concat_v3.csv')\n",
    "print(products.shape)\n",
    "print(products.info())"
   ]
  },
  {
   "cell_type": "markdown",
   "id": "77fc0864-df2e-4b9c-ab99-82ee13752bc3",
   "metadata": {},
   "source": [
    "# 회원 구분 (정상 / 이상)"
   ]
  },
  {
   "cell_type": "code",
   "execution_count": 32,
   "id": "bac7b383-37f6-4e34-bef3-e35723197d26",
   "metadata": {},
   "outputs": [
    {
     "name": "stdout",
     "output_type": "stream",
     "text": [
      "정상회원: 373341\n"
     ]
    }
   ],
   "source": [
    "print('정상회원:', len(members[members['judge']==1]))"
   ]
  },
  {
   "cell_type": "code",
   "execution_count": 33,
   "id": "08a56b48",
   "metadata": {},
   "outputs": [
    {
     "name": "stdout",
     "output_type": "stream",
     "text": [
      "이상회원: 93421\n"
     ]
    }
   ],
   "source": [
    "print('이상회원:', len(members[members['judge']==0]))"
   ]
  },
  {
   "cell_type": "markdown",
   "id": "a58e2d71",
   "metadata": {},
   "source": [
    "# 이상회원"
   ]
  },
  {
   "cell_type": "code",
   "execution_count": 34,
   "id": "1f730432",
   "metadata": {},
   "outputs": [
    {
     "data": {
      "text/plain": [
       "KEYWORD\n",
       "Apple Airpods           4602\n",
       "skin care               3030\n",
       "Earphone & Headphone    2616\n",
       "Ear Headphones          2262\n",
       "accessories             1669\n",
       "Skin Care               1483\n",
       "Product                 1428\n",
       "Graphics Card           1248\n",
       "product                 1123\n",
       "Stroller                1076\n",
       "Skin care               1051\n",
       "MSI GRAPHICS CARD        998\n",
       "Products                 918\n",
       "cosmetics                913\n",
       "graphics card            891\n",
       "cream                    806\n",
       "ps5                      802\n",
       "tools                    801\n",
       "products                 792\n",
       "Apple Airpod             785\n",
       "Name: count, dtype: int64"
      ]
     },
     "execution_count": 34,
     "metadata": {},
     "output_type": "execute_result"
    }
   ],
   "source": [
    "members[members['judge'] == 0]['KEYWORD'].value_counts().head(20)"
   ]
  },
  {
   "cell_type": "code",
   "execution_count": 35,
   "id": "4b78f176",
   "metadata": {},
   "outputs": [
    {
     "data": {
      "text/plain": [
       "CATALOG_NM\n",
       "CREST 3D WHITESTRIPS 1 Hour Express 20 STRIPS                               130\n",
       "CeraVeing-Moisturizing-Cream-for-Normal-To-Dry-SKIN-19-Oz                   111\n",
       "Corsx Propolis Synergy Toner, Honey Extract Full Fit Toner, 150ml NIB        95\n",
       "La Roche-Posay Anthelios SPF50+ Dry Touch Gel-Cream Anti-Shine Sunscreen     91\n",
       "CeraVeing Hydrating Facial Cleanser for Normal To Dry Skin 12 Fl Oz          86\n",
       "                                                                           ... \n",
       "The-Ordinary-AHA-30% + BHA 2%-Peeling-Solution-30ml                           1\n",
       "Sugarbearhair Vitamins 60 Count 1  Month Suppl                                1\n",
       "Sugarbear Hair Vitamins 60 Count                                              1\n",
       "Best Choice Revlon-One-Step-Hair-Dryer-Volumizer-Hot-Air-Brush                1\n",
       "ETUDE HOUSE Play Color Eyes - 10g                                             1\n",
       "Name: count, Length: 1270, dtype: int64"
      ]
     },
     "execution_count": 35,
     "metadata": {},
     "output_type": "execute_result"
    }
   ],
   "source": [
    "products[ products['MEMBER_ID'].isin(members[members['KEYWORD'] == 'Skin care']['MEMBER_ID'])]['CATALOG_NM'].value_counts()"
   ]
  },
  {
   "cell_type": "code",
   "execution_count": 36,
   "id": "198f2799",
   "metadata": {},
   "outputs": [
    {
     "data": {
      "text/plain": [
       "CATALOG_NM\n",
       "The Ordinary AHA 30% + BHA 2% Peeling Solution 30ml 10-Minute Exfoliating Face    542\n",
       "The Ordinary Niacinamide 10% and Zinc 1% 1oz Blemish Formula 30ml                 327\n",
       "The Ordinary Peeling Solution AHA 30% + BHA 2% 30ml                               302\n",
       "The Ordinary Caffeine Solution 5% + EGCG 1oz NEW                                  280\n",
       "The Ordinary Alpha Arbutin 2% +HA Anti-Aging Serum 30ml                           231\n",
       "                                                                                 ... \n",
       "Copper Scrap                                                                        1\n",
       "Sell, Copper Wire Scrap (99.95%/Min.)                                               1\n",
       "Copper Wire Scrap                                                                   1\n",
       "Millberry Copper Scrap                                                              1\n",
       "Radio Frequency (High Frequency) Massage Cream, Facial Massage Cream                1\n",
       "Name: count, Length: 2989, dtype: int64"
      ]
     },
     "execution_count": 36,
     "metadata": {},
     "output_type": "execute_result"
    }
   ],
   "source": [
    "products[ products['MEMBER_ID'].isin(members[members['KEYWORD'] == 'skin care']['MEMBER_ID'])]['CATALOG_NM'].value_counts()"
   ]
  },
  {
   "cell_type": "markdown",
   "id": "961bc15f",
   "metadata": {},
   "source": [
    "# 정상회원인데 이상상품을 판 경우"
   ]
  },
  {
   "cell_type": "code",
   "execution_count": 37,
   "id": "11ac278d",
   "metadata": {},
   "outputs": [
    {
     "data": {
      "text/plain": [
       "10883"
      ]
     },
     "execution_count": 37,
     "metadata": {},
     "output_type": "execute_result"
    }
   ],
   "source": [
    "len(products[(products['judge'] ==0) & products['MEMBER_ID'].isin(members[members['judge']==1]['MEMBER_ID'])])"
   ]
  },
  {
   "cell_type": "code",
   "execution_count": 38,
   "id": "93ad92bf",
   "metadata": {},
   "outputs": [
    {
     "data": {
      "text/html": [
       "<div>\n",
       "<style scoped>\n",
       "    .dataframe tbody tr th:only-of-type {\n",
       "        vertical-align: middle;\n",
       "    }\n",
       "\n",
       "    .dataframe tbody tr th {\n",
       "        vertical-align: top;\n",
       "    }\n",
       "\n",
       "    .dataframe thead th {\n",
       "        text-align: right;\n",
       "    }\n",
       "</style>\n",
       "<table border=\"1\" class=\"dataframe\">\n",
       "  <thead>\n",
       "    <tr style=\"text-align: right;\">\n",
       "      <th></th>\n",
       "      <th>MEMBER_ID</th>\n",
       "      <th>CATALOG_NM</th>\n",
       "      <th>CATEGORYM_ID</th>\n",
       "      <th>KEYWORD</th>\n",
       "      <th>DISPLAY</th>\n",
       "      <th>CATALOG_DESC</th>\n",
       "      <th>INPUT_DT</th>\n",
       "      <th>UPDATE_DT</th>\n",
       "      <th>REMOTEIP</th>\n",
       "      <th>SHOW_CHK</th>\n",
       "      <th>judge</th>\n",
       "    </tr>\n",
       "  </thead>\n",
       "  <tbody>\n",
       "    <tr>\n",
       "      <th>0</th>\n",
       "      <td>shangyuanshibang</td>\n",
       "      <td>1-BOC-4-(4-BROMO-PHENYLAMINO)-PIPERIDINECas 44...</td>\n",
       "      <td>212815</td>\n",
       "      <td>1-BOC-4- 4-BROMO-PHENYLAM</td>\n",
       "      <td>1</td>\n",
       "      <td>1. 名称和标识符1.1 名称1-叔丁氧羰基-4-（4-溴苯基氨基）哌啶1.2 同义词1-哌...</td>\n",
       "      <td>20230228</td>\n",
       "      <td>20230228</td>\n",
       "      <td>21978227175</td>\n",
       "      <td>1</td>\n",
       "      <td>0</td>\n",
       "    </tr>\n",
       "    <tr>\n",
       "      <th>1</th>\n",
       "      <td>shangyuanshibang</td>\n",
       "      <td>High Purity N- (Tert-Butoxycarbonyl) -4-Piperi...</td>\n",
       "      <td>212815</td>\n",
       "      <td>N- tert-Butoxycarbonyl -4</td>\n",
       "      <td>1</td>\n",
       "      <td>1. 名称和标识符1.1 名称N-叔丁氧羰基-4-哌啶酮1.2 同义词1-叔丁氧羰基-4-哌...</td>\n",
       "      <td>20230228</td>\n",
       "      <td>20230228</td>\n",
       "      <td>4237992</td>\n",
       "      <td>1</td>\n",
       "      <td>0</td>\n",
       "    </tr>\n",
       "    <tr>\n",
       "      <th>2</th>\n",
       "      <td>shangyuanshibang</td>\n",
       "      <td>1,1-dimethylethyl Ester CAS 288573-56-8</td>\n",
       "      <td>212815</td>\n",
       "      <td>1-BOC-4- 4-FLUORO-PHENYLA</td>\n",
       "      <td>1</td>\n",
       "      <td>1. Names and Identifiers1.1 Name1-BOC-4-(4-FLU...</td>\n",
       "      <td>20230228</td>\n",
       "      <td>20230228</td>\n",
       "      <td>4237992</td>\n",
       "      <td>1</td>\n",
       "      <td>0</td>\n",
       "    </tr>\n",
       "    <tr>\n",
       "      <th>3</th>\n",
       "      <td>shangyuanshibang</td>\n",
       "      <td>White Crystal N-Isopropylbenzylamine CAS 102-9...</td>\n",
       "      <td>212815</td>\n",
       "      <td>N-Isopropylbenzylamine</td>\n",
       "      <td>1</td>\n",
       "      <td>1. Names and Identifiers1.1 NameN-Isopropylben...</td>\n",
       "      <td>20230228</td>\n",
       "      <td>20230228</td>\n",
       "      <td>4237992</td>\n",
       "      <td>1</td>\n",
       "      <td>0</td>\n",
       "    </tr>\n",
       "    <tr>\n",
       "      <th>4</th>\n",
       "      <td>5527</td>\n",
       "      <td>Soybean GMO &amp; NON-GMO</td>\n",
       "      <td>11607</td>\n",
       "      <td>Soybean soybean gmo</td>\n",
       "      <td>1</td>\n",
       "      <td>Soja GMO &amp; Soja NON-GMOEm estoque:  5000000 MT...</td>\n",
       "      <td>20230228</td>\n",
       "      <td>20230228</td>\n",
       "      <td>131196216214</td>\n",
       "      <td>1</td>\n",
       "      <td>0</td>\n",
       "    </tr>\n",
       "  </tbody>\n",
       "</table>\n",
       "</div>"
      ],
      "text/plain": [
       "          MEMBER_ID                                         CATALOG_NM  \\\n",
       "0  shangyuanshibang  1-BOC-4-(4-BROMO-PHENYLAMINO)-PIPERIDINECas 44...   \n",
       "1  shangyuanshibang  High Purity N- (Tert-Butoxycarbonyl) -4-Piperi...   \n",
       "2  shangyuanshibang            1,1-dimethylethyl Ester CAS 288573-56-8   \n",
       "3  shangyuanshibang  White Crystal N-Isopropylbenzylamine CAS 102-9...   \n",
       "4              5527                              Soybean GMO & NON-GMO   \n",
       "\n",
       "   CATEGORYM_ID                    KEYWORD  DISPLAY  \\\n",
       "0        212815  1-BOC-4- 4-BROMO-PHENYLAM        1   \n",
       "1        212815  N- tert-Butoxycarbonyl -4        1   \n",
       "2        212815  1-BOC-4- 4-FLUORO-PHENYLA        1   \n",
       "3        212815     N-Isopropylbenzylamine        1   \n",
       "4         11607        Soybean soybean gmo        1   \n",
       "\n",
       "                                        CATALOG_DESC  INPUT_DT  UPDATE_DT  \\\n",
       "0  1. 名称和标识符1.1 名称1-叔丁氧羰基-4-（4-溴苯基氨基）哌啶1.2 同义词1-哌...  20230228   20230228   \n",
       "1  1. 名称和标识符1.1 名称N-叔丁氧羰基-4-哌啶酮1.2 同义词1-叔丁氧羰基-4-哌...  20230228   20230228   \n",
       "2  1. Names and Identifiers1.1 Name1-BOC-4-(4-FLU...  20230228   20230228   \n",
       "3  1. Names and Identifiers1.1 NameN-Isopropylben...  20230228   20230228   \n",
       "4  Soja GMO & Soja NON-GMOEm estoque:  5000000 MT...  20230228   20230228   \n",
       "\n",
       "       REMOTEIP  SHOW_CHK  judge  \n",
       "0   21978227175         1      0  \n",
       "1       4237992         1      0  \n",
       "2       4237992         1      0  \n",
       "3       4237992         1      0  \n",
       "4  131196216214         1      0  "
      ]
     },
     "execution_count": 38,
     "metadata": {},
     "output_type": "execute_result"
    }
   ],
   "source": [
    "products[(products['judge'] ==0) & products['MEMBER_ID'].isin(members[members['judge']==1]['MEMBER_ID'])].head()"
   ]
  },
  {
   "cell_type": "code",
   "execution_count": 39,
   "id": "2fc3c003",
   "metadata": {},
   "outputs": [
    {
     "data": {
      "text/plain": [
       "MEMBER_ID        CATALOG_NM                                                                                CATEGORYM_ID  KEYWORD                                                                                               DISPLAY  CATALOG_DESC                                                                                                                                                                                                                                                                                                                                                                                                                                                                                                                                                                                                                                                                                                                                                                                                                                                                                                                                                                                                                                                                                                                                                                                                                                                                                                                                                                                                                                                                                                                                                                                                                                                                                                                                                                                                                                                                                                                                                                                                                                                                                                                                                                                                                                                                                                                                                                                                                                                                                                                                                                                                                                                                                                                                                                                                                                                                                                                                                                                                                                                                                                                                                                                                                                                                                                                                                                                                                                                                                                                                                                                                                                                                                                                                                                                                                                                                                                                                                                                                                                                                                                                                                                                                                                                                                                                                                                                                                                     INPUT_DT  UPDATE_DT  REMOTEIP      SHOW_CHK  judge\n",
       "ycjt             Chemical                                                                                  212807        Crepis base                                                                                           0        Crepis base   Packing:1kg/foil bags   Assay: ≥99.5    Appearance: White crystalline powder, soluble in water and ethanol, insoluble in lipids, no smell bitter   Character: This product has been highly purified into white powder crystal which can dissolve in water and ethanol but can't dissolve in fat. It is smelless and bitter with the purity of above 99.95%.The product should be kept in dark and dry place.    Function: The acting principle of this product: NANC neuron and carbon monoxide enzyme of blood vessel endodermis cells catalyze the composition of carbon monoxide from L-Arginine. Carbon monoxide stimulates the composition of guanosine which can lead to the relaxation of smooth muscle of penis sponge and penis arteriole. The penis will have an erection when there is blood pouring into penis sponge. Thus, this product belongs to 5 types Vinpocetine (sildenafil).    Effects: This product is re-composed by sildenafil which belongs to the derivatives of sildenafil. And its changeable forms LG-MS, HPLC have been tested by advanced facility and have passed international intellectual property protection policy. It doesn't belong to the protection scope but also doesn't in the forbidden scope of government.    Harmful reaction: Headache, red face, nasal congestion, abnormal eyesight (barrier of distinguishing color in a short time).    Scope: The one who takes medicine which contains nitrate and which can expand blood vessel can't take this product. And it is not applicable for the one who suffers from blood condensing barrier, active ulcer and retina inflammation.                                                                                                                                                                                                                                                                                                                                                                                                                                                                                                                                                                                                                                                                                                                                                                                                                                                                                                                                                                                                                                                                                                                                                                                                                                                                                                                                                                                                                                                                                                                                                                                                                                                                                                                                                                                                                                                                                                                                                                                                                                                                                                                                                                                                                                                                                                                                                                                                                                                                                                                                                                                                                                                                                                                                                                                           20180505  20180505   11141228      1         0        43\n",
       "                                                                                                                         Chemical                                                                                              0        Product name    Testosterone Base      Other name    Testoviron; Oreton; Testex; Testoderm; Testred; Virilon; Testolent      CAS register number    58-22-0      EINECS     200-370-5      Molecular formula    C19H28O2       Molecular weight    288.42      Molecular structure           Assay    98%      Appearance    White crystalline powder      Usage    can be used as pharmaceutical material                                                                                                                                                                                                                                                                                                                                                                                                                                                                                                                                                                                                                                                                                                                                                                                                                                                                                                                                                                                                                                                                                                                                                                                                                                                                                                                                                                                                                                                                                                                                                                                                                                                                                                                                                                                                                                                                                                                                                                                                                                                                                                                                                                                                                                                                                                                                                                                                                                                                                                                                                                                                                                                                                                                                                                                                                                                                                                                                                                                                                                                                                                                                                                                                                                                                                                                                                                                                                                                                                                                                                                                                                                                                                                                                                                                                                                                                                                                                                                                                                                       20180505  20180505   11141228      1         0        34\n",
       "ycjt2018         Chemical                                                                                  212807        Chemical                                                                                              0        Mesterolone (Proviron) (Steroids)    Purity: 99%  Chemical Name: 17beta-Hydroxy-1alpha-methyl-5alpha-androstan-3-one;  1alpha-Methylandrostan-17beta-ol-3-one  Molecular Formula: C20H32O2  Molecular weight: 304.47  Molecular Structure:     CAS NO.: 1424-00-6  Standard: Enterprise Standard  Packing: 1kg/aluminum foil bag                                                                                                                                                                                                                                                                                                                                                                                                                                                                                                                                                                                                                                                                                                                                                                                                                                                                                                                                                                                                                                                                                                                                                                                                                                                                                                                                                                                                                                                                                                                                                                                                                                                                                                                                                                                                                                                                                                                                                                                                                                                                                                                                                                                                                                                                                                                                                                                                                                                                                                                                                                                                                                                                                                                                                                                                                                                                                                                                                                                                                                                                                                                                                                                                                                                                                                                                                                                                                                                                                                                                                                                                                                                                                                                                                                                                                                                                                                                                                                                                                                                                                                                 20180423  20180423   221232145206  1         0        30\n",
       "ycjt             Chemical                                                                                  212807        Xinyang base                                                                                          0        Sexual Enhancement Ingredients--D (Xinyang base)     Assay: 99%    Packing:1kg/foil bag   Appearance: Light yellow crystalline powder, slightly soluble in water and slightly soluble in ethanol, soluble in lipids, odorless   Pharmaceutical theory: This ingredients belongs to phosphodiesterase type 5 of this kind of inhibitor. When sexuelle erregung, neurone of NANC and nitrogen oxide inendothelial cells synthase and catalyse L-arginine to synthetize nitrogen oxide, which activate guanosine to synthesis increase, then lead cavernous body of penis smooth muscle and artery of penis into relaxation, blood into penis sponge sinus, make penis erect.    Usage: sexual function decline; non-organic sexual disorder, ED patients                                                                                                                                                                                                                                                                                                                                                                                                                                                                                                                                                                                                                                                                                                                                                                                                                                                                                                                                                                                                                                                                                                                                                                                                                                                                                                                                                                                                                                                                                                                                                                                                                                                                                                                                                                                                                                                                                                                                                                                                                                                                                                                                                                                                                                                                                                                                                                                                                                                                                                                                                                                                                                                                                                                                                                                                                                                                                                                                                                                                                                                                                                                                                                                                                                                                                                                                                                                                                                                                                                                                                                                                                                                                                           20180505  20180505   11141228      1         0        29\n",
       "                                                                                                                         Finasteride                                                                                           0        Finasteride   English Synonyms: PROSCAR;PROSTIDE;N-(2-METHYL-2-PROPYL)-3-OXO-4-AZA-5ALPHA-ANDROST-1-ENE-17BETA-CARBOXAMIDE;MK-906;(5alpha,17beta)-(1,1-dimethylethyl)-3-oxo-4-azaandrost-1-ene-17-carboxamide;17beta-(n-tert-butylcarbamoyl)-4-aza-5alpha-androst-1-en-3-one;4-azaandrost-1-ene-17-carboxamide,n-(1,1-dimethylethyl)-3-oxo-,(5-alpha,17-be;4-azaandrost-1-ene-17-carboxamide,n-(1,1-dimethylethyl)-3-oxo-,(5alpha,17beta    CAS NO.: 98319-26-7    Assay: 99%   Molecular Formula:C23H36N2O2    Molecular Weight:372.54    Molecular Structure:      Packing:foil bag   Appearance: White or white crystalline solid. Soluble in chloroform, dimethyl sulfoxide, ethanol, methanol or propanol, insoluble in propylene glycol or polyethylene glycol 400   Usage: The drug can be very effective in reducing blood and dihydro testosterone within the prostate. Finasteride no affinity to the androgen receptor                                                                                                                                                                                                                                                                                                                                                                                                                                                                                                                                                                                                                                                                                                                                                                                                                                                                                                                                                                                                                                                                                                                                                                                                                                                                                                                                                                                                                                                                                                                                                                                                                                                                                                                                                                                                                                                                                                                                                                                                                                                                                                                                                                                                                                                                                                                                                                                                                                                                                                                                                                                                                                                                                                                                                                                                                                                                                                                                                                                                                                                                                                                                                                                                                                                                                                                                                                                                                                                                                                                20180505  20180505   11141228      1         0        29\n",
       "                                                                                                                                                                                                                                                                                                                                                                                                                                                                                                                                                                                                                                                                                                                                                                                                                                                                                                                                                                                                                                                                                                                                                                                                                                                                                                                                                                                                                                                                                                                                                                                                                                                                                                                                                                                                                                                                                                                                                                                                                                                                                                                                                                                                                                                                                                                                                                                                                                                                                                                                                                                                                                                                                                                                                                                                                                                                                                                                                                                                                                                                                                                                                                                                                                                                                                                                                                                                                                                                                                                                                                                                                                                                                                                                                                                                                                                                                                                                                                                                                                                                                                                                                                                                                                                                                                                                                                                                                                                                                                                                                                                                                                                                                                                                               ..\n",
       "exaszcxtrzasdfg   pollution Mask N95 N99 Anti Dust Mask Breathing Disposable Face Mask                     213301        pollution Mask N95 N99                                                                                1        ItemStandardSpecificationMaterialPacking6115N95, NIOSHDust maskcup style3 layer mask,out side layer is PP Spunbound non-woven,2nd layer is Electrostatic high efficiency filter material, inside layer is Needle-punched cotton non-woven20pcs/box, 20boxes/carton6135N95, NIOSHDust maskcup style4 layer mask,out side layer is PP Spunbound non-woven,2nd is nonwoven cloth with activated carbon,,3rd layer is Electrostatic high efficiency filter material, inside layer is Needle-punched cotton non-woven20pcs/box, 20boxes/carton6155N95, NIOSHDust maskcup style3 layer mask,out side layer is PP Spunbound non-woven,2nd layer is Electrostatic high efficiency filter material, inside layer is Needle-punched cotton non-woven. With breather valve15pcs/box,20box/ctn6175N95, NIOSHDust maskcup style4 layer mask,out side layer is PP Spunbound non-woven,2nd is nonwoven cloth with activated carbon,,3rd layer is Electrostatic high efficiency filter material, inside layer is Needle-punched cotton non-wovenWith breather valve15pcs/box,20box/ctn                                                                                                                                                                                                                                                                                                                                                                                                                                                                                                                                                                                                                                                                                                                                                                                                                                                                                                                                                                                                                                                                                                                                                                                                                                                                                                                                                                                                                                                                                                                                                                                                                                                                                                                                                                                                                                                                                                                                                                                                                                                                                                                                                                                                                                                                                                                                                                                                                                                                                                                                                                                                                                                                                                                                                                                                                                                                                                                                                                                                                                                                                                                                                                                                                                                                                                                                                                           20200228  20200228   89187177244   2         0         1\n",
       "evelynwang0530   Us Warehouse Tianeptine Sodium Overnight Shipping Factory Supply Tianeptine Sulfate/Acid  212815        tianeptine,tianeptine sodium,tianeptine free acid,tianeptine sulfate,tianeptine powder,by tianeptine  1        Quick Info.Product: Tianeptine sodium saltCAS: 30123-17-2MF: C21H24ClN2NaO4SMW: 458.93MP: 180°CStorage Temp.: Store at RTAppearance: white to tan solid powderUsage: Nootropics; Tricyclic compound with psychostimulant, anti-ulcer and anti-emetic properties. Antidepressantproduct nameTianeptine Sodium SaltOther namesTianeptine,Tianeptine SodiumCAS No:30123-17-2Molecular formula:C21h24cln2nao4sMolecular weight:458.93Assay:≥99%Appearance:white to tan powderStorageDesiccate at RtApplication:   Tianeptine is a drug used primarily in the treatment of major depressive disorder, although it may also be used to treat asthma or irritable bowel syndrome. Chemically it is a tricyclic antidepressant (TCA), but it has different pharmacological properties than typical TCAs as recent research suggests that tianeptine produces its antidepressant effects through indirect alteration of glutamate receptor activity (i.e., AMPA receptors and NMDA receptors) and release of BDNF, in turn affecting neural plasticity.  Tianeptine has antidepressant and anxiolytic (anti-anxiety) properties with a relative lack of sedative, anticholinergic and cardiovascular adverse effects,[citation needed] thus suggesting it is particularly suitable for use in the elderly and in those following alcohol withdrawal; such persons can be more sensitive to the adverse effects of psychotropic drugs. Recent results indicate possible anticonvulsant (anti-seizure) and analgesic (painkilling) activity of tianeptine via immediate or downstream modulation of adenosine A1 receptors (as the effects could be experimentally blocked by antagonists of this receptor).                                                                                                                                                                                                                                                                                                                                                                                                                                                                                                                                                                                                                                                                                                                                                                                                                                                                                                                                                                                                                                                                                                                                                                                                                                                                                                                                                                                                                                                                                                                                                                                                                                                                                                                                                                                                                                                                                                                                                                                                                                                                                                                                                                                                                                                                                                                                                                                                                                                                                                                                                                                                                                                                                                                                                20220804  20230113   1031027172    0         0         1\n",
       "                 Top Quality Estradiol Powder CAS 50-28-2                                                  212815        Estradiol,CAS 50 28 2,Estradiol powder,Estradiol Enanthate,Estradiol Valerate,buy Estradiol           1        Product DescriptionTop Quality Estradiol Powder CAS 50-28-2 Quick Details Product NameEstradiolAppearance White powderPurity50-28-2What is 17- β- ESTRADIOL?17- β- ESTRADIOL is a white or milky or amorphous powder. Soluble in dioxane and acetone, slightly soluble in ethanol, insoluble in water. Estradiol, an intermediate between estradiol valerate and estradiol benzoate, is an estrogenic drug. It can be used to treat functional uterine bleeding, primary amenorrhea, menopausal syndrome and prostate cancer. Estradiol can promote and regulate the normal growth of female sexual organs and secondary sexual characteristics, promote the maturation and growth of mammary ducts, and help with positioning. Function Estradiol is used in form of an ethanolic solution for topical application on the scalp. Similarly to other drugs against alopecia, topical or oral, it has to be applied continuously to prevent further hair loss.Regrowth of hair that was already lost is only possible to a limited extent. In general, advanced alopecia does not respond well to medical treatment, which is thought to be a consequence of the hair roots being lost.As a sex hormone, it also triggers many of the developments of the reproductive system that begin in puberty. It is present throughout the reproductive years, and declines during and after menopause. This decline is precisely what causes many of the symptoms of menopause, such as hot flashes and night sweats, vaginal dryness, and the loss of bone mass that may lead to osteoporosis.  Application  1. Applied in pharmaceutical field, Estradiol is used as Endocrine System Agents;2. Applied in Chemicial field, Estradiol can be used as Auxiliaries and Other Medicine Chemicals.   Wuhan Yiruo Pharmaceutical Technology Co., Ltd. was founded in 2019 and We are comprehensive enterprise with business range covering R&D, production and sales of APIs, pharmaceutical intermediates, plant extracts, all kinds of organic intermediates and so on. We bought 14,000 square meters production base in Panhu Industrial Park, established several pharmaceutical synthesis production lines, and continually expands our production capacity.We have a professional research team of highly qualified and experienced chemists. most of our R&D team are Master and higher. With their effort, we quickly transfer the science fruit into production. Our manufacturing site is located in Wuhan which is equipped with 100L~5000L reactors; we can offer one-stop services from R&D to commercial production. (Normal reaction/ High-pressure reaction/ Catalytic reaction/ Low-Temperature reaction).Q1.How to confirm the Product Quality before placing orders?A. Offering you our products specification standard (tested by HPLC, UV, GC and TLC etc.)B. Free samples could be sent to check the product quality before ordering.C. If you have special requirement on the product, we may customize it according to your requirement until to your approval.Q2: Samples & MOQA. We could provide some free samples, but the shipping cost should be on the customers' account. You can either pay the shipping cost or arrange a courierto collect the samples.B. For the high value product, our MOQ starts from 1g and generally starts from 10g.For other low value product, our MOQ starts from 1kg.Q3: How about delivery?A: Delivery lead time: within 1-2 days when get the payment.B. Samples: please expect 5-7 days by FedEx,EMS, UPS,TNT..C.Double customs clearance ,safe delivery ,gurantee receive.We guarantee that 100% of your parcel passes through the United States, Britain,Canada, Mexico, France, Germany, Spain, Belgium, Sweden, Poland, and Russia. We have powerful customs clearance agencies in these countries, and our customs clearance company will clear your parcel without any customs issues, sometimes even 1000 kg. Door to door service DDP service. To ensure 100% receipt of your package, if there are any customs issues, we are willing to reissue your package free of charge. Let you have a good experience of our strong shipping capabilities.We have many customers in those countries and retain long-term cooperation. Provide a large number of high-quality products. They made a lot of money. I am sure we can make more money together. There is money to have glory.  20220804  20230113   10714825370   0         0         1\n",
       "evape            Smok T-Priv 220W - Starter Kit and Mod Only Available                                     848           smok                                                                                                  1        The SMOKTech T-Priv Starter Kit features the futuristic and out of this world T-Priv Mod and TFV8 Big Baby Beast in a stunning color combination and design. The T-Priv features nine different color adjustable LED lights to make your setup glow like a spaceship. The T-Priv Mod can fire up to 220 watts and supports nickel, titanium and stainless steel 316 wire in temperature control mode. The T-Priv Mod features a hidden side fire button that is both tactile and easy to use. The detailed operating interface may be read from the top OLED display screen. The T-Priv requires (2) high amp 18650 batteries (sold separately) that may be replaced using the sliding slot battery door cover.                                                                                                                                                                                                                                                                                                                                                                                                                                                                                                                                                                                                                                                                                                                                                                                                                                                                                                                                                                                                                                                                                                                                                                                                                                                                                                                                                                                                                                                                                                                                                                                                                                                                                                                                                                                                                                                                                                                                                                                                                                                                                                                                                                                                                                                                                                                                                                                                                                                                                                                                                                                                                                                                                                                                                                                                                                                                                                                                                                                                                                                                                                                                                                                                                                                                                                                                                                                                                                                                                                                                                                                                                                                                                                                                  20180306  20180306   159655474     0         0         1\n",
       "zzbeyond         Florfenicol                                                                               2146          Florfenicol                                                                                           1        Product Name\\tFlorfenicol powder high quality Veterinary poultry drugs 20% water soluble  Appearance\\twhite powderFunction:Antibacterial Drugs  Dosage Form:Powder  Animal Type:Aquatic Animals, Cattle, Fowl, Horse, Other Special Breeding Animals, Pets, Pig, Sheep                                                                                                                                                                                                                                                                                                                                                                                                                                                                                                                                                                                                                                                                                                                                                                                                                                                                                                                                                                                                                                                                                                                                                                                                                                                                                                                                                                                                                                                                                                                                                                                                                                                                                                                                                                                                                                                                                                                                                                                                                                                                                                                                                                                                                                                                                                                                                                                                                                                                                                                                                                                                                                                                                                                                                                                                                                                                                                                                                                                                                                                                                                                                                                                                                                                                                                                                                                                                                                                                                                                                                                                                                                                                                                                                                                                                                                                                                                                                                                                                                                                                                                                                                                           20200707  20200707   22024221130   0         0         1\n",
       "Name: count, Length: 8011, dtype: int64"
      ]
     },
     "execution_count": 39,
     "metadata": {},
     "output_type": "execute_result"
    }
   ],
   "source": [
    "products[(products['judge'] ==0) & products['MEMBER_ID'].isin(members[members['judge']==1]['MEMBER_ID'])].value_counts()"
   ]
  },
  {
   "cell_type": "markdown",
   "id": "985d6039",
   "metadata": {},
   "source": [
    "## 'shangyuanshibang' 의 경우 보기"
   ]
  },
  {
   "cell_type": "code",
   "execution_count": 40,
   "id": "c8c7f3e2",
   "metadata": {},
   "outputs": [
    {
     "data": {
      "text/html": [
       "<div>\n",
       "<style scoped>\n",
       "    .dataframe tbody tr th:only-of-type {\n",
       "        vertical-align: middle;\n",
       "    }\n",
       "\n",
       "    .dataframe tbody tr th {\n",
       "        vertical-align: top;\n",
       "    }\n",
       "\n",
       "    .dataframe thead th {\n",
       "        text-align: right;\n",
       "    }\n",
       "</style>\n",
       "<table border=\"1\" class=\"dataframe\">\n",
       "  <thead>\n",
       "    <tr style=\"text-align: right;\">\n",
       "      <th></th>\n",
       "      <th>MEMBER_ID</th>\n",
       "      <th>GUBUN</th>\n",
       "      <th>COUNTRY_CD</th>\n",
       "      <th>KEYWORD</th>\n",
       "      <th>LOGIN_DT</th>\n",
       "      <th>LOGIN_CNT</th>\n",
       "      <th>INPUT_DT</th>\n",
       "      <th>UPDATE_DT</th>\n",
       "      <th>REMOTEIP</th>\n",
       "      <th>SHOW_CHK</th>\n",
       "      <th>MTYPE</th>\n",
       "      <th>ORDER_FLG</th>\n",
       "      <th>judge</th>\n",
       "      <th>BLACK_LIST</th>\n",
       "    </tr>\n",
       "  </thead>\n",
       "  <tbody>\n",
       "    <tr>\n",
       "      <th>437295</th>\n",
       "      <td>shangyuanshibang</td>\n",
       "      <td>0</td>\n",
       "      <td>HK</td>\n",
       "      <td>Pharmaceutical intermediates</td>\n",
       "      <td>20230227</td>\n",
       "      <td>7</td>\n",
       "      <td>20230223</td>\n",
       "      <td>20230223</td>\n",
       "      <td>1687078225</td>\n",
       "      <td>1</td>\n",
       "      <td>0</td>\n",
       "      <td>90</td>\n",
       "      <td>1</td>\n",
       "      <td>0</td>\n",
       "    </tr>\n",
       "  </tbody>\n",
       "</table>\n",
       "</div>"
      ],
      "text/plain": [
       "               MEMBER_ID  GUBUN COUNTRY_CD                       KEYWORD  \\\n",
       "437295  shangyuanshibang      0         HK  Pharmaceutical intermediates   \n",
       "\n",
       "        LOGIN_DT  LOGIN_CNT  INPUT_DT  UPDATE_DT    REMOTEIP  SHOW_CHK  MTYPE  \\\n",
       "437295  20230227          7  20230223   20230223  1687078225         1      0   \n",
       "\n",
       "        ORDER_FLG  judge  BLACK_LIST  \n",
       "437295         90      1           0  "
      ]
     },
     "execution_count": 40,
     "metadata": {},
     "output_type": "execute_result"
    }
   ],
   "source": [
    "members[members['MEMBER_ID'] =='shangyuanshibang']"
   ]
  },
  {
   "cell_type": "code",
   "execution_count": 41,
   "id": "9824a8af",
   "metadata": {},
   "outputs": [
    {
     "data": {
      "text/plain": [
       "0    1. 名称和标识符1.1 名称1-叔丁氧羰基-4-（4-溴苯基氨基）哌啶1.2 同义词1-哌...\n",
       "1    1. 名称和标识符1.1 名称N-叔丁氧羰基-4-哌啶酮1.2 同义词1-叔丁氧羰基-4-哌...\n",
       "2    1. Names and Identifiers1.1 Name1-BOC-4-(4-FLU...\n",
       "3    1. Names and Identifiers1.1 NameN-Isopropylben...\n",
       "Name: CATALOG_DESC, dtype: object"
      ]
     },
     "execution_count": 41,
     "metadata": {},
     "output_type": "execute_result"
    }
   ],
   "source": [
    "products[(products['MEMBER_ID'] =='shangyuanshibang') & (products['judge']==0)]['CATALOG_DESC']"
   ]
  },
  {
   "cell_type": "markdown",
   "id": "f2e14fe5",
   "metadata": {},
   "source": [
    "# 정상회원인데 이상상품을 많이 판 카테고리"
   ]
  },
  {
   "cell_type": "code",
   "execution_count": 42,
   "id": "685eba5e",
   "metadata": {},
   "outputs": [
    {
     "data": {
      "text/plain": [
       "CATEGORYM_ID\n",
       "212807    2395\n",
       "212815     904\n",
       "213301     856\n",
       "40207      551\n",
       "557        486\n",
       "          ... \n",
       "1922         1\n",
       "151701       1\n",
       "91901        1\n",
       "13002        1\n",
       "202299       1\n",
       "Name: count, Length: 1007, dtype: int64"
      ]
     },
     "execution_count": 42,
     "metadata": {},
     "output_type": "execute_result"
    }
   ],
   "source": [
    "products[(products['judge'] ==0) & products['MEMBER_ID'].isin(members[members['judge']==1]['MEMBER_ID'])]['CATEGORYM_ID'].value_counts()"
   ]
  },
  {
   "cell_type": "code",
   "execution_count": 43,
   "id": "1dc0e841",
   "metadata": {},
   "outputs": [
    {
     "data": {
      "text/plain": [
       "CATALOG_NM\n",
       "Chemical                           2964\n",
       "Chemcical                           240\n",
       "Hydroxypropyl Beta Cyclodextrin       2\n",
       "Acetate                               2\n",
       "Pool Sterilization Algaecid           1\n",
       "                                   ... \n",
       "Primoteston                           1\n",
       "Acetatedea                            1\n",
       "Hormone                               1\n",
       "Cypionate                             1\n",
       "17A-hydroxyprogesterone               1\n",
       "Name: count, Length: 142, dtype: int64"
      ]
     },
     "execution_count": 43,
     "metadata": {},
     "output_type": "execute_result"
    }
   ],
   "source": [
    "products[products['CATEGORYM_ID'] == 212807]['CATALOG_NM'].value_counts()"
   ]
  },
  {
   "cell_type": "markdown",
   "id": "30bb6d12",
   "metadata": {},
   "source": [
    "- 정상회원인데 이상상품을 많이 판매한 카테고리는 212807 이며, Chemical 쪽이다."
   ]
  },
  {
   "cell_type": "markdown",
   "id": "03ead2fb",
   "metadata": {},
   "source": [
    "# 카테고리별 많이 판매한"
   ]
  },
  {
   "cell_type": "code",
   "execution_count": 44,
   "id": "a04cdbb9",
   "metadata": {},
   "outputs": [
    {
     "data": {
      "image/png": "[encoded data removed]",
      "text/plain": [
       "<Figure size 640x480 with 1 Axes>"
      ]
     },
     "metadata": {},
     "output_type": "display_data"
    }
   ],
   "source": [
    "import matplotlib.pyplot as plt\n",
    "\n",
    "values = products[(products['judge'] ==0) & products['MEMBER_ID'].isin(members[members['judge']==1]['MEMBER_ID'])]['CATEGORYM_ID'].value_counts().head(10)\n",
    "\n",
    "# 막대 그래프 그리기\n",
    "plt.pie(values.values, labels=values.index)\n",
    "plt.xlabel('Category')\n",
    "plt.ylabel('Value')\n",
    "plt.title('Bar Chart by Category')\n",
    "plt.legend()\n",
    "plt.show()"
   ]
  },
  {
   "cell_type": "markdown",
   "id": "37bc1575",
   "metadata": {},
   "source": [
    "# 이상회원인데 정상상품을 판 경우"
   ]
  },
  {
   "cell_type": "code",
   "execution_count": 45,
   "id": "3f6aaf2f",
   "metadata": {},
   "outputs": [
    {
     "data": {
      "text/plain": [
       "128562"
      ]
     },
     "execution_count": 45,
     "metadata": {},
     "output_type": "execute_result"
    }
   ],
   "source": [
    "len(products[(products['judge'] ==1) & products['MEMBER_ID'].isin(members[members['judge']==0]['MEMBER_ID'])])"
   ]
  },
  {
   "cell_type": "code",
   "execution_count": 46,
   "id": "c6ca49bf",
   "metadata": {},
   "outputs": [
    {
     "data": {
      "text/html": [
       "<div>\n",
       "<style scoped>\n",
       "    .dataframe tbody tr th:only-of-type {\n",
       "        vertical-align: middle;\n",
       "    }\n",
       "\n",
       "    .dataframe tbody tr th {\n",
       "        vertical-align: top;\n",
       "    }\n",
       "\n",
       "    .dataframe thead th {\n",
       "        text-align: right;\n",
       "    }\n",
       "</style>\n",
       "<table border=\"1\" class=\"dataframe\">\n",
       "  <thead>\n",
       "    <tr style=\"text-align: right;\">\n",
       "      <th></th>\n",
       "      <th>MEMBER_ID</th>\n",
       "      <th>CATALOG_NM</th>\n",
       "      <th>CATEGORYM_ID</th>\n",
       "      <th>KEYWORD</th>\n",
       "      <th>DISPLAY</th>\n",
       "      <th>CATALOG_DESC</th>\n",
       "      <th>INPUT_DT</th>\n",
       "      <th>UPDATE_DT</th>\n",
       "      <th>REMOTEIP</th>\n",
       "      <th>SHOW_CHK</th>\n",
       "      <th>judge</th>\n",
       "    </tr>\n",
       "  </thead>\n",
       "  <tbody>\n",
       "    <tr>\n",
       "      <th>212838</th>\n",
       "      <td>acmaertuui9213</td>\n",
       "      <td>Pamperings-Swaddlers-Baby-All-SIZES-1--2--3--4...</td>\n",
       "      <td>22020703</td>\n",
       "      <td>Pamperings-Swaddlers-Baby</td>\n",
       "      <td>1</td>\n",
       "      <td>CONTACT US TO PLACEORDERWhats-App: +1 (646)-83...</td>\n",
       "      <td>20230227</td>\n",
       "      <td>20230227</td>\n",
       "      <td>1561465943</td>\n",
       "      <td>3</td>\n",
       "      <td>1</td>\n",
       "    </tr>\n",
       "    <tr>\n",
       "      <th>212840</th>\n",
       "      <td>acmaertuui9213</td>\n",
       "      <td>The Ordinary Caffeine Solution 5 + Egcg 30ml O...</td>\n",
       "      <td>311699</td>\n",
       "      <td>The Ordinary Caffeine</td>\n",
       "      <td>1</td>\n",
       "      <td>CONTACT US TO PLACEORDERWhats-App: +1 (646)-83...</td>\n",
       "      <td>20230227</td>\n",
       "      <td>20230227</td>\n",
       "      <td>1561465943</td>\n",
       "      <td>3</td>\n",
       "      <td>1</td>\n",
       "    </tr>\n",
       "    <tr>\n",
       "      <th>212842</th>\n",
       "      <td>acmaertuui9213</td>\n",
       "      <td>OneTouch Ultra Glucose Diabetic Test Strips On...</td>\n",
       "      <td>311699</td>\n",
       "      <td>OneTouch Ultra Glucose</td>\n",
       "      <td>1</td>\n",
       "      <td>CONTACT US TO PLACEORDERWhats-App: +1 (646)-83...</td>\n",
       "      <td>20230227</td>\n",
       "      <td>20230227</td>\n",
       "      <td>1561465943</td>\n",
       "      <td>3</td>\n",
       "      <td>1</td>\n",
       "    </tr>\n",
       "    <tr>\n",
       "      <th>212843</th>\n",
       "      <td>acmaertuui9213</td>\n",
       "      <td>Sony-PlayStationning-PS5-Disc-Version-Bundle-V...</td>\n",
       "      <td>846</td>\n",
       "      <td>Sony-PlayStationning-PS5</td>\n",
       "      <td>1</td>\n",
       "      <td>CONTACT US TO PLACEORDERWhats-App: +1 (646)-83...</td>\n",
       "      <td>20230227</td>\n",
       "      <td>20230227</td>\n",
       "      <td>1561465943</td>\n",
       "      <td>3</td>\n",
       "      <td>1</td>\n",
       "    </tr>\n",
       "    <tr>\n",
       "      <th>212844</th>\n",
       "      <td>acmaertuui9213</td>\n",
       "      <td>Olaplexing Full Set 6 Piece Set - 1pc of Each ...</td>\n",
       "      <td>310902</td>\n",
       "      <td>Olaplexing Full Set</td>\n",
       "      <td>1</td>\n",
       "      <td>CONTACT US TO PLACEORDERWhats-App: +1 (646)-83...</td>\n",
       "      <td>20230227</td>\n",
       "      <td>20230227</td>\n",
       "      <td>1561465943</td>\n",
       "      <td>3</td>\n",
       "      <td>1</td>\n",
       "    </tr>\n",
       "  </tbody>\n",
       "</table>\n",
       "</div>"
      ],
      "text/plain": [
       "             MEMBER_ID                                         CATALOG_NM  \\\n",
       "212838  acmaertuui9213  Pamperings-Swaddlers-Baby-All-SIZES-1--2--3--4...   \n",
       "212840  acmaertuui9213  The Ordinary Caffeine Solution 5 + Egcg 30ml O...   \n",
       "212842  acmaertuui9213  OneTouch Ultra Glucose Diabetic Test Strips On...   \n",
       "212843  acmaertuui9213  Sony-PlayStationning-PS5-Disc-Version-Bundle-V...   \n",
       "212844  acmaertuui9213  Olaplexing Full Set 6 Piece Set - 1pc of Each ...   \n",
       "\n",
       "        CATEGORYM_ID                    KEYWORD  DISPLAY  \\\n",
       "212838      22020703  Pamperings-Swaddlers-Baby        1   \n",
       "212840        311699      The Ordinary Caffeine        1   \n",
       "212842        311699     OneTouch Ultra Glucose        1   \n",
       "212843           846   Sony-PlayStationning-PS5        1   \n",
       "212844        310902        Olaplexing Full Set        1   \n",
       "\n",
       "                                             CATALOG_DESC  INPUT_DT  \\\n",
       "212838  CONTACT US TO PLACEORDERWhats-App: +1 (646)-83...  20230227   \n",
       "212840  CONTACT US TO PLACEORDERWhats-App: +1 (646)-83...  20230227   \n",
       "212842  CONTACT US TO PLACEORDERWhats-App: +1 (646)-83...  20230227   \n",
       "212843  CONTACT US TO PLACEORDERWhats-App: +1 (646)-83...  20230227   \n",
       "212844  CONTACT US TO PLACEORDERWhats-App: +1 (646)-83...  20230227   \n",
       "\n",
       "        UPDATE_DT    REMOTEIP  SHOW_CHK  judge  \n",
       "212838   20230227  1561465943         3      1  \n",
       "212840   20230227  1561465943         3      1  \n",
       "212842   20230227  1561465943         3      1  \n",
       "212843   20230227  1561465943         3      1  \n",
       "212844   20230227  1561465943         3      1  "
      ]
     },
     "execution_count": 46,
     "metadata": {},
     "output_type": "execute_result"
    }
   ],
   "source": [
    "products[(products['judge'] ==1) & products['MEMBER_ID'].isin(members[members['judge']==0]['MEMBER_ID'])].head()"
   ]
  },
  {
   "cell_type": "code",
   "execution_count": 47,
   "id": "5ba5ef9d",
   "metadata": {},
   "outputs": [
    {
     "data": {
      "text/plain": [
       "MEMBER_ID       CATALOG_NM                                                                                            CATEGORYM_ID  KEYWORD                                                                          DISPLAY  CATALOG_DESC                                                                                                                                                                                                                                                                                                                                                                                                                                                                                                                                                                                                                                                                                                                                                                                                                                                                                                                                                                                                                                                                                                                                                                                                                    INPUT_DT  UPDATE_DT  REMOTEIP      SHOW_CHK  judge\n",
       "xixapig794      Order Apple AirPods Pro 2nd Gen - Wireless Headset Bluetooth Noise Canceling WhatsAp +1 581 533 6718  821           Ear Headphones                                                                   1        ORDER NOW FOR 100% Qaulity Products                  We are busy handling current orders, for quick responseChat us now via Whats\"App 247 Chat. +1 581 533 6718 100% Safe Delivery 100%100% On-Time Shipment Protection                                                                                                                                                                                                                                                                                                                                                                                                                                                                                                                                                                                                                                                                                                                                                                                                                                                                                                                                                                                                         20200922  20200922   16112970184   3         1        15\n",
       "johnpaul222     Oxy,Rox,Val,Amphy, Pain Killers,Sex Med Text or Call +1 (832) 356-4830 Whatsapp                       2129          Oxy,Rox,Val,Amphy, Pain Killers,Sex Med Text or Call +1 (832) 356-4830 Whatsapp  1        Our quality is the best you can find around and we sell in small/large quantities with guaranteed worldwide discreet delivery in good time. Whatsapp Number: +1 (832) 356-4830 Called or Text Canada/USA  site: https://420kingshop.com/                                                                                                                                                                                                                                                                                                                                                                                                                                                                                                                                                                                                                                                                                                                                                                                                                                                                                                                                                                                        20200409  20200409   15718514490   3         1        15\n",
       "ribivoc491      Order Apple AirPods Pro 2nd Gen - Wireless Headset Bluetooth Noise Canceling WhatsAp +1 581 533 6718  821           Ear Headphones                                                                   1        ORDER NOW FOR 100% Qaulity Products                  We are busy handling current orders, for quick responseChat us now via Whats\"App 247 Chat. +1 581 533 6718 100% Safe Delivery 100%100% On-Time Shipment Protection                                                                                                                                                                                                                                                                                                                                                                                                                                                                                                                                                                                                                                                                                                                                                                                                                                                                                                                                                                                                         20200922  20200922   16112970184   3         1        15\n",
       "tradership0     Meilleure Qualit AL-LAD, ETH-LAD PRO-LAD Poudre Appel Ou SMS +1 (970) 444-2795                        2110          drugs                                                                            1        Meilleure qualité AL-LAD, ETH-LAD PRO-LAD Powder Call or Text +1 (970) 444-2795 nous faisons tous les types de médicaments et nous fournissons nos produits dans toute l'Europe, l'Asie, l'Amérique et Afrique dans son ensemble et prix très bon marché et grande expédition.Numéro Whatsapp: +1 (970) 444-2795 Appel / SMS ..........: + 1 (970) 444-2795                                                                                                                                                                                                                                                                                                                                                                                                                                                                                                                                                                                                                                                                                                                                                                                                                                                                     20200208  20200208   16225368173   3         1        15\n",
       "barcars         Computer Laptops                                                                                      622           Computer Laptops                                                                 1        Whatsapp / Text / Call: +1-248-238-8781Email: phoneparadise19(@)gmail(dot)comSkype: live:.cid.4b26f64c88203277Warranty & Return policy: All our products comes with 1 year international warranty from the manufacturer and the warranty is valid everywhere across the world...so you dont have to worry because once you receive the products and you are not satisfied with what you receive kindly refund it with all the accessories that came along with it and we will replace it to a new one for you or refund your money back. Shipping & Delivery: We make shipment via DHL, FEDEX, UPS and so on...shipping only takes 3-5 business days at most to get to your destination. We want you to know that all our items are 100% brand new from the original manufacturers,Never used or opened before, Sealed inbox, Comes with all complete accessories, Comes with 1 year international warranty and return policy and they are also Unlocked (can work perfectly in all countries...once you receive the phones all you have to do is just insert your sim card and it will start working properly).Whatsapp / Text / Call: +1-248-238-8781Email: phoneparadise19(@)gmail(dot)comSkype: live:.cid.4b26f64c88203277  20190816  20190816   174128181227  3         1        15\n",
       "                                                                                                                                                                                                                                                                                                                                                                                                                                                                                                                                                                                                                                                                                                                                                                                                                                                                                                                                                                                                                                                                                                                                                                                                                                                                                                                                                                                                                                                                                                                    ..\n",
       "bispbhen848ddd  Huggies Little Movers Disposable Baby Diapers Size 3, 4, 5, 6, 7                                      22020703      Huggies Little Movers                                                            1        SHIPPING IS FREE DECEMBER PROMO START NOW  OR NOW FOR MORE INFORMATION ON HOW TO ORDER AND BUY  WHATSAPP NUMBER : +1 (323) 716-3430CONTACT / CALL  NUMBER: +1 (323) 716-3430TEXT MESSAGE : +1 (323) 716-3430                                                                                                                                                                                                                                                                                                                                                                                                                                                                                                                                                                                                                                                                                                                                                                                                                                                                                                                                                                                                                    20211207  20211207   206217143140  3         1         1\n",
       "                EVGA GeForce RTX 3090 FTW3 ULTRA 24GB GDDR6X Graphics Card                                            612           Graphics Card                                                                    1        SHIPPING IS FREE DECEMBER PROMO START NOW  OR NOW FOR MORE INFORMATION ON HOW TO ORDER AND BUY  WHATSAPP NUMBER : +1 (323) 716-3430CONTACT / CALL  NUMBER: +1 (323) 716-3430TEXT MESSAGE : +1 (323) 716-3430                                                                                                                                                                                                                                                                                                                                                                                                                                                                                                                                                                                                                                                                                                                                                                                                                                                                                                                                                                                                                    20211207  20211207   206217143140  3         1         1\n",
       "                CREST 3D GLAMOROUS WHITE Whitestrips Teeth Dental Whitening Strips NEW                                310703        CREST 3D GLAMOROUS                                                               1        SHIPPING IS FREE DECEMBER PROMO START NOW  OR NOW FOR MORE INFORMATION ON HOW TO ORDER AND BUY  WHATSAPP NUMBER : +1 (323) 716-3430CONTACT / CALL  NUMBER: +1 (323) 716-3430TEXT MESSAGE : +1 (323) 716-3430                                                                                                                                                                                                                                                                                                                                                                                                                                                                                                                                                                                                                                                                                                                                                                                                                                                                                                                                                                                                                    20211207  20211207   206217143140  3         1         1\n",
       "                Amazon Fire TV Stick 4K Media Streamer W2021 3rd Gen Alexa Voice Remote                               839           Amazon Fire TV Stick                                                             1        SHIPPING IS FREE DECEMBER PROMO START NOW  OR NOW FOR MORE INFORMATION ON HOW TO ORDER AND BUY  WHATSAPP NUMBER : +1 (323) 716-3430CONTACT / CALL  NUMBER: +1 (323) 716-3430TEXT MESSAGE : +1 (323) 716-3430                                                                                                                                                                                                                                                                                                                                                                                                                                                                                                                                                                                                                                                                                                                                                                                                                                                                                                                                                                                                                    20211207  20211207   206217143140  3         1         1\n",
       "zzcdczrsylh     The Ordinary Niacinamide 10% and Zinc 1% 1oz Blemish Formula 30ml                                     311699        Niacinamide                                                                      1        The Ordinary Niacinamide 10% and Zinc 1% 1oz Blemish Formula 30mlThe Ordinary Niacinamide 10% and Zinc 1% 1oz Blemish Formula 30mlThe Ordinary Niacinamide 10% and Zinc 1% 1oz Blemish Formula 30mlFor More Information On How To Get Your Products At Your Doorstep    CONTACT US VIA WHATSAPP: +1 856 565 7297                                                                                                                                                                                                                                                                                                                                                                                                                                                                                                                                                                                                                                                                                                                                                                                                                                                                                                                20220114  20220114   2161317510    3         1         1\n",
       "Name: count, Length: 122902, dtype: int64"
      ]
     },
     "execution_count": 47,
     "metadata": {},
     "output_type": "execute_result"
    }
   ],
   "source": [
    "products[(products['judge'] ==1) & products['MEMBER_ID'].isin(members[members['judge']==0]['MEMBER_ID'])].value_counts()"
   ]
  },
  {
   "cell_type": "code",
   "execution_count": 48,
   "id": "60e50818",
   "metadata": {},
   "outputs": [
    {
     "data": {
      "text/html": [
       "<div>\n",
       "<style scoped>\n",
       "    .dataframe tbody tr th:only-of-type {\n",
       "        vertical-align: middle;\n",
       "    }\n",
       "\n",
       "    .dataframe tbody tr th {\n",
       "        vertical-align: top;\n",
       "    }\n",
       "\n",
       "    .dataframe thead th {\n",
       "        text-align: right;\n",
       "    }\n",
       "</style>\n",
       "<table border=\"1\" class=\"dataframe\">\n",
       "  <thead>\n",
       "    <tr style=\"text-align: right;\">\n",
       "      <th></th>\n",
       "      <th>MEMBER_ID</th>\n",
       "      <th>GUBUN</th>\n",
       "      <th>COUNTRY_CD</th>\n",
       "      <th>KEYWORD</th>\n",
       "      <th>LOGIN_DT</th>\n",
       "      <th>LOGIN_CNT</th>\n",
       "      <th>INPUT_DT</th>\n",
       "      <th>UPDATE_DT</th>\n",
       "      <th>REMOTEIP</th>\n",
       "      <th>SHOW_CHK</th>\n",
       "      <th>MTYPE</th>\n",
       "      <th>ORDER_FLG</th>\n",
       "      <th>judge</th>\n",
       "      <th>BLACK_LIST</th>\n",
       "    </tr>\n",
       "  </thead>\n",
       "  <tbody>\n",
       "    <tr>\n",
       "      <th>14405</th>\n",
       "      <td>xixapig794</td>\n",
       "      <td>0</td>\n",
       "      <td>US</td>\n",
       "      <td>Ear Headphones</td>\n",
       "      <td>20200922</td>\n",
       "      <td>1</td>\n",
       "      <td>20200922</td>\n",
       "      <td>20200922</td>\n",
       "      <td>16112970184</td>\n",
       "      <td>0</td>\n",
       "      <td>0</td>\n",
       "      <td>90</td>\n",
       "      <td>0</td>\n",
       "      <td>0</td>\n",
       "    </tr>\n",
       "  </tbody>\n",
       "</table>\n",
       "</div>"
      ],
      "text/plain": [
       "        MEMBER_ID  GUBUN COUNTRY_CD         KEYWORD  LOGIN_DT  LOGIN_CNT  \\\n",
       "14405  xixapig794      0         US  Ear Headphones  20200922          1   \n",
       "\n",
       "       INPUT_DT  UPDATE_DT     REMOTEIP  SHOW_CHK  MTYPE  ORDER_FLG  judge  \\\n",
       "14405  20200922   20200922  16112970184         0      0         90      0   \n",
       "\n",
       "       BLACK_LIST  \n",
       "14405           0  "
      ]
     },
     "execution_count": 48,
     "metadata": {},
     "output_type": "execute_result"
    }
   ],
   "source": [
    "members[members['MEMBER_ID']=='xixapig794']"
   ]
  },
  {
   "cell_type": "markdown",
   "id": "0aab7e3d",
   "metadata": {},
   "source": [
    "# 이상회원인데 정상상품을 많이 판 카테고리"
   ]
  },
  {
   "cell_type": "code",
   "execution_count": 49,
   "id": "3ada0317",
   "metadata": {},
   "outputs": [
    {
     "data": {
      "text/plain": [
       "CATEGORYM_ID\n",
       "821         16622\n",
       "311699       9126\n",
       "846          7657\n",
       "612          5959\n",
       "22020703     5194\n",
       "            ...  \n",
       "284101          1\n",
       "833             1\n",
       "250599          1\n",
       "506             1\n",
       "21404           1\n",
       "Name: count, Length: 1656, dtype: int64"
      ]
     },
     "execution_count": 49,
     "metadata": {},
     "output_type": "execute_result"
    }
   ],
   "source": [
    "products[(products['judge'] ==1) & products['MEMBER_ID'].isin(members[members['judge']==0]['MEMBER_ID'])]['CATEGORYM_ID'].value_counts()"
   ]
  },
  {
   "cell_type": "code",
   "execution_count": 50,
   "id": "50b2a9ba",
   "metadata": {},
   "outputs": [
    {
     "data": {
      "text/plain": [
       "CATALOG_NM\n",
       "Buy 50 Get 10 Free Apple AirPods Pro 2nd Gen -Wireless Headset Bluetooth with Charging Case             2674\n",
       "Order Apple AirPods Pro 2nd Gen - Wireless Headset Bluetooth Noise Canceling WhatsAp +1 862 339 9394    1050\n",
       "Order Apple AirPods Pro 2nd Gen - Wireless Headset Bluetooth Noise Canceling WhatsAp +1 581 533 6718     889\n",
       "Order 100% Authentic Brand New Apple AirPods Pro 2nd Gen-Wireless Bluetooth WhatsApp+1 862 339 9394      646\n",
       "Apple AirPods Pro 2nd Gen -Wireless Headset Bluetooth with Charging Case WHATSAPP +1 (862) 339-9394      626\n",
       "                                                                                                        ... \n",
       "Appls AirPods 2nd Generation with Charging                                                                 1\n",
       "Apple AirPods Pro (MWP22AM/A) Wireless Bluetooth Headsets -                                                1\n",
       "3rd Gen Appls Airpods                                                                                      1\n",
       "Airpod 2nd                                                                                                 1\n",
       "Neckband Wireless Bluetooth Earphone                                                                       1\n",
       "Name: count, Length: 5142, dtype: int64"
      ]
     },
     "execution_count": 50,
     "metadata": {},
     "output_type": "execute_result"
    }
   ],
   "source": [
    "products[products['CATEGORYM_ID'] == 821]['CATALOG_NM'].value_counts()"
   ]
  },
  {
   "cell_type": "markdown",
   "id": "08d2ec39",
   "metadata": {},
   "source": [
    "- 이상회원인데 정상상품을 가장 많이 판 카테고리는 821 이며, 기계류를 판매"
   ]
  },
  {
   "cell_type": "code",
   "execution_count": 51,
   "id": "d0715f8b",
   "metadata": {},
   "outputs": [
    {
     "data": {
      "text/html": [
       "<div>\n",
       "<style scoped>\n",
       "    .dataframe tbody tr th:only-of-type {\n",
       "        vertical-align: middle;\n",
       "    }\n",
       "\n",
       "    .dataframe tbody tr th {\n",
       "        vertical-align: top;\n",
       "    }\n",
       "\n",
       "    .dataframe thead th {\n",
       "        text-align: right;\n",
       "    }\n",
       "</style>\n",
       "<table border=\"1\" class=\"dataframe\">\n",
       "  <thead>\n",
       "    <tr style=\"text-align: right;\">\n",
       "      <th></th>\n",
       "      <th>MEMBER_ID</th>\n",
       "      <th>CATALOG_NM</th>\n",
       "      <th>CATEGORYM_ID</th>\n",
       "      <th>KEYWORD</th>\n",
       "      <th>DISPLAY</th>\n",
       "      <th>CATALOG_DESC</th>\n",
       "      <th>INPUT_DT</th>\n",
       "      <th>UPDATE_DT</th>\n",
       "      <th>REMOTEIP</th>\n",
       "      <th>SHOW_CHK</th>\n",
       "      <th>judge</th>\n",
       "    </tr>\n",
       "  </thead>\n",
       "  <tbody>\n",
       "    <tr>\n",
       "      <th>171250</th>\n",
       "      <td>woralak</td>\n",
       "      <td>Medical Disposable Protective 3-Ply Surgical F...</td>\n",
       "      <td>213301</td>\n",
       "      <td>surgical Face Mask</td>\n",
       "      <td>1</td>\n",
       "      <td>NaN</td>\n",
       "      <td>20200229</td>\n",
       "      <td>20200229</td>\n",
       "      <td>1714246252</td>\n",
       "      <td>2</td>\n",
       "      <td>0</td>\n",
       "    </tr>\n",
       "    <tr>\n",
       "      <th>191468</th>\n",
       "      <td>almaniosmans</td>\n",
       "      <td>Poloxamer 407  Chemicals  Pharmaceuticals Auxi...</td>\n",
       "      <td>559</td>\n",
       "      <td>poloxamer 407,Chemicals,Pharmaceuticals Auxili...</td>\n",
       "      <td>1</td>\n",
       "      <td>NaN</td>\n",
       "      <td>20181101</td>\n",
       "      <td>20181101</td>\n",
       "      <td>1852481277</td>\n",
       "      <td>2</td>\n",
       "      <td>0</td>\n",
       "    </tr>\n",
       "    <tr>\n",
       "      <th>259548</th>\n",
       "      <td>hopetool1129</td>\n",
       "      <td>Good Price 4 Axis CNC Router with High Z Axis</td>\n",
       "      <td>2673</td>\n",
       "      <td>4 Axis CNC Router</td>\n",
       "      <td>1</td>\n",
       "      <td>NaN</td>\n",
       "      <td>20220719</td>\n",
       "      <td>20220719</td>\n",
       "      <td>39919631</td>\n",
       "      <td>3</td>\n",
       "      <td>1</td>\n",
       "    </tr>\n",
       "    <tr>\n",
       "      <th>287554</th>\n",
       "      <td>honghui88</td>\n",
       "      <td>ASU 6C 12C CABLE ADSS Fiber Optic Cable Cable</td>\n",
       "      <td>3802</td>\n",
       "      <td>cable</td>\n",
       "      <td>1</td>\n",
       "      <td>NaN</td>\n",
       "      <td>20220311</td>\n",
       "      <td>20220311</td>\n",
       "      <td>391707582</td>\n",
       "      <td>3</td>\n",
       "      <td>1</td>\n",
       "    </tr>\n",
       "    <tr>\n",
       "      <th>316043</th>\n",
       "      <td>christopher657</td>\n",
       "      <td>Aston Martin V12 Vantage S 2016 GCC</td>\n",
       "      <td>306</td>\n",
       "      <td>automobile</td>\n",
       "      <td>1</td>\n",
       "      <td>NaN</td>\n",
       "      <td>20211203</td>\n",
       "      <td>20211203</td>\n",
       "      <td>8918716887</td>\n",
       "      <td>3</td>\n",
       "      <td>1</td>\n",
       "    </tr>\n",
       "  </tbody>\n",
       "</table>\n",
       "</div>"
      ],
      "text/plain": [
       "             MEMBER_ID                                         CATALOG_NM  \\\n",
       "171250         woralak  Medical Disposable Protective 3-Ply Surgical F...   \n",
       "191468    almaniosmans  Poloxamer 407  Chemicals  Pharmaceuticals Auxi...   \n",
       "259548    hopetool1129      Good Price 4 Axis CNC Router with High Z Axis   \n",
       "287554       honghui88     ASU 6C 12C CABLE ADSS Fiber Optic Cable Cable    \n",
       "316043  christopher657                Aston Martin V12 Vantage S 2016 GCC   \n",
       "\n",
       "        CATEGORYM_ID                                            KEYWORD  \\\n",
       "171250        213301                                 surgical Face Mask   \n",
       "191468           559  poloxamer 407,Chemicals,Pharmaceuticals Auxili...   \n",
       "259548          2673                                  4 Axis CNC Router   \n",
       "287554          3802                                              cable   \n",
       "316043           306                                         automobile   \n",
       "\n",
       "        DISPLAY CATALOG_DESC  INPUT_DT  UPDATE_DT    REMOTEIP  SHOW_CHK  judge  \n",
       "171250        1          NaN  20200229   20200229  1714246252         2      0  \n",
       "191468        1          NaN  20181101   20181101  1852481277         2      0  \n",
       "259548        1          NaN  20220719   20220719    39919631         3      1  \n",
       "287554        1          NaN  20220311   20220311   391707582         3      1  \n",
       "316043        1          NaN  20211203   20211203  8918716887         3      1  "
      ]
     },
     "execution_count": 51,
     "metadata": {},
     "output_type": "execute_result"
    }
   ],
   "source": [
    "products[products['CATALOG_DESC'].isna()].head()"
   ]
  },
  {
   "cell_type": "code",
   "execution_count": 52,
   "id": "79805021",
   "metadata": {},
   "outputs": [
    {
     "data": {
      "text/html": [
       "<div>\n",
       "<style scoped>\n",
       "    .dataframe tbody tr th:only-of-type {\n",
       "        vertical-align: middle;\n",
       "    }\n",
       "\n",
       "    .dataframe tbody tr th {\n",
       "        vertical-align: top;\n",
       "    }\n",
       "\n",
       "    .dataframe thead th {\n",
       "        text-align: right;\n",
       "    }\n",
       "</style>\n",
       "<table border=\"1\" class=\"dataframe\">\n",
       "  <thead>\n",
       "    <tr style=\"text-align: right;\">\n",
       "      <th></th>\n",
       "      <th>MEMBER_ID</th>\n",
       "      <th>CATALOG_NM</th>\n",
       "      <th>CATEGORYM_ID</th>\n",
       "      <th>KEYWORD</th>\n",
       "      <th>DISPLAY</th>\n",
       "      <th>CATALOG_DESC</th>\n",
       "      <th>INPUT_DT</th>\n",
       "      <th>UPDATE_DT</th>\n",
       "      <th>REMOTEIP</th>\n",
       "      <th>SHOW_CHK</th>\n",
       "      <th>judge</th>\n",
       "    </tr>\n",
       "  </thead>\n",
       "  <tbody>\n",
       "    <tr>\n",
       "      <th>3396</th>\n",
       "      <td>alizaskinnscarrd09</td>\n",
       "      <td>Royal Canin British Shorthair Wet Cat Food Pou...</td>\n",
       "      <td>3711</td>\n",
       "      <td>cat food</td>\n",
       "      <td>1</td>\n",
       "      <td>For quick responseContact us on:WhatsApp No: +...</td>\n",
       "      <td>20230215</td>\n",
       "      <td>20230215</td>\n",
       "      <td>165231253248</td>\n",
       "      <td>0</td>\n",
       "      <td>0</td>\n",
       "    </tr>\n",
       "    <tr>\n",
       "      <th>6799</th>\n",
       "      <td>tjm007</td>\n",
       "      <td>Aztec_Secret_Indian_Deep_Pore_Cleansing_Healin...</td>\n",
       "      <td>311699</td>\n",
       "      <td>Aztec Secret Indian</td>\n",
       "      <td>1</td>\n",
       "      <td>TO PLACE AN ORDER WITH US, KINDLY CONTACT US V...</td>\n",
       "      <td>20230205</td>\n",
       "      <td>20230205</td>\n",
       "      <td>149182498</td>\n",
       "      <td>0</td>\n",
       "      <td>0</td>\n",
       "    </tr>\n",
       "    <tr>\n",
       "      <th>8982</th>\n",
       "      <td>mamsdistr55</td>\n",
       "      <td>LPG Cylinder 12.5kg Home Use Welding LPG Gas T...</td>\n",
       "      <td>1706</td>\n",
       "      <td>Gas Tank for Sale,LPG Cylinder,LPG Gas Tank</td>\n",
       "      <td>1</td>\n",
       "      <td>Standard  ISO4706, ISO9001:2008, CE,NIS 69, DO...</td>\n",
       "      <td>20230129</td>\n",
       "      <td>20230208</td>\n",
       "      <td>12901028</td>\n",
       "      <td>0</td>\n",
       "      <td>0</td>\n",
       "    </tr>\n",
       "    <tr>\n",
       "      <th>11988</th>\n",
       "      <td>bbfdllc23</td>\n",
       "      <td>Royal Canin Medium Puppy Pellet Dog Food,Chick...</td>\n",
       "      <td>3711</td>\n",
       "      <td>royal canin medium puppy</td>\n",
       "      <td>1</td>\n",
       "      <td>To place an order with us ,kindly contact us v...</td>\n",
       "      <td>20230120</td>\n",
       "      <td>20230123</td>\n",
       "      <td>216131120175</td>\n",
       "      <td>0</td>\n",
       "      <td>0</td>\n",
       "    </tr>\n",
       "    <tr>\n",
       "      <th>11990</th>\n",
       "      <td>bbfdllc23</td>\n",
       "      <td>Wheat Flour Wheat Gluten 85% Food Grade Vital ...</td>\n",
       "      <td>2615</td>\n",
       "      <td>wheat flour</td>\n",
       "      <td>1</td>\n",
       "      <td>Product Name:  Vital Wheat Gluten VWG Powder  ...</td>\n",
       "      <td>20230120</td>\n",
       "      <td>20230123</td>\n",
       "      <td>216131120175</td>\n",
       "      <td>0</td>\n",
       "      <td>0</td>\n",
       "    </tr>\n",
       "    <tr>\n",
       "      <th>...</th>\n",
       "      <td>...</td>\n",
       "      <td>...</td>\n",
       "      <td>...</td>\n",
       "      <td>...</td>\n",
       "      <td>...</td>\n",
       "      <td>...</td>\n",
       "      <td>...</td>\n",
       "      <td>...</td>\n",
       "      <td>...</td>\n",
       "      <td>...</td>\n",
       "      <td>...</td>\n",
       "    </tr>\n",
       "    <tr>\n",
       "      <th>750188</th>\n",
       "      <td>229176121</td>\n",
       "      <td>3mm Dia X 3mm Thick Small Cylinder N42 Neodymi...</td>\n",
       "      <td>2819</td>\n",
       "      <td>cylinder N42 magnet,3mm cylinder magnet,Small ...</td>\n",
       "      <td>1</td>\n",
       "      <td>Welcome to Shenzhen Zhenxing M...</td>\n",
       "      <td>20180103</td>\n",
       "      <td>20180103</td>\n",
       "      <td>18316205222</td>\n",
       "      <td>3</td>\n",
       "      <td>1</td>\n",
       "    </tr>\n",
       "    <tr>\n",
       "      <th>750226</th>\n",
       "      <td>miwami</td>\n",
       "      <td>Hanrabong Tea 1kg</td>\n",
       "      <td>1538</td>\n",
       "      <td>tea,jam,beverage,marmalade</td>\n",
       "      <td>1</td>\n",
       "      <td>Hanrabong Tea    Introduction :  Hanrabong Tea...</td>\n",
       "      <td>20180103</td>\n",
       "      <td>20190622</td>\n",
       "      <td>143914997</td>\n",
       "      <td>3</td>\n",
       "      <td>1</td>\n",
       "    </tr>\n",
       "    <tr>\n",
       "      <th>750272</th>\n",
       "      <td>229176121</td>\n",
       "      <td>10mm Dia X 3mm Thick Nickel Coated N45 Neodymi...</td>\n",
       "      <td>2819</td>\n",
       "      <td>10mm Dia magnet,3mm Thick magnet,Nickel Coated...</td>\n",
       "      <td>1</td>\n",
       "      <td>Welcome to Shenzhen Zhenxing M...</td>\n",
       "      <td>20180103</td>\n",
       "      <td>20180103</td>\n",
       "      <td>18316205222</td>\n",
       "      <td>3</td>\n",
       "      <td>1</td>\n",
       "    </tr>\n",
       "    <tr>\n",
       "      <th>750756</th>\n",
       "      <td>pvcvilw</td>\n",
       "      <td>Non Pasted Waterproof PVC Vinyl Wallpaper For ...</td>\n",
       "      <td>221110</td>\n",
       "      <td>paper backed vinyl wallpaper,vinyl coated wall...</td>\n",
       "      <td>1</td>\n",
       "      <td>Specifications:      Product name deep embosse...</td>\n",
       "      <td>20180102</td>\n",
       "      <td>20180102</td>\n",
       "      <td>11925430205</td>\n",
       "      <td>3</td>\n",
       "      <td>1</td>\n",
       "    </tr>\n",
       "    <tr>\n",
       "      <th>750768</th>\n",
       "      <td>pvcvilw</td>\n",
       "      <td>Classic Style Flower Pattern PVC Vinyl Wallpap...</td>\n",
       "      <td>221801</td>\n",
       "      <td>paper backed vinyl wallpaper,waterproof vinyl ...</td>\n",
       "      <td>1</td>\n",
       "      <td>Production Descriptopn:      Brand  Fancy wall...</td>\n",
       "      <td>20180102</td>\n",
       "      <td>20180102</td>\n",
       "      <td>11925430205</td>\n",
       "      <td>3</td>\n",
       "      <td>1</td>\n",
       "    </tr>\n",
       "  </tbody>\n",
       "</table>\n",
       "<p>1536 rows × 11 columns</p>\n",
       "</div>"
      ],
      "text/plain": [
       "                 MEMBER_ID                                         CATALOG_NM  \\\n",
       "3396    alizaskinnscarrd09  Royal Canin British Shorthair Wet Cat Food Pou...   \n",
       "6799                tjm007  Aztec_Secret_Indian_Deep_Pore_Cleansing_Healin...   \n",
       "8982           mamsdistr55  LPG Cylinder 12.5kg Home Use Welding LPG Gas T...   \n",
       "11988            bbfdllc23  Royal Canin Medium Puppy Pellet Dog Food,Chick...   \n",
       "11990            bbfdllc23  Wheat Flour Wheat Gluten 85% Food Grade Vital ...   \n",
       "...                    ...                                                ...   \n",
       "750188           229176121  3mm Dia X 3mm Thick Small Cylinder N42 Neodymi...   \n",
       "750226              miwami                                  Hanrabong Tea 1kg   \n",
       "750272           229176121  10mm Dia X 3mm Thick Nickel Coated N45 Neodymi...   \n",
       "750756             pvcvilw  Non Pasted Waterproof PVC Vinyl Wallpaper For ...   \n",
       "750768             pvcvilw  Classic Style Flower Pattern PVC Vinyl Wallpap...   \n",
       "\n",
       "        CATEGORYM_ID                                            KEYWORD  \\\n",
       "3396            3711                                           cat food   \n",
       "6799          311699                                Aztec Secret Indian   \n",
       "8982            1706        Gas Tank for Sale,LPG Cylinder,LPG Gas Tank   \n",
       "11988           3711                           royal canin medium puppy   \n",
       "11990           2615                                        wheat flour   \n",
       "...              ...                                                ...   \n",
       "750188          2819  cylinder N42 magnet,3mm cylinder magnet,Small ...   \n",
       "750226          1538                         tea,jam,beverage,marmalade   \n",
       "750272          2819  10mm Dia magnet,3mm Thick magnet,Nickel Coated...   \n",
       "750756        221110  paper backed vinyl wallpaper,vinyl coated wall...   \n",
       "750768        221801  paper backed vinyl wallpaper,waterproof vinyl ...   \n",
       "\n",
       "        DISPLAY                                       CATALOG_DESC  INPUT_DT  \\\n",
       "3396          1  For quick responseContact us on:WhatsApp No: +...  20230215   \n",
       "6799          1  TO PLACE AN ORDER WITH US, KINDLY CONTACT US V...  20230205   \n",
       "8982          1  Standard  ISO4706, ISO9001:2008, CE,NIS 69, DO...  20230129   \n",
       "11988         1  To place an order with us ,kindly contact us v...  20230120   \n",
       "11990         1  Product Name:  Vital Wheat Gluten VWG Powder  ...  20230120   \n",
       "...         ...                                                ...       ...   \n",
       "750188        1                  Welcome to Shenzhen Zhenxing M...  20180103   \n",
       "750226        1  Hanrabong Tea    Introduction :  Hanrabong Tea...  20180103   \n",
       "750272        1                  Welcome to Shenzhen Zhenxing M...  20180103   \n",
       "750756        1  Specifications:      Product name deep embosse...  20180102   \n",
       "750768        1  Production Descriptopn:      Brand  Fancy wall...  20180102   \n",
       "\n",
       "        UPDATE_DT      REMOTEIP  SHOW_CHK  judge  \n",
       "3396     20230215  165231253248         0      0  \n",
       "6799     20230205     149182498         0      0  \n",
       "8982     20230208      12901028         0      0  \n",
       "11988    20230123  216131120175         0      0  \n",
       "11990    20230123  216131120175         0      0  \n",
       "...           ...           ...       ...    ...  \n",
       "750188   20180103   18316205222         3      1  \n",
       "750226   20190622     143914997         3      1  \n",
       "750272   20180103   18316205222         3      1  \n",
       "750756   20180102   11925430205         3      1  \n",
       "750768   20180102   11925430205         3      1  \n",
       "\n",
       "[1536 rows x 11 columns]"
      ]
     },
     "execution_count": 52,
     "metadata": {},
     "output_type": "execute_result"
    }
   ],
   "source": [
    "products[products['CATALOG_NM'].str.contains('kg')]"
   ]
  },
  {
   "cell_type": "code",
   "execution_count": 53,
   "id": "1e08c806",
   "metadata": {},
   "outputs": [
    {
     "data": {
      "text/html": [
       "<div>\n",
       "<style scoped>\n",
       "    .dataframe tbody tr th:only-of-type {\n",
       "        vertical-align: middle;\n",
       "    }\n",
       "\n",
       "    .dataframe tbody tr th {\n",
       "        vertical-align: top;\n",
       "    }\n",
       "\n",
       "    .dataframe thead th {\n",
       "        text-align: right;\n",
       "    }\n",
       "</style>\n",
       "<table border=\"1\" class=\"dataframe\">\n",
       "  <thead>\n",
       "    <tr style=\"text-align: right;\">\n",
       "      <th></th>\n",
       "      <th>MEMBER_ID</th>\n",
       "      <th>GUBUN</th>\n",
       "      <th>COUNTRY_CD</th>\n",
       "      <th>KEYWORD</th>\n",
       "      <th>LOGIN_DT</th>\n",
       "      <th>LOGIN_CNT</th>\n",
       "      <th>INPUT_DT</th>\n",
       "      <th>UPDATE_DT</th>\n",
       "      <th>REMOTEIP</th>\n",
       "      <th>SHOW_CHK</th>\n",
       "      <th>MTYPE</th>\n",
       "      <th>ORDER_FLG</th>\n",
       "      <th>judge</th>\n",
       "      <th>BLACK_LIST</th>\n",
       "    </tr>\n",
       "  </thead>\n",
       "  <tbody>\n",
       "  </tbody>\n",
       "</table>\n",
       "</div>"
      ],
      "text/plain": [
       "Empty DataFrame\n",
       "Columns: [MEMBER_ID, GUBUN, COUNTRY_CD, KEYWORD, LOGIN_DT, LOGIN_CNT, INPUT_DT, UPDATE_DT, REMOTEIP, SHOW_CHK, MTYPE, ORDER_FLG, judge, BLACK_LIST]\n",
       "Index: []"
      ]
     },
     "execution_count": 53,
     "metadata": {},
     "output_type": "execute_result"
    }
   ],
   "source": [
    "members[members['MEMBER_ID'] == 33333666]"
   ]
  },
  {
   "cell_type": "code",
   "execution_count": null,
   "id": "6bdf1b82",
   "metadata": {},
   "outputs": [],
   "source": []
  }
 ],
 "metadata": {
  "kernelspec": {
   "display_name": "Python 3 (ipykernel)",
   "language": "python",
   "name": "python3"
  },
  "language_info": {
   "codemirror_mode": {
    "name": "ipython",
    "version": 3
   },
   "file_extension": ".py",
   "mimetype": "text/x-python",
   "name": "python",
   "nbconvert_exporter": "python",
   "pygments_lexer": "ipython3",
   "version": "3.12.0"
  }
 },
 "nbformat": 4,
 "nbformat_minor": 5
}
