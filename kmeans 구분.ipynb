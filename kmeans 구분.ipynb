{
 "cells": [
  {
   "cell_type": "code",
   "execution_count": 1,
   "metadata": {},
   "outputs": [],
   "source": [
    "import pandas as pd\n",
    "\n",
    "products = pd.read_csv('./dataset/product_concat_v3.csv')\n",
    "members = pd.read_csv('./dataset/members_concat_v2.csv')"
   ]
  },
  {
   "cell_type": "code",
   "execution_count": 14,
   "metadata": {},
   "outputs": [
    {
     "name": "stdout",
     "output_type": "stream",
     "text": [
      "<class 'pandas.core.frame.DataFrame'>\n",
      "RangeIndex: 751315 entries, 0 to 751314\n",
      "Data columns (total 11 columns):\n",
      " #   Column        Non-Null Count   Dtype \n",
      "---  ------        --------------   ----- \n",
      " 0   MEMBER_ID     751315 non-null  object\n",
      " 1   CATALOG_NM    751315 non-null  object\n",
      " 2   CATEGORYM_ID  751315 non-null  int64 \n",
      " 3   KEYWORD       751315 non-null  object\n",
      " 4   DISPLAY       751315 non-null  int64 \n",
      " 5   CATALOG_DESC  751259 non-null  object\n",
      " 6   INPUT_DT      751315 non-null  int64 \n",
      " 7   UPDATE_DT     751315 non-null  int64 \n",
      " 8   REMOTEIP      751315 non-null  int64 \n",
      " 9   SHOW_CHK      751315 non-null  int64 \n",
      " 10  judge         751315 non-null  int64 \n",
      "dtypes: int64(7), object(4)\n",
      "memory usage: 63.1+ MB\n"
     ]
    }
   ],
   "source": [
    "products.info()"
   ]
  },
  {
   "cell_type": "code",
   "execution_count": 15,
   "metadata": {},
   "outputs": [
    {
     "name": "stdout",
     "output_type": "stream",
     "text": [
      "<class 'pandas.core.frame.DataFrame'>\n",
      "RangeIndex: 466762 entries, 0 to 466761\n",
      "Data columns (total 14 columns):\n",
      " #   Column      Non-Null Count   Dtype \n",
      "---  ------      --------------   ----- \n",
      " 0   MEMBER_ID   466762 non-null  object\n",
      " 1   GUBUN       466762 non-null  int64 \n",
      " 2   COUNTRY_CD  466633 non-null  object\n",
      " 3   KEYWORD     191511 non-null  object\n",
      " 4   LOGIN_DT    466762 non-null  int64 \n",
      " 5   LOGIN_CNT   466762 non-null  int64 \n",
      " 6   INPUT_DT    466762 non-null  int64 \n",
      " 7   UPDATE_DT   466762 non-null  int64 \n",
      " 8   REMOTEIP    466762 non-null  int64 \n",
      " 9   SHOW_CHK    466762 non-null  int64 \n",
      " 10  MTYPE       466762 non-null  int64 \n",
      " 11  ORDER_FLG   466762 non-null  int64 \n",
      " 12  judge       466762 non-null  int64 \n",
      " 13  BLACK_LIST  466762 non-null  int64 \n",
      "dtypes: int64(11), object(3)\n",
      "memory usage: 49.9+ MB\n"
     ]
    }
   ],
   "source": [
    "members.info()"
   ]
  },
  {
   "cell_type": "code",
   "execution_count": 16,
   "metadata": {},
   "outputs": [
    {
     "name": "stdout",
     "output_type": "stream",
     "text": [
      "회원: SHOW_CHK\n",
      "1    373341\n",
      "0     93421\n",
      "Name: count, dtype: int64\n",
      "상품: SHOW_CHK\n",
      "3    538722\n",
      "0    161898\n",
      "1     28118\n",
      "2     22577\n",
      "Name: count, dtype: int64\n"
     ]
    }
   ],
   "source": [
    "print('회원:', members['SHOW_CHK'].value_counts())\n",
    "print('상품:', products['SHOW_CHK'].value_counts())"
   ]
  },
  {
   "cell_type": "code",
   "execution_count": 17,
   "metadata": {},
   "outputs": [
    {
     "data": {
      "text/html": [
       "<div>\n",
       "<style scoped>\n",
       "    .dataframe tbody tr th:only-of-type {\n",
       "        vertical-align: middle;\n",
       "    }\n",
       "\n",
       "    .dataframe tbody tr th {\n",
       "        vertical-align: top;\n",
       "    }\n",
       "\n",
       "    .dataframe thead th {\n",
       "        text-align: right;\n",
       "    }\n",
       "</style>\n",
       "<table border=\"1\" class=\"dataframe\">\n",
       "  <thead>\n",
       "    <tr style=\"text-align: right;\">\n",
       "      <th></th>\n",
       "      <th>MEMBER_ID</th>\n",
       "      <th>GUBUN</th>\n",
       "      <th>COUNTRY_CD</th>\n",
       "      <th>KEYWORD</th>\n",
       "      <th>LOGIN_DT</th>\n",
       "      <th>LOGIN_CNT</th>\n",
       "      <th>INPUT_DT</th>\n",
       "      <th>UPDATE_DT</th>\n",
       "      <th>REMOTEIP</th>\n",
       "      <th>SHOW_CHK</th>\n",
       "      <th>MTYPE</th>\n",
       "      <th>ORDER_FLG</th>\n",
       "      <th>judge</th>\n",
       "      <th>BLACK_LIST</th>\n",
       "    </tr>\n",
       "  </thead>\n",
       "  <tbody>\n",
       "    <tr>\n",
       "      <th>1493</th>\n",
       "      <td>atlanticnammining</td>\n",
       "      <td>0</td>\n",
       "      <td>NaN</td>\n",
       "      <td>rough dimonds</td>\n",
       "      <td>20190127</td>\n",
       "      <td>2</td>\n",
       "      <td>20190127</td>\n",
       "      <td>20190127</td>\n",
       "      <td>197233106147</td>\n",
       "      <td>0</td>\n",
       "      <td>0</td>\n",
       "      <td>90</td>\n",
       "      <td>0</td>\n",
       "      <td>0</td>\n",
       "    </tr>\n",
       "    <tr>\n",
       "      <th>1746</th>\n",
       "      <td>nahme097</td>\n",
       "      <td>0</td>\n",
       "      <td>NaN</td>\n",
       "      <td>undetected money,real money,original original ...</td>\n",
       "      <td>20180804</td>\n",
       "      <td>2</td>\n",
       "      <td>20180804</td>\n",
       "      <td>20180804</td>\n",
       "      <td>5626343</td>\n",
       "      <td>0</td>\n",
       "      <td>0</td>\n",
       "      <td>90</td>\n",
       "      <td>0</td>\n",
       "      <td>0</td>\n",
       "    </tr>\n",
       "    <tr>\n",
       "      <th>10017</th>\n",
       "      <td>79010500055</td>\n",
       "      <td>0</td>\n",
       "      <td>NaN</td>\n",
       "      <td>rough Diamonds</td>\n",
       "      <td>20200226</td>\n",
       "      <td>2</td>\n",
       "      <td>20200226</td>\n",
       "      <td>20200226</td>\n",
       "      <td>19718875176</td>\n",
       "      <td>0</td>\n",
       "      <td>0</td>\n",
       "      <td>90</td>\n",
       "      <td>0</td>\n",
       "      <td>0</td>\n",
       "    </tr>\n",
       "    <tr>\n",
       "      <th>72478</th>\n",
       "      <td>copperapn</td>\n",
       "      <td>0</td>\n",
       "      <td>NaN</td>\n",
       "      <td>copper,ore,namibia,africa</td>\n",
       "      <td>20220207</td>\n",
       "      <td>1</td>\n",
       "      <td>20220207</td>\n",
       "      <td>20220207</td>\n",
       "      <td>4118279133</td>\n",
       "      <td>0</td>\n",
       "      <td>0</td>\n",
       "      <td>90</td>\n",
       "      <td>0</td>\n",
       "      <td>0</td>\n",
       "    </tr>\n",
       "    <tr>\n",
       "      <th>81775</th>\n",
       "      <td>bvcxx</td>\n",
       "      <td>0</td>\n",
       "      <td>NaN</td>\n",
       "      <td>cream</td>\n",
       "      <td>20221018</td>\n",
       "      <td>1</td>\n",
       "      <td>20221018</td>\n",
       "      <td>20221018</td>\n",
       "      <td>1546807</td>\n",
       "      <td>0</td>\n",
       "      <td>0</td>\n",
       "      <td>90</td>\n",
       "      <td>0</td>\n",
       "      <td>1</td>\n",
       "    </tr>\n",
       "    <tr>\n",
       "      <th>...</th>\n",
       "      <td>...</td>\n",
       "      <td>...</td>\n",
       "      <td>...</td>\n",
       "      <td>...</td>\n",
       "      <td>...</td>\n",
       "      <td>...</td>\n",
       "      <td>...</td>\n",
       "      <td>...</td>\n",
       "      <td>...</td>\n",
       "      <td>...</td>\n",
       "      <td>...</td>\n",
       "      <td>...</td>\n",
       "      <td>...</td>\n",
       "      <td>...</td>\n",
       "    </tr>\n",
       "    <tr>\n",
       "      <th>447397</th>\n",
       "      <td>na04851044</td>\n",
       "      <td>1</td>\n",
       "      <td>NaN</td>\n",
       "      <td>NaN</td>\n",
       "      <td>20230221</td>\n",
       "      <td>1</td>\n",
       "      <td>20230221</td>\n",
       "      <td>20230221</td>\n",
       "      <td>19718822221</td>\n",
       "      <td>1</td>\n",
       "      <td>1</td>\n",
       "      <td>90</td>\n",
       "      <td>1</td>\n",
       "      <td>0</td>\n",
       "    </tr>\n",
       "    <tr>\n",
       "      <th>452989</th>\n",
       "      <td>na04846692</td>\n",
       "      <td>1</td>\n",
       "      <td>NaN</td>\n",
       "      <td>NaN</td>\n",
       "      <td>20230217</td>\n",
       "      <td>1</td>\n",
       "      <td>20230217</td>\n",
       "      <td>20230217</td>\n",
       "      <td>4118296247</td>\n",
       "      <td>1</td>\n",
       "      <td>1</td>\n",
       "      <td>90</td>\n",
       "      <td>1</td>\n",
       "      <td>0</td>\n",
       "    </tr>\n",
       "    <tr>\n",
       "      <th>459448</th>\n",
       "      <td>na04779574</td>\n",
       "      <td>1</td>\n",
       "      <td>NaN</td>\n",
       "      <td>NaN</td>\n",
       "      <td>20221031</td>\n",
       "      <td>1</td>\n",
       "      <td>20221031</td>\n",
       "      <td>20221031</td>\n",
       "      <td>19718821072</td>\n",
       "      <td>1</td>\n",
       "      <td>1</td>\n",
       "      <td>90</td>\n",
       "      <td>1</td>\n",
       "      <td>0</td>\n",
       "    </tr>\n",
       "    <tr>\n",
       "      <th>462576</th>\n",
       "      <td>afriskins</td>\n",
       "      <td>0</td>\n",
       "      <td>NaN</td>\n",
       "      <td>fashion fur coats,fashion fur jackets,fashion ...</td>\n",
       "      <td>20220606</td>\n",
       "      <td>11</td>\n",
       "      <td>20220525</td>\n",
       "      <td>20220525</td>\n",
       "      <td>105232255133</td>\n",
       "      <td>1</td>\n",
       "      <td>0</td>\n",
       "      <td>90</td>\n",
       "      <td>1</td>\n",
       "      <td>0</td>\n",
       "    </tr>\n",
       "    <tr>\n",
       "      <th>462597</th>\n",
       "      <td>ynctrading</td>\n",
       "      <td>0</td>\n",
       "      <td>NaN</td>\n",
       "      <td>firewood,charcoal</td>\n",
       "      <td>20230106</td>\n",
       "      <td>1</td>\n",
       "      <td>20230106</td>\n",
       "      <td>20230106</td>\n",
       "      <td>105232255142</td>\n",
       "      <td>1</td>\n",
       "      <td>0</td>\n",
       "      <td>90</td>\n",
       "      <td>1</td>\n",
       "      <td>0</td>\n",
       "    </tr>\n",
       "  </tbody>\n",
       "</table>\n",
       "<p>129 rows × 14 columns</p>\n",
       "</div>"
      ],
      "text/plain": [
       "                MEMBER_ID  GUBUN COUNTRY_CD  \\\n",
       "1493    atlanticnammining      0        NaN   \n",
       "1746             nahme097      0        NaN   \n",
       "10017         79010500055      0        NaN   \n",
       "72478           copperapn      0        NaN   \n",
       "81775               bvcxx      0        NaN   \n",
       "...                   ...    ...        ...   \n",
       "447397         na04851044      1        NaN   \n",
       "452989         na04846692      1        NaN   \n",
       "459448         na04779574      1        NaN   \n",
       "462576          afriskins      0        NaN   \n",
       "462597         ynctrading      0        NaN   \n",
       "\n",
       "                                                  KEYWORD  LOGIN_DT  \\\n",
       "1493                                        rough dimonds  20190127   \n",
       "1746    undetected money,real money,original original ...  20180804   \n",
       "10017                                      rough Diamonds  20200226   \n",
       "72478                           copper,ore,namibia,africa  20220207   \n",
       "81775                                               cream  20221018   \n",
       "...                                                   ...       ...   \n",
       "447397                                                NaN  20230221   \n",
       "452989                                                NaN  20230217   \n",
       "459448                                                NaN  20221031   \n",
       "462576  fashion fur coats,fashion fur jackets,fashion ...  20220606   \n",
       "462597                                  firewood,charcoal  20230106   \n",
       "\n",
       "        LOGIN_CNT  INPUT_DT  UPDATE_DT      REMOTEIP  SHOW_CHK  MTYPE  \\\n",
       "1493            2  20190127   20190127  197233106147         0      0   \n",
       "1746            2  20180804   20180804       5626343         0      0   \n",
       "10017           2  20200226   20200226   19718875176         0      0   \n",
       "72478           1  20220207   20220207    4118279133         0      0   \n",
       "81775           1  20221018   20221018       1546807         0      0   \n",
       "...           ...       ...        ...           ...       ...    ...   \n",
       "447397          1  20230221   20230221   19718822221         1      1   \n",
       "452989          1  20230217   20230217    4118296247         1      1   \n",
       "459448          1  20221031   20221031   19718821072         1      1   \n",
       "462576         11  20220525   20220525  105232255133         1      0   \n",
       "462597          1  20230106   20230106  105232255142         1      0   \n",
       "\n",
       "        ORDER_FLG  judge  BLACK_LIST  \n",
       "1493           90      0           0  \n",
       "1746           90      0           0  \n",
       "10017          90      0           0  \n",
       "72478          90      0           0  \n",
       "81775          90      0           1  \n",
       "...           ...    ...         ...  \n",
       "447397         90      1           0  \n",
       "452989         90      1           0  \n",
       "459448         90      1           0  \n",
       "462576         90      1           0  \n",
       "462597         90      1           0  \n",
       "\n",
       "[129 rows x 14 columns]"
      ]
     },
     "execution_count": 17,
     "metadata": {},
     "output_type": "execute_result"
    }
   ],
   "source": [
    "members[members['COUNTRY_CD'].isna()]"
   ]
  },
  {
   "cell_type": "code",
   "execution_count": null,
   "metadata": {},
   "outputs": [],
   "source": [
    "# pip install ipwhois"
   ]
  },
  {
   "cell_type": "code",
   "execution_count": 6,
   "metadata": {},
   "outputs": [
    {
     "name": "stdout",
     "output_type": "stream",
     "text": [
      "Error for IP 197233106147: IPv6 address ::2d:ec02:5ce3 is already defined as Reserved via RFC 4291.\n",
      "Error for IP 5626343: IPv4 address 0.85.217.231 is already defined as This Network via RFC 1122, Section 3.2.1.3.\n",
      "Error for IP 19718875176: IPv6 address ::4:9756:2828 is already defined as Reserved via RFC 4291.\n",
      "Error for IP 4118279133: IPv4 address 245.119.243.221 is already defined as Private-Use Networks via RFC 1918.\n",
      "Error for IP 1546807: IPv4 address 0.23.154.55 is already defined as This Network via RFC 1122, Section 3.2.1.3.\n",
      "Error for IP 10523225519: IPv6 address ::2:733b:adaf is already defined as Reserved via RFC 4291.\n",
      "Error for IP 19723363250: IPv6 address ::4:979a:a3b2 is already defined as Reserved via RFC 4291.\n",
      "Error for IP 10523225553: IPv6 address ::2:733b:add1 is already defined as Reserved via RFC 4291.\n",
      "Error for IP 10523225564: IPv6 address ::2:733b:addc is already defined as Reserved via RFC 4291.\n",
      "Error for IP 4118273218: IPv4 address 245.119.220.194 is already defined as Private-Use Networks via RFC 1918.\n",
      "Error for IP 105232255233: IPv6 address ::18:8054:c901 is already defined as Reserved via RFC 4291.\n",
      "Error for IP 105232255189: IPv6 address ::18:8054:c8d5 is already defined as Reserved via RFC 4291.\n",
      "Error for IP 4120514618: IPv4 address 245.154.16.58 is already defined as Private-Use Networks via RFC 1918.\n",
      "Error for IP 197233208239: IPv6 address ::2d:ec03:ebaf is already defined as Reserved via RFC 4291.\n",
      "Error for IP 197243225141: IPv6 address ::2d:ec9c:c435 is already defined as Reserved via RFC 4291.\n",
      "Error for IP 41205135169: IPv6 address ::9:9804:7741 is already defined as Reserved via RFC 4291.\n",
      "Error for IP 41182162105: IPv6 address ::9:96a5:ecb9 is already defined as Reserved via RFC 4291.\n",
      "Error for IP 4118257132: IPv4 address 245.119.157.236 is already defined as Private-Use Networks via RFC 1918.\n",
      "Error for IP 197188164137: IPv6 address ::2d:e954:9a29 is already defined as Reserved via RFC 4291.\n",
      "Error for IP 197243187194: IPv6 address ::2d:ec9c:2ffa is already defined as Reserved via RFC 4291.\n",
      "Error for IP 19644131147: IPv6 address ::4:92e1:a74b is already defined as Reserved via RFC 4291.\n",
      "Error for IP 4118228130: IPv4 address 245.119.44.162 is already defined as Private-Use Networks via RFC 1918.\n",
      "Error for IP 4163226243: IPv4 address 248.37.202.131 is already defined as Private-Use Networks via RFC 1918.\n",
      "Error for IP 4118235149: IPv4 address 245.119.72.13 is already defined as Private-Use Networks via RFC 1918.\n",
      "Error for IP 4118218635: IPv4 address 245.119.7.139 is already defined as Private-Use Networks via RFC 1918.\n",
      "Error for IP 4118217823: IPv4 address 245.119.4.95 is already defined as Private-Use Networks via RFC 1918.\n",
      "Error for IP 4118235149: IPv4 address 245.119.72.13 is already defined as Private-Use Networks via RFC 1918.\n",
      "Error for IP 10523271173: IPv6 address ::2:733c:6005 is already defined as Reserved via RFC 4291.\n",
      "Error for IP 4118235149: IPv4 address 245.119.72.13 is already defined as Private-Use Networks via RFC 1918.\n",
      "Error for IP 10523225523: IPv6 address ::2:733b:adb3 is already defined as Reserved via RFC 4291.\n",
      "Error for IP 4118284121: IPv4 address 245.120.7.89 is already defined as Private-Use Networks via RFC 1918.\n",
      "Error for IP 10523225586: IPv6 address ::2:733b:adf2 is already defined as Reserved via RFC 4291.\n",
      "Error for IP 4118217395: IPv4 address 245.119.2.179 is already defined as Private-Use Networks via RFC 1918.\n",
      "Error for IP 19718822011: IPv6 address ::4:9755:587b is already defined as Reserved via RFC 4291.\n",
      "Error for IP 4118293103: IPv4 address 245.120.42.111 is already defined as Private-Use Networks via RFC 1918.\n",
      "Error for IP 4118229175: IPv4 address 245.119.48.183 is already defined as Private-Use Networks via RFC 1918.\n",
      "Error for IP 4118251132: IPv4 address 245.119.134.124 is already defined as Private-Use Networks via RFC 1918.\n",
      "Error for IP 105232255148: IPv6 address ::18:8054:c8ac is already defined as Reserved via RFC 4291.\n",
      "Error for IP 197243131109: IPv6 address ::2d:ec9b:54e5 is already defined as Reserved via RFC 4291.\n",
      "Error for IP 41182146161: IPv6 address ::9:96a5:ae71 is already defined as Reserved via RFC 4291.\n",
      "Error for IP 197188168221: IPv6 address ::2d:e954:aa1d is already defined as Reserved via RFC 4291.\n",
      "Error for IP 197188166238: IPv6 address ::2d:e954:a25e is already defined as Reserved via RFC 4291.\n",
      "Error for IP 197188163229: IPv6 address ::2d:e954:969d is already defined as Reserved via RFC 4291.\n",
      "Error for IP 19718893161: IPv6 address ::4:9756:6e69 is already defined as Reserved via RFC 4291.\n",
      "Error for IP 4120513882: IPv4 address 245.154.13.90 is already defined as Private-Use Networks via RFC 1918.\n",
      "Error for IP 105232255168: IPv6 address ::18:8054:c8c0 is already defined as Reserved via RFC 4291.\n",
      "Error for IP 41182108206: IPv6 address ::9:96a5:1a2e is already defined as Reserved via RFC 4291.\n",
      "Error for IP 41205148202: IPv6 address ::9:9804:aa2a is already defined as Reserved via RFC 4291.\n",
      "Error for IP 10523210165: IPv6 address ::2:733b:71b5 is already defined as Reserved via RFC 4291.\n",
      "Error for IP 105232117182: IPv6 address ::18:8052:adbe is already defined as Reserved via RFC 4291.\n",
      "Error for IP 10523234119: IPv6 address ::2:733b:cf47 is already defined as Reserved via RFC 4291.\n",
      "Error for IP 10523211280: IPv6 address ::2:733b:7610 is already defined as Reserved via RFC 4291.\n",
      "Error for IP 10523269176: IPv6 address ::2:733c:5838 is already defined as Reserved via RFC 4291.\n",
      "Error for IP 10523233188: IPv6 address ::2:733b:cba4 is already defined as Reserved via RFC 4291.\n",
      "Error for IP 105232255164: IPv6 address ::18:8054:c8bc is already defined as Reserved via RFC 4291.\n",
      "Error for IP 41182120242: IPv6 address ::9:96a5:4932 is already defined as Reserved via RFC 4291.\n",
      "Error for IP 10523297130: IPv6 address ::2:733c:c56a is already defined as Reserved via RFC 4291.\n",
      "Error for IP 10523294134: IPv6 address ::2:733c:b9b6 is already defined as Reserved via RFC 4291.\n",
      "Error for IP 19723314686: IPv6 address ::4:9799:e5fe is already defined as Reserved via RFC 4291.\n",
      "Error for IP 4118224218: IPv4 address 245.119.29.90 is already defined as Private-Use Networks via RFC 1918.\n",
      "Error for IP 10523225511: IPv6 address ::2:733b:ada7 is already defined as Reserved via RFC 4291.\n",
      "Error for IP 19723318942: IPv6 address ::4:9799:f69e is already defined as Reserved via RFC 4291.\n",
      "Error for IP 10523223236: IPv6 address ::2:733b:a4c4 is already defined as Reserved via RFC 4291.\n",
      "Error for IP 4119862154: IPv4 address 245.144.27.138 is already defined as Private-Use Networks via RFC 1918.\n",
      "Error for IP 197188145143: IPv6 address ::2d:e954:4ff7 is already defined as Reserved via RFC 4291.\n",
      "Error for IP 10523249178: IPv6 address ::2:733c:a1a is already defined as Reserved via RFC 4291.\n",
      "Error for IP 19718811547: IPv6 address ::4:9755:2f9b is already defined as Reserved via RFC 4291.\n",
      "Error for IP 16317114099: IPv6 address ::3:cc93:66f3 is already defined as Reserved via RFC 4291.\n",
      "Error for IP 4118217416: IPv4 address 245.119.2.200 is already defined as Private-Use Networks via RFC 1918.\n",
      "Error for IP 4924515428: IPv6 address ::1:2586:2464 is already defined as Reserved via RFC 4291.\n",
      "Error for IP 105232255245: IPv6 address ::18:8054:c90d is already defined as Reserved via RFC 4291.\n",
      "Error for IP 19644128195: IPv6 address ::4:92e1:9bc3 is already defined as Reserved via RFC 4291.\n",
      "Error for IP 19718814984: IPv6 address ::4:9755:3d08 is already defined as Reserved via RFC 4291.\n",
      "Error for IP 4118262111: IPv4 address 245.119.177.95 is already defined as Private-Use Networks via RFC 1918.\n",
      "Error for IP 4118214228: IPv4 address 245.118.246.84 is already defined as Private-Use Networks via RFC 1918.\n",
      "Error for IP 19622318180: IPv6 address ::4:9194:d064 is already defined as Reserved via RFC 4291.\n",
      "Error for IP 10523225550: IPv6 address ::2:733b:adce is already defined as Reserved via RFC 4291.\n",
      "Error for IP 19723320934: IPv6 address ::4:9799:fe66 is already defined as Reserved via RFC 4291.\n",
      "Error for IP 16317114099: IPv6 address ::3:cc93:66f3 is already defined as Reserved via RFC 4291.\n",
      "Error for IP 11658202205: IPv6 address ::2:b6e2:c5d is already defined as Reserved via RFC 4291.\n",
      "Error for IP 10523225550: IPv6 address ::2:733b:adce is already defined as Reserved via RFC 4291.\n",
      "Error for IP 16317114099: IPv6 address ::3:cc93:66f3 is already defined as Reserved via RFC 4291.\n",
      "Error for IP 105232255241: IPv6 address ::18:8054:c909 is already defined as Reserved via RFC 4291.\n",
      "Error for IP 105232255173: IPv6 address ::18:8054:c8c5 is already defined as Reserved via RFC 4291.\n",
      "Error for IP 19718822017: IPv6 address ::4:9755:5881 is already defined as Reserved via RFC 4291.\n",
      "Error for IP 41182112205: IPv6 address ::9:96a5:29cd is already defined as Reserved via RFC 4291.\n",
      "Error for IP 10523225568: IPv6 address ::2:733b:ade0 is already defined as Reserved via RFC 4291.\n",
      "Error for IP 15718514491: IPv6 address ::3:a8e5:7f3b is already defined as Reserved via RFC 4291.\n",
      "Error for IP 10523225568: IPv6 address ::2:733b:ade0 is already defined as Reserved via RFC 4291.\n",
      "Error for IP 163171140149: IPv6 address ::25:fdc2:235 is already defined as Reserved via RFC 4291.\n",
      "Error for IP 163171140149: IPv6 address ::25:fdc2:235 is already defined as Reserved via RFC 4291.\n",
      "Error for IP 123103125236: IPv6 address ::1c:a984:9ef4 is already defined as Reserved via RFC 4291.\n",
      "Error for IP 16317114099: IPv6 address ::3:cc93:66f3 is already defined as Reserved via RFC 4291.\n",
      "Error for IP 4118216823: IPv4 address 245.119.0.119 is already defined as Private-Use Networks via RFC 1918.\n",
      "Error for IP 19723353167: IPv6 address ::4:979a:7c4f is already defined as Reserved via RFC 4291.\n",
      "Error for IP 197188169235: IPv6 address ::2d:e954:ae13 is already defined as Reserved via RFC 4291.\n",
      "Error for IP 10523225523: IPv6 address ::2:733b:adb3 is already defined as Reserved via RFC 4291.\n",
      "Error for IP 10523253134: IPv6 address ::2:733c:198e is already defined as Reserved via RFC 4291.\n",
      "Error for IP 15402061: IPv4 address 0.235.4.77 is already defined as This Network via RFC 1122, Section 3.2.1.3.\n",
      "Error for IP 105232255101: IPv6 address ::18:8054:c87d is already defined as Reserved via RFC 4291.\n",
      "Error for IP 10523225568: IPv6 address ::2:733b:ade0 is already defined as Reserved via RFC 4291.\n",
      "Error for IP 105232255101: IPv6 address ::18:8054:c87d is already defined as Reserved via RFC 4291.\n",
      "Error for IP 10523243246: IPv6 address ::2:733b:f2ee is already defined as Reserved via RFC 4291.\n",
      "Error for IP 10523243246: IPv6 address ::2:733b:f2ee is already defined as Reserved via RFC 4291.\n",
      "Error for IP 19723312969: IPv6 address ::4:9799:df49 is already defined as Reserved via RFC 4291.\n",
      "Error for IP 105232255161: IPv6 address ::18:8054:c8b9 is already defined as Reserved via RFC 4291.\n",
      "Error for IP 18822225222: IPv6 address ::4:61e4:5d46 is already defined as Reserved via RFC 4291.\n",
      "Error for IP 10523274213: IPv6 address ::2:733c:6be5 is already defined as Reserved via RFC 4291.\n",
      "Error for IP 15478117142: IPv6 address ::3:9a91:5316 is already defined as Reserved via RFC 4291.\n",
      "Error for IP 197233147169: IPv6 address ::2d:ec02:fd21 is already defined as Reserved via RFC 4291.\n",
      "Error for IP 105232255165: IPv6 address ::18:8054:c8bd is already defined as Reserved via RFC 4291.\n",
      "Error for IP 105232255156: IPv6 address ::18:8054:c8b4 is already defined as Reserved via RFC 4291.\n",
      "Error for IP 41182126157: IPv6 address ::9:96a5:604d is already defined as Reserved via RFC 4291.\n",
      "Error for IP 4118210244: IPv4 address 245.118.230.196 is already defined as Private-Use Networks via RFC 1918.\n",
      "Error for IP 105232119146: IPv6 address ::18:8052:b56a is already defined as Reserved via RFC 4291.\n",
      "Error for IP 41182203211: IPv6 address ::9:96a6:8d4b is already defined as Reserved via RFC 4291.\n",
      "Error for IP 41182195115: IPv6 address ::9:96a6:6dab is already defined as Reserved via RFC 4291.\n",
      "Error for IP 21012236182: IPv6 address ::4:e46d:4796 is already defined as Reserved via RFC 4291.\n",
      "Error for IP 4118221788: IPv4 address 245.119.19.220 is already defined as Private-Use Networks via RFC 1918.\n",
      "Error for IP 19723347200: IPv6 address ::4:979a:6500 is already defined as Reserved via RFC 4291.\n",
      "Error for IP 16024261146: IPv6 address ::3:bb1e:d21a is already defined as Reserved via RFC 4291.\n",
      "Error for IP 19718816124: IPv6 address ::4:9755:417c is already defined as Reserved via RFC 4291.\n",
      "Error for IP 160242113106: IPv6 address ::25:4f2c:9a52 is already defined as Reserved via RFC 4291.\n",
      "Error for IP 197188146102: IPv6 address ::2d:e954:53b6 is already defined as Reserved via RFC 4291.\n",
      "Error for IP 19718822221: IPv6 address ::4:9755:594d is already defined as Reserved via RFC 4291.\n",
      "Error for IP 4118296247: IPv4 address 245.120.54.183 is already defined as Private-Use Networks via RFC 1918.\n",
      "Error for IP 19718821072: IPv6 address ::4:9755:54d0 is already defined as Reserved via RFC 4291.\n",
      "Error for IP 105232255133: IPv6 address ::18:8054:c89d is already defined as Reserved via RFC 4291.\n",
      "Error for IP 105232255142: IPv6 address ::18:8054:c8a6 is already defined as Reserved via RFC 4291.\n",
      "                   MEMBER_ID  GUBUN COUNTRY_CD  \\\n",
      "0              mobilestore11      0         US   \n",
      "1                 spexstores      0         US   \n",
      "2                jejrhdh785b      0         CA   \n",
      "3             hdhdhdhdudh987      0         US   \n",
      "4                 georgss568      0         US   \n",
      "...                      ...    ...        ...   \n",
      "466757            nz04853367      1         NZ   \n",
      "466758  amandacaroline192991      0         US   \n",
      "466759            gn04717168      1         GN   \n",
      "466760                033214      0         PK   \n",
      "466761            nz04718320      1         NZ   \n",
      "\n",
      "                                                  KEYWORD  LOGIN_DT  \\\n",
      "0                                                stroller  20210311   \n",
      "1       Electric Bikes,Mobile Phone,Speakers,Drones,Ou...  20221214   \n",
      "2                                                   Cream  20221223   \n",
      "3                                                 Huggies  20221223   \n",
      "4                                            Baby diapers  20221122   \n",
      "...                                                   ...       ...   \n",
      "466757                                                NaN  20230223   \n",
      "466758                                                NaN  20230223   \n",
      "466759                                                NaN  20220525   \n",
      "466760                                                NaN  20220525   \n",
      "466761                                                NaN  20220526   \n",
      "\n",
      "        LOGIN_CNT  INPUT_DT  UPDATE_DT      REMOTEIP  SHOW_CHK  MTYPE  \\\n",
      "0               1  20210311   20210311   10412918208         0      0   \n",
      "1               7  20221122   20230116    1911012099         0      0   \n",
      "2               3  20221122   20221122     209127246         0      0   \n",
      "3               2  20221122   20221122  198181163103         0      0   \n",
      "4               1  20221122   20221122   19823242152         0      0   \n",
      "...           ...       ...        ...           ...       ...    ...   \n",
      "466757          1  20230223   20230223     103823589         1      1   \n",
      "466758          1  20230223   20230223  143244166194         1      1   \n",
      "466759          1  20220525   20220525    8110415962         1      1   \n",
      "466760          1  20220525   20220525   18218189146         1      1   \n",
      "466761          1  20220526   20220526     121749941         1      1   \n",
      "\n",
      "        ORDER_FLG  judge  BLACK_LIST  \n",
      "0              90      0           0  \n",
      "1              90      0           0  \n",
      "2              90      0           0  \n",
      "3              90      0           0  \n",
      "4              90      0           0  \n",
      "...           ...    ...         ...  \n",
      "466757         90      1           0  \n",
      "466758         90      1           1  \n",
      "466759         90      1           0  \n",
      "466760         90      1           0  \n",
      "466761         90      1           0  \n",
      "\n",
      "[466762 rows x 14 columns]\n"
     ]
    },
    {
     "name": "stderr",
     "output_type": "stream",
     "text": [
      "C:\\Users\\user\\AppData\\Local\\Temp\\ipykernel_19160\\595524296.py:17: SettingWithCopyWarning: \n",
      "A value is trying to be set on a copy of a slice from a DataFrame.\n",
      "Try using .loc[row_indexer,col_indexer] = value instead\n",
      "\n",
      "See the caveats in the documentation: https://pandas.pydata.org/pandas-docs/stable/user_guide/indexing.html#returning-a-view-versus-a-copy\n",
      "  missing_country_rows['COUNTRY_CD'] = missing_country_rows['REMOTEIP'].apply(get_country_code)\n"
     ]
    }
   ],
   "source": [
    "import ipwhois\n",
    "from ipwhois import IPWhois\n",
    "\n",
    "# 새로운 열 'COUNTRY_CD'가 NaN인 행을 찾기\n",
    "missing_country_rows = members[members['COUNTRY_CD'].isna()]\n",
    "\n",
    "def get_country_code(ip):\n",
    "    try:\n",
    "        obj = IPWhois(ip)\n",
    "        results = obj.lookup_rdap()\n",
    "        return results['asn_country_code']\n",
    "    except Exception as e:\n",
    "        print(f\"Error for IP {ip}: {e}\")\n",
    "        return None\n",
    "\n",
    "# 'COUNTRY_CD'가 NaN인 행에 대해 함수를 적용하여 국가 코드 얻기\n",
    "missing_country_rows['COUNTRY_CD'] = missing_country_rows['REMOTEIP'].apply(get_country_code)\n",
    "\n",
    "# 기존 데이터프레임에 업데이트\n",
    "members.update(missing_country_rows)\n",
    "\n",
    "# 업데이트된 데이터프레임 출력\n",
    "print(members)"
   ]
  },
  {
   "cell_type": "code",
   "execution_count": 12,
   "metadata": {},
   "outputs": [
    {
     "name": "stdout",
     "output_type": "stream",
     "text": [
      "Error for IP 197233106147: IPv6 address ::2d:ec02:5ce3 is already defined as Reserved via RFC 4291.\n",
      "Error for IP 5626343: IPv4 address 0.85.217.231 is already defined as This Network via RFC 1122, Section 3.2.1.3.\n",
      "Error for IP 19718875176: IPv6 address ::4:9756:2828 is already defined as Reserved via RFC 4291.\n",
      "Error for IP 4118279133: IPv4 address 245.119.243.221 is already defined as Private-Use Networks via RFC 1918.\n",
      "Error for IP 1546807: IPv4 address 0.23.154.55 is already defined as This Network via RFC 1122, Section 3.2.1.3.\n",
      "Error for IP 10523225519: IPv6 address ::2:733b:adaf is already defined as Reserved via RFC 4291.\n",
      "Error for IP 19723363250: IPv6 address ::4:979a:a3b2 is already defined as Reserved via RFC 4291.\n",
      "Error for IP 10523225553: IPv6 address ::2:733b:add1 is already defined as Reserved via RFC 4291.\n",
      "Error for IP 10523225564: IPv6 address ::2:733b:addc is already defined as Reserved via RFC 4291.\n",
      "Error for IP 4118273218: IPv4 address 245.119.220.194 is already defined as Private-Use Networks via RFC 1918.\n",
      "Error for IP 105232255233: IPv6 address ::18:8054:c901 is already defined as Reserved via RFC 4291.\n",
      "Error for IP 105232255189: IPv6 address ::18:8054:c8d5 is already defined as Reserved via RFC 4291.\n",
      "Error for IP 4120514618: IPv4 address 245.154.16.58 is already defined as Private-Use Networks via RFC 1918.\n",
      "Error for IP 197233208239: IPv6 address ::2d:ec03:ebaf is already defined as Reserved via RFC 4291.\n",
      "Error for IP 197243225141: IPv6 address ::2d:ec9c:c435 is already defined as Reserved via RFC 4291.\n",
      "Error for IP 41205135169: IPv6 address ::9:9804:7741 is already defined as Reserved via RFC 4291.\n",
      "Error for IP 41182162105: IPv6 address ::9:96a5:ecb9 is already defined as Reserved via RFC 4291.\n",
      "Error for IP 4118257132: IPv4 address 245.119.157.236 is already defined as Private-Use Networks via RFC 1918.\n",
      "Error for IP 197188164137: IPv6 address ::2d:e954:9a29 is already defined as Reserved via RFC 4291.\n",
      "Error for IP 197243187194: IPv6 address ::2d:ec9c:2ffa is already defined as Reserved via RFC 4291.\n",
      "Error for IP 19644131147: IPv6 address ::4:92e1:a74b is already defined as Reserved via RFC 4291.\n",
      "Error for IP 4118228130: IPv4 address 245.119.44.162 is already defined as Private-Use Networks via RFC 1918.\n",
      "Error for IP 4163226243: IPv4 address 248.37.202.131 is already defined as Private-Use Networks via RFC 1918.\n",
      "Error for IP 4118235149: IPv4 address 245.119.72.13 is already defined as Private-Use Networks via RFC 1918.\n",
      "Error for IP 4118218635: IPv4 address 245.119.7.139 is already defined as Private-Use Networks via RFC 1918.\n",
      "Error for IP 4118217823: IPv4 address 245.119.4.95 is already defined as Private-Use Networks via RFC 1918.\n",
      "Error for IP 4118235149: IPv4 address 245.119.72.13 is already defined as Private-Use Networks via RFC 1918.\n",
      "Error for IP 10523271173: IPv6 address ::2:733c:6005 is already defined as Reserved via RFC 4291.\n",
      "Error for IP 4118235149: IPv4 address 245.119.72.13 is already defined as Private-Use Networks via RFC 1918.\n",
      "Error for IP 10523225523: IPv6 address ::2:733b:adb3 is already defined as Reserved via RFC 4291.\n",
      "Error for IP 4118284121: IPv4 address 245.120.7.89 is already defined as Private-Use Networks via RFC 1918.\n",
      "Error for IP 10523225586: IPv6 address ::2:733b:adf2 is already defined as Reserved via RFC 4291.\n",
      "Error for IP 4118217395: IPv4 address 245.119.2.179 is already defined as Private-Use Networks via RFC 1918.\n",
      "Error for IP 19718822011: IPv6 address ::4:9755:587b is already defined as Reserved via RFC 4291.\n",
      "Error for IP 4118293103: IPv4 address 245.120.42.111 is already defined as Private-Use Networks via RFC 1918.\n",
      "Error for IP 4118229175: IPv4 address 245.119.48.183 is already defined as Private-Use Networks via RFC 1918.\n",
      "Error for IP 4118251132: IPv4 address 245.119.134.124 is already defined as Private-Use Networks via RFC 1918.\n",
      "Error for IP 105232255148: IPv6 address ::18:8054:c8ac is already defined as Reserved via RFC 4291.\n",
      "Error for IP 197243131109: IPv6 address ::2d:ec9b:54e5 is already defined as Reserved via RFC 4291.\n",
      "Error for IP 41182146161: IPv6 address ::9:96a5:ae71 is already defined as Reserved via RFC 4291.\n",
      "Error for IP 197188168221: IPv6 address ::2d:e954:aa1d is already defined as Reserved via RFC 4291.\n",
      "Error for IP 197188166238: IPv6 address ::2d:e954:a25e is already defined as Reserved via RFC 4291.\n",
      "Error for IP 197188163229: IPv6 address ::2d:e954:969d is already defined as Reserved via RFC 4291.\n",
      "Error for IP 19718893161: IPv6 address ::4:9756:6e69 is already defined as Reserved via RFC 4291.\n",
      "Error for IP 4120513882: IPv4 address 245.154.13.90 is already defined as Private-Use Networks via RFC 1918.\n",
      "Error for IP 105232255168: IPv6 address ::18:8054:c8c0 is already defined as Reserved via RFC 4291.\n",
      "Error for IP 41182108206: IPv6 address ::9:96a5:1a2e is already defined as Reserved via RFC 4291.\n",
      "Error for IP 41205148202: IPv6 address ::9:9804:aa2a is already defined as Reserved via RFC 4291.\n",
      "Error for IP 10523210165: IPv6 address ::2:733b:71b5 is already defined as Reserved via RFC 4291.\n",
      "Error for IP 105232117182: IPv6 address ::18:8052:adbe is already defined as Reserved via RFC 4291.\n",
      "Error for IP 10523234119: IPv6 address ::2:733b:cf47 is already defined as Reserved via RFC 4291.\n",
      "Error for IP 10523211280: IPv6 address ::2:733b:7610 is already defined as Reserved via RFC 4291.\n",
      "Error for IP 10523269176: IPv6 address ::2:733c:5838 is already defined as Reserved via RFC 4291.\n",
      "Error for IP 10523233188: IPv6 address ::2:733b:cba4 is already defined as Reserved via RFC 4291.\n",
      "Error for IP 105232255164: IPv6 address ::18:8054:c8bc is already defined as Reserved via RFC 4291.\n",
      "Error for IP 41182120242: IPv6 address ::9:96a5:4932 is already defined as Reserved via RFC 4291.\n",
      "Error for IP 10523297130: IPv6 address ::2:733c:c56a is already defined as Reserved via RFC 4291.\n",
      "Error for IP 10523294134: IPv6 address ::2:733c:b9b6 is already defined as Reserved via RFC 4291.\n",
      "Error for IP 19723314686: IPv6 address ::4:9799:e5fe is already defined as Reserved via RFC 4291.\n",
      "Error for IP 4118224218: IPv4 address 245.119.29.90 is already defined as Private-Use Networks via RFC 1918.\n",
      "Error for IP 10523225511: IPv6 address ::2:733b:ada7 is already defined as Reserved via RFC 4291.\n",
      "Error for IP 19723318942: IPv6 address ::4:9799:f69e is already defined as Reserved via RFC 4291.\n",
      "Error for IP 10523223236: IPv6 address ::2:733b:a4c4 is already defined as Reserved via RFC 4291.\n",
      "Error for IP 4119862154: IPv4 address 245.144.27.138 is already defined as Private-Use Networks via RFC 1918.\n",
      "Error for IP 197188145143: IPv6 address ::2d:e954:4ff7 is already defined as Reserved via RFC 4291.\n",
      "Error for IP 10523249178: IPv6 address ::2:733c:a1a is already defined as Reserved via RFC 4291.\n",
      "Error for IP 19718811547: IPv6 address ::4:9755:2f9b is already defined as Reserved via RFC 4291.\n",
      "Error for IP 16317114099: IPv6 address ::3:cc93:66f3 is already defined as Reserved via RFC 4291.\n",
      "Error for IP 4118217416: IPv4 address 245.119.2.200 is already defined as Private-Use Networks via RFC 1918.\n",
      "Error for IP 4924515428: IPv6 address ::1:2586:2464 is already defined as Reserved via RFC 4291.\n",
      "Error for IP 105232255245: IPv6 address ::18:8054:c90d is already defined as Reserved via RFC 4291.\n",
      "Error for IP 19644128195: IPv6 address ::4:92e1:9bc3 is already defined as Reserved via RFC 4291.\n",
      "Error for IP 19718814984: IPv6 address ::4:9755:3d08 is already defined as Reserved via RFC 4291.\n",
      "Error for IP 4118262111: IPv4 address 245.119.177.95 is already defined as Private-Use Networks via RFC 1918.\n",
      "Error for IP 4118214228: IPv4 address 245.118.246.84 is already defined as Private-Use Networks via RFC 1918.\n",
      "Error for IP 19622318180: IPv6 address ::4:9194:d064 is already defined as Reserved via RFC 4291.\n",
      "Error for IP 10523225550: IPv6 address ::2:733b:adce is already defined as Reserved via RFC 4291.\n",
      "Error for IP 19723320934: IPv6 address ::4:9799:fe66 is already defined as Reserved via RFC 4291.\n",
      "Error for IP 16317114099: IPv6 address ::3:cc93:66f3 is already defined as Reserved via RFC 4291.\n",
      "Error for IP 11658202205: IPv6 address ::2:b6e2:c5d is already defined as Reserved via RFC 4291.\n",
      "Error for IP 10523225550: IPv6 address ::2:733b:adce is already defined as Reserved via RFC 4291.\n",
      "Error for IP 16317114099: IPv6 address ::3:cc93:66f3 is already defined as Reserved via RFC 4291.\n",
      "Error for IP 105232255241: IPv6 address ::18:8054:c909 is already defined as Reserved via RFC 4291.\n",
      "Error for IP 105232255173: IPv6 address ::18:8054:c8c5 is already defined as Reserved via RFC 4291.\n",
      "Error for IP 19718822017: IPv6 address ::4:9755:5881 is already defined as Reserved via RFC 4291.\n",
      "Error for IP 41182112205: IPv6 address ::9:96a5:29cd is already defined as Reserved via RFC 4291.\n",
      "Error for IP 10523225568: IPv6 address ::2:733b:ade0 is already defined as Reserved via RFC 4291.\n",
      "Error for IP 15718514491: IPv6 address ::3:a8e5:7f3b is already defined as Reserved via RFC 4291.\n",
      "Error for IP 10523225568: IPv6 address ::2:733b:ade0 is already defined as Reserved via RFC 4291.\n",
      "Error for IP 163171140149: IPv6 address ::25:fdc2:235 is already defined as Reserved via RFC 4291.\n",
      "Error for IP 163171140149: IPv6 address ::25:fdc2:235 is already defined as Reserved via RFC 4291.\n",
      "Error for IP 123103125236: IPv6 address ::1c:a984:9ef4 is already defined as Reserved via RFC 4291.\n",
      "Error for IP 16317114099: IPv6 address ::3:cc93:66f3 is already defined as Reserved via RFC 4291.\n",
      "Error for IP 4118216823: IPv4 address 245.119.0.119 is already defined as Private-Use Networks via RFC 1918.\n",
      "Error for IP 19723353167: IPv6 address ::4:979a:7c4f is already defined as Reserved via RFC 4291.\n",
      "Error for IP 197188169235: IPv6 address ::2d:e954:ae13 is already defined as Reserved via RFC 4291.\n",
      "Error for IP 10523225523: IPv6 address ::2:733b:adb3 is already defined as Reserved via RFC 4291.\n",
      "Error for IP 10523253134: IPv6 address ::2:733c:198e is already defined as Reserved via RFC 4291.\n",
      "Error for IP 15402061: IPv4 address 0.235.4.77 is already defined as This Network via RFC 1122, Section 3.2.1.3.\n",
      "Error for IP 105232255101: IPv6 address ::18:8054:c87d is already defined as Reserved via RFC 4291.\n",
      "Error for IP 10523225568: IPv6 address ::2:733b:ade0 is already defined as Reserved via RFC 4291.\n",
      "Error for IP 105232255101: IPv6 address ::18:8054:c87d is already defined as Reserved via RFC 4291.\n",
      "Error for IP 10523243246: IPv6 address ::2:733b:f2ee is already defined as Reserved via RFC 4291.\n",
      "Error for IP 10523243246: IPv6 address ::2:733b:f2ee is already defined as Reserved via RFC 4291.\n",
      "Error for IP 19723312969: IPv6 address ::4:9799:df49 is already defined as Reserved via RFC 4291.\n",
      "Error for IP 105232255161: IPv6 address ::18:8054:c8b9 is already defined as Reserved via RFC 4291.\n",
      "Error for IP 18822225222: IPv6 address ::4:61e4:5d46 is already defined as Reserved via RFC 4291.\n",
      "Error for IP 10523274213: IPv6 address ::2:733c:6be5 is already defined as Reserved via RFC 4291.\n",
      "Error for IP 15478117142: IPv6 address ::3:9a91:5316 is already defined as Reserved via RFC 4291.\n",
      "Error for IP 197233147169: IPv6 address ::2d:ec02:fd21 is already defined as Reserved via RFC 4291.\n",
      "Error for IP 105232255165: IPv6 address ::18:8054:c8bd is already defined as Reserved via RFC 4291.\n",
      "Error for IP 105232255156: IPv6 address ::18:8054:c8b4 is already defined as Reserved via RFC 4291.\n",
      "Error for IP 41182126157: IPv6 address ::9:96a5:604d is already defined as Reserved via RFC 4291.\n",
      "Error for IP 4118210244: IPv4 address 245.118.230.196 is already defined as Private-Use Networks via RFC 1918.\n",
      "Error for IP 105232119146: IPv6 address ::18:8052:b56a is already defined as Reserved via RFC 4291.\n",
      "Error for IP 41182203211: IPv6 address ::9:96a6:8d4b is already defined as Reserved via RFC 4291.\n",
      "Error for IP 41182195115: IPv6 address ::9:96a6:6dab is already defined as Reserved via RFC 4291.\n",
      "Error for IP 21012236182: IPv6 address ::4:e46d:4796 is already defined as Reserved via RFC 4291.\n",
      "Error for IP 4118221788: IPv4 address 245.119.19.220 is already defined as Private-Use Networks via RFC 1918.\n",
      "Error for IP 19723347200: IPv6 address ::4:979a:6500 is already defined as Reserved via RFC 4291.\n",
      "Error for IP 16024261146: IPv6 address ::3:bb1e:d21a is already defined as Reserved via RFC 4291.\n",
      "Error for IP 19718816124: IPv6 address ::4:9755:417c is already defined as Reserved via RFC 4291.\n",
      "Error for IP 160242113106: IPv6 address ::25:4f2c:9a52 is already defined as Reserved via RFC 4291.\n",
      "Error for IP 197188146102: IPv6 address ::2d:e954:53b6 is already defined as Reserved via RFC 4291.\n",
      "Error for IP 19718822221: IPv6 address ::4:9755:594d is already defined as Reserved via RFC 4291.\n",
      "Error for IP 4118296247: IPv4 address 245.120.54.183 is already defined as Private-Use Networks via RFC 1918.\n",
      "Error for IP 19718821072: IPv6 address ::4:9755:54d0 is already defined as Reserved via RFC 4291.\n",
      "Error for IP 105232255133: IPv6 address ::18:8054:c89d is already defined as Reserved via RFC 4291.\n",
      "Error for IP 105232255142: IPv6 address ::18:8054:c8a6 is already defined as Reserved via RFC 4291.\n",
      "                   MEMBER_ID  GUBUN COUNTRY_CD  \\\n",
      "0              mobilestore11      0         US   \n",
      "1                 spexstores      0         US   \n",
      "2                jejrhdh785b      0         CA   \n",
      "3             hdhdhdhdudh987      0         US   \n",
      "4                 georgss568      0         US   \n",
      "...                      ...    ...        ...   \n",
      "466757            nz04853367      1         NZ   \n",
      "466758  amandacaroline192991      0         US   \n",
      "466759            gn04717168      1         GN   \n",
      "466760                033214      0         PK   \n",
      "466761            nz04718320      1         NZ   \n",
      "\n",
      "                                                  KEYWORD  LOGIN_DT  \\\n",
      "0                                                stroller  20210311   \n",
      "1       Electric Bikes,Mobile Phone,Speakers,Drones,Ou...  20221214   \n",
      "2                                                   Cream  20221223   \n",
      "3                                                 Huggies  20221223   \n",
      "4                                            Baby diapers  20221122   \n",
      "...                                                   ...       ...   \n",
      "466757                                                NaN  20230223   \n",
      "466758                                                NaN  20230223   \n",
      "466759                                                NaN  20220525   \n",
      "466760                                                NaN  20220525   \n",
      "466761                                                NaN  20220526   \n",
      "\n",
      "        LOGIN_CNT  INPUT_DT  UPDATE_DT      REMOTEIP  SHOW_CHK  MTYPE  \\\n",
      "0               1  20210311   20210311   10412918208         0      0   \n",
      "1               7  20221122   20230116    1911012099         0      0   \n",
      "2               3  20221122   20221122     209127246         0      0   \n",
      "3               2  20221122   20221122  198181163103         0      0   \n",
      "4               1  20221122   20221122   19823242152         0      0   \n",
      "...           ...       ...        ...           ...       ...    ...   \n",
      "466757          1  20230223   20230223     103823589         1      1   \n",
      "466758          1  20230223   20230223  143244166194         1      1   \n",
      "466759          1  20220525   20220525    8110415962         1      1   \n",
      "466760          1  20220525   20220525   18218189146         1      1   \n",
      "466761          1  20220526   20220526     121749941         1      1   \n",
      "\n",
      "        ORDER_FLG  judge  BLACK_LIST  \n",
      "0              90      0           0  \n",
      "1              90      0           0  \n",
      "2              90      0           0  \n",
      "3              90      0           0  \n",
      "4              90      0           0  \n",
      "...           ...    ...         ...  \n",
      "466757         90      1           0  \n",
      "466758         90      1           1  \n",
      "466759         90      1           0  \n",
      "466760         90      1           0  \n",
      "466761         90      1           0  \n",
      "\n",
      "[466762 rows x 14 columns]\n"
     ]
    },
    {
     "name": "stderr",
     "output_type": "stream",
     "text": [
      "C:\\Users\\user\\AppData\\Local\\Temp\\ipykernel_19160\\3964224607.py:20: SettingWithCopyWarning: \n",
      "A value is trying to be set on a copy of a slice from a DataFrame.\n",
      "Try using .loc[row_indexer,col_indexer] = value instead\n",
      "\n",
      "See the caveats in the documentation: https://pandas.pydata.org/pandas-docs/stable/user_guide/indexing.html#returning-a-view-versus-a-copy\n",
      "  missing_country_rows['COUNTRY_CD'] = missing_country_rows['REMOTEIP'].apply(get_country_code)\n"
     ]
    }
   ],
   "source": [
    "# 새로운 열 'COUNTRY_CD'가 NaN인 행을 찾기\n",
    "missing_country_rows = members[members['COUNTRY_CD'].isna()]\n",
    "\n",
    "def get_country_code(ip):\n",
    "    try:\n",
    "        obj = IPWhois(ip)\n",
    "        results = obj.lookup_rdap()\n",
    "        country_code = results['asn_country_code']\n",
    "        \n",
    "        # 국가 코드가 0인 경우 대체 값으로 변경\n",
    "        if country_code == '0':\n",
    "            return 'etc'  # 여기에 원하는 대체 값 지정\n",
    "        else:\n",
    "            return country_code\n",
    "    except Exception as e:\n",
    "        print(f\"Error for IP {ip}: {e}\")\n",
    "        return None\n",
    "\n",
    "# 'COUNTRY_CD'가 NaN이거나 0인 행에 대해 함수를 적용하여 국가 코드 얻기\n",
    "missing_country_rows['COUNTRY_CD'] = missing_country_rows['REMOTEIP'].apply(get_country_code)\n",
    "\n",
    "# 기존 데이터프레임에 업데이트\n",
    "members.update(missing_country_rows)\n",
    "\n",
    "# 업데이트된 데이터프레임 출력\n",
    "print(members)"
   ]
  },
  {
   "cell_type": "code",
   "execution_count": 13,
   "metadata": {},
   "outputs": [
    {
     "data": {
      "text/html": [
       "<div>\n",
       "<style scoped>\n",
       "    .dataframe tbody tr th:only-of-type {\n",
       "        vertical-align: middle;\n",
       "    }\n",
       "\n",
       "    .dataframe tbody tr th {\n",
       "        vertical-align: top;\n",
       "    }\n",
       "\n",
       "    .dataframe thead th {\n",
       "        text-align: right;\n",
       "    }\n",
       "</style>\n",
       "<table border=\"1\" class=\"dataframe\">\n",
       "  <thead>\n",
       "    <tr style=\"text-align: right;\">\n",
       "      <th></th>\n",
       "      <th>MEMBER_ID</th>\n",
       "      <th>GUBUN</th>\n",
       "      <th>COUNTRY_CD</th>\n",
       "      <th>KEYWORD</th>\n",
       "      <th>LOGIN_DT</th>\n",
       "      <th>LOGIN_CNT</th>\n",
       "      <th>INPUT_DT</th>\n",
       "      <th>UPDATE_DT</th>\n",
       "      <th>REMOTEIP</th>\n",
       "      <th>SHOW_CHK</th>\n",
       "      <th>MTYPE</th>\n",
       "      <th>ORDER_FLG</th>\n",
       "      <th>judge</th>\n",
       "      <th>BLACK_LIST</th>\n",
       "    </tr>\n",
       "  </thead>\n",
       "  <tbody>\n",
       "    <tr>\n",
       "      <th>1493</th>\n",
       "      <td>atlanticnammining</td>\n",
       "      <td>0</td>\n",
       "      <td>NaN</td>\n",
       "      <td>rough dimonds</td>\n",
       "      <td>20190127</td>\n",
       "      <td>2</td>\n",
       "      <td>20190127</td>\n",
       "      <td>20190127</td>\n",
       "      <td>197233106147</td>\n",
       "      <td>0</td>\n",
       "      <td>0</td>\n",
       "      <td>90</td>\n",
       "      <td>0</td>\n",
       "      <td>0</td>\n",
       "    </tr>\n",
       "    <tr>\n",
       "      <th>1746</th>\n",
       "      <td>nahme097</td>\n",
       "      <td>0</td>\n",
       "      <td>NaN</td>\n",
       "      <td>undetected money,real money,original original ...</td>\n",
       "      <td>20180804</td>\n",
       "      <td>2</td>\n",
       "      <td>20180804</td>\n",
       "      <td>20180804</td>\n",
       "      <td>5626343</td>\n",
       "      <td>0</td>\n",
       "      <td>0</td>\n",
       "      <td>90</td>\n",
       "      <td>0</td>\n",
       "      <td>0</td>\n",
       "    </tr>\n",
       "    <tr>\n",
       "      <th>10017</th>\n",
       "      <td>79010500055</td>\n",
       "      <td>0</td>\n",
       "      <td>NaN</td>\n",
       "      <td>rough Diamonds</td>\n",
       "      <td>20200226</td>\n",
       "      <td>2</td>\n",
       "      <td>20200226</td>\n",
       "      <td>20200226</td>\n",
       "      <td>19718875176</td>\n",
       "      <td>0</td>\n",
       "      <td>0</td>\n",
       "      <td>90</td>\n",
       "      <td>0</td>\n",
       "      <td>0</td>\n",
       "    </tr>\n",
       "    <tr>\n",
       "      <th>72478</th>\n",
       "      <td>copperapn</td>\n",
       "      <td>0</td>\n",
       "      <td>NaN</td>\n",
       "      <td>copper,ore,namibia,africa</td>\n",
       "      <td>20220207</td>\n",
       "      <td>1</td>\n",
       "      <td>20220207</td>\n",
       "      <td>20220207</td>\n",
       "      <td>4118279133</td>\n",
       "      <td>0</td>\n",
       "      <td>0</td>\n",
       "      <td>90</td>\n",
       "      <td>0</td>\n",
       "      <td>0</td>\n",
       "    </tr>\n",
       "    <tr>\n",
       "      <th>81775</th>\n",
       "      <td>bvcxx</td>\n",
       "      <td>0</td>\n",
       "      <td>NaN</td>\n",
       "      <td>cream</td>\n",
       "      <td>20221018</td>\n",
       "      <td>1</td>\n",
       "      <td>20221018</td>\n",
       "      <td>20221018</td>\n",
       "      <td>1546807</td>\n",
       "      <td>0</td>\n",
       "      <td>0</td>\n",
       "      <td>90</td>\n",
       "      <td>0</td>\n",
       "      <td>1</td>\n",
       "    </tr>\n",
       "    <tr>\n",
       "      <th>...</th>\n",
       "      <td>...</td>\n",
       "      <td>...</td>\n",
       "      <td>...</td>\n",
       "      <td>...</td>\n",
       "      <td>...</td>\n",
       "      <td>...</td>\n",
       "      <td>...</td>\n",
       "      <td>...</td>\n",
       "      <td>...</td>\n",
       "      <td>...</td>\n",
       "      <td>...</td>\n",
       "      <td>...</td>\n",
       "      <td>...</td>\n",
       "      <td>...</td>\n",
       "    </tr>\n",
       "    <tr>\n",
       "      <th>447397</th>\n",
       "      <td>na04851044</td>\n",
       "      <td>1</td>\n",
       "      <td>NaN</td>\n",
       "      <td>NaN</td>\n",
       "      <td>20230221</td>\n",
       "      <td>1</td>\n",
       "      <td>20230221</td>\n",
       "      <td>20230221</td>\n",
       "      <td>19718822221</td>\n",
       "      <td>1</td>\n",
       "      <td>1</td>\n",
       "      <td>90</td>\n",
       "      <td>1</td>\n",
       "      <td>0</td>\n",
       "    </tr>\n",
       "    <tr>\n",
       "      <th>452989</th>\n",
       "      <td>na04846692</td>\n",
       "      <td>1</td>\n",
       "      <td>NaN</td>\n",
       "      <td>NaN</td>\n",
       "      <td>20230217</td>\n",
       "      <td>1</td>\n",
       "      <td>20230217</td>\n",
       "      <td>20230217</td>\n",
       "      <td>4118296247</td>\n",
       "      <td>1</td>\n",
       "      <td>1</td>\n",
       "      <td>90</td>\n",
       "      <td>1</td>\n",
       "      <td>0</td>\n",
       "    </tr>\n",
       "    <tr>\n",
       "      <th>459448</th>\n",
       "      <td>na04779574</td>\n",
       "      <td>1</td>\n",
       "      <td>NaN</td>\n",
       "      <td>NaN</td>\n",
       "      <td>20221031</td>\n",
       "      <td>1</td>\n",
       "      <td>20221031</td>\n",
       "      <td>20221031</td>\n",
       "      <td>19718821072</td>\n",
       "      <td>1</td>\n",
       "      <td>1</td>\n",
       "      <td>90</td>\n",
       "      <td>1</td>\n",
       "      <td>0</td>\n",
       "    </tr>\n",
       "    <tr>\n",
       "      <th>462576</th>\n",
       "      <td>afriskins</td>\n",
       "      <td>0</td>\n",
       "      <td>NaN</td>\n",
       "      <td>fashion fur coats,fashion fur jackets,fashion ...</td>\n",
       "      <td>20220606</td>\n",
       "      <td>11</td>\n",
       "      <td>20220525</td>\n",
       "      <td>20220525</td>\n",
       "      <td>105232255133</td>\n",
       "      <td>1</td>\n",
       "      <td>0</td>\n",
       "      <td>90</td>\n",
       "      <td>1</td>\n",
       "      <td>0</td>\n",
       "    </tr>\n",
       "    <tr>\n",
       "      <th>462597</th>\n",
       "      <td>ynctrading</td>\n",
       "      <td>0</td>\n",
       "      <td>NaN</td>\n",
       "      <td>firewood,charcoal</td>\n",
       "      <td>20230106</td>\n",
       "      <td>1</td>\n",
       "      <td>20230106</td>\n",
       "      <td>20230106</td>\n",
       "      <td>105232255142</td>\n",
       "      <td>1</td>\n",
       "      <td>0</td>\n",
       "      <td>90</td>\n",
       "      <td>1</td>\n",
       "      <td>0</td>\n",
       "    </tr>\n",
       "  </tbody>\n",
       "</table>\n",
       "<p>129 rows × 14 columns</p>\n",
       "</div>"
      ],
      "text/plain": [
       "                MEMBER_ID  GUBUN COUNTRY_CD  \\\n",
       "1493    atlanticnammining      0        NaN   \n",
       "1746             nahme097      0        NaN   \n",
       "10017         79010500055      0        NaN   \n",
       "72478           copperapn      0        NaN   \n",
       "81775               bvcxx      0        NaN   \n",
       "...                   ...    ...        ...   \n",
       "447397         na04851044      1        NaN   \n",
       "452989         na04846692      1        NaN   \n",
       "459448         na04779574      1        NaN   \n",
       "462576          afriskins      0        NaN   \n",
       "462597         ynctrading      0        NaN   \n",
       "\n",
       "                                                  KEYWORD  LOGIN_DT  \\\n",
       "1493                                        rough dimonds  20190127   \n",
       "1746    undetected money,real money,original original ...  20180804   \n",
       "10017                                      rough Diamonds  20200226   \n",
       "72478                           copper,ore,namibia,africa  20220207   \n",
       "81775                                               cream  20221018   \n",
       "...                                                   ...       ...   \n",
       "447397                                                NaN  20230221   \n",
       "452989                                                NaN  20230217   \n",
       "459448                                                NaN  20221031   \n",
       "462576  fashion fur coats,fashion fur jackets,fashion ...  20220606   \n",
       "462597                                  firewood,charcoal  20230106   \n",
       "\n",
       "        LOGIN_CNT  INPUT_DT  UPDATE_DT      REMOTEIP  SHOW_CHK  MTYPE  \\\n",
       "1493            2  20190127   20190127  197233106147         0      0   \n",
       "1746            2  20180804   20180804       5626343         0      0   \n",
       "10017           2  20200226   20200226   19718875176         0      0   \n",
       "72478           1  20220207   20220207    4118279133         0      0   \n",
       "81775           1  20221018   20221018       1546807         0      0   \n",
       "...           ...       ...        ...           ...       ...    ...   \n",
       "447397          1  20230221   20230221   19718822221         1      1   \n",
       "452989          1  20230217   20230217    4118296247         1      1   \n",
       "459448          1  20221031   20221031   19718821072         1      1   \n",
       "462576         11  20220525   20220525  105232255133         1      0   \n",
       "462597          1  20230106   20230106  105232255142         1      0   \n",
       "\n",
       "        ORDER_FLG  judge  BLACK_LIST  \n",
       "1493           90      0           0  \n",
       "1746           90      0           0  \n",
       "10017          90      0           0  \n",
       "72478          90      0           0  \n",
       "81775          90      0           1  \n",
       "...           ...    ...         ...  \n",
       "447397         90      1           0  \n",
       "452989         90      1           0  \n",
       "459448         90      1           0  \n",
       "462576         90      1           0  \n",
       "462597         90      1           0  \n",
       "\n",
       "[129 rows x 14 columns]"
      ]
     },
     "execution_count": 13,
     "metadata": {},
     "output_type": "execute_result"
    }
   ],
   "source": [
    "members[members['COUNTRY_CD'].isna()]"
   ]
  },
  {
   "cell_type": "code",
   "execution_count": null,
   "metadata": {},
   "outputs": [],
   "source": [
    "from sklearn.feature_extraction.text import CountVectorizer\n",
    "\n",
    "cnt_vect = CountVectorizer()\n",
    "country_vect = cnt_vect.fit_transform(members['COUNTRY_CD'])"
   ]
  },
  {
   "cell_type": "markdown",
   "metadata": {},
   "source": [
    "- 널값이 존재해서 카운트 벡터 실패"
   ]
  },
  {
   "cell_type": "code",
   "execution_count": null,
   "metadata": {},
   "outputs": [],
   "source": [
    "import numpy as np\n",
    "\n",
    "county_cd_labeling ={country : num for num, country in enumerate(members['COUNTRY_CD'].unique())}\n",
    "\n",
    "print('코드명 :',county_cd_labeling.keys())\n",
    "print('대체값 :',county_cd_labeling.values())\n",
    "\n",
    "# 딕셔너리 값으로 국가 코드 변경\n",
    "members['COUNTRY_CD'] = [county_cd_labeling[country] for country in members['COUNTRY_CD'].values]"
   ]
  },
  {
   "cell_type": "markdown",
   "metadata": {},
   "source": [
    "# 회원 Kmeans()"
   ]
  },
  {
   "cell_type": "code",
   "execution_count": 53,
   "metadata": {},
   "outputs": [],
   "source": [
    "x = members[['COUNTRY_CD','SHOW_CHK','GUBUN']]"
   ]
  },
  {
   "cell_type": "markdown",
   "metadata": {},
   "source": [
    "# 엘보우 펑션 없이"
   ]
  },
  {
   "cell_type": "code",
   "execution_count": 20,
   "metadata": {},
   "outputs": [
    {
     "name": "stderr",
     "output_type": "stream",
     "text": [
      "c:\\Users\\user\\AppData\\Local\\Programs\\Python\\Python312\\Lib\\site-packages\\sklearn\\cluster\\_kmeans.py:1416: FutureWarning: The default value of `n_init` will change from 10 to 'auto' in 1.4. Set the value of `n_init` explicitly to suppress the warning\n",
      "  super()._check_params_vs_input(X, default_n_init=10)\n"
     ]
    }
   ],
   "source": [
    "from sklearn.cluster import KMeans\n",
    "\n",
    "km_cluster = KMeans(n_clusters=2, random_state= 0)\n",
    "km_cluster.fit(x)\n",
    "cluster_label = km_cluster.labels_\n",
    "cluster_centers = km_cluster.cluster_centers_\n",
    "\n",
    "members['cluster_label'] = cluster_label"
   ]
  },
  {
   "cell_type": "code",
   "execution_count": 22,
   "metadata": {},
   "outputs": [
    {
     "data": {
      "text/plain": [
       "cluster_label\n",
       "1    396745\n",
       "0     70017\n",
       "Name: count, dtype: int64"
      ]
     },
     "execution_count": 22,
     "metadata": {},
     "output_type": "execute_result"
    }
   ],
   "source": [
    "members['cluster_label'].value_counts()"
   ]
  },
  {
   "cell_type": "code",
   "execution_count": 21,
   "metadata": {},
   "outputs": [
    {
     "name": "stdout",
     "output_type": "stream",
     "text": [
      "클러스터 형태:  (2, 3)\n",
      "[[91.75838725  0.96826485  0.71436937]\n",
      " [ 9.96289556  0.77013195  0.46323709]]\n"
     ]
    }
   ],
   "source": [
    "cluster_centers = km_cluster.cluster_centers_\n",
    "print('클러스터 형태: ', cluster_centers.shape)\n",
    "print(cluster_centers)"
   ]
  },
  {
   "cell_type": "code",
   "execution_count": 25,
   "metadata": {},
   "outputs": [
    {
     "name": "stdout",
     "output_type": "stream",
     "text": [
      "<class 'pandas.core.frame.DataFrame'>\n",
      "RangeIndex: 466762 entries, 0 to 466761\n",
      "Data columns (total 15 columns):\n",
      " #   Column         Non-Null Count   Dtype \n",
      "---  ------         --------------   ----- \n",
      " 0   MEMBER_ID      466762 non-null  object\n",
      " 1   GUBUN          466762 non-null  int64 \n",
      " 2   COUNTRY_CD     466762 non-null  int64 \n",
      " 3   KEYWORD        191511 non-null  object\n",
      " 4   LOGIN_DT       466762 non-null  int64 \n",
      " 5   LOGIN_CNT      466762 non-null  int64 \n",
      " 6   INPUT_DT       466762 non-null  int64 \n",
      " 7   UPDATE_DT      466762 non-null  int64 \n",
      " 8   REMOTEIP       466762 non-null  int64 \n",
      " 9   SHOW_CHK       466762 non-null  int64 \n",
      " 10  MTYPE          466762 non-null  int64 \n",
      " 11  ORDER_FLG      466762 non-null  int64 \n",
      " 12  judge          466762 non-null  int64 \n",
      " 13  BLACK_LIST     466762 non-null  int64 \n",
      " 14  cluster_label  466762 non-null  int32 \n",
      "dtypes: int32(1), int64(12), object(2)\n",
      "memory usage: 51.6+ MB\n"
     ]
    }
   ],
   "source": [
    "members.info()"
   ]
  },
  {
   "cell_type": "code",
   "execution_count": 31,
   "metadata": {},
   "outputs": [
    {
     "name": "stdout",
     "output_type": "stream",
     "text": [
      "SHOW_CHK: SHOW_CHK\n",
      "1    67795\n",
      "0     2222\n",
      "Name: count, dtype: int64\n",
      "judge: judge\n",
      "1    67795\n",
      "0     2222\n",
      "Name: count, dtype: int64\n"
     ]
    }
   ],
   "source": [
    "print('SHOW_CHK:', members[members['cluster_label']==0]['SHOW_CHK'].value_counts())\n",
    "print('judge:', members[members['cluster_label']==0]['judge'].value_counts())"
   ]
  },
  {
   "cell_type": "code",
   "execution_count": 38,
   "metadata": {},
   "outputs": [
    {
     "name": "stdout",
     "output_type": "stream",
     "text": [
      "정상회원 비율: 0.97\n",
      "이상회원 비율: 0.03\n"
     ]
    }
   ],
   "source": [
    "print('정상회원 비율:', round(67795 / (67795 +2222),2))\n",
    "print('이상회원 비율:', round(2222 / (67795 +2222),2))"
   ]
  },
  {
   "cell_type": "code",
   "execution_count": 39,
   "metadata": {},
   "outputs": [
    {
     "name": "stdout",
     "output_type": "stream",
     "text": [
      "SHOW_CHK: SHOW_CHK\n",
      "1    305546\n",
      "0     91199\n",
      "Name: count, dtype: int64\n",
      "judge: judge\n",
      "1    305546\n",
      "0     91199\n",
      "Name: count, dtype: int64\n"
     ]
    }
   ],
   "source": [
    "print('SHOW_CHK:', members[members['cluster_label']==1]['SHOW_CHK'].value_counts())\n",
    "print('judge:', members[members['cluster_label']==1]['judge'].value_counts())"
   ]
  },
  {
   "cell_type": "code",
   "execution_count": 40,
   "metadata": {},
   "outputs": [
    {
     "name": "stdout",
     "output_type": "stream",
     "text": [
      "정상회원 비율: 0.77\n",
      "이상회원 비율: 0.23\n"
     ]
    }
   ],
   "source": [
    "print('정상회원 비율:', round(305546 / (305546 +91199),2))\n",
    "print('이상회원 비율:', round(91199 / (305546 +91199),2))"
   ]
  },
  {
   "cell_type": "code",
   "execution_count": 52,
   "metadata": {},
   "outputs": [
    {
     "data": {
      "image/png": "[encoded data removed]",
      "text/plain": [
       "<Figure size 800x600 with 1 Axes>"
      ]
     },
     "metadata": {},
     "output_type": "display_data"
    }
   ],
   "source": [
    "import matplotlib.pyplot as plt\n",
    "import seaborn as sns\n",
    "\n",
    "# 산점도 그리기\n",
    "plt.figure(figsize=(8, 6))\n",
    "sns.scatterplot(x='BLACK_LIST', y= 'COUNTRY_CD', hue='cluster_label', data=members, palette='Set1', s=100)\n",
    "plt.scatter(cluster_centers[:, 0], cluster_centers[:, 1], c='red', marker='X', s=200, label='Cluster Centers')\n",
    "plt.title('KMeans Clustering')\n",
    "plt.legend()\n",
    "plt.show()"
   ]
  },
  {
   "cell_type": "markdown",
   "metadata": {},
   "source": [
    "# 엘보우 펑션 그려보기"
   ]
  },
  {
   "cell_type": "code",
   "execution_count": 24,
   "metadata": {},
   "outputs": [
    {
     "name": "stderr",
     "output_type": "stream",
     "text": [
      "c:\\Users\\user\\AppData\\Local\\Programs\\Python\\Python312\\Lib\\site-packages\\sklearn\\cluster\\_kmeans.py:1416: FutureWarning: The default value of `n_init` will change from 10 to 'auto' in 1.4. Set the value of `n_init` explicitly to suppress the warning\n",
      "  super()._check_params_vs_input(X, default_n_init=10)\n",
      "c:\\Users\\user\\AppData\\Local\\Programs\\Python\\Python312\\Lib\\site-packages\\sklearn\\cluster\\_kmeans.py:1416: FutureWarning: The default value of `n_init` will change from 10 to 'auto' in 1.4. Set the value of `n_init` explicitly to suppress the warning\n",
      "  super()._check_params_vs_input(X, default_n_init=10)\n",
      "c:\\Users\\user\\AppData\\Local\\Programs\\Python\\Python312\\Lib\\site-packages\\sklearn\\cluster\\_kmeans.py:1416: FutureWarning: The default value of `n_init` will change from 10 to 'auto' in 1.4. Set the value of `n_init` explicitly to suppress the warning\n",
      "  super()._check_params_vs_input(X, default_n_init=10)\n",
      "c:\\Users\\user\\AppData\\Local\\Programs\\Python\\Python312\\Lib\\site-packages\\sklearn\\cluster\\_kmeans.py:1416: FutureWarning: The default value of `n_init` will change from 10 to 'auto' in 1.4. Set the value of `n_init` explicitly to suppress the warning\n",
      "  super()._check_params_vs_input(X, default_n_init=10)\n",
      "c:\\Users\\user\\AppData\\Local\\Programs\\Python\\Python312\\Lib\\site-packages\\sklearn\\cluster\\_kmeans.py:1416: FutureWarning: The default value of `n_init` will change from 10 to 'auto' in 1.4. Set the value of `n_init` explicitly to suppress the warning\n",
      "  super()._check_params_vs_input(X, default_n_init=10)\n",
      "c:\\Users\\user\\AppData\\Local\\Programs\\Python\\Python312\\Lib\\site-packages\\sklearn\\cluster\\_kmeans.py:1416: FutureWarning: The default value of `n_init` will change from 10 to 'auto' in 1.4. Set the value of `n_init` explicitly to suppress the warning\n",
      "  super()._check_params_vs_input(X, default_n_init=10)\n",
      "c:\\Users\\user\\AppData\\Local\\Programs\\Python\\Python312\\Lib\\site-packages\\sklearn\\cluster\\_kmeans.py:1416: FutureWarning: The default value of `n_init` will change from 10 to 'auto' in 1.4. Set the value of `n_init` explicitly to suppress the warning\n",
      "  super()._check_params_vs_input(X, default_n_init=10)\n",
      "c:\\Users\\user\\AppData\\Local\\Programs\\Python\\Python312\\Lib\\site-packages\\sklearn\\cluster\\_kmeans.py:1416: FutureWarning: The default value of `n_init` will change from 10 to 'auto' in 1.4. Set the value of `n_init` explicitly to suppress the warning\n",
      "  super()._check_params_vs_input(X, default_n_init=10)\n",
      "c:\\Users\\user\\AppData\\Local\\Programs\\Python\\Python312\\Lib\\site-packages\\sklearn\\cluster\\_kmeans.py:1416: FutureWarning: The default value of `n_init` will change from 10 to 'auto' in 1.4. Set the value of `n_init` explicitly to suppress the warning\n",
      "  super()._check_params_vs_input(X, default_n_init=10)\n"
     ]
    },
    {
     "data": {
      "image/png": "[encoded data removed]",
      "text/plain": [
       "<Figure size 640x480 with 1 Axes>"
      ]
     },
     "metadata": {},
     "output_type": "display_data"
    }
   ],
   "source": [
    "import matplotlib.pyplot as plt\n",
    "import seaborn as sns\n",
    "k_range = range(1,10)\n",
    "\n",
    "inertia_arr = []\n",
    "for k in k_range:\n",
    "    kmeans = KMeans(n_clusters=k, random_state= 10)\n",
    "    kmeans.fit(x) # 학습\n",
    "    inertia_arr.append(kmeans.inertia_)\n",
    "\n",
    "# Elbow function 그리기\n",
    "plt.plot(k_range, inertia_arr, marker = 'o')\n",
    "plt.xlabel('Number of Clusters')\n",
    "plt.ylabel('Inertia')\n",
    "plt.show()"
   ]
  },
  {
   "cell_type": "code",
   "execution_count": 41,
   "metadata": {},
   "outputs": [
    {
     "name": "stderr",
     "output_type": "stream",
     "text": [
      "c:\\Users\\user\\AppData\\Local\\Programs\\Python\\Python312\\Lib\\site-packages\\sklearn\\cluster\\_kmeans.py:1416: FutureWarning: The default value of `n_init` will change from 10 to 'auto' in 1.4. Set the value of `n_init` explicitly to suppress the warning\n",
      "  super()._check_params_vs_input(X, default_n_init=10)\n"
     ]
    }
   ],
   "source": [
    "km_cluster = KMeans(n_clusters=3, random_state= 0)\n",
    "km_cluster.fit(x)\n",
    "cluster_label = km_cluster.labels_\n",
    "cluster_centers = km_cluster.cluster_centers_\n",
    "\n",
    "members['cluster_label'] = cluster_label"
   ]
  },
  {
   "cell_type": "code",
   "execution_count": 42,
   "metadata": {},
   "outputs": [
    {
     "data": {
      "text/plain": [
       "cluster_label\n",
       "0    364755\n",
       "1     80434\n",
       "2     21573\n",
       "Name: count, dtype: int64"
      ]
     },
     "execution_count": 42,
     "metadata": {},
     "output_type": "execute_result"
    }
   ],
   "source": [
    "members['cluster_label'].value_counts()"
   ]
  },
  {
   "cell_type": "code",
   "execution_count": 43,
   "metadata": {},
   "outputs": [
    {
     "name": "stdout",
     "output_type": "stream",
     "text": [
      "클러스터 형태:  (3, 3)\n",
      "[[  7.20312813   0.7551891    0.44656824]\n",
      " [ 60.07270557   0.95545416   0.66164806]\n",
      " [135.266815     0.974876     0.82037732]]\n"
     ]
    }
   ],
   "source": [
    "cluster_centers = km_cluster.cluster_centers_\n",
    "print('클러스터 형태: ', cluster_centers.shape)\n",
    "print(cluster_centers)"
   ]
  },
  {
   "cell_type": "code",
   "execution_count": 44,
   "metadata": {},
   "outputs": [
    {
     "name": "stdout",
     "output_type": "stream",
     "text": [
      "cluster_label = 0: SHOW_CHK\n",
      "1    275459\n",
      "0     89296\n",
      "Name: count, dtype: int64\n",
      "cluster_label = 1: SHOW_CHK\n",
      "1    76851\n",
      "0     3583\n",
      "Name: count, dtype: int64\n",
      "cluster_label = 2: SHOW_CHK\n",
      "1    21031\n",
      "0      542\n",
      "Name: count, dtype: int64\n"
     ]
    }
   ],
   "source": [
    "print('cluster_label = 0:', members[members['cluster_label']==0]['SHOW_CHK'].value_counts())\n",
    "print('cluster_label = 1:', members[members['cluster_label']==1]['SHOW_CHK'].value_counts())\n",
    "print('cluster_label = 2:', members[members['cluster_label']==2]['SHOW_CHK'].value_counts())"
   ]
  },
  {
   "cell_type": "code",
   "execution_count": 48,
   "metadata": {},
   "outputs": [
    {
     "data": {
      "text/plain": [
       "KEYWORD\n",
       "Apple Airpods                                                                                                                                          4602\n",
       "skin care                                                                                                                                              3010\n",
       "Earphone & Headphone                                                                                                                                   2545\n",
       "Ear Headphones                                                                                                                                         2262\n",
       "accessories                                                                                                                                            1665\n",
       "                                                                                                                                                       ... \n",
       "windows key                                                                                                                                               1\n",
       "PLAYSTAION 4                                                                                                                                              1\n",
       "Boat Engine,Jetski                                                                                                                                        1\n",
       "women shoes,men shoes,children shoes,sandals,casual shoes,tennis shoes,men sandals,women sandals,kids sandals,men boots,boots,women high heels,shoe       1\n",
       "Crest 3D Professional                                                                                                                                     1\n",
       "Name: count, Length: 15001, dtype: int64"
      ]
     },
     "execution_count": 48,
     "metadata": {},
     "output_type": "execute_result"
    }
   ],
   "source": [
    "members[(members['cluster_label']==0) & (members['judge'] ==0) ]['KEYWORD'].value_counts()"
   ]
  },
  {
   "cell_type": "code",
   "execution_count": 50,
   "metadata": {},
   "outputs": [
    {
     "data": {
      "text/plain": [
       "KEYWORD\n",
       "product                                                    111\n",
       "Earphone & Headphone                                        67\n",
       "cream                                                       67\n",
       "tools                                                       65\n",
       "Products                                                    62\n",
       "                                                          ... \n",
       "pharmacy,injections,health                                   1\n",
       "3M Masks,N95 N99 masks,anti virus masks,surgical masks       1\n",
       "Fonio seeds                                                  1\n",
       "Health Supplies,Beauty Care Products,Medicinal Supplies      1\n",
       "Phone,Smartphone,Mobile Phone                                1\n",
       "Name: count, Length: 1894, dtype: int64"
      ]
     },
     "execution_count": 50,
     "metadata": {},
     "output_type": "execute_result"
    }
   ],
   "source": [
    "members[(members['cluster_label']==1) & (members['judge'] ==0) ]['KEYWORD'].value_counts()"
   ]
  },
  {
   "cell_type": "code",
   "execution_count": 51,
   "metadata": {},
   "outputs": [
    {
     "data": {
      "text/plain": [
       "KEYWORD\n",
       "cream                                   69\n",
       "Nintendo Switch,Nintendo Switch Lite    10\n",
       "tools                                   10\n",
       "Laptops                                  8\n",
       "IPL Hair Remover                         8\n",
       "                                        ..\n",
       "Mask N95 FFP2 FFP3                       1\n",
       "Perfumes,Creed Aventus                   1\n",
       "Medical Beauty Equipment Supplier        1\n",
       "makita                                   1\n",
       "Ps5                                      1\n",
       "Name: count, Length: 321, dtype: int64"
      ]
     },
     "execution_count": 51,
     "metadata": {},
     "output_type": "execute_result"
    }
   ],
   "source": [
    "members[(members['cluster_label']==2) & (members['judge'] ==0) ]['KEYWORD'].value_counts()"
   ]
  },
  {
   "cell_type": "markdown",
   "metadata": {},
   "source": [
    "# 상품"
   ]
  },
  {
   "cell_type": "code",
   "execution_count": 55,
   "metadata": {},
   "outputs": [],
   "source": [
    "y = products[['SHOW_CHK','CATEGORYM_ID']]"
   ]
  },
  {
   "cell_type": "code",
   "execution_count": 56,
   "metadata": {},
   "outputs": [
    {
     "name": "stderr",
     "output_type": "stream",
     "text": [
      "c:\\Users\\user\\AppData\\Local\\Programs\\Python\\Python312\\Lib\\site-packages\\sklearn\\cluster\\_kmeans.py:1416: FutureWarning: The default value of `n_init` will change from 10 to 'auto' in 1.4. Set the value of `n_init` explicitly to suppress the warning\n",
      "  super()._check_params_vs_input(X, default_n_init=10)\n"
     ]
    }
   ],
   "source": [
    "from sklearn.cluster import KMeans\n",
    "\n",
    "km_cluster = KMeans(n_clusters=2, random_state= 0)\n",
    "km_cluster.fit(y)\n",
    "cluster_label = km_cluster.labels_\n",
    "cluster_centers = km_cluster.cluster_centers_\n",
    "\n",
    "products['cluster_label'] = cluster_label"
   ]
  },
  {
   "cell_type": "code",
   "execution_count": 58,
   "metadata": {},
   "outputs": [
    {
     "data": {
      "text/plain": [
       "cluster_label\n",
       "0    724796\n",
       "1     26519\n",
       "Name: count, dtype: int64"
      ]
     },
     "execution_count": 58,
     "metadata": {},
     "output_type": "execute_result"
    }
   ],
   "source": [
    "products['cluster_label'].value_counts()"
   ]
  },
  {
   "cell_type": "code",
   "execution_count": 59,
   "metadata": {},
   "outputs": [
    {
     "name": "stdout",
     "output_type": "stream",
     "text": [
      "클러스터 형태:  (2, 2)\n",
      "[[2.25437778e+00 1.40323583e+05]\n",
      " [2.09185867e+00 2.28707902e+07]]\n"
     ]
    }
   ],
   "source": [
    "cluster_centers = km_cluster.cluster_centers_\n",
    "print('클러스터 형태: ', cluster_centers.shape)\n",
    "print(cluster_centers)"
   ]
  },
  {
   "cell_type": "markdown",
   "metadata": {},
   "source": [
    "### judge 컬럼 확인"
   ]
  },
  {
   "cell_type": "code",
   "execution_count": 63,
   "metadata": {},
   "outputs": [
    {
     "name": "stdout",
     "output_type": "stream",
     "text": [
      "cluster_label = 0:\n",
      " judge\n",
      "1    520888\n",
      "0    203908\n",
      "Name: count, dtype: int64\n",
      "\n",
      "cluster_label = 1:\n",
      " judge\n",
      "1    17834\n",
      "0     8685\n",
      "Name: count, dtype: int64\n"
     ]
    }
   ],
   "source": [
    "print('cluster_label = 0:\\n', products[products['cluster_label']==0]['judge'].value_counts())\n",
    "print()\n",
    "print('cluster_label = 1:\\n', products[products['cluster_label']==1]['judge'].value_counts())\n"
   ]
  },
  {
   "cell_type": "markdown",
   "metadata": {},
   "source": [
    "### 키워드 확인"
   ]
  },
  {
   "cell_type": "code",
   "execution_count": 81,
   "metadata": {},
   "outputs": [
    {
     "name": "stdout",
     "output_type": "stream",
     "text": [
      "KEYWORD\n",
      "The Ordinary                              3642\n",
      "mobile phone                              3491\n",
      "skin care                                 2394\n",
      "Chemical                                  2203\n",
      "Apple AirPods                             2147\n",
      "                                          ... \n",
      "Hand Gloves,Gloves,Syringes                  1\n",
      "Specialized S Works Venge                    1\n",
      "Bose-Lifestyle 650                           1\n",
      "HP Spectre X360                              1\n",
      "aicar,Acadesine,AICA-Riboside,ostarine       1\n",
      "Name: count, Length: 56348, dtype: int64\n"
     ]
    },
    {
     "data": {
      "text/plain": [
       "array(['copper cathode seller,Copper Ball seller,Copper Pyramid Seller,Copper Nugget Seller',\n",
       "       'copper cathode seller,Copper Ball seller,Copper Pyramid Seller,Copper Nugget Seller',\n",
       "       'aicar,Acadesine,AICA-Riboside,ostarine', ..., 'DL/T 706-1999',\n",
       "       'powder,white powder,Fat reduction,Chemical Raw Material',\n",
       "       'Chromatographic resin'], dtype=object)"
      ]
     },
     "execution_count": 81,
     "metadata": {},
     "output_type": "execute_result"
    }
   ],
   "source": [
    "print(products[(products['cluster_label']==0) & (products['judge'] ==0) ]['KEYWORD'].value_counts())\n",
    "products[(products['cluster_label']==0) & (products['judge'] ==0) ]['KEYWORD'].values[:30:-1]"
   ]
  },
  {
   "cell_type": "code",
   "execution_count": 82,
   "metadata": {},
   "outputs": [
    {
     "name": "stdout",
     "output_type": "stream",
     "text": [
      "KEYWORD\n",
      "Huggies                                                                             659\n",
      "Huggies Little Snugglers                                                            658\n",
      "Baby Diapers                                                                        501\n",
      "Pamperings Swaddlers Baby                                                           488\n",
      "Pampering Swaddlers Baby                                                            391\n",
      "                                                                                   ... \n",
      "Baby Diapers,Baby Diapers Scrap,Diapers in Bales,Diapers Bales,Used baby Diapers      1\n",
      "400 watt led grow                                                                     1\n",
      "50w grow light                                                                        1\n",
      "led tube grow                                                                         1\n",
      "LED street light                                                                      1\n",
      "Name: count, Length: 1013, dtype: int64\n"
     ]
    },
    {
     "data": {
      "text/plain": [
       "array(['LED street light',\n",
       "       'High Bay Lighting,Linear High Bay Lighting,50w Led Light',\n",
       "       '200w LED Linear Highbay Light,LED Linear Highbay Light,200w LED Linear Highbay Light',\n",
       "       ..., 'Pampering Sensitive Water', 'Huggies Little Snugglers',\n",
       "       'Huggies Little Snugglers'], dtype=object)"
      ]
     },
     "execution_count": 82,
     "metadata": {},
     "output_type": "execute_result"
    }
   ],
   "source": [
    "print(products[(products['cluster_label']==1) & (products['judge'] ==0) ]['KEYWORD'].value_counts())\n",
    "products[(products['cluster_label']==1) & (products['judge'] ==0) ]['KEYWORD'].values[:30:-1]"
   ]
  },
  {
   "cell_type": "markdown",
   "metadata": {},
   "source": [
    "# 엘보우펑션 그리기"
   ]
  },
  {
   "cell_type": "code",
   "execution_count": 66,
   "metadata": {},
   "outputs": [
    {
     "name": "stderr",
     "output_type": "stream",
     "text": [
      "c:\\Users\\user\\AppData\\Local\\Programs\\Python\\Python312\\Lib\\site-packages\\sklearn\\cluster\\_kmeans.py:1416: FutureWarning: The default value of `n_init` will change from 10 to 'auto' in 1.4. Set the value of `n_init` explicitly to suppress the warning\n",
      "  super()._check_params_vs_input(X, default_n_init=10)\n",
      "c:\\Users\\user\\AppData\\Local\\Programs\\Python\\Python312\\Lib\\site-packages\\sklearn\\cluster\\_kmeans.py:1416: FutureWarning: The default value of `n_init` will change from 10 to 'auto' in 1.4. Set the value of `n_init` explicitly to suppress the warning\n",
      "  super()._check_params_vs_input(X, default_n_init=10)\n",
      "c:\\Users\\user\\AppData\\Local\\Programs\\Python\\Python312\\Lib\\site-packages\\sklearn\\cluster\\_kmeans.py:1416: FutureWarning: The default value of `n_init` will change from 10 to 'auto' in 1.4. Set the value of `n_init` explicitly to suppress the warning\n",
      "  super()._check_params_vs_input(X, default_n_init=10)\n",
      "c:\\Users\\user\\AppData\\Local\\Programs\\Python\\Python312\\Lib\\site-packages\\sklearn\\cluster\\_kmeans.py:1416: FutureWarning: The default value of `n_init` will change from 10 to 'auto' in 1.4. Set the value of `n_init` explicitly to suppress the warning\n",
      "  super()._check_params_vs_input(X, default_n_init=10)\n",
      "c:\\Users\\user\\AppData\\Local\\Programs\\Python\\Python312\\Lib\\site-packages\\sklearn\\cluster\\_kmeans.py:1416: FutureWarning: The default value of `n_init` will change from 10 to 'auto' in 1.4. Set the value of `n_init` explicitly to suppress the warning\n",
      "  super()._check_params_vs_input(X, default_n_init=10)\n",
      "c:\\Users\\user\\AppData\\Local\\Programs\\Python\\Python312\\Lib\\site-packages\\sklearn\\cluster\\_kmeans.py:1416: FutureWarning: The default value of `n_init` will change from 10 to 'auto' in 1.4. Set the value of `n_init` explicitly to suppress the warning\n",
      "  super()._check_params_vs_input(X, default_n_init=10)\n",
      "c:\\Users\\user\\AppData\\Local\\Programs\\Python\\Python312\\Lib\\site-packages\\sklearn\\cluster\\_kmeans.py:1416: FutureWarning: The default value of `n_init` will change from 10 to 'auto' in 1.4. Set the value of `n_init` explicitly to suppress the warning\n",
      "  super()._check_params_vs_input(X, default_n_init=10)\n",
      "c:\\Users\\user\\AppData\\Local\\Programs\\Python\\Python312\\Lib\\site-packages\\sklearn\\cluster\\_kmeans.py:1416: FutureWarning: The default value of `n_init` will change from 10 to 'auto' in 1.4. Set the value of `n_init` explicitly to suppress the warning\n",
      "  super()._check_params_vs_input(X, default_n_init=10)\n",
      "c:\\Users\\user\\AppData\\Local\\Programs\\Python\\Python312\\Lib\\site-packages\\sklearn\\cluster\\_kmeans.py:1416: FutureWarning: The default value of `n_init` will change from 10 to 'auto' in 1.4. Set the value of `n_init` explicitly to suppress the warning\n",
      "  super()._check_params_vs_input(X, default_n_init=10)\n"
     ]
    },
    {
     "data": {
      "image/png": "[encoded data removed]",
      "text/plain": [
       "<Figure size 640x480 with 1 Axes>"
      ]
     },
     "metadata": {},
     "output_type": "display_data"
    }
   ],
   "source": [
    "import matplotlib.pyplot as plt\n",
    "import seaborn as sns\n",
    "k_range = range(1,10)\n",
    "\n",
    "inertia_arr = []\n",
    "for k in k_range:\n",
    "    kmeans = KMeans(n_clusters=k, random_state= 10)\n",
    "    kmeans.fit(y) # 학습\n",
    "    inertia_arr.append(kmeans.inertia_)\n",
    "\n",
    "# Elbow function 그리기\n",
    "plt.plot(k_range, inertia_arr, marker = 'o')\n",
    "plt.xlabel('Number of Clusters')\n",
    "plt.ylabel('Inertia')\n",
    "plt.show()"
   ]
  },
  {
   "cell_type": "markdown",
   "metadata": {},
   "source": [
    "### 위에서 군집을 2개로 하였으니 3개로 진행"
   ]
  },
  {
   "cell_type": "code",
   "execution_count": 67,
   "metadata": {},
   "outputs": [
    {
     "name": "stderr",
     "output_type": "stream",
     "text": [
      "c:\\Users\\user\\AppData\\Local\\Programs\\Python\\Python312\\Lib\\site-packages\\sklearn\\cluster\\_kmeans.py:1416: FutureWarning: The default value of `n_init` will change from 10 to 'auto' in 1.4. Set the value of `n_init` explicitly to suppress the warning\n",
      "  super()._check_params_vs_input(X, default_n_init=10)\n"
     ]
    }
   ],
   "source": [
    "km_cluster = KMeans(n_clusters=3, random_state= 0)\n",
    "km_cluster.fit(y)\n",
    "cluster_label = km_cluster.labels_\n",
    "cluster_centers = km_cluster.cluster_centers_\n",
    "\n",
    "products['cluster_label'] = cluster_label"
   ]
  },
  {
   "cell_type": "code",
   "execution_count": 68,
   "metadata": {},
   "outputs": [
    {
     "data": {
      "text/plain": [
       "cluster_label\n",
       "0    724796\n",
       "1     23608\n",
       "2      2911\n",
       "Name: count, dtype: int64"
      ]
     },
     "execution_count": 68,
     "metadata": {},
     "output_type": "execute_result"
    }
   ],
   "source": [
    "products['cluster_label'].value_counts()"
   ]
  },
  {
   "cell_type": "code",
   "execution_count": 69,
   "metadata": {},
   "outputs": [
    {
     "name": "stdout",
     "output_type": "stream",
     "text": [
      "cluster_label = 0:\n",
      " judge\n",
      "1    520888\n",
      "0    203908\n",
      "Name: count, dtype: int64\n",
      "\n",
      "cluster_label = 1:\n",
      " judge\n",
      "1    15257\n",
      "0     8351\n",
      "Name: count, dtype: int64\n",
      "\n",
      "cluster_label = 2:\n",
      " judge\n",
      "1    2577\n",
      "0     334\n",
      "Name: count, dtype: int64\n"
     ]
    }
   ],
   "source": [
    "print('cluster_label = 0:\\n', products[products['cluster_label']==0]['judge'].value_counts())\n",
    "print()\n",
    "print('cluster_label = 1:\\n', products[products['cluster_label']==1]['judge'].value_counts())\n",
    "print()\n",
    "print('cluster_label = 2:\\n', products[products['cluster_label']==2]['judge'].value_counts())"
   ]
  },
  {
   "cell_type": "markdown",
   "metadata": {},
   "source": [
    "### 결과\n",
    "- 예상외로 군집이 잘 되어보임"
   ]
  },
  {
   "cell_type": "code",
   "execution_count": 77,
   "metadata": {},
   "outputs": [
    {
     "name": "stdout",
     "output_type": "stream",
     "text": [
      "KEYWORD\n",
      "The Ordinary                              3642\n",
      "mobile phone                              3491\n",
      "skin care                                 2394\n",
      "Chemical                                  2203\n",
      "Apple AirPods                             2147\n",
      "                                          ... \n",
      "Hand Gloves,Gloves,Syringes                  1\n",
      "Specialized S Works Venge                    1\n",
      "Bose-Lifestyle 650                           1\n",
      "HP Spectre X360                              1\n",
      "aicar,Acadesine,AICA-Riboside,ostarine       1\n",
      "Name: count, Length: 56348, dtype: int64\n"
     ]
    },
    {
     "data": {
      "text/plain": [
       "array(['1-BOC-4- 4-BROMO-PHENYLAM', 'N- tert-Butoxycarbonyl -4',\n",
       "       '1-BOC-4- 4-FLUORO-PHENYLA', 'N-Isopropylbenzylamine',\n",
       "       'Soybean soybean gmo',\n",
       "       'neuramis,dermal filler,medytox,neuramis filler',\n",
       "       'botulax,hugel,clostridium botulinum,toxin type A,botulax 100unit',\n",
       "       'nabota,wrinkle improvement,medytox,nabota 100unit',\n",
       "       'innotox,botulinum toxin,wrinkle improvement,clostridium type a,innotox 100unit',\n",
       "       'coretox,meditoxin,innotox,botulax', 'BMK methyl glycidate',\n",
       "       'Ethyl 2-phenylacetoacetat',\n",
       "       'Most Popular Products F-lakka A-/PVP',\n",
       "       'TopTiTech Customized,Nickel Fiber Felt,High Porosity Metal',\n",
       "       'Crazy Product 119276-01-6 ', 'Bromazolam',\n",
       "       'Latest Batch 2647-50-9\\t  Flubromazepam', 'BMK',\n",
       "       'modified starch,Cationic Starch,Oxidized Starch',\n",
       "       'ESP32 Display Module', 'Odorless Paint Thinner',\n",
       "       'Tianeptine Sodium Salt 30123-17-2', 'U-Channel Sign Post',\n",
       "       'U Channel Sign Post', 'U-Channel Steel Sign Post',\n",
       "       'U Channel Sign Posts', '2-Phenylbenzimidazole-5-s',\n",
       "       'ribbed belt,poly v belt,pk belt,fan belt,rib belt',\n",
       "       'rib belt,fan belt,ribbed belt,poly v belt,pk belt',\n",
       "       'ribbed belt,poly v belt,fan belt'], dtype=object)"
      ]
     },
     "execution_count": 77,
     "metadata": {},
     "output_type": "execute_result"
    }
   ],
   "source": [
    "print(products[(products['cluster_label']==0) & (products['judge'] ==0) ]['KEYWORD'].value_counts())\n",
    "products[(products['cluster_label']==0) & (products['judge'] ==0) ]['KEYWORD'].values[:30]"
   ]
  },
  {
   "cell_type": "code",
   "execution_count": 76,
   "metadata": {},
   "outputs": [
    {
     "name": "stdout",
     "output_type": "stream",
     "text": [
      "KEYWORD\n",
      "Huggies                                                                             659\n",
      "Huggies Little Snugglers                                                            658\n",
      "Baby Diapers                                                                        501\n",
      "Pamperings Swaddlers Baby                                                           488\n",
      "Pampering Swaddlers Baby                                                            391\n",
      "                                                                                   ... \n",
      "Baby Diapers,Baby Diapers Scrap,Diapers in Bales,Diapers Bales,Used baby Diapers      1\n",
      "400 watt led grow                                                                     1\n",
      "50w grow light                                                                        1\n",
      "led tube grow                                                                         1\n",
      "LED street light                                                                      1\n",
      "Name: count, Length: 1013, dtype: int64\n"
     ]
    },
    {
     "data": {
      "text/plain": [
       "array(['Pampering Baby Diapering', 'Huggies Little Snugglers',\n",
       "       'Huggies Little Snugglers', 'Pampering Baby Swaddlers',\n",
       "       'Pampering Baby Dry', 'Pampering Baby Diapering',\n",
       "       'Pampering Baby Diapering-', 'Pampering Baby', 'Baby diapers',\n",
       "       'Huggies Little Snuggler', 'Huggies Baby Little Mover',\n",
       "       'Pamperings', 'Pamperings-Swaddlers-Baby', 'Huggies Snug & Dry',\n",
       "       'Pampering Swaddlers Baby', 'Pampering Baby Diapering',\n",
       "       'Pampering Baby', 'Huggies Little Movers',\n",
       "       'Pampering Swaddlers Baby', 'Pamperings', 'Huggies', 'Huggies',\n",
       "       'Huggies', 'Huggies', 'Pampering Baby', 'Pampering Baby Diapering',\n",
       "       'pampering', 'pamperings', 'pamperings',\n",
       "       'Huggies Little Snugglers'], dtype=object)"
      ]
     },
     "execution_count": 76,
     "metadata": {},
     "output_type": "execute_result"
    }
   ],
   "source": [
    "print(products[(products['cluster_label']==1) & (products['judge'] ==0) ]['KEYWORD'].value_counts())\n",
    "products[(products['cluster_label']==1) & (products['judge'] ==0) ]['KEYWORD'].values[:30]"
   ]
  },
  {
   "cell_type": "code",
   "execution_count": 84,
   "metadata": {},
   "outputs": [
    {
     "name": "stdout",
     "output_type": "stream",
     "text": [
      "KEYWORD\n",
      "Gold bars                                                                                                                                                   53\n",
      "Gold                                                                                                                                                        25\n",
      "Blue Diamond Seller,Brown Diamond Seller,Pink Diamond Seller,Red Diamond Seller,Purple Diamond Seller,Grey Diamond Seler,Colourless/White Diamond Seller    17\n",
      "Aquamarine seller,Ruby Seller,Zircon,Emerald Seller,Kunzite Seller,Peridot,Tanzanite seller,Rubellite Seller,Sapphire Seller,Imperial Topaz Seller          11\n",
      "Gold seller,Gold Bar seller,Gold Nugget Seller                                                                                                               9\n",
      "                                                                                                                                                            ..\n",
      "inline Skate Roller blades                                                                                                                                   1\n",
      "Gold Kada Set,Designer Kada,Antique Rubi Kada,Antique Gold Kada,Hallmarked Gold Kada                                                                         1\n",
      "Diamond,Precious Stones                                                                                                                                      1\n",
      "jindian                                                                                                                                                      1\n",
      "Blue Diamond Seller,Brown Diamond Seller,Gold Bar seller,Purple Diamond Seller,Grey Diamond Seler,Colourless/White Diamond Seller                            1\n",
      "Name: count, Length: 176, dtype: int64\n"
     ]
    },
    {
     "data": {
      "text/plain": [
       "array(['CCM Ice Hockey Skates,Ice Hockey Skates,Hockey Skate,Roller Hockey Skate,Inline Hockey Skate',\n",
       "       'Bauer Ice Hockey Skates,Ice Hockey Skates,Hockey Skates,Roller Hockey Skate,Inline Hockey Skate',\n",
       "       'CCM Ice Hockey Skates,Bauer Ice Hockey Skates,Roller Hockey Skates,Ice Hockey Skates,Hockey Skates',\n",
       "       'Seething-42-Inch-Longboar', 'Original-Appls-Watch-Seri',\n",
       "       'Original-Appls-Watch-Seri', 'Original-Appls-Watch-Seri',\n",
       "       'gold bars nuggets dust', 'Seething-42-Inch-Longboar',\n",
       "       'Seething-42-Inch-Longboar', 'Seething-42-Inch-Longboar',\n",
       "       'cooking oil', 'Wrist Watch Series',\n",
       "       'Finest 22 karat,quality 24 karat,karat 24 karat,Buy fine quality,top quality 24 karat',\n",
       "       'piercing earrings', 'Roller Skates', 'neckless',\n",
       "       'purevision contact lens', 'freshlook contact lens',\n",
       "       'Air Optix Contact Lens', 'Soflen 59 Eye Wear',\n",
       "       'pureview contact lens', 'Precious Stone,Gold',\n",
       "       'Precious Stone,Gold', 'Copper', 'Gold', 'Gold Bars',\n",
       "       'Gold Nuggets', 'Rough uncut diamonds', 'Fitbit Versa'],\n",
       "      dtype=object)"
      ]
     },
     "execution_count": 84,
     "metadata": {},
     "output_type": "execute_result"
    }
   ],
   "source": [
    "print(products[(products['cluster_label']==2) & (products['judge'] ==0) ]['KEYWORD'].value_counts())\n",
    "products[(products['cluster_label']==2) & (products['judge'] ==0) ]['KEYWORD'].values[:30]"
   ]
  }
 ],
 "metadata": {
  "kernelspec": {
   "display_name": "Python 3",
   "language": "python",
   "name": "python3"
  },
  "language_info": {
   "codemirror_mode": {
    "name": "ipython",
    "version": 3
   },
   "file_extension": ".py",
   "mimetype": "text/x-python",
   "name": "python",
   "nbconvert_exporter": "python",
   "pygments_lexer": "ipython3",
   "version": "3.12.0"
  }
 },
 "nbformat": 4,
 "nbformat_minor": 2
}
