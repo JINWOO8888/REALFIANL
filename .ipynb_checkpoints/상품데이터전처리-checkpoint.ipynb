{
 "cells": [
  {
   "cell_type": "code",
   "execution_count": 38,
   "metadata": {},
   "outputs": [],
   "source": [
    "import pandas as pd \n",
    "\n",
    "Weird_products = pd.read_csv('./dataset/이상상품_V2.csv')\n",
    "Normal_products = pd.read_csv('./dataset/정상상품_V2.csv')"
   ]
  },
  {
   "cell_type": "code",
   "execution_count": 39,
   "metadata": {},
   "outputs": [
    {
     "name": "stdout",
     "output_type": "stream",
     "text": [
      "(212593, 12) (538722, 12)\n"
     ]
    }
   ],
   "source": [
    "print(Weird_products.shape, Normal_products.shape)"
   ]
  },
  {
   "cell_type": "markdown",
   "metadata": {},
   "source": [
    "# 데이터 전처리 1"
   ]
  },
  {
   "cell_type": "markdown",
   "metadata": {},
   "source": [
    "## judge컬럼 \n",
    "- Weird : 0\n",
    "- Normal : 1"
   ]
  },
  {
   "cell_type": "code",
   "execution_count": 40,
   "metadata": {},
   "outputs": [],
   "source": [
    "Weird_products['judge'] = 0\n",
    "Normal_products['judge'] = 1"
   ]
  },
  {
   "cell_type": "code",
   "execution_count": 41,
   "metadata": {},
   "outputs": [
    {
     "data": {
      "text/html": [
       "<div>\n",
       "<style scoped>\n",
       "    .dataframe tbody tr th:only-of-type {\n",
       "        vertical-align: middle;\n",
       "    }\n",
       "\n",
       "    .dataframe tbody tr th {\n",
       "        vertical-align: top;\n",
       "    }\n",
       "\n",
       "    .dataframe thead th {\n",
       "        text-align: right;\n",
       "    }\n",
       "</style>\n",
       "<table border=\"1\" class=\"dataframe\">\n",
       "  <thead>\n",
       "    <tr style=\"text-align: right;\">\n",
       "      <th></th>\n",
       "      <th>MEMBER_ID</th>\n",
       "      <th>GCATALOG_ID</th>\n",
       "      <th>CATALOG_ID</th>\n",
       "      <th>CATALOG_NM</th>\n",
       "      <th>CATEGORYM_ID</th>\n",
       "      <th>KEYWORD</th>\n",
       "      <th>DISPLAY</th>\n",
       "      <th>CATALOG_DESC</th>\n",
       "      <th>INPUT_DT</th>\n",
       "      <th>UPDATE_DT</th>\n",
       "      <th>REMOTEIP</th>\n",
       "      <th>SHOW_CHK</th>\n",
       "      <th>judge</th>\n",
       "    </tr>\n",
       "  </thead>\n",
       "  <tbody>\n",
       "    <tr>\n",
       "      <th>0</th>\n",
       "      <td>shangyuanshibang</td>\n",
       "      <td>GC11736713</td>\n",
       "      <td>CA11736718</td>\n",
       "      <td>1-BOC-4-(4-BROMO-PHENYLAMINO)-PIPERIDINECas 44...</td>\n",
       "      <td>212815</td>\n",
       "      <td>1-BOC-4- 4-BROMO-PHENYLAM</td>\n",
       "      <td>Y</td>\n",
       "      <td>1. 名称和标识符1.1 名称1-叔丁氧羰基-4-（4-溴苯基氨基）哌啶1.2 同义词1-哌...</td>\n",
       "      <td>20230228100427</td>\n",
       "      <td>20230228100427</td>\n",
       "      <td>219.78.227.175</td>\n",
       "      <td>R</td>\n",
       "      <td>0</td>\n",
       "    </tr>\n",
       "    <tr>\n",
       "      <th>1</th>\n",
       "      <td>shangyuanshibang</td>\n",
       "      <td>GC11736706</td>\n",
       "      <td>CA11736712</td>\n",
       "      <td>High Purity N- (Tert-Butoxycarbonyl) -4-Piperi...</td>\n",
       "      <td>212815</td>\n",
       "      <td>N- tert-Butoxycarbonyl -4</td>\n",
       "      <td>Y</td>\n",
       "      <td>1. 名称和标识符1.1 名称N-叔丁氧羰基-4-哌啶酮1.2 同义词1-叔丁氧羰基-4-哌...</td>\n",
       "      <td>20230228094237</td>\n",
       "      <td>20230228094237</td>\n",
       "      <td>42.3.79.92</td>\n",
       "      <td>R</td>\n",
       "      <td>0</td>\n",
       "    </tr>\n",
       "  </tbody>\n",
       "</table>\n",
       "</div>"
      ],
      "text/plain": [
       "          MEMBER_ID GCATALOG_ID  CATALOG_ID  \\\n",
       "0  shangyuanshibang  GC11736713  CA11736718   \n",
       "1  shangyuanshibang  GC11736706  CA11736712   \n",
       "\n",
       "                                          CATALOG_NM  CATEGORYM_ID  \\\n",
       "0  1-BOC-4-(4-BROMO-PHENYLAMINO)-PIPERIDINECas 44...        212815   \n",
       "1  High Purity N- (Tert-Butoxycarbonyl) -4-Piperi...        212815   \n",
       "\n",
       "                     KEYWORD DISPLAY  \\\n",
       "0  1-BOC-4- 4-BROMO-PHENYLAM       Y   \n",
       "1  N- tert-Butoxycarbonyl -4       Y   \n",
       "\n",
       "                                        CATALOG_DESC        INPUT_DT  \\\n",
       "0  1. 名称和标识符1.1 名称1-叔丁氧羰基-4-（4-溴苯基氨基）哌啶1.2 同义词1-哌...  20230228100427   \n",
       "1  1. 名称和标识符1.1 名称N-叔丁氧羰基-4-哌啶酮1.2 同义词1-叔丁氧羰基-4-哌...  20230228094237   \n",
       "\n",
       "        UPDATE_DT        REMOTEIP SHOW_CHK  judge  \n",
       "0  20230228100427  219.78.227.175        R      0  \n",
       "1  20230228094237      42.3.79.92        R      0  "
      ]
     },
     "execution_count": 41,
     "metadata": {},
     "output_type": "execute_result"
    }
   ],
   "source": [
    "Weird_products.head(2)"
   ]
  },
  {
   "cell_type": "markdown",
   "metadata": {},
   "source": [
    "## concat"
   ]
  },
  {
   "cell_type": "code",
   "execution_count": 42,
   "metadata": {},
   "outputs": [],
   "source": [
    "Products = pd.concat([Weird_products,Normal_products],ignore_index=True)"
   ]
  },
  {
   "cell_type": "code",
   "execution_count": 43,
   "metadata": {},
   "outputs": [
    {
     "name": "stdout",
     "output_type": "stream",
     "text": [
      "(751315, 13)\n"
     ]
    },
    {
     "data": {
      "text/html": [
       "<div>\n",
       "<style scoped>\n",
       "    .dataframe tbody tr th:only-of-type {\n",
       "        vertical-align: middle;\n",
       "    }\n",
       "\n",
       "    .dataframe tbody tr th {\n",
       "        vertical-align: top;\n",
       "    }\n",
       "\n",
       "    .dataframe thead th {\n",
       "        text-align: right;\n",
       "    }\n",
       "</style>\n",
       "<table border=\"1\" class=\"dataframe\">\n",
       "  <thead>\n",
       "    <tr style=\"text-align: right;\">\n",
       "      <th></th>\n",
       "      <th>MEMBER_ID</th>\n",
       "      <th>GCATALOG_ID</th>\n",
       "      <th>CATALOG_ID</th>\n",
       "      <th>CATALOG_NM</th>\n",
       "      <th>CATEGORYM_ID</th>\n",
       "      <th>KEYWORD</th>\n",
       "      <th>DISPLAY</th>\n",
       "      <th>CATALOG_DESC</th>\n",
       "      <th>INPUT_DT</th>\n",
       "      <th>UPDATE_DT</th>\n",
       "      <th>REMOTEIP</th>\n",
       "      <th>SHOW_CHK</th>\n",
       "      <th>judge</th>\n",
       "    </tr>\n",
       "  </thead>\n",
       "  <tbody>\n",
       "    <tr>\n",
       "      <th>0</th>\n",
       "      <td>shangyuanshibang</td>\n",
       "      <td>GC11736713</td>\n",
       "      <td>CA11736718</td>\n",
       "      <td>1-BOC-4-(4-BROMO-PHENYLAMINO)-PIPERIDINECas 44...</td>\n",
       "      <td>212815</td>\n",
       "      <td>1-BOC-4- 4-BROMO-PHENYLAM</td>\n",
       "      <td>Y</td>\n",
       "      <td>1. 名称和标识符1.1 名称1-叔丁氧羰基-4-（4-溴苯基氨基）哌啶1.2 同义词1-哌...</td>\n",
       "      <td>20230228100427</td>\n",
       "      <td>20230228100427</td>\n",
       "      <td>219.78.227.175</td>\n",
       "      <td>R</td>\n",
       "      <td>0</td>\n",
       "    </tr>\n",
       "    <tr>\n",
       "      <th>1</th>\n",
       "      <td>shangyuanshibang</td>\n",
       "      <td>GC11736706</td>\n",
       "      <td>CA11736712</td>\n",
       "      <td>High Purity N- (Tert-Butoxycarbonyl) -4-Piperi...</td>\n",
       "      <td>212815</td>\n",
       "      <td>N- tert-Butoxycarbonyl -4</td>\n",
       "      <td>Y</td>\n",
       "      <td>1. 名称和标识符1.1 名称N-叔丁氧羰基-4-哌啶酮1.2 同义词1-叔丁氧羰基-4-哌...</td>\n",
       "      <td>20230228094237</td>\n",
       "      <td>20230228094237</td>\n",
       "      <td>42.3.79.92</td>\n",
       "      <td>R</td>\n",
       "      <td>0</td>\n",
       "    </tr>\n",
       "  </tbody>\n",
       "</table>\n",
       "</div>"
      ],
      "text/plain": [
       "          MEMBER_ID GCATALOG_ID  CATALOG_ID  \\\n",
       "0  shangyuanshibang  GC11736713  CA11736718   \n",
       "1  shangyuanshibang  GC11736706  CA11736712   \n",
       "\n",
       "                                          CATALOG_NM  CATEGORYM_ID  \\\n",
       "0  1-BOC-4-(4-BROMO-PHENYLAMINO)-PIPERIDINECas 44...        212815   \n",
       "1  High Purity N- (Tert-Butoxycarbonyl) -4-Piperi...        212815   \n",
       "\n",
       "                     KEYWORD DISPLAY  \\\n",
       "0  1-BOC-4- 4-BROMO-PHENYLAM       Y   \n",
       "1  N- tert-Butoxycarbonyl -4       Y   \n",
       "\n",
       "                                        CATALOG_DESC        INPUT_DT  \\\n",
       "0  1. 名称和标识符1.1 名称1-叔丁氧羰基-4-（4-溴苯基氨基）哌啶1.2 同义词1-哌...  20230228100427   \n",
       "1  1. 名称和标识符1.1 名称N-叔丁氧羰基-4-哌啶酮1.2 同义词1-叔丁氧羰基-4-哌...  20230228094237   \n",
       "\n",
       "        UPDATE_DT        REMOTEIP SHOW_CHK  judge  \n",
       "0  20230228100427  219.78.227.175        R      0  \n",
       "1  20230228094237      42.3.79.92        R      0  "
      ]
     },
     "metadata": {},
     "output_type": "display_data"
    }
   ],
   "source": [
    "print(Products.shape)\n",
    "display(Products.head(2))"
   ]
  },
  {
   "cell_type": "code",
   "execution_count": 44,
   "metadata": {},
   "outputs": [],
   "source": [
    "Products.drop(['GCATALOG_ID','CATALOG_ID'],axis=1,inplace=True)"
   ]
  },
  {
   "cell_type": "code",
   "execution_count": 45,
   "metadata": {},
   "outputs": [
    {
     "name": "stdout",
     "output_type": "stream",
     "text": [
      "(751315, 11)\n"
     ]
    },
    {
     "data": {
      "text/html": [
       "<div>\n",
       "<style scoped>\n",
       "    .dataframe tbody tr th:only-of-type {\n",
       "        vertical-align: middle;\n",
       "    }\n",
       "\n",
       "    .dataframe tbody tr th {\n",
       "        vertical-align: top;\n",
       "    }\n",
       "\n",
       "    .dataframe thead th {\n",
       "        text-align: right;\n",
       "    }\n",
       "</style>\n",
       "<table border=\"1\" class=\"dataframe\">\n",
       "  <thead>\n",
       "    <tr style=\"text-align: right;\">\n",
       "      <th></th>\n",
       "      <th>MEMBER_ID</th>\n",
       "      <th>CATALOG_NM</th>\n",
       "      <th>CATEGORYM_ID</th>\n",
       "      <th>KEYWORD</th>\n",
       "      <th>DISPLAY</th>\n",
       "      <th>CATALOG_DESC</th>\n",
       "      <th>INPUT_DT</th>\n",
       "      <th>UPDATE_DT</th>\n",
       "      <th>REMOTEIP</th>\n",
       "      <th>SHOW_CHK</th>\n",
       "      <th>judge</th>\n",
       "    </tr>\n",
       "  </thead>\n",
       "  <tbody>\n",
       "    <tr>\n",
       "      <th>0</th>\n",
       "      <td>shangyuanshibang</td>\n",
       "      <td>1-BOC-4-(4-BROMO-PHENYLAMINO)-PIPERIDINECas 44...</td>\n",
       "      <td>212815</td>\n",
       "      <td>1-BOC-4- 4-BROMO-PHENYLAM</td>\n",
       "      <td>Y</td>\n",
       "      <td>1. 名称和标识符1.1 名称1-叔丁氧羰基-4-（4-溴苯基氨基）哌啶1.2 同义词1-哌...</td>\n",
       "      <td>20230228100427</td>\n",
       "      <td>20230228100427</td>\n",
       "      <td>219.78.227.175</td>\n",
       "      <td>R</td>\n",
       "      <td>0</td>\n",
       "    </tr>\n",
       "    <tr>\n",
       "      <th>1</th>\n",
       "      <td>shangyuanshibang</td>\n",
       "      <td>High Purity N- (Tert-Butoxycarbonyl) -4-Piperi...</td>\n",
       "      <td>212815</td>\n",
       "      <td>N- tert-Butoxycarbonyl -4</td>\n",
       "      <td>Y</td>\n",
       "      <td>1. 名称和标识符1.1 名称N-叔丁氧羰基-4-哌啶酮1.2 同义词1-叔丁氧羰基-4-哌...</td>\n",
       "      <td>20230228094237</td>\n",
       "      <td>20230228094237</td>\n",
       "      <td>42.3.79.92</td>\n",
       "      <td>R</td>\n",
       "      <td>0</td>\n",
       "    </tr>\n",
       "  </tbody>\n",
       "</table>\n",
       "</div>"
      ],
      "text/plain": [
       "          MEMBER_ID                                         CATALOG_NM  \\\n",
       "0  shangyuanshibang  1-BOC-4-(4-BROMO-PHENYLAMINO)-PIPERIDINECas 44...   \n",
       "1  shangyuanshibang  High Purity N- (Tert-Butoxycarbonyl) -4-Piperi...   \n",
       "\n",
       "   CATEGORYM_ID                    KEYWORD DISPLAY  \\\n",
       "0        212815  1-BOC-4- 4-BROMO-PHENYLAM       Y   \n",
       "1        212815  N- tert-Butoxycarbonyl -4       Y   \n",
       "\n",
       "                                        CATALOG_DESC        INPUT_DT  \\\n",
       "0  1. 名称和标识符1.1 名称1-叔丁氧羰基-4-（4-溴苯基氨基）哌啶1.2 同义词1-哌...  20230228100427   \n",
       "1  1. 名称和标识符1.1 名称N-叔丁氧羰基-4-哌啶酮1.2 同义词1-叔丁氧羰基-4-哌...  20230228094237   \n",
       "\n",
       "        UPDATE_DT        REMOTEIP SHOW_CHK  judge  \n",
       "0  20230228100427  219.78.227.175        R      0  \n",
       "1  20230228094237      42.3.79.92        R      0  "
      ]
     },
     "execution_count": 45,
     "metadata": {},
     "output_type": "execute_result"
    }
   ],
   "source": [
    "print(Products.shape)\n",
    "Products.head(2)"
   ]
  },
  {
   "cell_type": "markdown",
   "metadata": {},
   "source": [
    "## KEYWORD \n",
    "- 결측치 CATALOG_NM로 변경"
   ]
  },
  {
   "cell_type": "code",
   "execution_count": 50,
   "metadata": {},
   "outputs": [
    {
     "data": {
      "text/html": [
       "<div>\n",
       "<style scoped>\n",
       "    .dataframe tbody tr th:only-of-type {\n",
       "        vertical-align: middle;\n",
       "    }\n",
       "\n",
       "    .dataframe tbody tr th {\n",
       "        vertical-align: top;\n",
       "    }\n",
       "\n",
       "    .dataframe thead th {\n",
       "        text-align: right;\n",
       "    }\n",
       "</style>\n",
       "<table border=\"1\" class=\"dataframe\">\n",
       "  <thead>\n",
       "    <tr style=\"text-align: right;\">\n",
       "      <th></th>\n",
       "      <th>MEMBER_ID</th>\n",
       "      <th>CATALOG_NM</th>\n",
       "      <th>CATEGORYM_ID</th>\n",
       "      <th>KEYWORD</th>\n",
       "      <th>DISPLAY</th>\n",
       "      <th>CATALOG_DESC</th>\n",
       "      <th>INPUT_DT</th>\n",
       "      <th>UPDATE_DT</th>\n",
       "      <th>REMOTEIP</th>\n",
       "      <th>SHOW_CHK</th>\n",
       "      <th>judge</th>\n",
       "    </tr>\n",
       "  </thead>\n",
       "  <tbody>\n",
       "    <tr>\n",
       "      <th>14</th>\n",
       "      <td>130726199612101323</td>\n",
       "      <td>Most Popular Products F-lakka A-/PVP</td>\n",
       "      <td>212815</td>\n",
       "      <td>NaN</td>\n",
       "      <td>Y</td>\n",
       "      <td>288573-56-8 tert-butyl 4-(4-fluoroanilino)pipe...</td>\n",
       "      <td>20230227165413</td>\n",
       "      <td>20230227165413</td>\n",
       "      <td>106.114.169.0</td>\n",
       "      <td>R</td>\n",
       "      <td>0</td>\n",
       "    </tr>\n",
       "    <tr>\n",
       "      <th>16</th>\n",
       "      <td>130726199612101323</td>\n",
       "      <td>Crazy Product 119276-01-6</td>\n",
       "      <td>212815</td>\n",
       "      <td>NaN</td>\n",
       "      <td>Y</td>\n",
       "      <td>288573-56-8 tert-butyl 4-(4-fluoroanilino)pipe...</td>\n",
       "      <td>20230227164104</td>\n",
       "      <td>20230227164104</td>\n",
       "      <td>106.114.169.0</td>\n",
       "      <td>R</td>\n",
       "      <td>0</td>\n",
       "    </tr>\n",
       "  </tbody>\n",
       "</table>\n",
       "</div>"
      ],
      "text/plain": [
       "             MEMBER_ID                            CATALOG_NM  CATEGORYM_ID  \\\n",
       "14  130726199612101323  Most Popular Products F-lakka A-/PVP        212815   \n",
       "16  130726199612101323            Crazy Product 119276-01-6         212815   \n",
       "\n",
       "   KEYWORD DISPLAY                                       CATALOG_DESC  \\\n",
       "14     NaN       Y  288573-56-8 tert-butyl 4-(4-fluoroanilino)pipe...   \n",
       "16     NaN       Y  288573-56-8 tert-butyl 4-(4-fluoroanilino)pipe...   \n",
       "\n",
       "          INPUT_DT       UPDATE_DT       REMOTEIP SHOW_CHK  judge  \n",
       "14  20230227165413  20230227165413  106.114.169.0        R      0  \n",
       "16  20230227164104  20230227164104  106.114.169.0        R      0  "
      ]
     },
     "execution_count": 50,
     "metadata": {},
     "output_type": "execute_result"
    }
   ],
   "source": [
    "Products[Products['KEYWORD'].isna()].head(2)"
   ]
  },
  {
   "cell_type": "code",
   "execution_count": 51,
   "metadata": {},
   "outputs": [],
   "source": [
    "Products['KEYWORD']=Products['KEYWORD'].fillna(Products['CATALOG_NM'])"
   ]
  },
  {
   "cell_type": "code",
   "execution_count": 52,
   "metadata": {},
   "outputs": [
    {
     "data": {
      "text/html": [
       "<div>\n",
       "<style scoped>\n",
       "    .dataframe tbody tr th:only-of-type {\n",
       "        vertical-align: middle;\n",
       "    }\n",
       "\n",
       "    .dataframe tbody tr th {\n",
       "        vertical-align: top;\n",
       "    }\n",
       "\n",
       "    .dataframe thead th {\n",
       "        text-align: right;\n",
       "    }\n",
       "</style>\n",
       "<table border=\"1\" class=\"dataframe\">\n",
       "  <thead>\n",
       "    <tr style=\"text-align: right;\">\n",
       "      <th></th>\n",
       "      <th>MEMBER_ID</th>\n",
       "      <th>CATALOG_NM</th>\n",
       "      <th>CATEGORYM_ID</th>\n",
       "      <th>KEYWORD</th>\n",
       "      <th>DISPLAY</th>\n",
       "      <th>CATALOG_DESC</th>\n",
       "      <th>INPUT_DT</th>\n",
       "      <th>UPDATE_DT</th>\n",
       "      <th>REMOTEIP</th>\n",
       "      <th>SHOW_CHK</th>\n",
       "      <th>judge</th>\n",
       "    </tr>\n",
       "  </thead>\n",
       "  <tbody>\n",
       "    <tr>\n",
       "      <th>14</th>\n",
       "      <td>130726199612101323</td>\n",
       "      <td>Most Popular Products F-lakka A-/PVP</td>\n",
       "      <td>212815</td>\n",
       "      <td>Most Popular Products F-lakka A-/PVP</td>\n",
       "      <td>Y</td>\n",
       "      <td>288573-56-8 tert-butyl 4-(4-fluoroanilino)pipe...</td>\n",
       "      <td>20230227165413</td>\n",
       "      <td>20230227165413</td>\n",
       "      <td>106.114.169.0</td>\n",
       "      <td>R</td>\n",
       "      <td>0</td>\n",
       "    </tr>\n",
       "    <tr>\n",
       "      <th>16</th>\n",
       "      <td>130726199612101323</td>\n",
       "      <td>Crazy Product 119276-01-6</td>\n",
       "      <td>212815</td>\n",
       "      <td>Crazy Product 119276-01-6</td>\n",
       "      <td>Y</td>\n",
       "      <td>288573-56-8 tert-butyl 4-(4-fluoroanilino)pipe...</td>\n",
       "      <td>20230227164104</td>\n",
       "      <td>20230227164104</td>\n",
       "      <td>106.114.169.0</td>\n",
       "      <td>R</td>\n",
       "      <td>0</td>\n",
       "    </tr>\n",
       "  </tbody>\n",
       "</table>\n",
       "</div>"
      ],
      "text/plain": [
       "             MEMBER_ID                            CATALOG_NM  CATEGORYM_ID  \\\n",
       "14  130726199612101323  Most Popular Products F-lakka A-/PVP        212815   \n",
       "16  130726199612101323            Crazy Product 119276-01-6         212815   \n",
       "\n",
       "                                 KEYWORD DISPLAY  \\\n",
       "14  Most Popular Products F-lakka A-/PVP       Y   \n",
       "16            Crazy Product 119276-01-6        Y   \n",
       "\n",
       "                                         CATALOG_DESC        INPUT_DT  \\\n",
       "14  288573-56-8 tert-butyl 4-(4-fluoroanilino)pipe...  20230227165413   \n",
       "16  288573-56-8 tert-butyl 4-(4-fluoroanilino)pipe...  20230227164104   \n",
       "\n",
       "         UPDATE_DT       REMOTEIP SHOW_CHK  judge  \n",
       "14  20230227165413  106.114.169.0        R      0  \n",
       "16  20230227164104  106.114.169.0        R      0  "
      ]
     },
     "execution_count": 52,
     "metadata": {},
     "output_type": "execute_result"
    }
   ],
   "source": [
    "Products.loc[[14,16],:]"
   ]
  },
  {
   "cell_type": "markdown",
   "metadata": {},
   "source": [
    "## CATALOG_DESC\n",
    "- 결측치 CATALOG_NM으로 대체"
   ]
  },
  {
   "cell_type": "code",
   "execution_count": 53,
   "metadata": {},
   "outputs": [
    {
     "data": {
      "text/html": [
       "<div>\n",
       "<style scoped>\n",
       "    .dataframe tbody tr th:only-of-type {\n",
       "        vertical-align: middle;\n",
       "    }\n",
       "\n",
       "    .dataframe tbody tr th {\n",
       "        vertical-align: top;\n",
       "    }\n",
       "\n",
       "    .dataframe thead th {\n",
       "        text-align: right;\n",
       "    }\n",
       "</style>\n",
       "<table border=\"1\" class=\"dataframe\">\n",
       "  <thead>\n",
       "    <tr style=\"text-align: right;\">\n",
       "      <th></th>\n",
       "      <th>MEMBER_ID</th>\n",
       "      <th>CATALOG_NM</th>\n",
       "      <th>CATEGORYM_ID</th>\n",
       "      <th>KEYWORD</th>\n",
       "      <th>DISPLAY</th>\n",
       "      <th>CATALOG_DESC</th>\n",
       "      <th>INPUT_DT</th>\n",
       "      <th>UPDATE_DT</th>\n",
       "      <th>REMOTEIP</th>\n",
       "      <th>SHOW_CHK</th>\n",
       "      <th>judge</th>\n",
       "    </tr>\n",
       "  </thead>\n",
       "  <tbody>\n",
       "    <tr>\n",
       "      <th>888</th>\n",
       "      <td>fireplaceempire</td>\n",
       "      <td>50inch Decoration Heating Touch Panel Control/...</td>\n",
       "      <td>231304</td>\n",
       "      <td>electric fireplace</td>\n",
       "      <td>N</td>\n",
       "      <td>NaN</td>\n",
       "      <td>20230222203530</td>\n",
       "      <td>20230222203530</td>\n",
       "      <td>154.12.245.108</td>\n",
       "      <td>R</td>\n",
       "      <td>0</td>\n",
       "    </tr>\n",
       "    <tr>\n",
       "      <th>25220</th>\n",
       "      <td>artang</td>\n",
       "      <td>Aisonic E Integrated Ultrasonic Open Channel F...</td>\n",
       "      <td>270501</td>\n",
       "      <td>Open Channel Flow Meter</td>\n",
       "      <td>N</td>\n",
       "      <td>NaN</td>\n",
       "      <td>20221125171129</td>\n",
       "      <td>20221125171953</td>\n",
       "      <td>165.154.235.82</td>\n",
       "      <td>R</td>\n",
       "      <td>0</td>\n",
       "    </tr>\n",
       "  </tbody>\n",
       "</table>\n",
       "</div>"
      ],
      "text/plain": [
       "             MEMBER_ID                                         CATALOG_NM  \\\n",
       "888    fireplaceempire  50inch Decoration Heating Touch Panel Control/...   \n",
       "25220           artang  Aisonic E Integrated Ultrasonic Open Channel F...   \n",
       "\n",
       "       CATEGORYM_ID                  KEYWORD DISPLAY CATALOG_DESC  \\\n",
       "888          231304       electric fireplace       N          NaN   \n",
       "25220        270501  Open Channel Flow Meter       N          NaN   \n",
       "\n",
       "             INPUT_DT       UPDATE_DT        REMOTEIP SHOW_CHK  judge  \n",
       "888    20230222203530  20230222203530  154.12.245.108        R      0  \n",
       "25220  20221125171129  20221125171953  165.154.235.82        R      0  "
      ]
     },
     "execution_count": 53,
     "metadata": {},
     "output_type": "execute_result"
    }
   ],
   "source": [
    "Products[Products['CATALOG_DESC'].isna()].head(2)"
   ]
  },
  {
   "cell_type": "code",
   "execution_count": 54,
   "metadata": {},
   "outputs": [],
   "source": [
    "Products['CATALOG_DESC']=Products['CATALOG_DESC'].fillna(Products['CATALOG_NM'])"
   ]
  },
  {
   "cell_type": "code",
   "execution_count": 55,
   "metadata": {},
   "outputs": [
    {
     "data": {
      "text/html": [
       "<div>\n",
       "<style scoped>\n",
       "    .dataframe tbody tr th:only-of-type {\n",
       "        vertical-align: middle;\n",
       "    }\n",
       "\n",
       "    .dataframe tbody tr th {\n",
       "        vertical-align: top;\n",
       "    }\n",
       "\n",
       "    .dataframe thead th {\n",
       "        text-align: right;\n",
       "    }\n",
       "</style>\n",
       "<table border=\"1\" class=\"dataframe\">\n",
       "  <thead>\n",
       "    <tr style=\"text-align: right;\">\n",
       "      <th></th>\n",
       "      <th>MEMBER_ID</th>\n",
       "      <th>CATALOG_NM</th>\n",
       "      <th>CATEGORYM_ID</th>\n",
       "      <th>KEYWORD</th>\n",
       "      <th>DISPLAY</th>\n",
       "      <th>CATALOG_DESC</th>\n",
       "      <th>INPUT_DT</th>\n",
       "      <th>UPDATE_DT</th>\n",
       "      <th>REMOTEIP</th>\n",
       "      <th>SHOW_CHK</th>\n",
       "      <th>judge</th>\n",
       "    </tr>\n",
       "  </thead>\n",
       "  <tbody>\n",
       "    <tr>\n",
       "      <th>888</th>\n",
       "      <td>fireplaceempire</td>\n",
       "      <td>50inch Decoration Heating Touch Panel Control/...</td>\n",
       "      <td>231304</td>\n",
       "      <td>electric fireplace</td>\n",
       "      <td>N</td>\n",
       "      <td>50inch Decoration Heating Touch Panel Control/...</td>\n",
       "      <td>20230222203530</td>\n",
       "      <td>20230222203530</td>\n",
       "      <td>154.12.245.108</td>\n",
       "      <td>R</td>\n",
       "      <td>0</td>\n",
       "    </tr>\n",
       "    <tr>\n",
       "      <th>25220</th>\n",
       "      <td>artang</td>\n",
       "      <td>Aisonic E Integrated Ultrasonic Open Channel F...</td>\n",
       "      <td>270501</td>\n",
       "      <td>Open Channel Flow Meter</td>\n",
       "      <td>N</td>\n",
       "      <td>Aisonic E Integrated Ultrasonic Open Channel F...</td>\n",
       "      <td>20221125171129</td>\n",
       "      <td>20221125171953</td>\n",
       "      <td>165.154.235.82</td>\n",
       "      <td>R</td>\n",
       "      <td>0</td>\n",
       "    </tr>\n",
       "  </tbody>\n",
       "</table>\n",
       "</div>"
      ],
      "text/plain": [
       "             MEMBER_ID                                         CATALOG_NM  \\\n",
       "888    fireplaceempire  50inch Decoration Heating Touch Panel Control/...   \n",
       "25220           artang  Aisonic E Integrated Ultrasonic Open Channel F...   \n",
       "\n",
       "       CATEGORYM_ID                  KEYWORD DISPLAY  \\\n",
       "888          231304       electric fireplace       N   \n",
       "25220        270501  Open Channel Flow Meter       N   \n",
       "\n",
       "                                            CATALOG_DESC        INPUT_DT  \\\n",
       "888    50inch Decoration Heating Touch Panel Control/...  20230222203530   \n",
       "25220  Aisonic E Integrated Ultrasonic Open Channel F...  20221125171129   \n",
       "\n",
       "            UPDATE_DT        REMOTEIP SHOW_CHK  judge  \n",
       "888    20230222203530  154.12.245.108        R      0  \n",
       "25220  20221125171953  165.154.235.82        R      0  "
      ]
     },
     "execution_count": 55,
     "metadata": {},
     "output_type": "execute_result"
    }
   ],
   "source": [
    "Products.loc[[888,25220],:]"
   ]
  },
  {
   "cell_type": "markdown",
   "metadata": {},
   "source": [
    "## DISPLAY"
   ]
  },
  {
   "cell_type": "code",
   "execution_count": 56,
   "metadata": {},
   "outputs": [],
   "source": [
    "Products['DISPLAY'] = Products['DISPLAY'].replace({'Y': 1, 'N': 0})"
   ]
  },
  {
   "cell_type": "code",
   "execution_count": 57,
   "metadata": {},
   "outputs": [
    {
     "data": {
      "text/plain": [
       "DISPLAY\n",
       "1    659621\n",
       "0     91694\n",
       "Name: count, dtype: int64"
      ]
     },
     "execution_count": 57,
     "metadata": {},
     "output_type": "execute_result"
    }
   ],
   "source": [
    "Products['DISPLAY'].value_counts()"
   ]
  },
  {
   "cell_type": "markdown",
   "metadata": {},
   "source": [
    "## INPUT_DT, UPDATE_DT"
   ]
  },
  {
   "cell_type": "code",
   "execution_count": 58,
   "metadata": {},
   "outputs": [
    {
     "data": {
      "text/plain": [
       "0         20230228100427\n",
       "1         20230228094237\n",
       "2         20230228093820\n",
       "3         20230228091028\n",
       "4         20230228075935\n",
       "               ...      \n",
       "751310    20180101115332\n",
       "751311    20180101113923\n",
       "751312    20180101113106\n",
       "751313    20180101112212\n",
       "751314    20180101094550\n",
       "Name: INPUT_DT, Length: 751315, dtype: int64"
      ]
     },
     "execution_count": 58,
     "metadata": {},
     "output_type": "execute_result"
    }
   ],
   "source": [
    "Products['INPUT_DT']"
   ]
  },
  {
   "cell_type": "code",
   "execution_count": 59,
   "metadata": {},
   "outputs": [],
   "source": [
    "# 문자열을 datetime 형식으로 변환하고 예외 처리 추가\n",
    "try:\n",
    "    Products['INPUT_DT'] = pd.to_datetime(Products['INPUT_DT'], format='%Y%m%d%H%M%S')\n",
    "    Products['INPUT_DT'] = Products['INPUT_DT'].dt.strftime('%Y%m%d')  # 예제에서는 연도만 남김\n",
    "except ValueError as e:\n",
    "    print(f\"Error: {e}\")\n",
    "    print(\"Skipping datetime conversion.\")"
   ]
  },
  {
   "cell_type": "code",
   "execution_count": 60,
   "metadata": {},
   "outputs": [
    {
     "data": {
      "text/plain": [
       "0         20230228\n",
       "1         20230228\n",
       "2         20230228\n",
       "3         20230228\n",
       "4         20230228\n",
       "            ...   \n",
       "751310    20180101\n",
       "751311    20180101\n",
       "751312    20180101\n",
       "751313    20180101\n",
       "751314    20180101\n",
       "Name: INPUT_DT, Length: 751315, dtype: object"
      ]
     },
     "execution_count": 60,
     "metadata": {},
     "output_type": "execute_result"
    }
   ],
   "source": [
    "Products['INPUT_DT']"
   ]
  },
  {
   "cell_type": "code",
   "execution_count": 61,
   "metadata": {},
   "outputs": [
    {
     "data": {
      "text/plain": [
       "0         20230228100427\n",
       "1         20230228094237\n",
       "2         20230228093820\n",
       "3         20230228091028\n",
       "4         20230228075935\n",
       "               ...      \n",
       "751310    20180101115332\n",
       "751311    20180101113923\n",
       "751312    20180101113444\n",
       "751313    20180101112212\n",
       "751314    20180101094709\n",
       "Name: UPDATE_DT, Length: 751315, dtype: int64"
      ]
     },
     "execution_count": 61,
     "metadata": {},
     "output_type": "execute_result"
    }
   ],
   "source": [
    "Products['UPDATE_DT']"
   ]
  },
  {
   "cell_type": "code",
   "execution_count": 62,
   "metadata": {},
   "outputs": [],
   "source": [
    "# 문자열을 datetime 형식으로 변환하고 예외 처리 추가\n",
    "try:\n",
    "    Products['UPDATE_DT'] = pd.to_datetime(Products['UPDATE_DT'], format='%Y%m%d%H%M%S')\n",
    "    Products['UPDATE_DT'] = Products['UPDATE_DT'].dt.strftime('%Y%m%d')  # 예제에서는 연도만 남김\n",
    "except ValueError as e:\n",
    "    print(f\"Error: {e}\")\n",
    "    print(\"Skipping datetime conversion.\")"
   ]
  },
  {
   "cell_type": "code",
   "execution_count": 63,
   "metadata": {},
   "outputs": [
    {
     "data": {
      "text/plain": [
       "0         20230228\n",
       "1         20230228\n",
       "2         20230228\n",
       "3         20230228\n",
       "4         20230228\n",
       "            ...   \n",
       "751310    20180101\n",
       "751311    20180101\n",
       "751312    20180101\n",
       "751313    20180101\n",
       "751314    20180101\n",
       "Name: UPDATE_DT, Length: 751315, dtype: object"
      ]
     },
     "execution_count": 63,
     "metadata": {},
     "output_type": "execute_result"
    }
   ],
   "source": [
    "Products['UPDATE_DT']"
   ]
  },
  {
   "cell_type": "markdown",
   "metadata": {},
   "source": [
    "## REMOTEIP\n",
    "- (.)제거"
   ]
  },
  {
   "cell_type": "code",
   "execution_count": 64,
   "metadata": {},
   "outputs": [
    {
     "data": {
      "text/plain": [
       "0          219.78.227.175\n",
       "1              42.3.79.92\n",
       "2              42.3.79.92\n",
       "3              42.3.79.92\n",
       "4         131.196.216.214\n",
       "               ...       \n",
       "751310       58.33.39.142\n",
       "751311     183.210.200.86\n",
       "751312     183.210.200.86\n",
       "751313     183.210.200.86\n",
       "751314     183.210.200.86\n",
       "Name: REMOTEIP, Length: 751315, dtype: object"
      ]
     },
     "execution_count": 64,
     "metadata": {},
     "output_type": "execute_result"
    }
   ],
   "source": [
    "Products['REMOTEIP']"
   ]
  },
  {
   "cell_type": "code",
   "execution_count": 65,
   "metadata": {},
   "outputs": [],
   "source": [
    "Products['REMOTEIP'] = Products['REMOTEIP'].str.replace('.','')"
   ]
  },
  {
   "cell_type": "code",
   "execution_count": 66,
   "metadata": {},
   "outputs": [
    {
     "data": {
      "text/plain": [
       "0          21978227175\n",
       "1              4237992\n",
       "2              4237992\n",
       "3              4237992\n",
       "4         131196216214\n",
       "              ...     \n",
       "751310       583339142\n",
       "751311     18321020086\n",
       "751312     18321020086\n",
       "751313     18321020086\n",
       "751314     18321020086\n",
       "Name: REMOTEIP, Length: 751315, dtype: object"
      ]
     },
     "execution_count": 66,
     "metadata": {},
     "output_type": "execute_result"
    }
   ],
   "source": [
    "Products['REMOTEIP']"
   ]
  },
  {
   "cell_type": "markdown",
   "metadata": {},
   "source": [
    "## SHOW_CHK\n",
    "- 'R':1, 'P':0, 'S':0, 'B':2, 'A':3"
   ]
  },
  {
   "cell_type": "code",
   "execution_count": 67,
   "metadata": {},
   "outputs": [
    {
     "name": "stdout",
     "output_type": "stream",
     "text": [
      "SHOW_CHK\n",
      "A    538722\n",
      "P     94243\n",
      "S     67655\n",
      "R     28118\n",
      "B     22577\n",
      "Name: count, dtype: int64\n"
     ]
    }
   ],
   "source": [
    "print(Products['SHOW_CHK'].value_counts())"
   ]
  },
  {
   "cell_type": "code",
   "execution_count": 68,
   "metadata": {},
   "outputs": [],
   "source": [
    "Products['SHOW_CHK'] = Products['SHOW_CHK'].replace({'R':1, 'P':0, 'S':0, 'B':2, 'A':3})"
   ]
  },
  {
   "cell_type": "code",
   "execution_count": 69,
   "metadata": {},
   "outputs": [
    {
     "name": "stdout",
     "output_type": "stream",
     "text": [
      "SHOW_CHK\n",
      "3    538722\n",
      "0    161898\n",
      "1     28118\n",
      "2     22577\n",
      "Name: count, dtype: int64\n"
     ]
    }
   ],
   "source": [
    "print(Products['SHOW_CHK'].value_counts())"
   ]
  },
  {
   "cell_type": "code",
   "execution_count": 70,
   "metadata": {},
   "outputs": [
    {
     "data": {
      "text/html": [
       "<div>\n",
       "<style scoped>\n",
       "    .dataframe tbody tr th:only-of-type {\n",
       "        vertical-align: middle;\n",
       "    }\n",
       "\n",
       "    .dataframe tbody tr th {\n",
       "        vertical-align: top;\n",
       "    }\n",
       "\n",
       "    .dataframe thead th {\n",
       "        text-align: right;\n",
       "    }\n",
       "</style>\n",
       "<table border=\"1\" class=\"dataframe\">\n",
       "  <thead>\n",
       "    <tr style=\"text-align: right;\">\n",
       "      <th></th>\n",
       "      <th>MEMBER_ID</th>\n",
       "      <th>CATALOG_NM</th>\n",
       "      <th>CATEGORYM_ID</th>\n",
       "      <th>KEYWORD</th>\n",
       "      <th>DISPLAY</th>\n",
       "      <th>CATALOG_DESC</th>\n",
       "      <th>INPUT_DT</th>\n",
       "      <th>UPDATE_DT</th>\n",
       "      <th>REMOTEIP</th>\n",
       "      <th>SHOW_CHK</th>\n",
       "      <th>judge</th>\n",
       "    </tr>\n",
       "  </thead>\n",
       "  <tbody>\n",
       "    <tr>\n",
       "      <th>0</th>\n",
       "      <td>shangyuanshibang</td>\n",
       "      <td>1-BOC-4-(4-BROMO-PHENYLAMINO)-PIPERIDINECas 44...</td>\n",
       "      <td>212815</td>\n",
       "      <td>1-BOC-4- 4-BROMO-PHENYLAM</td>\n",
       "      <td>1</td>\n",
       "      <td>1. 名称和标识符1.1 名称1-叔丁氧羰基-4-（4-溴苯基氨基）哌啶1.2 同义词1-哌...</td>\n",
       "      <td>20230228</td>\n",
       "      <td>20230228</td>\n",
       "      <td>21978227175</td>\n",
       "      <td>1</td>\n",
       "      <td>0</td>\n",
       "    </tr>\n",
       "    <tr>\n",
       "      <th>1</th>\n",
       "      <td>shangyuanshibang</td>\n",
       "      <td>High Purity N- (Tert-Butoxycarbonyl) -4-Piperi...</td>\n",
       "      <td>212815</td>\n",
       "      <td>N- tert-Butoxycarbonyl -4</td>\n",
       "      <td>1</td>\n",
       "      <td>1. 名称和标识符1.1 名称N-叔丁氧羰基-4-哌啶酮1.2 同义词1-叔丁氧羰基-4-哌...</td>\n",
       "      <td>20230228</td>\n",
       "      <td>20230228</td>\n",
       "      <td>4237992</td>\n",
       "      <td>1</td>\n",
       "      <td>0</td>\n",
       "    </tr>\n",
       "  </tbody>\n",
       "</table>\n",
       "</div>"
      ],
      "text/plain": [
       "          MEMBER_ID                                         CATALOG_NM  \\\n",
       "0  shangyuanshibang  1-BOC-4-(4-BROMO-PHENYLAMINO)-PIPERIDINECas 44...   \n",
       "1  shangyuanshibang  High Purity N- (Tert-Butoxycarbonyl) -4-Piperi...   \n",
       "\n",
       "   CATEGORYM_ID                    KEYWORD  DISPLAY  \\\n",
       "0        212815  1-BOC-4- 4-BROMO-PHENYLAM        1   \n",
       "1        212815  N- tert-Butoxycarbonyl -4        1   \n",
       "\n",
       "                                        CATALOG_DESC  INPUT_DT UPDATE_DT  \\\n",
       "0  1. 名称和标识符1.1 名称1-叔丁氧羰基-4-（4-溴苯基氨基）哌啶1.2 同义词1-哌...  20230228  20230228   \n",
       "1  1. 名称和标识符1.1 名称N-叔丁氧羰基-4-哌啶酮1.2 同义词1-叔丁氧羰基-4-哌...  20230228  20230228   \n",
       "\n",
       "      REMOTEIP  SHOW_CHK  judge  \n",
       "0  21978227175         1      0  \n",
       "1      4237992         1      0  "
      ]
     },
     "execution_count": 70,
     "metadata": {},
     "output_type": "execute_result"
    }
   ],
   "source": [
    "Products.head(2)"
   ]
  },
  {
   "cell_type": "markdown",
   "metadata": {},
   "source": [
    "# to csv"
   ]
  },
  {
   "cell_type": "code",
   "execution_count": null,
   "metadata": {},
   "outputs": [],
   "source": [
    "# csv로 저장\n",
    "# csv_file = 'product_concat_v1.csv'\n",
    "# Products.to_csv(csv_file, index=False, header=True)"
   ]
  },
  {
   "cell_type": "markdown",
   "metadata": {},
   "source": [
    "# csv 불러오기"
   ]
  },
  {
   "cell_type": "code",
   "execution_count": 84,
   "metadata": {},
   "outputs": [
    {
     "name": "stdout",
     "output_type": "stream",
     "text": [
      "csv파일\n"
     ]
    },
    {
     "data": {
      "text/html": [
       "<div>\n",
       "<style scoped>\n",
       "    .dataframe tbody tr th:only-of-type {\n",
       "        vertical-align: middle;\n",
       "    }\n",
       "\n",
       "    .dataframe tbody tr th {\n",
       "        vertical-align: top;\n",
       "    }\n",
       "\n",
       "    .dataframe thead th {\n",
       "        text-align: right;\n",
       "    }\n",
       "</style>\n",
       "<table border=\"1\" class=\"dataframe\">\n",
       "  <thead>\n",
       "    <tr style=\"text-align: right;\">\n",
       "      <th></th>\n",
       "      <th>MEMBER_ID</th>\n",
       "      <th>CATALOG_NM</th>\n",
       "      <th>CATEGORYM_ID</th>\n",
       "      <th>KEYWORD</th>\n",
       "      <th>DISPLAY</th>\n",
       "      <th>CATALOG_DESC</th>\n",
       "      <th>INPUT_DT</th>\n",
       "      <th>UPDATE_DT</th>\n",
       "      <th>REMOTEIP</th>\n",
       "      <th>SHOW_CHK</th>\n",
       "      <th>judge</th>\n",
       "    </tr>\n",
       "  </thead>\n",
       "  <tbody>\n",
       "    <tr>\n",
       "      <th>0</th>\n",
       "      <td>shangyuanshibang</td>\n",
       "      <td>1-BOC-4-(4-BROMO-PHENYLAMINO)-PIPERIDINECas 44...</td>\n",
       "      <td>212815</td>\n",
       "      <td>1-BOC-4- 4-BROMO-PHENYLAM</td>\n",
       "      <td>1</td>\n",
       "      <td>1. 名称和标识符1.1 名称1-叔丁氧羰基-4-（4-溴苯基氨基）哌啶1.2 同义词1-哌...</td>\n",
       "      <td>20230228</td>\n",
       "      <td>20230228</td>\n",
       "      <td>21978227175</td>\n",
       "      <td>1</td>\n",
       "      <td>0</td>\n",
       "    </tr>\n",
       "    <tr>\n",
       "      <th>1</th>\n",
       "      <td>shangyuanshibang</td>\n",
       "      <td>High Purity N- (Tert-Butoxycarbonyl) -4-Piperi...</td>\n",
       "      <td>212815</td>\n",
       "      <td>N- tert-Butoxycarbonyl -4</td>\n",
       "      <td>1</td>\n",
       "      <td>1. 名称和标识符1.1 名称N-叔丁氧羰基-4-哌啶酮1.2 同义词1-叔丁氧羰基-4-哌...</td>\n",
       "      <td>20230228</td>\n",
       "      <td>20230228</td>\n",
       "      <td>4237992</td>\n",
       "      <td>1</td>\n",
       "      <td>0</td>\n",
       "    </tr>\n",
       "  </tbody>\n",
       "</table>\n",
       "</div>"
      ],
      "text/plain": [
       "          MEMBER_ID                                         CATALOG_NM  \\\n",
       "0  shangyuanshibang  1-BOC-4-(4-BROMO-PHENYLAMINO)-PIPERIDINECas 44...   \n",
       "1  shangyuanshibang  High Purity N- (Tert-Butoxycarbonyl) -4-Piperi...   \n",
       "\n",
       "   CATEGORYM_ID                    KEYWORD  DISPLAY  \\\n",
       "0        212815  1-BOC-4- 4-BROMO-PHENYLAM        1   \n",
       "1        212815  N- tert-Butoxycarbonyl -4        1   \n",
       "\n",
       "                                        CATALOG_DESC  INPUT_DT  UPDATE_DT  \\\n",
       "0  1. 名称和标识符1.1 名称1-叔丁氧羰基-4-（4-溴苯基氨基）哌啶1.2 同义词1-哌...  20230228   20230228   \n",
       "1  1. 名称和标识符1.1 名称N-叔丁氧羰基-4-哌啶酮1.2 同义词1-叔丁氧羰基-4-哌...  20230228   20230228   \n",
       "\n",
       "      REMOTEIP  SHOW_CHK  judge  \n",
       "0  21978227175         1      0  \n",
       "1      4237992         1      0  "
      ]
     },
     "metadata": {},
     "output_type": "display_data"
    }
   ],
   "source": [
    "# csv파일로 잘 저장됐는지 확인\n",
    "print('csv파일')\n",
    "products_concat = pd.read_csv('product_concat_v1.csv')\n",
    "display(products_concat.head(2))"
   ]
  },
  {
   "cell_type": "code",
   "execution_count": 85,
   "metadata": {},
   "outputs": [
    {
     "name": "stdout",
     "output_type": "stream",
     "text": [
      "(337344, 11)\n"
     ]
    }
   ],
   "source": [
    "print(products_concat.shape)"
   ]
  },
  {
   "cell_type": "markdown",
   "metadata": {},
   "source": [
    "# 데이터 전처리 2\n",
    "- MEMBER_ID 제외하고 object 타입만 ('CATALOG_NM','KEYWORD','CATALOG_DESC')\n",
    "- 소문자 -> 구두점 제거 -> 불용어 제거 -> 어근추출-> CountVectorizer"
   ]
  },
  {
   "cell_type": "code",
   "execution_count": 86,
   "metadata": {},
   "outputs": [
    {
     "name": "stdout",
     "output_type": "stream",
     "text": [
      "<class 'pandas.core.frame.DataFrame'>\n",
      "RangeIndex: 337344 entries, 0 to 337343\n",
      "Data columns (total 11 columns):\n",
      " #   Column        Non-Null Count   Dtype \n",
      "---  ------        --------------   ----- \n",
      " 0   MEMBER_ID     337344 non-null  object\n",
      " 1   CATALOG_NM    337344 non-null  object\n",
      " 2   CATEGORYM_ID  337344 non-null  int64 \n",
      " 3   KEYWORD       337344 non-null  object\n",
      " 4   DISPLAY       337344 non-null  int64 \n",
      " 5   CATALOG_DESC  337344 non-null  object\n",
      " 6   INPUT_DT      337344 non-null  int64 \n",
      " 7   UPDATE_DT     337344 non-null  int64 \n",
      " 8   REMOTEIP      337344 non-null  int64 \n",
      " 9   SHOW_CHK      337344 non-null  int64 \n",
      " 10  judge         337344 non-null  int64 \n",
      "dtypes: int64(7), object(4)\n",
      "memory usage: 28.3+ MB\n"
     ]
    }
   ],
   "source": [
    "products_concat.info()"
   ]
  },
  {
   "cell_type": "code",
   "execution_count": 87,
   "metadata": {},
   "outputs": [],
   "source": [
    "from nltk.stem import WordNetLemmatizer\n",
    "import nltk\n",
    "import string\n",
    "\n",
    "# 문장에 포함된 구두점을 삭제하기 위한 맵핑 정보 생성\n",
    "# ord() : 매개변수로 전달된 문자에 해당하는 유니코드를 반환\n",
    "# 구두점이 발견되면 : None값으로 대채 -> 즉, 지운다는 뜻\n",
    "\n",
    "remove_punct_dict = {ord(punct):None for punct in string.punctuation }\n",
    "\n",
    "lemmar = WordNetLemmatizer()\n",
    "\n",
    "# 문장 입력받음 -> stopwords를 제거 -> 소문자로 변환 -> 단어로 토큰->어근 변환\n",
    "def LenNormalize(text):\n",
    "    tokens = nltk.word_tokenize(text.lower().translate(remove_punct_dict))\n",
    "    return [lemmar.lemmatize(token) for token in tokens]\n"
   ]
  },
  {
   "cell_type": "markdown",
   "metadata": {},
   "source": [
    "### CountVectorizer ngram_range(1,2)"
   ]
  },
  {
   "cell_type": "code",
   "execution_count": 88,
   "metadata": {},
   "outputs": [
    {
     "name": "stderr",
     "output_type": "stream",
     "text": [
      "C:\\Users\\user\\AppData\\Local\\Packages\\PythonSoftwareFoundation.Python.3.11_qbz5n2kfra8p0\\LocalCache\\local-packages\\Python311\\site-packages\\sklearn\\feature_extraction\\text.py:525: UserWarning: The parameter 'token_pattern' will not be used since 'tokenizer' is not None'\n",
      "  warnings.warn(\n",
      "C:\\Users\\user\\AppData\\Local\\Packages\\PythonSoftwareFoundation.Python.3.11_qbz5n2kfra8p0\\LocalCache\\local-packages\\Python311\\site-packages\\sklearn\\feature_extraction\\text.py:408: UserWarning: Your stop_words may be inconsistent with your preprocessing. Tokenizing the stop words generated tokens ['ha', 'le', 'u', 'wa'] not in stop_words.\n",
      "  warnings.warn(\n"
     ]
    }
   ],
   "source": [
    "from sklearn.feature_extraction.text import CountVectorizer\n",
    "\n",
    "cnt_vect = CountVectorizer(tokenizer=LenNormalize, stop_words='english', ngram_range = (1,2))\n",
    "\n",
    "catalog_nm_vect = cnt_vect.fit_transform(products_concat['CATALOG_NM'])\n",
    "keyword_vect = cnt_vect.fit_transform(products_concat['KEYWORD'])\n",
    "catalog_desc_vect = cnt_vect.fit_transform(products_concat['CATALOG_DESC'])"
   ]
  },
  {
   "cell_type": "code",
   "execution_count": 89,
   "metadata": {},
   "outputs": [
    {
     "name": "stdout",
     "output_type": "stream",
     "text": [
      "CountVectorizer 실행 전\n",
      "CATALOG_NM의 shape : (337344,)\n",
      "KEYWORD의 shape : (337344,)\n",
      "CATALOG_DESC의 shape : (337344,)\n",
      "\n",
      "CountVectorizer 실행 후\n",
      "CATALOG_NM의 shape : (337344, 555074)\n",
      "KEYWORD의 shape : (337344, 419235)\n",
      "CATALOG_DESC의 shape : (337344, 4932513)\n"
     ]
    }
   ],
   "source": [
    "print('CountVectorizer 실행 전')\n",
    "print('CATALOG_NM의 shape :', products_concat['CATALOG_NM'].shape)\n",
    "print('KEYWORD의 shape :', products_concat['KEYWORD'].shape)\n",
    "print('CATALOG_DESC의 shape :',products_concat['CATALOG_DESC'].shape)\n",
    "\n",
    "print('\\nCountVectorizer 실행 후')\n",
    "print('CATALOG_NM의 shape :', catalog_nm_vect.shape)\n",
    "print('KEYWORD의 shape :', keyword_vect.shape)\n",
    "print('CATALOG_DESC의 shape :',catalog_desc_vect.shape)"
   ]
  }
 ],
 "metadata": {
  "kernelspec": {
   "display_name": "Python 3",
   "language": "python",
   "name": "python3"
  },
  "language_info": {
   "codemirror_mode": {
    "name": "ipython",
    "version": 3
   },
   "file_extension": ".py",
   "mimetype": "text/x-python",
   "name": "python",
   "nbconvert_exporter": "python",
   "pygments_lexer": "ipython3",
   "version": "3.11.7"
  }
 },
 "nbformat": 4,
 "nbformat_minor": 2
}
