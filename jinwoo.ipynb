{
 "cells": [
  {
   "cell_type": "code",
   "execution_count": 1,
   "metadata": {},
   "outputs": [],
   "source": [
    "import pandas as pd"
   ]
  },
  {
   "cell_type": "markdown",
   "metadata": {},
   "source": [
    "## 데이터셋 불러오기"
   ]
  },
  {
   "cell_type": "code",
   "execution_count": 2,
   "metadata": {},
   "outputs": [
    {
     "name": "stderr",
     "output_type": "stream",
     "text": [
      "C:\\Users\\ujn9\\AppData\\Local\\Temp\\ipykernel_15260\\3917221033.py:5: DtypeWarning: Columns (4,5) have mixed types. Specify dtype option on import or set low_memory=False.\n",
      "  normal_member = pd.read_csv('./dataset/정상회원데이터.csv')\n"
     ]
    }
   ],
   "source": [
    "keywords = pd.read_csv('./dataset/금지어keyword.csv')\n",
    "blacklist = pd.read_csv('./dataset/블랙리스트정보v2 - 복사본.csv', encoding='latin1')\n",
    "normal_item_2022 = pd.read_csv('./dataset/정상상품.csv')\n",
    "weird_item_2022 = pd.read_csv('./dataset/이상상품.csv')\n",
    "normal_member = pd.read_csv('./dataset/정상회원데이터.csv')\n",
    "weird_member = pd.read_csv('./dataset/이상회원데이터.csv')\n",
    "inquir = pd.read_csv('./dataset/인콰이어리데이터.csv')"
   ]
  },
  {
   "cell_type": "code",
   "execution_count": 12,
   "metadata": {},
   "outputs": [
    {
     "data": {
      "text/plain": [
       "MEMBER_ID\n",
       "mobilestore11    1\n",
       "ahhajss89        1\n",
       "malik786786      1\n",
       "eydhhdfryrue     1\n",
       "p88exlcusive     1\n",
       "                ..\n",
       "wekaka4392       1\n",
       "borok25235       1\n",
       "5565445          1\n",
       "pomimi56763      1\n",
       "murticadro       1\n",
       "Name: count, Length: 93421, dtype: int64"
      ]
     },
     "execution_count": 12,
     "metadata": {},
     "output_type": "execute_result"
    }
   ],
   "source": [
    "weird_member['MEMBER_ID'].value_counts()"
   ]
  },
  {
   "cell_type": "markdown",
   "metadata": {},
   "source": [
    "## 이상회원 -> 이상상품, 정상회원 -> 정상상품"
   ]
  },
  {
   "cell_type": "code",
   "execution_count": 6,
   "metadata": {},
   "outputs": [
    {
     "data": {
      "text/plain": [
       "(212593, 12)"
      ]
     },
     "execution_count": 6,
     "metadata": {},
     "output_type": "execute_result"
    }
   ],
   "source": [
    "weird_item_2022.shape"
   ]
  },
  {
   "cell_type": "code",
   "execution_count": 19,
   "metadata": {},
   "outputs": [
    {
     "data": {
      "text/plain": [
       "(191408, 12)"
      ]
     },
     "execution_count": 19,
     "metadata": {},
     "output_type": "execute_result"
    }
   ],
   "source": [
    "weird_df = weird_item_2022[weird_item_2022['MEMBER_ID'].isin(weird_member['MEMBER_ID'])]\n",
    "\n",
    "# common_rows now contains only the rows with common 'MEMBER_ID' values\n",
    "weird_df.shape"
   ]
  },
  {
   "cell_type": "code",
   "execution_count": 29,
   "metadata": {},
   "outputs": [],
   "source": [
    "normal_df = normal_item_2022[normal_item_2022['MEMBER_ID'].isin(normal_member['MEMBER_ID'])]"
   ]
  },
  {
   "cell_type": "markdown",
   "metadata": {},
   "source": [
    "## Feature Eng"
   ]
  },
  {
   "cell_type": "code",
   "execution_count": 21,
   "metadata": {},
   "outputs": [
    {
     "name": "stderr",
     "output_type": "stream",
     "text": [
      "C:\\Users\\ujn9\\AppData\\Local\\Temp\\ipykernel_15260\\3954077104.py:1: SettingWithCopyWarning: \n",
      "A value is trying to be set on a copy of a slice from a DataFrame.\n",
      "Try using .loc[row_indexer,col_indexer] = value instead\n",
      "\n",
      "See the caveats in the documentation: https://pandas.pydata.org/pandas-docs/stable/user_guide/indexing.html#returning-a-view-versus-a-copy\n",
      "  weird_df['DISPLAY'] = weird_df['DISPLAY'].replace({'Y': 0, 'N': 1})\n"
     ]
    }
   ],
   "source": [
    "weird_df['DISPLAY'] = weird_df['DISPLAY'].replace({'Y': 0, 'N': 1})"
   ]
  },
  {
   "cell_type": "code",
   "execution_count": 30,
   "metadata": {},
   "outputs": [
    {
     "name": "stderr",
     "output_type": "stream",
     "text": [
      "C:\\Users\\ujn9\\AppData\\Local\\Temp\\ipykernel_15260\\1527435653.py:1: SettingWithCopyWarning: \n",
      "A value is trying to be set on a copy of a slice from a DataFrame.\n",
      "Try using .loc[row_indexer,col_indexer] = value instead\n",
      "\n",
      "See the caveats in the documentation: https://pandas.pydata.org/pandas-docs/stable/user_guide/indexing.html#returning-a-view-versus-a-copy\n",
      "  normal_df['DISPLAY'] = normal_df['DISPLAY'].replace({'Y': 0, 'N': 1})\n"
     ]
    }
   ],
   "source": [
    "normal_df['DISPLAY'] = normal_df['DISPLAY'].replace({'Y': 0, 'N': 1})"
   ]
  },
  {
   "cell_type": "code",
   "execution_count": 22,
   "metadata": {},
   "outputs": [
    {
     "data": {
      "text/plain": [
       "DISPLAY\n",
       "0    179547\n",
       "1     11861\n",
       "Name: count, dtype: int64"
      ]
     },
     "execution_count": 22,
     "metadata": {},
     "output_type": "execute_result"
    }
   ],
   "source": [
    "weird_df['DISPLAY'].value_counts()"
   ]
  },
  {
   "cell_type": "code",
   "execution_count": 31,
   "metadata": {},
   "outputs": [
    {
     "data": {
      "text/plain": [
       "DISPLAY\n",
       "0    302633\n",
       "1     39687\n",
       "Name: count, dtype: int64"
      ]
     },
     "execution_count": 31,
     "metadata": {},
     "output_type": "execute_result"
    }
   ],
   "source": [
    "normal_df['DISPLAY'].value_counts()"
   ]
  },
  {
   "cell_type": "code",
   "execution_count": 26,
   "metadata": {},
   "outputs": [
    {
     "name": "stderr",
     "output_type": "stream",
     "text": [
      "C:\\Users\\ujn9\\AppData\\Local\\Temp\\ipykernel_15260\\3217754911.py:1: SettingWithCopyWarning: \n",
      "A value is trying to be set on a copy of a slice from a DataFrame.\n",
      "Try using .loc[row_indexer,col_indexer] = value instead\n",
      "\n",
      "See the caveats in the documentation: https://pandas.pydata.org/pandas-docs/stable/user_guide/indexing.html#returning-a-view-versus-a-copy\n",
      "  weird_df['SHOW_CHK'] = weird_df['SHOW_CHK'].replace({'S': 0, 'P': 1, 'R': 2, 'B': 3})\n"
     ]
    }
   ],
   "source": [
    "weird_df['SHOW_CHK'] = weird_df['SHOW_CHK'].replace({'S': 0, 'P': 1, 'R': 2, 'B': 3})"
   ]
  },
  {
   "cell_type": "code",
   "execution_count": null,
   "metadata": {},
   "outputs": [
    {
     "name": "stderr",
     "output_type": "stream",
     "text": [
      "C:\\Users\\ujn9\\AppData\\Local\\Temp\\ipykernel_15260\\3217754911.py:1: SettingWithCopyWarning: \n",
      "A value is trying to be set on a copy of a slice from a DataFrame.\n",
      "Try using .loc[row_indexer,col_indexer] = value instead\n",
      "\n",
      "See the caveats in the documentation: https://pandas.pydata.org/pandas-docs/stable/user_guide/indexing.html#returning-a-view-versus-a-copy\n",
      "  weird_df['SHOW_CHK'] = weird_df['SHOW_CHK'].replace({'S': 0, 'P': 1, 'R': 2, 'B': 3})\n"
     ]
    }
   ],
   "source": [
    "weird_df['SHOW_CHK'] = weird_df['SHOW_CHK'].replace({'S': 0, 'P': 1, 'R': 2, 'B': 3})"
   ]
  },
  {
   "cell_type": "code",
   "execution_count": 33,
   "metadata": {},
   "outputs": [
    {
     "name": "stderr",
     "output_type": "stream",
     "text": [
      "C:\\Users\\ujn9\\AppData\\Local\\Temp\\ipykernel_15260\\2446942472.py:1: SettingWithCopyWarning: \n",
      "A value is trying to be set on a copy of a slice from a DataFrame.\n",
      "Try using .loc[row_indexer,col_indexer] = value instead\n",
      "\n",
      "See the caveats in the documentation: https://pandas.pydata.org/pandas-docs/stable/user_guide/indexing.html#returning-a-view-versus-a-copy\n",
      "  normal_df['SHOW_CHK'] = normal_df['SHOW_CHK'].replace({'A': 0})\n"
     ]
    }
   ],
   "source": [
    "normal_df['SHOW_CHK'] = normal_df['SHOW_CHK'].replace({'A': 0})"
   ]
  },
  {
   "cell_type": "code",
   "execution_count": 34,
   "metadata": {},
   "outputs": [
    {
     "data": {
      "text/plain": [
       "SHOW_CHK\n",
       "0    342320\n",
       "Name: count, dtype: int64"
      ]
     },
     "execution_count": 34,
     "metadata": {},
     "output_type": "execute_result"
    }
   ],
   "source": [
    "normal_df['SHOW_CHK'].value_counts()"
   ]
  },
  {
   "cell_type": "code",
   "execution_count": 28,
   "metadata": {},
   "outputs": [
    {
     "data": {
      "text/html": [
       "<div>\n",
       "<style scoped>\n",
       "    .dataframe tbody tr th:only-of-type {\n",
       "        vertical-align: middle;\n",
       "    }\n",
       "\n",
       "    .dataframe tbody tr th {\n",
       "        vertical-align: top;\n",
       "    }\n",
       "\n",
       "    .dataframe thead th {\n",
       "        text-align: right;\n",
       "    }\n",
       "</style>\n",
       "<table border=\"1\" class=\"dataframe\">\n",
       "  <thead>\n",
       "    <tr style=\"text-align: right;\">\n",
       "      <th></th>\n",
       "      <th>MEMBER_ID</th>\n",
       "      <th>GCATALOG_ID</th>\n",
       "      <th>CATALOG_ID</th>\n",
       "      <th>CATALOG_NM</th>\n",
       "      <th>CATEGORYM_ID</th>\n",
       "      <th>KEYWORD</th>\n",
       "      <th>DISPLAY</th>\n",
       "      <th>CATALOG_DESC</th>\n",
       "      <th>INPUT_DT</th>\n",
       "      <th>UPDATE_DT</th>\n",
       "      <th>REMOTEIP</th>\n",
       "      <th>SHOW_CHK</th>\n",
       "    </tr>\n",
       "  </thead>\n",
       "  <tbody>\n",
       "    <tr>\n",
       "      <th>14</th>\n",
       "      <td>130726199612101323</td>\n",
       "      <td>GC11396430</td>\n",
       "      <td>CA11736489</td>\n",
       "      <td>Most Popular Products F-lakka A-/PVP</td>\n",
       "      <td>212815</td>\n",
       "      <td>NaN</td>\n",
       "      <td>0</td>\n",
       "      <td>288573-56-8 tert-butyl 4-(4-fluoroanilino)pipe...</td>\n",
       "      <td>20230227165413</td>\n",
       "      <td>20230227165413</td>\n",
       "      <td>106.114.169.0</td>\n",
       "      <td>2</td>\n",
       "    </tr>\n",
       "    <tr>\n",
       "      <th>16</th>\n",
       "      <td>130726199612101323</td>\n",
       "      <td>GC11396431</td>\n",
       "      <td>CA11736468</td>\n",
       "      <td>Crazy Product 119276-01-6</td>\n",
       "      <td>212815</td>\n",
       "      <td>NaN</td>\n",
       "      <td>0</td>\n",
       "      <td>288573-56-8 tert-butyl 4-(4-fluoroanilino)pipe...</td>\n",
       "      <td>20230227164104</td>\n",
       "      <td>20230227164104</td>\n",
       "      <td>106.114.169.0</td>\n",
       "      <td>2</td>\n",
       "    </tr>\n",
       "    <tr>\n",
       "      <th>17</th>\n",
       "      <td>130726199612101323</td>\n",
       "      <td>GC11396572</td>\n",
       "      <td>CA11736455</td>\n",
       "      <td>Professional Factory Production 71368-80-4\\t B...</td>\n",
       "      <td>212815</td>\n",
       "      <td>Bromazolam</td>\n",
       "      <td>0</td>\n",
       "      <td>288573-56-8 tert-butyl 4-(4-fluoroanilino)pipe...</td>\n",
       "      <td>20230227163449</td>\n",
       "      <td>20230227163449</td>\n",
       "      <td>106.114.169.0</td>\n",
       "      <td>2</td>\n",
       "    </tr>\n",
       "    <tr>\n",
       "      <th>18</th>\n",
       "      <td>130726199612101323</td>\n",
       "      <td>GC11396572</td>\n",
       "      <td>CA11736449</td>\n",
       "      <td>Latest Batch 2647-50-9\\t  Flubromazepam</td>\n",
       "      <td>212815</td>\n",
       "      <td>NaN</td>\n",
       "      <td>0</td>\n",
       "      <td>288573-56-8 tert-butyl 4-(4-fluoroanilino)pipe...</td>\n",
       "      <td>20230227163213</td>\n",
       "      <td>20230227163213</td>\n",
       "      <td>106.114.169.0</td>\n",
       "      <td>2</td>\n",
       "    </tr>\n",
       "    <tr>\n",
       "      <th>19</th>\n",
       "      <td>130726199612101323</td>\n",
       "      <td>GC11396572</td>\n",
       "      <td>CA11736435</td>\n",
       "      <td>Most Popular Products 5449-12-7/20320-59-6/541...</td>\n",
       "      <td>212815</td>\n",
       "      <td>BMK</td>\n",
       "      <td>0</td>\n",
       "      <td>288573-56-8 tert-butyl 4-(4-fluoroanilino)pipe...</td>\n",
       "      <td>20230227162658</td>\n",
       "      <td>20230227162658</td>\n",
       "      <td>106.114.169.0</td>\n",
       "      <td>2</td>\n",
       "    </tr>\n",
       "  </tbody>\n",
       "</table>\n",
       "</div>"
      ],
      "text/plain": [
       "             MEMBER_ID GCATALOG_ID  CATALOG_ID  \\\n",
       "14  130726199612101323  GC11396430  CA11736489   \n",
       "16  130726199612101323  GC11396431  CA11736468   \n",
       "17  130726199612101323  GC11396572  CA11736455   \n",
       "18  130726199612101323  GC11396572  CA11736449   \n",
       "19  130726199612101323  GC11396572  CA11736435   \n",
       "\n",
       "                                           CATALOG_NM  CATEGORYM_ID  \\\n",
       "14               Most Popular Products F-lakka A-/PVP        212815   \n",
       "16                         Crazy Product 119276-01-6         212815   \n",
       "17  Professional Factory Production 71368-80-4\\t B...        212815   \n",
       "18            Latest Batch 2647-50-9\\t  Flubromazepam        212815   \n",
       "19  Most Popular Products 5449-12-7/20320-59-6/541...        212815   \n",
       "\n",
       "       KEYWORD  DISPLAY                                       CATALOG_DESC  \\\n",
       "14         NaN        0  288573-56-8 tert-butyl 4-(4-fluoroanilino)pipe...   \n",
       "16         NaN        0  288573-56-8 tert-butyl 4-(4-fluoroanilino)pipe...   \n",
       "17  Bromazolam        0  288573-56-8 tert-butyl 4-(4-fluoroanilino)pipe...   \n",
       "18         NaN        0  288573-56-8 tert-butyl 4-(4-fluoroanilino)pipe...   \n",
       "19         BMK        0  288573-56-8 tert-butyl 4-(4-fluoroanilino)pipe...   \n",
       "\n",
       "          INPUT_DT       UPDATE_DT       REMOTEIP  SHOW_CHK  \n",
       "14  20230227165413  20230227165413  106.114.169.0         2  \n",
       "16  20230227164104  20230227164104  106.114.169.0         2  \n",
       "17  20230227163449  20230227163449  106.114.169.0         2  \n",
       "18  20230227163213  20230227163213  106.114.169.0         2  \n",
       "19  20230227162658  20230227162658  106.114.169.0         2  "
      ]
     },
     "execution_count": 28,
     "metadata": {},
     "output_type": "execute_result"
    }
   ],
   "source": [
    "weird_df.head()"
   ]
  },
  {
   "cell_type": "markdown",
   "metadata": {},
   "source": [
    "## 종속변수 컬럼 추가"
   ]
  },
  {
   "cell_type": "code",
   "execution_count": 35,
   "metadata": {},
   "outputs": [
    {
     "name": "stderr",
     "output_type": "stream",
     "text": [
      "C:\\Users\\ujn9\\AppData\\Local\\Temp\\ipykernel_15260\\3135103249.py:1: SettingWithCopyWarning: \n",
      "A value is trying to be set on a copy of a slice from a DataFrame.\n",
      "Try using .loc[row_indexer,col_indexer] = value instead\n",
      "\n",
      "See the caveats in the documentation: https://pandas.pydata.org/pandas-docs/stable/user_guide/indexing.html#returning-a-view-versus-a-copy\n",
      "  weird_df['judge'] = 0\n",
      "C:\\Users\\ujn9\\AppData\\Local\\Temp\\ipykernel_15260\\3135103249.py:2: SettingWithCopyWarning: \n",
      "A value is trying to be set on a copy of a slice from a DataFrame.\n",
      "Try using .loc[row_indexer,col_indexer] = value instead\n",
      "\n",
      "See the caveats in the documentation: https://pandas.pydata.org/pandas-docs/stable/user_guide/indexing.html#returning-a-view-versus-a-copy\n",
      "  normal_df['judge'] = 1\n"
     ]
    }
   ],
   "source": [
    "weird_df['judge'] = 0\n",
    "normal_df['judge'] = 1"
   ]
  },
  {
   "cell_type": "markdown",
   "metadata": {},
   "source": [
    "## 패키지 로드"
   ]
  },
  {
   "cell_type": "code",
   "execution_count": 36,
   "metadata": {},
   "outputs": [
    {
     "name": "stderr",
     "output_type": "stream",
     "text": [
      "[nltk_data] Downloading package stopwords to\n",
      "[nltk_data]     C:\\Users\\ujn9\\AppData\\Roaming\\nltk_data...\n",
      "[nltk_data]   Package stopwords is already up-to-date!\n"
     ]
    }
   ],
   "source": [
    "import nltk\n",
    "nltk.download('stopwords')\n",
    "from nltk.corpus import stopwords\n",
    "from nltk.stem import PorterStemmer, WordNetLemmatizer\n",
    "import string"
   ]
  },
  {
   "cell_type": "markdown",
   "metadata": {},
   "source": [
    "## 데이터 클렌징"
   ]
  },
  {
   "cell_type": "markdown",
   "metadata": {},
   "source": [
    "### 데이터 드롭"
   ]
  },
  {
   "cell_type": "code",
   "execution_count": 38,
   "metadata": {},
   "outputs": [],
   "source": [
    "normal_df = normal_df.drop('MEMBER_ID', axis=1)\n",
    "weird_df = weird_df.drop('MEMBER_ID', axis=1)"
   ]
  },
  {
   "cell_type": "code",
   "execution_count": 47,
   "metadata": {},
   "outputs": [],
   "source": [
    "# Count NaN values in normal_df\n",
    "normal_na_count = normal_df.isna().sum()\n",
    "\n",
    "# Count NaN values in weird_df\n",
    "weird_na_count = weird_df.isna().sum()"
   ]
  },
  {
   "cell_type": "code",
   "execution_count": 48,
   "metadata": {},
   "outputs": [
    {
     "name": "stdout",
     "output_type": "stream",
     "text": [
      "NaN values in normal_df:\n",
      "GCATALOG_ID     0\n",
      "CATALOG_ID      0\n",
      "CATALOG_NM      0\n",
      "CATEGORYM_ID    0\n",
      "KEYWORD         0\n",
      "DISPLAY         0\n",
      "CATALOG_DESC    0\n",
      "INPUT_DT        0\n",
      "UPDATE_DT       0\n",
      "REMOTEIP        0\n",
      "SHOW_CHK        0\n",
      "judge           0\n",
      "dtype: int64\n",
      "\n",
      "NaN values in weird_df:\n",
      "GCATALOG_ID     0\n",
      "CATALOG_ID      0\n",
      "CATALOG_NM      0\n",
      "CATEGORYM_ID    0\n",
      "KEYWORD         0\n",
      "DISPLAY         0\n",
      "CATALOG_DESC    0\n",
      "INPUT_DT        0\n",
      "UPDATE_DT       0\n",
      "REMOTEIP        0\n",
      "SHOW_CHK        0\n",
      "judge           0\n",
      "dtype: int64\n"
     ]
    }
   ],
   "source": [
    "print(\"NaN values in normal_df:\")\n",
    "print(normal_na_count)\n",
    "\n",
    "print(\"\\nNaN values in weird_df:\")\n",
    "print(weird_na_count)"
   ]
  },
  {
   "cell_type": "markdown",
   "metadata": {},
   "source": [
    "### NA처리"
   ]
  },
  {
   "cell_type": "code",
   "execution_count": 45,
   "metadata": {},
   "outputs": [],
   "source": [
    "normal_df.fillna(0, inplace=True)\n",
    "\n",
    "# Fill NaN values with 0 in weird_df in-place\n",
    "weird_df.fillna(0, inplace=True)"
   ]
  },
  {
   "cell_type": "code",
   "execution_count": 49,
   "metadata": {},
   "outputs": [
    {
     "data": {
      "text/html": [
       "<div>\n",
       "<style scoped>\n",
       "    .dataframe tbody tr th:only-of-type {\n",
       "        vertical-align: middle;\n",
       "    }\n",
       "\n",
       "    .dataframe tbody tr th {\n",
       "        vertical-align: top;\n",
       "    }\n",
       "\n",
       "    .dataframe thead th {\n",
       "        text-align: right;\n",
       "    }\n",
       "</style>\n",
       "<table border=\"1\" class=\"dataframe\">\n",
       "  <thead>\n",
       "    <tr style=\"text-align: right;\">\n",
       "      <th></th>\n",
       "      <th>GCATALOG_ID</th>\n",
       "      <th>CATALOG_ID</th>\n",
       "      <th>CATALOG_NM</th>\n",
       "      <th>CATEGORYM_ID</th>\n",
       "      <th>KEYWORD</th>\n",
       "      <th>DISPLAY</th>\n",
       "      <th>CATALOG_DESC</th>\n",
       "      <th>INPUT_DT</th>\n",
       "      <th>UPDATE_DT</th>\n",
       "      <th>REMOTEIP</th>\n",
       "      <th>SHOW_CHK</th>\n",
       "      <th>judge</th>\n",
       "    </tr>\n",
       "  </thead>\n",
       "  <tbody>\n",
       "    <tr>\n",
       "      <th>0</th>\n",
       "      <td>GC11346343</td>\n",
       "      <td>CA11736663</td>\n",
       "      <td>New Season 2023 Black Tea Ctc for Milk Tea Fro...</td>\n",
       "      <td>1538</td>\n",
       "      <td>Milk tea,Ctc black tea,Fulmex tea</td>\n",
       "      <td>0</td>\n",
       "      <td>Black tea ctcgrade: pfpacking 65kg/bagqt 26 to...</td>\n",
       "      <td>20230228005732</td>\n",
       "      <td>20230228005732</td>\n",
       "      <td>14.177.113.144</td>\n",
       "      <td>0</td>\n",
       "      <td>1</td>\n",
       "    </tr>\n",
       "    <tr>\n",
       "      <th>3</th>\n",
       "      <td>GC11725829</td>\n",
       "      <td>CA11736659</td>\n",
       "      <td>6mm 612 Electric DC Mini Vibrator Motor VR Mas...</td>\n",
       "      <td>1729</td>\n",
       "      <td>vibration motor,dc motor,coreless motor,mini m...</td>\n",
       "      <td>0</td>\n",
       "      <td>6mm 612 Electric DC Mini Vibrator Motor VR Mas...</td>\n",
       "      <td>20230227223506</td>\n",
       "      <td>20230227223506</td>\n",
       "      <td>103.167.134.61</td>\n",
       "      <td>0</td>\n",
       "      <td>1</td>\n",
       "    </tr>\n",
       "    <tr>\n",
       "      <th>5</th>\n",
       "      <td>GC11736640</td>\n",
       "      <td>CA11736657</td>\n",
       "      <td>Nintendo Switch Console OLED Model 64GB White ...</td>\n",
       "      <td>84599</td>\n",
       "      <td>Nintendo Switch</td>\n",
       "      <td>0</td>\n",
       "      <td>+1 (203) 684 0957.WHATSAPP +1 203 684 0957Stoc...</td>\n",
       "      <td>20230227204731</td>\n",
       "      <td>20230227204731</td>\n",
       "      <td>154.6.85.152</td>\n",
       "      <td>0</td>\n",
       "      <td>1</td>\n",
       "    </tr>\n",
       "    <tr>\n",
       "      <th>6</th>\n",
       "      <td>GC11736640</td>\n",
       "      <td>CA11736656</td>\n",
       "      <td>Newest Roku Ultra LT Streaming Device 4K/HDR/D...</td>\n",
       "      <td>381502</td>\n",
       "      <td>Roku</td>\n",
       "      <td>0</td>\n",
       "      <td>+1 (203) 684 0957.WHATSAPP +1 203 684 0957Stoc...</td>\n",
       "      <td>20230227204555</td>\n",
       "      <td>20230227204555</td>\n",
       "      <td>154.6.85.152</td>\n",
       "      <td>0</td>\n",
       "      <td>1</td>\n",
       "    </tr>\n",
       "    <tr>\n",
       "      <th>7</th>\n",
       "      <td>GC11736640</td>\n",
       "      <td>CA11736655</td>\n",
       "      <td>SAME DAY SHIP! OlaplexING NO. 7 Bonding Oil- 1...</td>\n",
       "      <td>310902</td>\n",
       "      <td>OlaplexING</td>\n",
       "      <td>0</td>\n",
       "      <td>+1 (203) 684 0957.WHATSAPP +1 203 684 0957Stoc...</td>\n",
       "      <td>20230227204422</td>\n",
       "      <td>20230227204422</td>\n",
       "      <td>154.6.85.152</td>\n",
       "      <td>0</td>\n",
       "      <td>1</td>\n",
       "    </tr>\n",
       "  </tbody>\n",
       "</table>\n",
       "</div>"
      ],
      "text/plain": [
       "  GCATALOG_ID  CATALOG_ID                                         CATALOG_NM  \\\n",
       "0  GC11346343  CA11736663  New Season 2023 Black Tea Ctc for Milk Tea Fro...   \n",
       "3  GC11725829  CA11736659  6mm 612 Electric DC Mini Vibrator Motor VR Mas...   \n",
       "5  GC11736640  CA11736657  Nintendo Switch Console OLED Model 64GB White ...   \n",
       "6  GC11736640  CA11736656  Newest Roku Ultra LT Streaming Device 4K/HDR/D...   \n",
       "7  GC11736640  CA11736655  SAME DAY SHIP! OlaplexING NO. 7 Bonding Oil- 1...   \n",
       "\n",
       "   CATEGORYM_ID                                            KEYWORD  DISPLAY  \\\n",
       "0          1538                  Milk tea,Ctc black tea,Fulmex tea        0   \n",
       "3          1729  vibration motor,dc motor,coreless motor,mini m...        0   \n",
       "5         84599                                    Nintendo Switch        0   \n",
       "6        381502                                               Roku        0   \n",
       "7        310902                                         OlaplexING        0   \n",
       "\n",
       "                                        CATALOG_DESC        INPUT_DT  \\\n",
       "0  Black tea ctcgrade: pfpacking 65kg/bagqt 26 to...  20230228005732   \n",
       "3  6mm 612 Electric DC Mini Vibrator Motor VR Mas...  20230227223506   \n",
       "5  +1 (203) 684 0957.WHATSAPP +1 203 684 0957Stoc...  20230227204731   \n",
       "6  +1 (203) 684 0957.WHATSAPP +1 203 684 0957Stoc...  20230227204555   \n",
       "7  +1 (203) 684 0957.WHATSAPP +1 203 684 0957Stoc...  20230227204422   \n",
       "\n",
       "        UPDATE_DT        REMOTEIP  SHOW_CHK  judge  \n",
       "0  20230228005732  14.177.113.144         0      1  \n",
       "3  20230227223506  103.167.134.61         0      1  \n",
       "5  20230227204731    154.6.85.152         0      1  \n",
       "6  20230227204555    154.6.85.152         0      1  \n",
       "7  20230227204422    154.6.85.152         0      1  "
      ]
     },
     "execution_count": 49,
     "metadata": {},
     "output_type": "execute_result"
    }
   ],
   "source": [
    "normal_df.head()"
   ]
  },
  {
   "cell_type": "markdown",
   "metadata": {},
   "source": [
    "### lower(), 불용어, 어근추출"
   ]
  },
  {
   "cell_type": "code",
   "execution_count": 50,
   "metadata": {},
   "outputs": [],
   "source": [
    "def preprocess_text(text):\n",
    "    if isinstance(text, str):  # Check if the value is a string\n",
    "        # Convert to lowercase\n",
    "        text = text.lower()\n",
    "\n",
    "        # Remove special characters\n",
    "        text = ''.join([char for char in text if char not in string.punctuation])\n",
    "\n",
    "    return text\n",
    "\n",
    "def remove_stopwords(text):\n",
    "    if isinstance(text, str):  # Check if the value is a string\n",
    "        stop_words = set(stopwords.words('english'))\n",
    "        words = text.split()\n",
    "        filtered_words = [word for word in words if word.lower() not in stop_words]\n",
    "        return ' '.join(filtered_words)\n",
    "    return text\n",
    "\n",
    "def apply_stemming(text):\n",
    "    if isinstance(text, str):  # Check if the value is a string\n",
    "        stemmer = PorterStemmer()\n",
    "        words = text.split()\n",
    "        stemmed_words = [stemmer.stem(word) for word in words]\n",
    "        return ' '.join(stemmed_words)\n",
    "    return text\n",
    "\n",
    "# Apply text processing to specified columns\n",
    "columns_to_process = ['GCATALOG_ID', 'CATALOG_ID', 'CATALOG_DESC', 'CATALOG_NM', 'KEYWORD']\n",
    "for column in columns_to_process:\n",
    "    normal_df[column] = normal_df[column].apply(preprocess_text)\n",
    "    normal_df[column] = normal_df[column].apply(remove_stopwords)\n",
    "    normal_df[column] = normal_df[column].apply(apply_stemming)\n",
    "    weird_df[column] = weird_df[column].apply(preprocess_text)\n",
    "    weird_df[column] = weird_df[column].apply(remove_stopwords)\n",
    "    weird_df[column] = weird_df[column].apply(apply_stemming) "
   ]
  },
  {
   "cell_type": "code",
   "execution_count": 58,
   "metadata": {},
   "outputs": [
    {
     "data": {
      "text/plain": [
       "KEYWORD\n",
       "0                                                    553\n",
       "sportswear                                           273\n",
       "mountain bike                                        260\n",
       "nitril glove                                         259\n",
       "printhead                                            175\n",
       "                                                    ... \n",
       "rabbit air biog                                        1\n",
       "alen breathesmart classi                               1\n",
       "einscanpro2xplu 3d scanner                             1\n",
       "puffco peak medusa                                     1\n",
       "serilesineargirelinecosmet peptidescosmet ingredi      1\n",
       "Name: count, Length: 257006, dtype: int64"
      ]
     },
     "execution_count": 58,
     "metadata": {},
     "output_type": "execute_result"
    }
   ],
   "source": [
    "normal_df['KEYWORD'].value_counts()"
   ]
  },
  {
   "cell_type": "markdown",
   "metadata": {},
   "source": [
    "## 상품데이터 콘캣"
   ]
  },
  {
   "cell_type": "code",
   "execution_count": 59,
   "metadata": {},
   "outputs": [
    {
     "data": {
      "text/plain": [
       "judge\n",
       "1    342320\n",
       "0    191408\n",
       "Name: count, dtype: int64"
      ]
     },
     "execution_count": 59,
     "metadata": {},
     "output_type": "execute_result"
    }
   ],
   "source": [
    "merged_df = pd.concat([normal_df, weird_df], ignore_index=True)\n",
    "\n",
    "# Display the merged DataFrame\n",
    "merged_df['judge'].value_counts()"
   ]
  },
  {
   "cell_type": "markdown",
   "metadata": {},
   "source": [
    "### REMOTEIP 컬럼 처리"
   ]
  },
  {
   "cell_type": "code",
   "execution_count": 68,
   "metadata": {},
   "outputs": [
    {
     "data": {
      "text/plain": [
       "Index(['GCATALOG_ID', 'CATALOG_ID', 'CATALOG_NM', 'CATEGORYM_ID', 'KEYWORD',\n",
       "       'DISPLAY', 'CATALOG_DESC', 'INPUT_DT', 'UPDATE_DT', 'SHOW_CHK', 'judge',\n",
       "       'REMOTEIP_no_period'],\n",
       "      dtype='object')"
      ]
     },
     "execution_count": 68,
     "metadata": {},
     "output_type": "execute_result"
    }
   ],
   "source": [
    "merged_df.columns"
   ]
  },
  {
   "cell_type": "code",
   "execution_count": 63,
   "metadata": {},
   "outputs": [],
   "source": [
    "merged_df['REMOTEIP_no_period'] = merged_df['REMOTEIP'].str.replace('.', '')\n",
    "merged_df = merged_df.drop('REMOTEIP', axis=1)"
   ]
  },
  {
   "cell_type": "code",
   "execution_count": 65,
   "metadata": {},
   "outputs": [
    {
     "data": {
      "text/html": [
       "<div>\n",
       "<style scoped>\n",
       "    .dataframe tbody tr th:only-of-type {\n",
       "        vertical-align: middle;\n",
       "    }\n",
       "\n",
       "    .dataframe tbody tr th {\n",
       "        vertical-align: top;\n",
       "    }\n",
       "\n",
       "    .dataframe thead th {\n",
       "        text-align: right;\n",
       "    }\n",
       "</style>\n",
       "<table border=\"1\" class=\"dataframe\">\n",
       "  <thead>\n",
       "    <tr style=\"text-align: right;\">\n",
       "      <th></th>\n",
       "      <th>GCATALOG_ID</th>\n",
       "      <th>CATALOG_ID</th>\n",
       "      <th>CATALOG_NM</th>\n",
       "      <th>CATEGORYM_ID</th>\n",
       "      <th>KEYWORD</th>\n",
       "      <th>DISPLAY</th>\n",
       "      <th>CATALOG_DESC</th>\n",
       "      <th>INPUT_DT</th>\n",
       "      <th>UPDATE_DT</th>\n",
       "      <th>SHOW_CHK</th>\n",
       "      <th>judge</th>\n",
       "      <th>REMOTEIP_no_period</th>\n",
       "    </tr>\n",
       "  </thead>\n",
       "  <tbody>\n",
       "    <tr>\n",
       "      <th>0</th>\n",
       "      <td>gc11346343</td>\n",
       "      <td>ca11736663</td>\n",
       "      <td>new season 2023 black tea ctc milk tea fulmex ...</td>\n",
       "      <td>1538</td>\n",
       "      <td>milk teactc black teafulmex tea</td>\n",
       "      <td>0</td>\n",
       "      <td>black tea ctcgrade pfpack 65kgbagqt 26 tons40f...</td>\n",
       "      <td>20230228005732</td>\n",
       "      <td>20230228005732</td>\n",
       "      <td>0</td>\n",
       "      <td>1</td>\n",
       "      <td>14177113144</td>\n",
       "    </tr>\n",
       "    <tr>\n",
       "      <th>1</th>\n",
       "      <td>gc11725829</td>\n",
       "      <td>ca11736659</td>\n",
       "      <td>6mm 612 electr dc mini vibrat motor vr massag ...</td>\n",
       "      <td>1729</td>\n",
       "      <td>vibrat motordc motorcoreless motormini motorsm...</td>\n",
       "      <td>0</td>\n",
       "      <td>6mm 612 electr dc mini vibrat motor vr massag ...</td>\n",
       "      <td>20230227223506</td>\n",
       "      <td>20230227223506</td>\n",
       "      <td>0</td>\n",
       "      <td>1</td>\n",
       "      <td>10316713461</td>\n",
       "    </tr>\n",
       "    <tr>\n",
       "      <th>2</th>\n",
       "      <td>gc11736640</td>\n",
       "      <td>ca11736657</td>\n",
       "      <td>nintendo switch consol ole model 64gb white br...</td>\n",
       "      <td>84599</td>\n",
       "      <td>nintendo switch</td>\n",
       "      <td>0</td>\n",
       "      <td>1 203 684 0957whatsapp 1 203 684 0957stock ava...</td>\n",
       "      <td>20230227204731</td>\n",
       "      <td>20230227204731</td>\n",
       "      <td>0</td>\n",
       "      <td>1</td>\n",
       "      <td>154685152</td>\n",
       "    </tr>\n",
       "    <tr>\n",
       "      <th>3</th>\n",
       "      <td>gc11736640</td>\n",
       "      <td>ca11736656</td>\n",
       "      <td>newest roku ultra lt stream devic 4khdrdolbi v...</td>\n",
       "      <td>381502</td>\n",
       "      <td>roku</td>\n",
       "      <td>0</td>\n",
       "      <td>1 203 684 0957whatsapp 1 203 684 0957stock ava...</td>\n",
       "      <td>20230227204555</td>\n",
       "      <td>20230227204555</td>\n",
       "      <td>0</td>\n",
       "      <td>1</td>\n",
       "      <td>154685152</td>\n",
       "    </tr>\n",
       "    <tr>\n",
       "      <th>4</th>\n",
       "      <td>gc11736640</td>\n",
       "      <td>ca11736655</td>\n",
       "      <td>day ship olaplex 7 bond oil 100 authent</td>\n",
       "      <td>310902</td>\n",
       "      <td>olaplex</td>\n",
       "      <td>0</td>\n",
       "      <td>1 203 684 0957whatsapp 1 203 684 0957stock ava...</td>\n",
       "      <td>20230227204422</td>\n",
       "      <td>20230227204422</td>\n",
       "      <td>0</td>\n",
       "      <td>1</td>\n",
       "      <td>154685152</td>\n",
       "    </tr>\n",
       "  </tbody>\n",
       "</table>\n",
       "</div>"
      ],
      "text/plain": [
       "  GCATALOG_ID  CATALOG_ID                                         CATALOG_NM  \\\n",
       "0  gc11346343  ca11736663  new season 2023 black tea ctc milk tea fulmex ...   \n",
       "1  gc11725829  ca11736659  6mm 612 electr dc mini vibrat motor vr massag ...   \n",
       "2  gc11736640  ca11736657  nintendo switch consol ole model 64gb white br...   \n",
       "3  gc11736640  ca11736656  newest roku ultra lt stream devic 4khdrdolbi v...   \n",
       "4  gc11736640  ca11736655            day ship olaplex 7 bond oil 100 authent   \n",
       "\n",
       "   CATEGORYM_ID                                            KEYWORD  DISPLAY  \\\n",
       "0          1538                    milk teactc black teafulmex tea        0   \n",
       "1          1729  vibrat motordc motorcoreless motormini motorsm...        0   \n",
       "2         84599                                    nintendo switch        0   \n",
       "3        381502                                               roku        0   \n",
       "4        310902                                            olaplex        0   \n",
       "\n",
       "                                        CATALOG_DESC        INPUT_DT  \\\n",
       "0  black tea ctcgrade pfpack 65kgbagqt 26 tons40f...  20230228005732   \n",
       "1  6mm 612 electr dc mini vibrat motor vr massag ...  20230227223506   \n",
       "2  1 203 684 0957whatsapp 1 203 684 0957stock ava...  20230227204731   \n",
       "3  1 203 684 0957whatsapp 1 203 684 0957stock ava...  20230227204555   \n",
       "4  1 203 684 0957whatsapp 1 203 684 0957stock ava...  20230227204422   \n",
       "\n",
       "        UPDATE_DT  SHOW_CHK  judge REMOTEIP_no_period  \n",
       "0  20230228005732         0      1        14177113144  \n",
       "1  20230227223506         0      1        10316713461  \n",
       "2  20230227204731         0      1          154685152  \n",
       "3  20230227204555         0      1          154685152  \n",
       "4  20230227204422         0      1          154685152  "
      ]
     },
     "execution_count": 65,
     "metadata": {},
     "output_type": "execute_result"
    }
   ],
   "source": [
    "merged_df.head()"
   ]
  },
  {
   "cell_type": "markdown",
   "metadata": {},
   "source": [
    "## CountVectorize"
   ]
  },
  {
   "cell_type": "code",
   "execution_count": 1,
   "metadata": {},
   "outputs": [],
   "source": [
    "from sklearn.feature_extraction.text import CountVectorizer"
   ]
  },
  {
   "cell_type": "code",
   "execution_count": null,
   "metadata": {},
   "outputs": [],
   "source": []
  }
 ],
 "metadata": {
  "kernelspec": {
   "display_name": "Python 3 (ipykernel)",
   "language": "python",
   "name": "python3"
  },
  "language_info": {
   "codemirror_mode": {
    "name": "ipython",
    "version": 3
   },
   "file_extension": ".py",
   "mimetype": "text/x-python",
   "name": "python",
   "nbconvert_exporter": "python",
   "pygments_lexer": "ipython3",
   "version": "3.11.5"
  }
 },
 "nbformat": 4,
 "nbformat_minor": 2
}
