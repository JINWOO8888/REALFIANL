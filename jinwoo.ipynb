{
 "cells": [
  {
   "cell_type": "code",
   "execution_count": 2,
   "metadata": {},
   "outputs": [],
   "source": [
    "import pandas as pd"
   ]
  },
  {
   "cell_type": "code",
   "execution_count": 3,
   "metadata": {},
   "outputs": [],
   "source": [
    "from pandas import Series, DataFrame"
   ]
  },
  {
   "cell_type": "markdown",
   "metadata": {},
   "source": [
    "## 데이터셋 불러오기"
   ]
  },
  {
   "cell_type": "code",
   "execution_count": 4,
   "metadata": {},
   "outputs": [
    {
     "name": "stderr",
     "output_type": "stream",
     "text": [
      "C:\\Users\\ujn9\\AppData\\Local\\Temp\\ipykernel_4044\\3917221033.py:5: DtypeWarning: Columns (4,5) have mixed types. Specify dtype option on import or set low_memory=False.\n",
      "  normal_member = pd.read_csv('./dataset/정상회원데이터.csv')\n"
     ]
    }
   ],
   "source": [
    "keywords = pd.read_csv('./dataset/금지어keyword.csv')\n",
    "blacklist = pd.read_csv('./dataset/블랙리스트정보v2 - 복사본.csv', encoding='latin1')\n",
    "normal_item_2022 = pd.read_csv('./dataset/정상상품.csv')\n",
    "weird_item_2022 = pd.read_csv('./dataset/이상상품.csv')\n",
    "normal_member = pd.read_csv('./dataset/정상회원데이터.csv')\n",
    "weird_member = pd.read_csv('./dataset/이상회원데이터.csv')\n",
    "inquir = pd.read_csv('./dataset/인콰이어리데이터.csv')"
   ]
  },
  {
   "cell_type": "code",
   "execution_count": 4,
   "metadata": {},
   "outputs": [],
   "source": [
    "members = pd.read_csv('./dataset/members_concat_v2.csv')\n",
    "items = pd.read_csv('./dataset/product_concat_v2.csv')"
   ]
  },
  {
   "cell_type": "code",
   "execution_count": 4,
   "metadata": {},
   "outputs": [
    {
     "data": {
      "text/html": [
       "<div>\n",
       "<style scoped>\n",
       "    .dataframe tbody tr th:only-of-type {\n",
       "        vertical-align: middle;\n",
       "    }\n",
       "\n",
       "    .dataframe tbody tr th {\n",
       "        vertical-align: top;\n",
       "    }\n",
       "\n",
       "    .dataframe thead th {\n",
       "        text-align: right;\n",
       "    }\n",
       "</style>\n",
       "<table border=\"1\" class=\"dataframe\">\n",
       "  <thead>\n",
       "    <tr style=\"text-align: right;\">\n",
       "      <th></th>\n",
       "      <th>MEMBER_ID</th>\n",
       "      <th>CATALOG_NM</th>\n",
       "      <th>CATEGORYM_ID</th>\n",
       "      <th>KEYWORD</th>\n",
       "      <th>DISPLAY</th>\n",
       "      <th>CATALOG_DESC</th>\n",
       "      <th>INPUT_DT</th>\n",
       "      <th>UPDATE_DT</th>\n",
       "      <th>REMOTEIP</th>\n",
       "      <th>SHOW_CHK</th>\n",
       "      <th>judge</th>\n",
       "    </tr>\n",
       "  </thead>\n",
       "  <tbody>\n",
       "    <tr>\n",
       "      <th>0</th>\n",
       "      <td>shangyuanshibang</td>\n",
       "      <td>1-BOC-4-(4-BROMO-PHENYLAMINO)-PIPERIDINECas 44...</td>\n",
       "      <td>212815</td>\n",
       "      <td>1-BOC-4- 4-BROMO-PHENYLAM</td>\n",
       "      <td>1</td>\n",
       "      <td>1. 名称和标识符1.1 名称1-叔丁氧羰基-4-（4-溴苯基氨基）哌啶1.2 同义词1-哌...</td>\n",
       "      <td>20230228</td>\n",
       "      <td>20230228</td>\n",
       "      <td>21978227175</td>\n",
       "      <td>1</td>\n",
       "      <td>0</td>\n",
       "    </tr>\n",
       "    <tr>\n",
       "      <th>1</th>\n",
       "      <td>shangyuanshibang</td>\n",
       "      <td>High Purity N- (Tert-Butoxycarbonyl) -4-Piperi...</td>\n",
       "      <td>212815</td>\n",
       "      <td>N- tert-Butoxycarbonyl -4</td>\n",
       "      <td>1</td>\n",
       "      <td>1. 名称和标识符1.1 名称N-叔丁氧羰基-4-哌啶酮1.2 同义词1-叔丁氧羰基-4-哌...</td>\n",
       "      <td>20230228</td>\n",
       "      <td>20230228</td>\n",
       "      <td>4237992</td>\n",
       "      <td>1</td>\n",
       "      <td>0</td>\n",
       "    </tr>\n",
       "    <tr>\n",
       "      <th>2</th>\n",
       "      <td>shangyuanshibang</td>\n",
       "      <td>1,1-dimethylethyl Ester CAS 288573-56-8</td>\n",
       "      <td>212815</td>\n",
       "      <td>1-BOC-4- 4-FLUORO-PHENYLA</td>\n",
       "      <td>1</td>\n",
       "      <td>1. Names and Identifiers1.1 Name1-BOC-4-(4-FLU...</td>\n",
       "      <td>20230228</td>\n",
       "      <td>20230228</td>\n",
       "      <td>4237992</td>\n",
       "      <td>1</td>\n",
       "      <td>0</td>\n",
       "    </tr>\n",
       "    <tr>\n",
       "      <th>3</th>\n",
       "      <td>shangyuanshibang</td>\n",
       "      <td>White Crystal N-Isopropylbenzylamine CAS 102-9...</td>\n",
       "      <td>212815</td>\n",
       "      <td>N-Isopropylbenzylamine</td>\n",
       "      <td>1</td>\n",
       "      <td>1. Names and Identifiers1.1 NameN-Isopropylben...</td>\n",
       "      <td>20230228</td>\n",
       "      <td>20230228</td>\n",
       "      <td>4237992</td>\n",
       "      <td>1</td>\n",
       "      <td>0</td>\n",
       "    </tr>\n",
       "    <tr>\n",
       "      <th>4</th>\n",
       "      <td>5527</td>\n",
       "      <td>Soybean GMO &amp; NON-GMO</td>\n",
       "      <td>11607</td>\n",
       "      <td>Soybean soybean gmo</td>\n",
       "      <td>1</td>\n",
       "      <td>Soja GMO &amp; Soja NON-GMOEm estoque:  5000000 MT...</td>\n",
       "      <td>20230228</td>\n",
       "      <td>20230228</td>\n",
       "      <td>131196216214</td>\n",
       "      <td>1</td>\n",
       "      <td>0</td>\n",
       "    </tr>\n",
       "  </tbody>\n",
       "</table>\n",
       "</div>"
      ],
      "text/plain": [
       "          MEMBER_ID                                         CATALOG_NM  \\\n",
       "0  shangyuanshibang  1-BOC-4-(4-BROMO-PHENYLAMINO)-PIPERIDINECas 44...   \n",
       "1  shangyuanshibang  High Purity N- (Tert-Butoxycarbonyl) -4-Piperi...   \n",
       "2  shangyuanshibang            1,1-dimethylethyl Ester CAS 288573-56-8   \n",
       "3  shangyuanshibang  White Crystal N-Isopropylbenzylamine CAS 102-9...   \n",
       "4              5527                              Soybean GMO & NON-GMO   \n",
       "\n",
       "   CATEGORYM_ID                    KEYWORD  DISPLAY  \\\n",
       "0        212815  1-BOC-4- 4-BROMO-PHENYLAM        1   \n",
       "1        212815  N- tert-Butoxycarbonyl -4        1   \n",
       "2        212815  1-BOC-4- 4-FLUORO-PHENYLA        1   \n",
       "3        212815     N-Isopropylbenzylamine        1   \n",
       "4         11607        Soybean soybean gmo        1   \n",
       "\n",
       "                                        CATALOG_DESC  INPUT_DT  UPDATE_DT  \\\n",
       "0  1. 名称和标识符1.1 名称1-叔丁氧羰基-4-（4-溴苯基氨基）哌啶1.2 同义词1-哌...  20230228   20230228   \n",
       "1  1. 名称和标识符1.1 名称N-叔丁氧羰基-4-哌啶酮1.2 同义词1-叔丁氧羰基-4-哌...  20230228   20230228   \n",
       "2  1. Names and Identifiers1.1 Name1-BOC-4-(4-FLU...  20230228   20230228   \n",
       "3  1. Names and Identifiers1.1 NameN-Isopropylben...  20230228   20230228   \n",
       "4  Soja GMO & Soja NON-GMOEm estoque:  5000000 MT...  20230228   20230228   \n",
       "\n",
       "       REMOTEIP  SHOW_CHK  judge  \n",
       "0   21978227175         1      0  \n",
       "1       4237992         1      0  \n",
       "2       4237992         1      0  \n",
       "3       4237992         1      0  \n",
       "4  131196216214         1      0  "
      ]
     },
     "execution_count": 4,
     "metadata": {},
     "output_type": "execute_result"
    }
   ],
   "source": [
    "items.head()"
   ]
  },
  {
   "cell_type": "markdown",
   "metadata": {},
   "source": [
    "## 패키지 로드"
   ]
  },
  {
   "cell_type": "code",
   "execution_count": 5,
   "metadata": {},
   "outputs": [
    {
     "name": "stderr",
     "output_type": "stream",
     "text": [
      "[nltk_data] Downloading package stopwords to\n",
      "[nltk_data]     C:\\Users\\ujn9\\AppData\\Roaming\\nltk_data...\n",
      "[nltk_data]   Package stopwords is already up-to-date!\n"
     ]
    }
   ],
   "source": [
    "import nltk\n",
    "nltk.download('stopwords')\n",
    "from nltk.corpus import stopwords\n",
    "from nltk.stem import PorterStemmer, WordNetLemmatizer\n",
    "import string"
   ]
  },
  {
   "cell_type": "markdown",
   "metadata": {},
   "source": [
    "## 데이터 클렌징"
   ]
  },
  {
   "cell_type": "markdown",
   "metadata": {},
   "source": [
    "### 데이터 드롭"
   ]
  },
  {
   "cell_type": "code",
   "execution_count": 19,
   "metadata": {},
   "outputs": [],
   "source": [
    "normal_df = normal_df.drop('MEMBER_ID', axis=1)\n",
    "weird_df = weird_df.drop('MEMBER_ID', axis=1)"
   ]
  },
  {
   "cell_type": "code",
   "execution_count": 6,
   "metadata": {},
   "outputs": [],
   "source": [
    "members = members.drop('MEMBER_ID', axis=1)\n",
    "items = items.drop('MEMBER_ID', axis=1)"
   ]
  },
  {
   "cell_type": "code",
   "execution_count": 7,
   "metadata": {},
   "outputs": [
    {
     "data": {
      "text/plain": [
       "CATALOG_NM      0\n",
       "CATEGORYM_ID    0\n",
       "KEYWORD         0\n",
       "DISPLAY         0\n",
       "CATALOG_DESC    0\n",
       "INPUT_DT        0\n",
       "UPDATE_DT       0\n",
       "REMOTEIP        0\n",
       "SHOW_CHK        0\n",
       "judge           0\n",
       "dtype: int64"
      ]
     },
     "execution_count": 7,
     "metadata": {},
     "output_type": "execute_result"
    }
   ],
   "source": [
    "items.isna().sum()"
   ]
  },
  {
   "cell_type": "markdown",
   "metadata": {},
   "source": [
    "### NA처리"
   ]
  },
  {
   "cell_type": "code",
   "execution_count": 22,
   "metadata": {},
   "outputs": [],
   "source": [
    "normal_df.fillna(0, inplace=True)\n",
    "\n",
    "# Fill NaN values with 0 in weird_df in-place\n",
    "weird_df.fillna(0, inplace=True)"
   ]
  },
  {
   "cell_type": "code",
   "execution_count": 23,
   "metadata": {},
   "outputs": [
    {
     "data": {
      "text/html": [
       "<div>\n",
       "<style scoped>\n",
       "    .dataframe tbody tr th:only-of-type {\n",
       "        vertical-align: middle;\n",
       "    }\n",
       "\n",
       "    .dataframe tbody tr th {\n",
       "        vertical-align: top;\n",
       "    }\n",
       "\n",
       "    .dataframe thead th {\n",
       "        text-align: right;\n",
       "    }\n",
       "</style>\n",
       "<table border=\"1\" class=\"dataframe\">\n",
       "  <thead>\n",
       "    <tr style=\"text-align: right;\">\n",
       "      <th></th>\n",
       "      <th>GCATALOG_ID</th>\n",
       "      <th>CATALOG_ID</th>\n",
       "      <th>CATALOG_NM</th>\n",
       "      <th>CATEGORYM_ID</th>\n",
       "      <th>KEYWORD</th>\n",
       "      <th>DISPLAY</th>\n",
       "      <th>CATALOG_DESC</th>\n",
       "      <th>INPUT_DT</th>\n",
       "      <th>UPDATE_DT</th>\n",
       "      <th>REMOTEIP</th>\n",
       "      <th>SHOW_CHK</th>\n",
       "      <th>judge</th>\n",
       "    </tr>\n",
       "  </thead>\n",
       "  <tbody>\n",
       "    <tr>\n",
       "      <th>0</th>\n",
       "      <td>GC11346343</td>\n",
       "      <td>CA11736663</td>\n",
       "      <td>New Season 2023 Black Tea Ctc for Milk Tea Fro...</td>\n",
       "      <td>1538</td>\n",
       "      <td>Milk tea,Ctc black tea,Fulmex tea</td>\n",
       "      <td>0</td>\n",
       "      <td>Black tea ctcgrade: pfpacking 65kg/bagqt 26 to...</td>\n",
       "      <td>20230228005732</td>\n",
       "      <td>20230228005732</td>\n",
       "      <td>14.177.113.144</td>\n",
       "      <td>0</td>\n",
       "      <td>1</td>\n",
       "    </tr>\n",
       "    <tr>\n",
       "      <th>3</th>\n",
       "      <td>GC11725829</td>\n",
       "      <td>CA11736659</td>\n",
       "      <td>6mm 612 Electric DC Mini Vibrator Motor VR Mas...</td>\n",
       "      <td>1729</td>\n",
       "      <td>vibration motor,dc motor,coreless motor,mini m...</td>\n",
       "      <td>0</td>\n",
       "      <td>6mm 612 Electric DC Mini Vibrator Motor VR Mas...</td>\n",
       "      <td>20230227223506</td>\n",
       "      <td>20230227223506</td>\n",
       "      <td>103.167.134.61</td>\n",
       "      <td>0</td>\n",
       "      <td>1</td>\n",
       "    </tr>\n",
       "    <tr>\n",
       "      <th>5</th>\n",
       "      <td>GC11736640</td>\n",
       "      <td>CA11736657</td>\n",
       "      <td>Nintendo Switch Console OLED Model 64GB White ...</td>\n",
       "      <td>84599</td>\n",
       "      <td>Nintendo Switch</td>\n",
       "      <td>0</td>\n",
       "      <td>+1 (203) 684 0957.WHATSAPP +1 203 684 0957Stoc...</td>\n",
       "      <td>20230227204731</td>\n",
       "      <td>20230227204731</td>\n",
       "      <td>154.6.85.152</td>\n",
       "      <td>0</td>\n",
       "      <td>1</td>\n",
       "    </tr>\n",
       "    <tr>\n",
       "      <th>6</th>\n",
       "      <td>GC11736640</td>\n",
       "      <td>CA11736656</td>\n",
       "      <td>Newest Roku Ultra LT Streaming Device 4K/HDR/D...</td>\n",
       "      <td>381502</td>\n",
       "      <td>Roku</td>\n",
       "      <td>0</td>\n",
       "      <td>+1 (203) 684 0957.WHATSAPP +1 203 684 0957Stoc...</td>\n",
       "      <td>20230227204555</td>\n",
       "      <td>20230227204555</td>\n",
       "      <td>154.6.85.152</td>\n",
       "      <td>0</td>\n",
       "      <td>1</td>\n",
       "    </tr>\n",
       "    <tr>\n",
       "      <th>7</th>\n",
       "      <td>GC11736640</td>\n",
       "      <td>CA11736655</td>\n",
       "      <td>SAME DAY SHIP! OlaplexING NO. 7 Bonding Oil- 1...</td>\n",
       "      <td>310902</td>\n",
       "      <td>OlaplexING</td>\n",
       "      <td>0</td>\n",
       "      <td>+1 (203) 684 0957.WHATSAPP +1 203 684 0957Stoc...</td>\n",
       "      <td>20230227204422</td>\n",
       "      <td>20230227204422</td>\n",
       "      <td>154.6.85.152</td>\n",
       "      <td>0</td>\n",
       "      <td>1</td>\n",
       "    </tr>\n",
       "  </tbody>\n",
       "</table>\n",
       "</div>"
      ],
      "text/plain": [
       "  GCATALOG_ID  CATALOG_ID                                         CATALOG_NM  \\\n",
       "0  GC11346343  CA11736663  New Season 2023 Black Tea Ctc for Milk Tea Fro...   \n",
       "3  GC11725829  CA11736659  6mm 612 Electric DC Mini Vibrator Motor VR Mas...   \n",
       "5  GC11736640  CA11736657  Nintendo Switch Console OLED Model 64GB White ...   \n",
       "6  GC11736640  CA11736656  Newest Roku Ultra LT Streaming Device 4K/HDR/D...   \n",
       "7  GC11736640  CA11736655  SAME DAY SHIP! OlaplexING NO. 7 Bonding Oil- 1...   \n",
       "\n",
       "   CATEGORYM_ID                                            KEYWORD  DISPLAY  \\\n",
       "0          1538                  Milk tea,Ctc black tea,Fulmex tea        0   \n",
       "3          1729  vibration motor,dc motor,coreless motor,mini m...        0   \n",
       "5         84599                                    Nintendo Switch        0   \n",
       "6        381502                                               Roku        0   \n",
       "7        310902                                         OlaplexING        0   \n",
       "\n",
       "                                        CATALOG_DESC        INPUT_DT  \\\n",
       "0  Black tea ctcgrade: pfpacking 65kg/bagqt 26 to...  20230228005732   \n",
       "3  6mm 612 Electric DC Mini Vibrator Motor VR Mas...  20230227223506   \n",
       "5  +1 (203) 684 0957.WHATSAPP +1 203 684 0957Stoc...  20230227204731   \n",
       "6  +1 (203) 684 0957.WHATSAPP +1 203 684 0957Stoc...  20230227204555   \n",
       "7  +1 (203) 684 0957.WHATSAPP +1 203 684 0957Stoc...  20230227204422   \n",
       "\n",
       "        UPDATE_DT        REMOTEIP  SHOW_CHK  judge  \n",
       "0  20230228005732  14.177.113.144         0      1  \n",
       "3  20230227223506  103.167.134.61         0      1  \n",
       "5  20230227204731    154.6.85.152         0      1  \n",
       "6  20230227204555    154.6.85.152         0      1  \n",
       "7  20230227204422    154.6.85.152         0      1  "
      ]
     },
     "execution_count": 23,
     "metadata": {},
     "output_type": "execute_result"
    }
   ],
   "source": [
    "normal_df.head()"
   ]
  },
  {
   "cell_type": "markdown",
   "metadata": {},
   "source": [
    "### lower(), 불용어, 어근추출"
   ]
  },
  {
   "cell_type": "code",
   "execution_count": 9,
   "metadata": {},
   "outputs": [],
   "source": [
    "def preprocess_text(text):\n",
    "    if isinstance(text, str):  # Check if the value is a string\n",
    "        # Convert to lowercase\n",
    "        text = text.lower()\n",
    "\n",
    "        # Remove special characters\n",
    "        text = ''.join([char for char in text if char not in string.punctuation])\n",
    "\n",
    "    return text\n",
    "\n",
    "def remove_stopwords(text):\n",
    "    if isinstance(text, str):  # Check if the value is a string\n",
    "        stop_words = set(stopwords.words('english'))\n",
    "        words = text.split()\n",
    "        filtered_words = [word for word in words if word.lower() not in stop_words]\n",
    "        return ' '.join(filtered_words)\n",
    "    return text\n",
    "\n",
    "def apply_stemming(text):\n",
    "    if isinstance(text, str):  # Check if the value is a string\n",
    "        stemmer = PorterStemmer()\n",
    "        words = text.split()\n",
    "        stemmed_words = [stemmer.stem(word) for word in words]\n",
    "        return ' '.join(stemmed_words)\n",
    "    return text\n",
    "\n",
    "# Apply text processing to specified columns\n",
    "columns_to_process = ['CATALOG_DESC', 'CATALOG_NM', 'KEYWORD']\n",
    "for column in columns_to_process:\n",
    "    items[column] = items[column].apply(preprocess_text)\n",
    "    items[column] = items[column].apply(remove_stopwords)\n",
    "    items[column] = items[column].apply(apply_stemming)\n",
    "  "
   ]
  },
  {
   "cell_type": "markdown",
   "metadata": {},
   "source": [
    "### 중국말 삭제"
   ]
  },
  {
   "cell_type": "code",
   "execution_count": 42,
   "metadata": {},
   "outputs": [],
   "source": [
    "import re"
   ]
  },
  {
   "cell_type": "code",
   "execution_count": 43,
   "metadata": {},
   "outputs": [],
   "source": [
    "items['CATALOG_DESC'] = items['CATALOG_DESC'].apply(lambda x: re.sub('[^a-zA-Z]',' ',str(x)))"
   ]
  },
  {
   "cell_type": "code",
   "execution_count": 44,
   "metadata": {},
   "outputs": [],
   "source": [
    "items['CATALOG_NM'] = items['CATALOG_NM'].apply(lambda x: re.sub('[^a-zA-Z]',' ',str(x)))"
   ]
  },
  {
   "cell_type": "code",
   "execution_count": 45,
   "metadata": {},
   "outputs": [],
   "source": [
    "items['KEYWORD'] = items['KEYWORD'].apply(lambda x: re.sub('[^a-zA-Z]',' ',str(x)))"
   ]
  },
  {
   "cell_type": "code",
   "execution_count": 61,
   "metadata": {},
   "outputs": [
    {
     "data": {
      "text/html": [
       "<div>\n",
       "<style scoped>\n",
       "    .dataframe tbody tr th:only-of-type {\n",
       "        vertical-align: middle;\n",
       "    }\n",
       "\n",
       "    .dataframe tbody tr th {\n",
       "        vertical-align: top;\n",
       "    }\n",
       "\n",
       "    .dataframe thead th {\n",
       "        text-align: right;\n",
       "    }\n",
       "</style>\n",
       "<table border=\"1\" class=\"dataframe\">\n",
       "  <thead>\n",
       "    <tr style=\"text-align: right;\">\n",
       "      <th></th>\n",
       "      <th>CATALOG_NM</th>\n",
       "      <th>CATEGORYM_ID</th>\n",
       "      <th>KEYWORD</th>\n",
       "      <th>DISPLAY</th>\n",
       "      <th>CATALOG_DESC</th>\n",
       "      <th>INPUT_DT</th>\n",
       "      <th>UPDATE_DT</th>\n",
       "      <th>REMOTEIP</th>\n",
       "      <th>SHOW_CHK</th>\n",
       "      <th>judge</th>\n",
       "    </tr>\n",
       "  </thead>\n",
       "  <tbody>\n",
       "    <tr>\n",
       "      <th>0</th>\n",
       "      <td>boc  bromophenylaminopiperidineca</td>\n",
       "      <td>212815</td>\n",
       "      <td>boc   bromophenylam</td>\n",
       "      <td>1</td>\n",
       "      <td>...</td>\n",
       "      <td>20230228</td>\n",
       "      <td>20230228</td>\n",
       "      <td>21978227175</td>\n",
       "      <td>1</td>\n",
       "      <td>0</td>\n",
       "    </tr>\n",
       "    <tr>\n",
       "      <th>1</th>\n",
       "      <td>high puriti n tertbutoxycarbonyl  piperidon ca...</td>\n",
       "      <td>212815</td>\n",
       "      <td>n tertbutoxycarbonyl</td>\n",
       "      <td>1</td>\n",
       "      <td>n                                ...</td>\n",
       "      <td>20230228</td>\n",
       "      <td>20230228</td>\n",
       "      <td>4237992</td>\n",
       "      <td>1</td>\n",
       "      <td>0</td>\n",
       "    </tr>\n",
       "    <tr>\n",
       "      <th>2</th>\n",
       "      <td>dimethylethyl ester ca</td>\n",
       "      <td>212815</td>\n",
       "      <td>boc   fluorophenyla</td>\n",
       "      <td>1</td>\n",
       "      <td>name identifiers   name boc  fluorophenylami...</td>\n",
       "      <td>20230228</td>\n",
       "      <td>20230228</td>\n",
       "      <td>4237992</td>\n",
       "      <td>1</td>\n",
       "      <td>0</td>\n",
       "    </tr>\n",
       "    <tr>\n",
       "      <th>3</th>\n",
       "      <td>white crystal nisopropylbenzylamin ca        i...</td>\n",
       "      <td>212815</td>\n",
       "      <td>nisopropylbenzylamin</td>\n",
       "      <td>1</td>\n",
       "      <td>name identifiers   namenisopropylbenzylamine...</td>\n",
       "      <td>20230228</td>\n",
       "      <td>20230228</td>\n",
       "      <td>4237992</td>\n",
       "      <td>1</td>\n",
       "      <td>0</td>\n",
       "    </tr>\n",
       "    <tr>\n",
       "      <th>4</th>\n",
       "      <td>soybean gmo nongmo</td>\n",
       "      <td>11607</td>\n",
       "      <td>soybean soybean gmo</td>\n",
       "      <td>1</td>\n",
       "      <td>soja gmo soja nongmoem estoqu         mtorigem...</td>\n",
       "      <td>20230228</td>\n",
       "      <td>20230228</td>\n",
       "      <td>131196216214</td>\n",
       "      <td>1</td>\n",
       "      <td>0</td>\n",
       "    </tr>\n",
       "  </tbody>\n",
       "</table>\n",
       "</div>"
      ],
      "text/plain": [
       "                                          CATALOG_NM  CATEGORYM_ID  \\\n",
       "0        boc  bromophenylaminopiperidineca                  212815   \n",
       "1  high puriti n tertbutoxycarbonyl  piperidon ca...        212815   \n",
       "2                   dimethylethyl ester ca                  212815   \n",
       "3  white crystal nisopropylbenzylamin ca        i...        212815   \n",
       "4                                 soybean gmo nongmo         11607   \n",
       "\n",
       "                  KEYWORD  DISPLAY  \\\n",
       "0     boc   bromophenylam        1   \n",
       "1  n tertbutoxycarbonyl          1   \n",
       "2     boc   fluorophenyla        1   \n",
       "3    nisopropylbenzylamin        1   \n",
       "4     soybean soybean gmo        1   \n",
       "\n",
       "                                        CATALOG_DESC  INPUT_DT  UPDATE_DT  \\\n",
       "0                                                ...  20230228   20230228   \n",
       "1               n                                ...  20230228   20230228   \n",
       "2    name identifiers   name boc  fluorophenylami...  20230228   20230228   \n",
       "3    name identifiers   namenisopropylbenzylamine...  20230228   20230228   \n",
       "4  soja gmo soja nongmoem estoqu         mtorigem...  20230228   20230228   \n",
       "\n",
       "       REMOTEIP  SHOW_CHK  judge  \n",
       "0   21978227175         1      0  \n",
       "1       4237992         1      0  \n",
       "2       4237992         1      0  \n",
       "3       4237992         1      0  \n",
       "4  131196216214         1      0  "
      ]
     },
     "execution_count": 61,
     "metadata": {},
     "output_type": "execute_result"
    }
   ],
   "source": [
    "items.head()"
   ]
  },
  {
   "cell_type": "code",
   "execution_count": 64,
   "metadata": {},
   "outputs": [
    {
     "data": {
      "text/plain": [
       "0                                                       ...\n",
       "1                      n                                ...\n",
       "2           name identifiers   name boc  fluorophenylami...\n",
       "3           name identifiers   namenisopropylbenzylamine...\n",
       "4         soja gmo soja nongmoem estoqu         mtorigem...\n",
       "                                ...                        \n",
       "751310    product name serilesin synonym hexapeptide   p...\n",
       "751311    product descript hrc   blue nano coat mill too...\n",
       "751312    product descript hrc   blue nano coat mill too...\n",
       "751313    product descript hrc   blue nano coat mill too...\n",
       "751314    product descript hrc   blue nano coat mill too...\n",
       "Name: CATALOG_DESC, Length: 751315, dtype: object"
      ]
     },
     "execution_count": 64,
     "metadata": {},
     "output_type": "execute_result"
    }
   ],
   "source": [
    "items['CATALOG_DESC']"
   ]
  },
  {
   "cell_type": "code",
   "execution_count": 46,
   "metadata": {},
   "outputs": [],
   "source": [
    "x = items.drop('judge', axis=1)\n"
   ]
  },
  {
   "cell_type": "code",
   "execution_count": 47,
   "metadata": {},
   "outputs": [],
   "source": [
    "y = items['judge']"
   ]
  },
  {
   "cell_type": "code",
   "execution_count": 48,
   "metadata": {},
   "outputs": [],
   "source": [
    "t = x.head(5000)"
   ]
  },
  {
   "cell_type": "code",
   "execution_count": 49,
   "metadata": {},
   "outputs": [],
   "source": [
    "q = y.head(5000)"
   ]
  },
  {
   "cell_type": "markdown",
   "metadata": {},
   "source": [
    "## 데이터 분리"
   ]
  },
  {
   "cell_type": "code",
   "execution_count": 17,
   "metadata": {},
   "outputs": [],
   "source": [
    "from sklearn.model_selection import train_test_split"
   ]
  },
  {
   "cell_type": "markdown",
   "metadata": {},
   "source": [
    "### object 타입 원핫인코딩"
   ]
  },
  {
   "cell_type": "code",
   "execution_count": null,
   "metadata": {},
   "outputs": [],
   "source": [
    "t = pd.get_dummies(t)"
   ]
  },
  {
   "cell_type": "markdown",
   "metadata": {},
   "source": [
    "## 모델 검증 절차"
   ]
  },
  {
   "cell_type": "markdown",
   "metadata": {},
   "source": [
    "###  다중공선성 확인"
   ]
  },
  {
   "cell_type": "code",
   "execution_count": 49,
   "metadata": {},
   "outputs": [
    {
     "data": {
      "text/plain": [
       "Index(['CATEGORYM_ID', 'DISPLAY', 'INPUT_DT', 'UPDATE_DT', 'SHOW_CHK',\n",
       "       'REMOTEIP_no_period',\n",
       "       'CATALOG_NM_0130mm carbon steel coil hot roll astm a283a283m03',\n",
       "       'CATALOG_NM_018mm 304 stainless steel strip spring coil',\n",
       "       'CATALOG_NM_018mm adhes insul tape electr 180c silicon adhes tape',\n",
       "       'CATALOG_NM_01mm 02mm 1145 1035 h16 aluminum coilfoil light protect',\n",
       "       ...\n",
       "       'CATALOG_DESC_通用名2甲基3苯基环氧乙烷2甲酸cas号5449127分子量20117400密度128gcm3沸点3343ºc 760 mmhg分子式c10h10nao3熔点na闪点1367ºc精确质量20105300psa49130600logpindex2of1折射1575包装及发货 包装规格： 1可定制 2现有包装 1kg包装：铝袋包装，内有自封袋。10kg纸箱（三高：500mm、300mm、400mm）25kg桶装（直径：350mm高：510mm）纸桶包装，内衬双层塑料袋。下订单最小起订量：10 克包装：铝箔袋定制桶付款条件：西联汇款货币克btcttlc 运输方式：空运或海运快递：fedex、ups、dhl、tnt ，em 装货港：中国上海可选交货提前期：3 天内运输：我们通过 dhl、fedex、ups、tnt、中国邮政、nl 邮政和其他快递公司运送货物，重量从 10 克到 1000 公斤甚至散货船。运输细节和运输文件将在准备就绪后提供并发送给客户。我们会一直跟踪发货情况，直到客户收到满意为止。经过多年的出口海运经验，与专业、经验丰富的货代合作，确保货物以多种方式安全、高效地送达。',\n",
       "       'CATALOG_DESC_通用名3氧代4苯基丁酸乙酯cas号5413058分子量206238密度11±01 gcm3沸点2903±150 °c 760 mmhg分子式c12h14o3熔点na闪点1239±204 °c精确质量2060942939psa40370psa403 45vapour pressure00±06 mmhg 25°c折射率1506包装及发货 包装规格： 1可定制 2现有包装 1kg包装：铝袋包装，内有自封袋。10kg纸箱（三高：500mm、300mm、400mm）25kg桶装（直径：350mm高：510mm）纸桶包装，内衬双层塑料袋。下订单最小起订量：10 克包装：铝箔袋定制桶付款条件：西联汇款货币克btcttlc 运输方式：空运或海运快递：fedex、ups、dhl、tnt ，em 装货港：中国上海可选交货提前期：3 天内运输：我们通过 dhl、fedex、ups、tnt、中国邮政、nl 邮政和其他快递公司运送货物，重量从 10 克到 1000 公斤甚至散货船。运输细节和运输文件将在准备就绪后提供并发送给客户。我们会一直跟踪发货情况，直到客户收到满意为止。经过多年的出口海运经验，与专业、经验丰富的货代合作，确保货物以多种方式安全、高效地送达。',\n",
       "       'CATALOG_DESC_通用名pmk缩水甘油酸乙酯cas号28578167分子量250247密度13±01 gcm3沸点3278±420 °c 760 mmhg分子式c13h14o5熔点namsdsna闪点1430±279 °c闪点1430±279 °c精确质量250 084122psa5729000logp229蒸气压00±07 mmhg 25°c折射率1554包装及发货 包装规格： 1可定制 2现有包装 1kg包装：铝袋包装，内有自封袋。10kg纸箱（三高：500mm、300mm、400mm）25kg桶装（直径：350mm高：510mm）纸桶包装，内衬双层塑料袋。下订单最小起订量：10 克包装：铝箔袋定制桶付款条件：西联汇款货币克btcttlc 运输方式：空运或海运快递：fedex、ups、dhl、tnt ，em 装货港：中国上海可选交货提前期：3 天内运输：我们通过 dhl、fedex、ups、tnt、中国邮政、nl 邮政和其他快递公司运送货物，重量从 10 克到 1000 公斤甚至散货船。运输细节和运输文件将在准备就绪后提供并发送给客户。我们会一直跟踪发货情况，直到客户收到满意为止。经过多年的出口海运经验，与专业、经验丰富的货代合作，确保货物以多种方式安全、高效地送达。',\n",
       "       'CATALOG_DESC_铝锭 铝锭是一块纯金属。它是砖的形状，然后再次变成它们喜欢的形状或在工厂中进行铣削以生产出有用的最终产品。铝可以与其他金属混合形成合金，从那里铝要经过称为助焊剂的清洁过程。然后将净化后的铝倒入模具中，快速喷水冷却，即可制成铝锭。我们是铝锭的供应商。 铝锭的用途广泛应用于建筑、交通、电力、包装、日用消费品等诸多领域。它也是热和电的良好导体。它不易生锈且具有延展性。 铝锭的好处 它对工业领域有益，因为它重量轻且具有回收功能。它也耐腐蚀。 我们很高兴地介绍自己是铝和锌合金锭的领先制造商之一。 我们的工厂配备了用于材料制造、测试和精加工的现代化设备，并得到了一支积极敬业的员工和工人团队的支持。我们的产品质量受到密切监控和严格控制，以坚持卓越标准。现代光谱仪用于在制造的各个阶段检查产品的化学成分。制造过程和质量检查符合 iso 90012008 标准。 多年来，信诺的主要特点之一是我们快速的装货时间和可用性，以及具有竞争力的价格。确保您在需要时拥有所需的优质产品。我们的专业人员与所有客户密切合作，了解他们对优质钢锭的需求和要求，同时让您了解市场波动。正是这种沟通使得从信诺采购铝材成为良好的企业对企业合作伙伴关系。 我们可以直接与冶炼厂合作，定制具有特定化学特性的批次——为您提供所需的铝，而无需定制您的熔炼工艺。另外，询问我们的仓储能力。',\n",
       "       'CATALOG_DESC_防护等级 ip 68 完全由不锈钢 316ti 制成 圆形附件盖，高度 5mm 适用于最大 1 12 15 2 英寸的喷嘴 钢化安全玻璃 esg – 可承受高达 650 kg 的负载 powerl 冷白、暖白、中性白、蓝 多芯片 powerl rgbrgbw 工作模式：恒流或恒压 旋转对称配光 电缆压套，不锈钢 316ti 随附 5m uw 电缆',\n",
       "       'CATALOG_DESC_防护等级 ip 68 完全由不锈钢 316ti 和 pmma 制成 圆形 pmma 盖，高度 5mm powerled冷白、暖白、中性白、rgb、rgbw lowpowerl 冷白光、暖白光、中性白光、rgb、rgbw 工作模式：恒流或恒压 旋转对称配光 提供 500mm 和 1000mm 版本（需单独订购 根据项目需要！）',\n",
       "       'CATALOG_DESC_防护等级 ip 68完全由不锋钢 316ti 制造 圆形或方形附件盖，高度5mm 钢化安全玻璃 esg – 可承重高达 650 kg 的负载 powerl 冷白、暖白、中性白、蓝 多芯片 powerl rgbrgbw 工作模式：恒流或恒压 旋转对称配光',\n",
       "       'CATALOG_DESC_：hkw815是是填缝剂填缝剂填缝剂，与填缝剂单组份单组份水发生发生天然优势固化通过与空气空气水水进行的固化时间时间取决于环境环境环境的的相对湿度湿度温度温度温度温度温度温度温度温度温度温度；；、智能手表的屏幕、边框的填充密封。',\n",
       "       'CATALOG_DESC_👉 high qualiti competit price shehab compani wwwshehabcomvn ☎ contact informationquot mr stellaexport depart whatsapplinevib 84 328873390 tel 84 912 633 390',\n",
       "       'CATALOG_DESC_👉 high qualiti competit price shehab compani wwwshehabcomvn ☎ contact informationquotationmr stellaexport depart whatsapplinevib 84 328873390 tel 84 912 633 390'],\n",
       "      dtype='object', length=12123)"
      ]
     },
     "execution_count": 49,
     "metadata": {},
     "output_type": "execute_result"
    }
   ],
   "source": [
    "t.columns"
   ]
  },
  {
   "cell_type": "code",
   "execution_count": 101,
   "metadata": {},
   "outputs": [
    {
     "name": "stdout",
     "output_type": "stream",
     "text": [
      "             Variable       VIF\n",
      "0        CATEGORYM_ID  1.003994\n",
      "1             DISPLAY  1.017272\n",
      "2            INPUT_DT  0.000004\n",
      "3           UPDATE_DT  1.027287\n",
      "4            SHOW_CHK  1.011617\n",
      "5  REMOTEIP_no_period  1.001096\n"
     ]
    }
   ],
   "source": [
    "from statsmodels.stats.outliers_influence import variance_inflation_factor\n",
    "\n",
    "# Assuming X is your independent variable matrix\n",
    "vif_data = pd.DataFrame()\n",
    "vif_data[\"Variable\"] = merged_feature.columns\n",
    "vif_data[\"VIF\"] = [variance_inflation_factor(merged_feature.values, i) for i in range(merged_feature.shape[1])]\n",
    "\n",
    "print(vif_data)"
   ]
  },
  {
   "cell_type": "markdown",
   "metadata": {},
   "source": [
    "### 샘플데이터 생성"
   ]
  },
  {
   "cell_type": "code",
   "execution_count": 24,
   "metadata": {},
   "outputs": [],
   "source": [
    "from sklearn.model_selection import train_test_split\n",
    "from sklearn.tree import DecisionTreeClassifier\n",
    "from sklearn.ensemble import RandomForestClassifier\n",
    "from sklearn.metrics import accuracy_score, classification_report, confusion_matrix"
   ]
  },
  {
   "cell_type": "code",
   "execution_count": 25,
   "metadata": {},
   "outputs": [
    {
     "ename": "ValueError",
     "evalue": "Found input variables with inconsistent numbers of samples: [9, 751315]",
     "output_type": "error",
     "traceback": [
      "\u001b[1;31m---------------------------------------------------------------------------\u001b[0m",
      "\u001b[1;31mValueError\u001b[0m                                Traceback (most recent call last)",
      "Cell \u001b[1;32mIn[25], line 1\u001b[0m\n\u001b[1;32m----> 1\u001b[0m X_train, X_test, y_train, y_test \u001b[38;5;241m=\u001b[39m \u001b[43mtrain_test_split\u001b[49m\u001b[43m(\u001b[49m\u001b[43mx\u001b[49m\u001b[43m,\u001b[49m\u001b[43m \u001b[49m\u001b[43my\u001b[49m\u001b[43m,\u001b[49m\u001b[43m \u001b[49m\u001b[43mtest_size\u001b[49m\u001b[38;5;241;43m=\u001b[39;49m\u001b[38;5;241;43m0.3\u001b[39;49m\u001b[43m,\u001b[49m\u001b[43m \u001b[49m\u001b[43mrandom_state\u001b[49m\u001b[38;5;241;43m=\u001b[39;49m\u001b[38;5;241;43m0\u001b[39;49m\u001b[43m)\u001b[49m\n\u001b[0;32m      3\u001b[0m \u001b[38;5;66;03m# Decision Tree Model\u001b[39;00m\n\u001b[0;32m      4\u001b[0m decision_tree_model \u001b[38;5;241m=\u001b[39m DecisionTreeClassifier(random_state\u001b[38;5;241m=\u001b[39m\u001b[38;5;241m22\u001b[39m)\n",
      "File \u001b[1;32m~\\AppData\\Local\\Packages\\PythonSoftwareFoundation.Python.3.11_qbz5n2kfra8p0\\LocalCache\\local-packages\\Python311\\site-packages\\sklearn\\utils\\_param_validation.py:214\u001b[0m, in \u001b[0;36mvalidate_params.<locals>.decorator.<locals>.wrapper\u001b[1;34m(*args, **kwargs)\u001b[0m\n\u001b[0;32m    208\u001b[0m \u001b[38;5;28;01mtry\u001b[39;00m:\n\u001b[0;32m    209\u001b[0m     \u001b[38;5;28;01mwith\u001b[39;00m config_context(\n\u001b[0;32m    210\u001b[0m         skip_parameter_validation\u001b[38;5;241m=\u001b[39m(\n\u001b[0;32m    211\u001b[0m             prefer_skip_nested_validation \u001b[38;5;129;01mor\u001b[39;00m global_skip_validation\n\u001b[0;32m    212\u001b[0m         )\n\u001b[0;32m    213\u001b[0m     ):\n\u001b[1;32m--> 214\u001b[0m         \u001b[38;5;28;01mreturn\u001b[39;00m \u001b[43mfunc\u001b[49m\u001b[43m(\u001b[49m\u001b[38;5;241;43m*\u001b[39;49m\u001b[43margs\u001b[49m\u001b[43m,\u001b[49m\u001b[43m \u001b[49m\u001b[38;5;241;43m*\u001b[39;49m\u001b[38;5;241;43m*\u001b[39;49m\u001b[43mkwargs\u001b[49m\u001b[43m)\u001b[49m\n\u001b[0;32m    215\u001b[0m \u001b[38;5;28;01mexcept\u001b[39;00m InvalidParameterError \u001b[38;5;28;01mas\u001b[39;00m e:\n\u001b[0;32m    216\u001b[0m     \u001b[38;5;66;03m# When the function is just a wrapper around an estimator, we allow\u001b[39;00m\n\u001b[0;32m    217\u001b[0m     \u001b[38;5;66;03m# the function to delegate validation to the estimator, but we replace\u001b[39;00m\n\u001b[0;32m    218\u001b[0m     \u001b[38;5;66;03m# the name of the estimator by the name of the function in the error\u001b[39;00m\n\u001b[0;32m    219\u001b[0m     \u001b[38;5;66;03m# message to avoid confusion.\u001b[39;00m\n\u001b[0;32m    220\u001b[0m     msg \u001b[38;5;241m=\u001b[39m re\u001b[38;5;241m.\u001b[39msub(\n\u001b[0;32m    221\u001b[0m         \u001b[38;5;124mr\u001b[39m\u001b[38;5;124m\"\u001b[39m\u001b[38;5;124mparameter of \u001b[39m\u001b[38;5;124m\\\u001b[39m\u001b[38;5;124mw+ must be\u001b[39m\u001b[38;5;124m\"\u001b[39m,\n\u001b[0;32m    222\u001b[0m         \u001b[38;5;124mf\u001b[39m\u001b[38;5;124m\"\u001b[39m\u001b[38;5;124mparameter of \u001b[39m\u001b[38;5;132;01m{\u001b[39;00mfunc\u001b[38;5;241m.\u001b[39m\u001b[38;5;18m__qualname__\u001b[39m\u001b[38;5;132;01m}\u001b[39;00m\u001b[38;5;124m must be\u001b[39m\u001b[38;5;124m\"\u001b[39m,\n\u001b[0;32m    223\u001b[0m         \u001b[38;5;28mstr\u001b[39m(e),\n\u001b[0;32m    224\u001b[0m     )\n",
      "File \u001b[1;32m~\\AppData\\Local\\Packages\\PythonSoftwareFoundation.Python.3.11_qbz5n2kfra8p0\\LocalCache\\local-packages\\Python311\\site-packages\\sklearn\\model_selection\\_split.py:2646\u001b[0m, in \u001b[0;36mtrain_test_split\u001b[1;34m(test_size, train_size, random_state, shuffle, stratify, *arrays)\u001b[0m\n\u001b[0;32m   2643\u001b[0m \u001b[38;5;28;01mif\u001b[39;00m n_arrays \u001b[38;5;241m==\u001b[39m \u001b[38;5;241m0\u001b[39m:\n\u001b[0;32m   2644\u001b[0m     \u001b[38;5;28;01mraise\u001b[39;00m \u001b[38;5;167;01mValueError\u001b[39;00m(\u001b[38;5;124m\"\u001b[39m\u001b[38;5;124mAt least one array required as input\u001b[39m\u001b[38;5;124m\"\u001b[39m)\n\u001b[1;32m-> 2646\u001b[0m arrays \u001b[38;5;241m=\u001b[39m \u001b[43mindexable\u001b[49m\u001b[43m(\u001b[49m\u001b[38;5;241;43m*\u001b[39;49m\u001b[43marrays\u001b[49m\u001b[43m)\u001b[49m\n\u001b[0;32m   2648\u001b[0m n_samples \u001b[38;5;241m=\u001b[39m _num_samples(arrays[\u001b[38;5;241m0\u001b[39m])\n\u001b[0;32m   2649\u001b[0m n_train, n_test \u001b[38;5;241m=\u001b[39m _validate_shuffle_split(\n\u001b[0;32m   2650\u001b[0m     n_samples, test_size, train_size, default_test_size\u001b[38;5;241m=\u001b[39m\u001b[38;5;241m0.25\u001b[39m\n\u001b[0;32m   2651\u001b[0m )\n",
      "File \u001b[1;32m~\\AppData\\Local\\Packages\\PythonSoftwareFoundation.Python.3.11_qbz5n2kfra8p0\\LocalCache\\local-packages\\Python311\\site-packages\\sklearn\\utils\\validation.py:453\u001b[0m, in \u001b[0;36mindexable\u001b[1;34m(*iterables)\u001b[0m\n\u001b[0;32m    434\u001b[0m \u001b[38;5;250m\u001b[39m\u001b[38;5;124;03m\"\"\"Make arrays indexable for cross-validation.\u001b[39;00m\n\u001b[0;32m    435\u001b[0m \n\u001b[0;32m    436\u001b[0m \u001b[38;5;124;03mChecks consistent length, passes through None, and ensures that everything\u001b[39;00m\n\u001b[1;32m   (...)\u001b[0m\n\u001b[0;32m    449\u001b[0m \u001b[38;5;124;03m    sparse matrix, or dataframe) or `None`.\u001b[39;00m\n\u001b[0;32m    450\u001b[0m \u001b[38;5;124;03m\"\"\"\u001b[39;00m\n\u001b[0;32m    452\u001b[0m result \u001b[38;5;241m=\u001b[39m [_make_indexable(X) \u001b[38;5;28;01mfor\u001b[39;00m X \u001b[38;5;129;01min\u001b[39;00m iterables]\n\u001b[1;32m--> 453\u001b[0m \u001b[43mcheck_consistent_length\u001b[49m\u001b[43m(\u001b[49m\u001b[38;5;241;43m*\u001b[39;49m\u001b[43mresult\u001b[49m\u001b[43m)\u001b[49m\n\u001b[0;32m    454\u001b[0m \u001b[38;5;28;01mreturn\u001b[39;00m result\n",
      "File \u001b[1;32m~\\AppData\\Local\\Packages\\PythonSoftwareFoundation.Python.3.11_qbz5n2kfra8p0\\LocalCache\\local-packages\\Python311\\site-packages\\sklearn\\utils\\validation.py:407\u001b[0m, in \u001b[0;36mcheck_consistent_length\u001b[1;34m(*arrays)\u001b[0m\n\u001b[0;32m    405\u001b[0m uniques \u001b[38;5;241m=\u001b[39m np\u001b[38;5;241m.\u001b[39munique(lengths)\n\u001b[0;32m    406\u001b[0m \u001b[38;5;28;01mif\u001b[39;00m \u001b[38;5;28mlen\u001b[39m(uniques) \u001b[38;5;241m>\u001b[39m \u001b[38;5;241m1\u001b[39m:\n\u001b[1;32m--> 407\u001b[0m     \u001b[38;5;28;01mraise\u001b[39;00m \u001b[38;5;167;01mValueError\u001b[39;00m(\n\u001b[0;32m    408\u001b[0m         \u001b[38;5;124m\"\u001b[39m\u001b[38;5;124mFound input variables with inconsistent numbers of samples: \u001b[39m\u001b[38;5;132;01m%r\u001b[39;00m\u001b[38;5;124m\"\u001b[39m\n\u001b[0;32m    409\u001b[0m         \u001b[38;5;241m%\u001b[39m [\u001b[38;5;28mint\u001b[39m(l) \u001b[38;5;28;01mfor\u001b[39;00m l \u001b[38;5;129;01min\u001b[39;00m lengths]\n\u001b[0;32m    410\u001b[0m     )\n",
      "\u001b[1;31mValueError\u001b[0m: Found input variables with inconsistent numbers of samples: [9, 751315]"
     ]
    }
   ],
   "source": [
    "X_train, X_test, y_train, y_test = train_test_split(x, y, test_size=0.3, random_state=0)\n",
    "\n",
    "# Decision Tree Model\n",
    "decision_tree_model = DecisionTreeClassifier(random_state=22)\n",
    "decision_tree_model.fit(X_train, y_train)\n",
    "\n",
    "# Random Forest Model\n",
    "random_forest_model = RandomForestClassifier(random_state=22)\n",
    "random_forest_model.fit(X_train, y_train)\n",
    "\n",
    "# Make predictions on the test set\n",
    "y_pred_decision_tree = decision_tree_model.predict(X_test)\n",
    "y_pred_random_forest = random_forest_model.predict(X_test)\n",
    "\n",
    "# Evaluate Decision Tree Model\n",
    "print(\"Decision Tree Model:\")\n",
    "print(\"Accuracy:\", accuracy_score(y_test, y_pred_decision_tree))\n",
    "print(\"Classification Report:\\n\", classification_report(y_test, y_pred_decision_tree))\n",
    "print(\"Confusion Matrix:\\n\", confusion_matrix(y_test, y_pred_decision_tree))\n",
    "\n",
    "# Evaluate Random Forest Model\n",
    "print(\"\\nRandom Forest Model:\")\n",
    "print(\"Accuracy:\", accuracy_score(y_test, y_pred_random_forest))\n",
    "print(\"Classification Report:\\n\", classification_report(y_test, y_pred_random_forest))\n",
    "print(\"Confusion Matrix:\\n\", confusion_matrix(y_test, y_pred_random_forest))"
   ]
  },
  {
   "cell_type": "markdown",
   "metadata": {},
   "source": [
    "### 과적합 확인"
   ]
  },
  {
   "cell_type": "code",
   "execution_count": 103,
   "metadata": {},
   "outputs": [
    {
     "name": "stdout",
     "output_type": "stream",
     "text": [
      "Random_forest_model Cross-Validation 평균 정확도: 0.9998558756333471\n"
     ]
    }
   ],
   "source": [
    "from sklearn.model_selection import cross_val_score\n",
    "\n",
    "scores = cross_val_score(random_forest_model, X_train, y_train, cv=5)  # 5-fold cross-validation\n",
    "print(\"Random_forest_model Cross-Validation 평균 정확도:\", scores.mean())"
   ]
  },
  {
   "cell_type": "code",
   "execution_count": 104,
   "metadata": {},
   "outputs": [
    {
     "name": "stdout",
     "output_type": "stream",
     "text": [
      "Decision_tree_model Cross-Validation 평균 정확도: 0.9997866961666748\n"
     ]
    }
   ],
   "source": [
    "from sklearn.model_selection import cross_val_score\n",
    "\n",
    "scores = cross_val_score(decision_tree_model, X_train, y_train, cv=5)  # 5-fold cross-validation\n",
    "print(\"Decision_tree_model Cross-Validation 평균 정확도:\", scores.mean())"
   ]
  },
  {
   "cell_type": "markdown",
   "metadata": {},
   "source": [
    "# TF-IDF"
   ]
  },
  {
   "cell_type": "code",
   "execution_count": 19,
   "metadata": {},
   "outputs": [],
   "source": [
    "from scipy.sparse import csr_matrix"
   ]
  },
  {
   "cell_type": "code",
   "execution_count": 11,
   "metadata": {},
   "outputs": [],
   "source": [
    "from sklearn.feature_extraction.text import TfidfVectorizer"
   ]
  },
  {
   "cell_type": "code",
   "execution_count": 58,
   "metadata": {},
   "outputs": [],
   "source": [
    "tfidf_vectorizer = TfidfVectorizer(ngram_range=(1, 1))\n",
    "tfidf_matrix = tfidf_vectorizer.fit_transform(t['CATALOG_DESC'])\n",
    "\n",
    "# Convert sparse matrix to dense array\n",
    "dense_array = tfidf_matrix.toarray()\n",
    "\n",
    "# Create new DataFrame with the dense array\n",
    "tfidf_df = pd.DataFrame(dense_array, columns=tfidf_vectorizer.get_feature_names_out())\n",
    "\n",
    "# Replace the 'CATALOG_DESC' column in the original DataFrame with the new DataFrame\n",
    "tt = pd.concat([t.drop('CATALOG_DESC', axis=1), tfidf_df], axis=1)"
   ]
  },
  {
   "cell_type": "code",
   "execution_count": null,
   "metadata": {},
   "outputs": [
    {
     "ename": "NameError",
     "evalue": "name 'IsolationForest' is not defined",
     "output_type": "error",
     "traceback": [
      "\u001b[1;31m---------------------------------------------------------------------------\u001b[0m\n",
      "\u001b[1;31mNameError\u001b[0m                                 Traceback (most recent call last)\n",
      "Cell \u001b[1;32mIn[20], line 9\u001b[0m\n",
      "\u001b[0;32m      6\u001b[0m tfidf_matrix_csr \u001b[38;5;241m=\u001b[39m csr_matrix(tfidf_matrix)\n",
      "\u001b[0;32m      8\u001b[0m \u001b[38;5;66;03m# Create Isolation Forest model\u001b[39;00m\n",
      "\u001b[1;32m----> 9\u001b[0m isolation_forest \u001b[38;5;241m=\u001b[39m \u001b[43mIsolationForest\u001b[49m(contamination\u001b[38;5;241m=\u001b[39m\u001b[38;5;241m0.5\u001b[39m, random_state\u001b[38;5;241m=\u001b[39m\u001b[38;5;241m42\u001b[39m)\n",
      "\u001b[0;32m     11\u001b[0m \u001b[38;5;66;03m# Model training\u001b[39;00m\n",
      "\u001b[0;32m     12\u001b[0m isolation_forest\u001b[38;5;241m.\u001b[39mfit(tfidf_matrix_csr)  \u001b[38;5;66;03m# Use the converted tfidf_matrix_csr here\u001b[39;00m\n",
      "\n",
      "\u001b[1;31mNameError\u001b[0m: name 'IsolationForest' is not defined"
     ]
    }
   ],
   "source": [
    "# TF-IDF vectorization\n",
    "tfidf_vectorizer = TfidfVectorizer()\n",
    "tfidf_matrix = tfidf_vectorizer.fit_transform(t)\n",
    "\n",
    "# Convert the sparse matrix to CSR format\n",
    "tfidf_matrix_csr = csr_matrix(tfidf_matrix)\n",
    "\n",
    "# Create Isolation Forest model\n",
    "isolation_forest = IsolationForest(contamination=0.5, random_state=42)\n",
    "\n",
    "# Model training\n",
    "isolation_forest.fit(tfidf_matrix_csr)  # Use the converted tfidf_matrix_csr here\n",
    "\n",
    "# Calculate outlier scores\n",
    "outlier_scores = isolation_forest.decision_function(tfidf_matrix_csr)\n",
    "\n",
    "# Add outlier scores to data frame\n",
    "product_df['outlier_score'] = outlier_scores\n",
    "\n",
    "# Set the threshold to judge as an outlier (e.g., consider the top 5% of samples as outliers)\n",
    "threshold = product_df['outlier_score'].quantile(0.95)\n",
    "\n",
    "# Add a column indicating whether there is an outlier or not\n",
    "product_df['is_outlier'] = product_df['outlier_score'] < threshold\n",
    "\n",
    "# Output results\n",
    "print(product_df[['Product Name', 'outlier_score', 'is_outlier']])"
   ]
  },
  {
   "cell_type": "markdown",
   "metadata": {},
   "source": [
    "## 그래디언트-부스팅"
   ]
  },
  {
   "cell_type": "code",
   "execution_count": 20,
   "metadata": {},
   "outputs": [
    {
     "name": "stdout",
     "output_type": "stream",
     "text": [
      "Collecting xgboost\n",
      "  Obtaining dependency information for xgboost from https://files.pythonhosted.org/packages/bc/43/242432efc3f60052a4a534dc4926b21e236ab4ec8d4920c593da3f65c65d/xgboost-2.0.2-py3-none-win_amd64.whl.metadata\n",
      "  Downloading xgboost-2.0.2-py3-none-win_amd64.whl.metadata (2.0 kB)\n",
      "Requirement already satisfied: numpy in c:\\users\\ujn9\\appdata\\local\\packages\\pythonsoftwarefoundation.python.3.11_qbz5n2kfra8p0\\localcache\\local-packages\\python311\\site-packages (from xgboost) (1.26.2)\n",
      "Requirement already satisfied: scipy in c:\\users\\ujn9\\appdata\\local\\packages\\pythonsoftwarefoundation.python.3.11_qbz5n2kfra8p0\\localcache\\local-packages\\python311\\site-packages (from xgboost) (1.11.4)\n",
      "Downloading xgboost-2.0.2-py3-none-win_amd64.whl (99.8 MB)\n",
      "   ---------------------------------------- 0.0/99.8 MB ? eta -:--:--\n",
      "   ---------------------------------------- 0.0/99.8 MB 991.0 kB/s eta 0:01:41\n",
      "   ---------------------------------------- 0.6/99.8 MB 7.1 MB/s eta 0:00:14\n",
      "   ---------------------------------------- 1.1/99.8 MB 8.7 MB/s eta 0:00:12\n",
      "    --------------------------------------- 1.7/99.8 MB 9.6 MB/s eta 0:00:11\n",
      "    --------------------------------------- 2.2/99.8 MB 10.1 MB/s eta 0:00:10\n",
      "   - -------------------------------------- 2.8/99.8 MB 10.4 MB/s eta 0:00:10\n",
      "   - -------------------------------------- 3.3/99.8 MB 10.7 MB/s eta 0:00:10\n",
      "   - -------------------------------------- 3.9/99.8 MB 10.8 MB/s eta 0:00:09\n",
      "   - -------------------------------------- 4.4/99.8 MB 10.9 MB/s eta 0:00:09\n",
      "   -- ------------------------------------- 5.0/99.8 MB 11.0 MB/s eta 0:00:09\n",
      "   -- ------------------------------------- 5.6/99.8 MB 11.1 MB/s eta 0:00:09\n",
      "   -- ------------------------------------- 6.1/99.8 MB 11.2 MB/s eta 0:00:09\n",
      "   -- ------------------------------------- 6.7/99.8 MB 11.2 MB/s eta 0:00:09\n",
      "   -- ------------------------------------- 7.2/99.8 MB 11.2 MB/s eta 0:00:09\n",
      "   --- ------------------------------------ 7.8/99.8 MB 11.3 MB/s eta 0:00:09\n",
      "   --- ------------------------------------ 8.3/99.8 MB 11.3 MB/s eta 0:00:09\n",
      "   --- ------------------------------------ 8.9/99.8 MB 11.4 MB/s eta 0:00:08\n",
      "   --- ------------------------------------ 9.4/99.8 MB 11.4 MB/s eta 0:00:08\n",
      "   --- ------------------------------------ 9.9/99.8 MB 11.4 MB/s eta 0:00:08\n",
      "   ---- ----------------------------------- 10.5/99.8 MB 11.7 MB/s eta 0:00:08\n",
      "   ---- ----------------------------------- 11.1/99.8 MB 11.7 MB/s eta 0:00:08\n",
      "   ---- ----------------------------------- 11.6/99.8 MB 11.7 MB/s eta 0:00:08\n",
      "   ---- ----------------------------------- 12.2/99.8 MB 11.7 MB/s eta 0:00:08\n",
      "   ----- ---------------------------------- 12.7/99.8 MB 11.7 MB/s eta 0:00:08\n",
      "   ----- ---------------------------------- 13.3/99.8 MB 11.7 MB/s eta 0:00:08\n",
      "   ----- ---------------------------------- 13.8/99.8 MB 11.7 MB/s eta 0:00:08\n",
      "   ----- ---------------------------------- 14.4/99.8 MB 11.9 MB/s eta 0:00:08\n",
      "   ----- ---------------------------------- 15.0/99.8 MB 11.7 MB/s eta 0:00:08\n",
      "   ------ --------------------------------- 15.6/99.8 MB 11.9 MB/s eta 0:00:08\n",
      "   ------ --------------------------------- 16.1/99.8 MB 11.9 MB/s eta 0:00:08\n",
      "   ------ --------------------------------- 16.7/99.8 MB 11.9 MB/s eta 0:00:07\n",
      "   ------ --------------------------------- 17.2/99.8 MB 11.9 MB/s eta 0:00:07\n",
      "   ------- -------------------------------- 17.8/99.8 MB 11.7 MB/s eta 0:00:08\n",
      "   ------- -------------------------------- 18.3/99.8 MB 11.9 MB/s eta 0:00:07\n",
      "   ------- -------------------------------- 18.9/99.8 MB 11.9 MB/s eta 0:00:07\n",
      "   ------- -------------------------------- 19.4/99.8 MB 11.9 MB/s eta 0:00:07\n",
      "   -------- ------------------------------- 20.0/99.8 MB 11.9 MB/s eta 0:00:07\n",
      "   -------- ------------------------------- 20.5/99.8 MB 11.9 MB/s eta 0:00:07\n",
      "   -------- ------------------------------- 21.1/99.8 MB 11.9 MB/s eta 0:00:07\n",
      "   -------- ------------------------------- 21.6/99.8 MB 11.9 MB/s eta 0:00:07\n",
      "   -------- ------------------------------- 22.2/99.8 MB 11.9 MB/s eta 0:00:07\n",
      "   --------- ------------------------------ 22.8/99.8 MB 11.9 MB/s eta 0:00:07\n",
      "   --------- ------------------------------ 23.3/99.8 MB 11.9 MB/s eta 0:00:07\n",
      "   --------- ------------------------------ 23.9/99.8 MB 11.9 MB/s eta 0:00:07\n",
      "   --------- ------------------------------ 24.4/99.8 MB 11.9 MB/s eta 0:00:07\n",
      "   ---------- ----------------------------- 25.0/99.8 MB 11.9 MB/s eta 0:00:07\n",
      "   ---------- ----------------------------- 25.5/99.8 MB 11.9 MB/s eta 0:00:07\n",
      "   ---------- ----------------------------- 26.1/99.8 MB 11.9 MB/s eta 0:00:07\n",
      "   ---------- ----------------------------- 26.6/99.8 MB 11.9 MB/s eta 0:00:07\n",
      "   ---------- ----------------------------- 27.2/99.8 MB 11.9 MB/s eta 0:00:07\n",
      "   ----------- ---------------------------- 27.7/99.8 MB 11.9 MB/s eta 0:00:07\n",
      "   ----------- ---------------------------- 28.3/99.8 MB 11.9 MB/s eta 0:00:07\n",
      "   ----------- ---------------------------- 28.8/99.8 MB 11.9 MB/s eta 0:00:06\n",
      "   ----------- ---------------------------- 29.4/99.8 MB 11.9 MB/s eta 0:00:06\n",
      "   ------------ --------------------------- 30.0/99.8 MB 11.9 MB/s eta 0:00:06\n",
      "   ------------ --------------------------- 30.5/99.8 MB 11.9 MB/s eta 0:00:06\n",
      "   ------------ --------------------------- 31.1/99.8 MB 11.9 MB/s eta 0:00:06\n",
      "   ------------ --------------------------- 31.7/99.8 MB 11.9 MB/s eta 0:00:06\n",
      "   ------------ --------------------------- 32.2/99.8 MB 11.9 MB/s eta 0:00:06\n",
      "   ------------- -------------------------- 32.7/99.8 MB 11.9 MB/s eta 0:00:06\n",
      "   ------------- -------------------------- 33.3/99.8 MB 11.9 MB/s eta 0:00:06\n",
      "   ------------- -------------------------- 33.8/99.8 MB 11.9 MB/s eta 0:00:06\n",
      "   ------------- -------------------------- 34.4/99.8 MB 11.9 MB/s eta 0:00:06\n",
      "   -------------- ------------------------- 35.0/99.8 MB 11.9 MB/s eta 0:00:06\n",
      "   -------------- ------------------------- 35.5/99.8 MB 11.9 MB/s eta 0:00:06\n",
      "   -------------- ------------------------- 36.0/99.8 MB 11.9 MB/s eta 0:00:06\n",
      "   -------------- ------------------------- 36.6/99.8 MB 11.9 MB/s eta 0:00:06\n",
      "   -------------- ------------------------- 37.2/99.8 MB 11.9 MB/s eta 0:00:06\n",
      "   --------------- ------------------------ 37.7/99.8 MB 11.9 MB/s eta 0:00:06\n",
      "   --------------- ------------------------ 38.2/99.8 MB 11.9 MB/s eta 0:00:06\n",
      "   --------------- ------------------------ 38.8/99.8 MB 11.9 MB/s eta 0:00:06\n",
      "   --------------- ------------------------ 39.4/99.8 MB 11.9 MB/s eta 0:00:06\n",
      "   ---------------- ----------------------- 40.0/99.8 MB 11.9 MB/s eta 0:00:06\n",
      "   ---------------- ----------------------- 40.5/99.8 MB 11.9 MB/s eta 0:00:05\n",
      "   ---------------- ----------------------- 41.1/99.8 MB 11.9 MB/s eta 0:00:05\n",
      "   ---------------- ----------------------- 41.6/99.8 MB 11.9 MB/s eta 0:00:05\n",
      "   ---------------- ----------------------- 42.1/99.8 MB 11.9 MB/s eta 0:00:05\n",
      "   ----------------- ---------------------- 42.7/99.8 MB 11.9 MB/s eta 0:00:05\n",
      "   ----------------- ---------------------- 43.2/99.8 MB 11.9 MB/s eta 0:00:05\n",
      "   ----------------- ---------------------- 43.8/99.8 MB 11.9 MB/s eta 0:00:05\n",
      "   ----------------- ---------------------- 44.3/99.8 MB 11.9 MB/s eta 0:00:05\n",
      "   ------------------ --------------------- 44.9/99.8 MB 11.9 MB/s eta 0:00:05\n",
      "   ------------------ --------------------- 45.4/99.8 MB 11.9 MB/s eta 0:00:05\n",
      "   ------------------ --------------------- 46.0/99.8 MB 11.9 MB/s eta 0:00:05\n",
      "   ------------------ --------------------- 46.5/99.8 MB 11.9 MB/s eta 0:00:05\n",
      "   ------------------ --------------------- 47.1/99.8 MB 11.9 MB/s eta 0:00:05\n",
      "   ------------------- -------------------- 47.7/99.8 MB 11.9 MB/s eta 0:00:05\n",
      "   ------------------- -------------------- 48.2/99.8 MB 11.9 MB/s eta 0:00:05\n",
      "   ------------------- -------------------- 48.7/99.8 MB 11.9 MB/s eta 0:00:05\n",
      "   ------------------- -------------------- 49.3/99.8 MB 11.9 MB/s eta 0:00:05\n",
      "   -------------------- ------------------- 49.9/99.8 MB 11.9 MB/s eta 0:00:05\n",
      "   -------------------- ------------------- 50.4/99.8 MB 11.9 MB/s eta 0:00:05\n",
      "   -------------------- ------------------- 51.0/99.8 MB 11.9 MB/s eta 0:00:05\n",
      "   -------------------- ------------------- 51.6/99.8 MB 11.9 MB/s eta 0:00:05\n",
      "   -------------------- ------------------- 52.1/99.8 MB 11.9 MB/s eta 0:00:04\n",
      "   --------------------- ------------------ 52.7/99.8 MB 11.9 MB/s eta 0:00:04\n",
      "   --------------------- ------------------ 53.3/99.8 MB 11.9 MB/s eta 0:00:04\n",
      "   --------------------- ------------------ 53.8/99.8 MB 11.9 MB/s eta 0:00:04\n",
      "   --------------------- ------------------ 54.4/99.8 MB 11.9 MB/s eta 0:00:04\n",
      "   ---------------------- ----------------- 54.9/99.8 MB 11.9 MB/s eta 0:00:04\n",
      "   ---------------------- ----------------- 55.5/99.8 MB 11.9 MB/s eta 0:00:04\n",
      "   ---------------------- ----------------- 56.1/99.8 MB 11.7 MB/s eta 0:00:04\n",
      "   ---------------------- ----------------- 56.6/99.8 MB 11.7 MB/s eta 0:00:04\n",
      "   ---------------------- ----------------- 57.1/99.8 MB 11.9 MB/s eta 0:00:04\n",
      "   ----------------------- ---------------- 57.7/99.8 MB 11.9 MB/s eta 0:00:04\n",
      "   ----------------------- ---------------- 58.3/99.8 MB 11.9 MB/s eta 0:00:04\n",
      "   ----------------------- ---------------- 58.8/99.8 MB 11.7 MB/s eta 0:00:04\n",
      "   ----------------------- ---------------- 59.4/99.8 MB 11.7 MB/s eta 0:00:04\n",
      "   ------------------------ --------------- 60.0/99.8 MB 11.7 MB/s eta 0:00:04\n",
      "   ------------------------ --------------- 60.5/99.8 MB 11.7 MB/s eta 0:00:04\n",
      "   ------------------------ --------------- 61.1/99.8 MB 11.7 MB/s eta 0:00:04\n",
      "   ------------------------ --------------- 61.6/99.8 MB 11.7 MB/s eta 0:00:04\n",
      "   ------------------------ --------------- 62.2/99.8 MB 11.7 MB/s eta 0:00:04\n",
      "   ------------------------- -------------- 62.7/99.8 MB 11.7 MB/s eta 0:00:04\n",
      "   ------------------------- -------------- 63.3/99.8 MB 11.7 MB/s eta 0:00:04\n",
      "   ------------------------- -------------- 63.9/99.8 MB 11.7 MB/s eta 0:00:04\n",
      "   ------------------------- -------------- 64.4/99.8 MB 11.7 MB/s eta 0:00:04\n",
      "   -------------------------- ------------- 65.0/99.8 MB 11.7 MB/s eta 0:00:03\n",
      "   -------------------------- ------------- 65.5/99.8 MB 11.7 MB/s eta 0:00:03\n",
      "   -------------------------- ------------- 66.1/99.8 MB 11.7 MB/s eta 0:00:03\n",
      "   -------------------------- ------------- 66.6/99.8 MB 11.7 MB/s eta 0:00:03\n",
      "   -------------------------- ------------- 67.2/99.8 MB 11.7 MB/s eta 0:00:03\n",
      "   --------------------------- ------------ 67.7/99.8 MB 11.7 MB/s eta 0:00:03\n",
      "   --------------------------- ------------ 68.2/99.8 MB 11.9 MB/s eta 0:00:03\n",
      "   --------------------------- ------------ 68.8/99.8 MB 11.7 MB/s eta 0:00:03\n",
      "   --------------------------- ------------ 69.4/99.8 MB 11.7 MB/s eta 0:00:03\n",
      "   ---------------------------- ----------- 69.9/99.8 MB 11.9 MB/s eta 0:00:03\n",
      "   ---------------------------- ----------- 70.5/99.8 MB 11.7 MB/s eta 0:00:03\n",
      "   ---------------------------- ----------- 71.0/99.8 MB 11.7 MB/s eta 0:00:03\n",
      "   ---------------------------- ----------- 71.6/99.8 MB 11.7 MB/s eta 0:00:03\n",
      "   ---------------------------- ----------- 72.2/99.8 MB 11.7 MB/s eta 0:00:03\n",
      "   ----------------------------- ---------- 72.7/99.8 MB 11.7 MB/s eta 0:00:03\n",
      "   ----------------------------- ---------- 73.2/99.8 MB 11.9 MB/s eta 0:00:03\n",
      "   ----------------------------- ---------- 73.8/99.8 MB 11.7 MB/s eta 0:00:03\n",
      "   ----------------------------- ---------- 74.4/99.8 MB 11.7 MB/s eta 0:00:03\n",
      "   ------------------------------ --------- 74.9/99.8 MB 11.7 MB/s eta 0:00:03\n",
      "   ------------------------------ --------- 75.5/99.8 MB 11.7 MB/s eta 0:00:03\n",
      "   ------------------------------ --------- 76.0/99.8 MB 11.7 MB/s eta 0:00:03\n",
      "   ------------------------------ --------- 76.6/99.8 MB 11.7 MB/s eta 0:00:02\n",
      "   ------------------------------ --------- 77.1/99.8 MB 11.7 MB/s eta 0:00:02\n",
      "   ------------------------------- -------- 77.7/99.8 MB 11.7 MB/s eta 0:00:02\n",
      "   ------------------------------- -------- 78.2/99.8 MB 11.7 MB/s eta 0:00:02\n",
      "   ------------------------------- -------- 78.8/99.8 MB 11.9 MB/s eta 0:00:02\n",
      "   ------------------------------- -------- 79.4/99.8 MB 11.7 MB/s eta 0:00:02\n",
      "   -------------------------------- ------- 79.9/99.8 MB 11.7 MB/s eta 0:00:02\n",
      "   -------------------------------- ------- 80.5/99.8 MB 11.7 MB/s eta 0:00:02\n",
      "   -------------------------------- ------- 81.0/99.8 MB 11.7 MB/s eta 0:00:02\n",
      "   -------------------------------- ------- 81.6/99.8 MB 11.9 MB/s eta 0:00:02\n",
      "   -------------------------------- ------- 82.1/99.8 MB 11.9 MB/s eta 0:00:02\n",
      "   --------------------------------- ------ 82.6/99.8 MB 11.9 MB/s eta 0:00:02\n",
      "   --------------------------------- ------ 83.2/99.8 MB 11.9 MB/s eta 0:00:02\n",
      "   --------------------------------- ------ 83.8/99.8 MB 11.7 MB/s eta 0:00:02\n",
      "   --------------------------------- ------ 84.3/99.8 MB 11.7 MB/s eta 0:00:02\n",
      "   ---------------------------------- ----- 84.9/99.8 MB 11.9 MB/s eta 0:00:02\n",
      "   ---------------------------------- ----- 85.4/99.8 MB 11.9 MB/s eta 0:00:02\n",
      "   ---------------------------------- ----- 85.9/99.8 MB 11.9 MB/s eta 0:00:02\n",
      "   ---------------------------------- ----- 86.5/99.8 MB 11.9 MB/s eta 0:00:02\n",
      "   ---------------------------------- ----- 87.1/99.8 MB 11.9 MB/s eta 0:00:02\n",
      "   ----------------------------------- ---- 87.6/99.8 MB 11.9 MB/s eta 0:00:02\n",
      "   ----------------------------------- ---- 88.2/99.8 MB 11.9 MB/s eta 0:00:01\n",
      "   ----------------------------------- ---- 88.7/99.8 MB 11.9 MB/s eta 0:00:01\n",
      "   ----------------------------------- ---- 89.3/99.8 MB 11.9 MB/s eta 0:00:01\n",
      "   ------------------------------------ --- 89.8/99.8 MB 11.9 MB/s eta 0:00:01\n",
      "   ------------------------------------ --- 90.4/99.8 MB 11.9 MB/s eta 0:00:01\n",
      "   ------------------------------------ --- 90.9/99.8 MB 11.9 MB/s eta 0:00:01\n",
      "   ------------------------------------ --- 91.5/99.8 MB 11.9 MB/s eta 0:00:01\n",
      "   ------------------------------------ --- 92.0/99.8 MB 11.9 MB/s eta 0:00:01\n",
      "   ------------------------------------- -- 92.6/99.8 MB 11.9 MB/s eta 0:00:01\n",
      "   ------------------------------------- -- 93.1/99.8 MB 11.9 MB/s eta 0:00:01\n",
      "   ------------------------------------- -- 93.7/99.8 MB 11.9 MB/s eta 0:00:01\n",
      "   ------------------------------------- -- 94.2/99.8 MB 11.9 MB/s eta 0:00:01\n",
      "   -------------------------------------- - 94.8/99.8 MB 11.9 MB/s eta 0:00:01\n",
      "   -------------------------------------- - 95.4/99.8 MB 11.9 MB/s eta 0:00:01\n",
      "   -------------------------------------- - 95.9/99.8 MB 11.9 MB/s eta 0:00:01\n",
      "   -------------------------------------- - 96.5/99.8 MB 11.9 MB/s eta 0:00:01\n",
      "   -------------------------------------- - 97.0/99.8 MB 11.9 MB/s eta 0:00:01\n",
      "   ---------------------------------------  97.6/99.8 MB 11.9 MB/s eta 0:00:01\n",
      "   ---------------------------------------  98.1/99.8 MB 11.9 MB/s eta 0:00:01\n",
      "   ---------------------------------------  98.7/99.8 MB 11.9 MB/s eta 0:00:01\n",
      "   ---------------------------------------  99.2/99.8 MB 11.9 MB/s eta 0:00:01\n",
      "   ---------------------------------------  99.7/99.8 MB 11.9 MB/s eta 0:00:01\n",
      "   ---------------------------------------  99.7/99.8 MB 11.9 MB/s eta 0:00:01\n",
      "   ---------------------------------------  99.7/99.8 MB 11.9 MB/s eta 0:00:01\n",
      "   ---------------------------------------- 99.8/99.8 MB 9.5 MB/s eta 0:00:00\n",
      "Installing collected packages: xgboost\n",
      "Successfully installed xgboost-2.0.2\n",
      "Note: you may need to restart the kernel to use updated packages.\n"
     ]
    },
    {
     "name": "stderr",
     "output_type": "stream",
     "text": [
      "\n",
      "[notice] A new release of pip is available: 23.2.1 -> 23.3.1\n",
      "[notice] To update, run: C:\\Users\\ujn9\\AppData\\Local\\Microsoft\\WindowsApps\\PythonSoftwareFoundation.Python.3.11_qbz5n2kfra8p0\\python.exe -m pip install --upgrade pip\n"
     ]
    }
   ],
   "source": [
    "pip install xgboost"
   ]
  },
  {
   "cell_type": "code",
   "execution_count": 31,
   "metadata": {},
   "outputs": [],
   "source": [
    "import xgboost as xgb\n",
    "from sklearn.model_selection import train_test_split\n",
    "from sklearn.metrics import accuracy_score\n",
    "from sklearn.datasets import load_iris"
   ]
  },
  {
   "cell_type": "code",
   "execution_count": 37,
   "metadata": {},
   "outputs": [
    {
     "ename": "ValueError",
     "evalue": "Found input variables with inconsistent numbers of samples: [9, 751315]",
     "output_type": "error",
     "traceback": [
      "\u001b[1;31m---------------------------------------------------------------------------\u001b[0m",
      "\u001b[1;31mValueError\u001b[0m                                Traceback (most recent call last)",
      "Cell \u001b[1;32mIn[37], line 2\u001b[0m\n\u001b[0;32m      1\u001b[0m \u001b[38;5;66;03m# Split the data into training and testing sets\u001b[39;00m\n\u001b[1;32m----> 2\u001b[0m X_train, X_test, y_train, y_test \u001b[38;5;241m=\u001b[39m \u001b[43mtrain_test_split\u001b[49m\u001b[43m(\u001b[49m\u001b[43mx\u001b[49m\u001b[43m,\u001b[49m\u001b[43m \u001b[49m\u001b[43my\u001b[49m\u001b[43m,\u001b[49m\u001b[43m \u001b[49m\u001b[43mtest_size\u001b[49m\u001b[38;5;241;43m=\u001b[39;49m\u001b[38;5;241;43m0.2\u001b[39;49m\u001b[43m,\u001b[49m\u001b[43m \u001b[49m\u001b[43mrandom_state\u001b[49m\u001b[38;5;241;43m=\u001b[39;49m\u001b[38;5;241;43m42\u001b[39;49m\u001b[43m)\u001b[49m\n\u001b[0;32m      4\u001b[0m \u001b[38;5;66;03m# Create a XGBoost Classifier\u001b[39;00m\n\u001b[0;32m      5\u001b[0m xgb_classifier \u001b[38;5;241m=\u001b[39m xgb\u001b[38;5;241m.\u001b[39mXGBClassifier(n_estimators\u001b[38;5;241m=\u001b[39m\u001b[38;5;241m100\u001b[39m, learning_rate\u001b[38;5;241m=\u001b[39m\u001b[38;5;241m0.1\u001b[39m, max_depth\u001b[38;5;241m=\u001b[39m\u001b[38;5;241m3\u001b[39m, random_state\u001b[38;5;241m=\u001b[39m\u001b[38;5;241m42\u001b[39m)\n",
      "File \u001b[1;32m~\\AppData\\Local\\Packages\\PythonSoftwareFoundation.Python.3.11_qbz5n2kfra8p0\\LocalCache\\local-packages\\Python311\\site-packages\\sklearn\\utils\\_param_validation.py:214\u001b[0m, in \u001b[0;36mvalidate_params.<locals>.decorator.<locals>.wrapper\u001b[1;34m(*args, **kwargs)\u001b[0m\n\u001b[0;32m    208\u001b[0m \u001b[38;5;28;01mtry\u001b[39;00m:\n\u001b[0;32m    209\u001b[0m     \u001b[38;5;28;01mwith\u001b[39;00m config_context(\n\u001b[0;32m    210\u001b[0m         skip_parameter_validation\u001b[38;5;241m=\u001b[39m(\n\u001b[0;32m    211\u001b[0m             prefer_skip_nested_validation \u001b[38;5;129;01mor\u001b[39;00m global_skip_validation\n\u001b[0;32m    212\u001b[0m         )\n\u001b[0;32m    213\u001b[0m     ):\n\u001b[1;32m--> 214\u001b[0m         \u001b[38;5;28;01mreturn\u001b[39;00m \u001b[43mfunc\u001b[49m\u001b[43m(\u001b[49m\u001b[38;5;241;43m*\u001b[39;49m\u001b[43margs\u001b[49m\u001b[43m,\u001b[49m\u001b[43m \u001b[49m\u001b[38;5;241;43m*\u001b[39;49m\u001b[38;5;241;43m*\u001b[39;49m\u001b[43mkwargs\u001b[49m\u001b[43m)\u001b[49m\n\u001b[0;32m    215\u001b[0m \u001b[38;5;28;01mexcept\u001b[39;00m InvalidParameterError \u001b[38;5;28;01mas\u001b[39;00m e:\n\u001b[0;32m    216\u001b[0m     \u001b[38;5;66;03m# When the function is just a wrapper around an estimator, we allow\u001b[39;00m\n\u001b[0;32m    217\u001b[0m     \u001b[38;5;66;03m# the function to delegate validation to the estimator, but we replace\u001b[39;00m\n\u001b[0;32m    218\u001b[0m     \u001b[38;5;66;03m# the name of the estimator by the name of the function in the error\u001b[39;00m\n\u001b[0;32m    219\u001b[0m     \u001b[38;5;66;03m# message to avoid confusion.\u001b[39;00m\n\u001b[0;32m    220\u001b[0m     msg \u001b[38;5;241m=\u001b[39m re\u001b[38;5;241m.\u001b[39msub(\n\u001b[0;32m    221\u001b[0m         \u001b[38;5;124mr\u001b[39m\u001b[38;5;124m\"\u001b[39m\u001b[38;5;124mparameter of \u001b[39m\u001b[38;5;124m\\\u001b[39m\u001b[38;5;124mw+ must be\u001b[39m\u001b[38;5;124m\"\u001b[39m,\n\u001b[0;32m    222\u001b[0m         \u001b[38;5;124mf\u001b[39m\u001b[38;5;124m\"\u001b[39m\u001b[38;5;124mparameter of \u001b[39m\u001b[38;5;132;01m{\u001b[39;00mfunc\u001b[38;5;241m.\u001b[39m\u001b[38;5;18m__qualname__\u001b[39m\u001b[38;5;132;01m}\u001b[39;00m\u001b[38;5;124m must be\u001b[39m\u001b[38;5;124m\"\u001b[39m,\n\u001b[0;32m    223\u001b[0m         \u001b[38;5;28mstr\u001b[39m(e),\n\u001b[0;32m    224\u001b[0m     )\n",
      "File \u001b[1;32m~\\AppData\\Local\\Packages\\PythonSoftwareFoundation.Python.3.11_qbz5n2kfra8p0\\LocalCache\\local-packages\\Python311\\site-packages\\sklearn\\model_selection\\_split.py:2646\u001b[0m, in \u001b[0;36mtrain_test_split\u001b[1;34m(test_size, train_size, random_state, shuffle, stratify, *arrays)\u001b[0m\n\u001b[0;32m   2643\u001b[0m \u001b[38;5;28;01mif\u001b[39;00m n_arrays \u001b[38;5;241m==\u001b[39m \u001b[38;5;241m0\u001b[39m:\n\u001b[0;32m   2644\u001b[0m     \u001b[38;5;28;01mraise\u001b[39;00m \u001b[38;5;167;01mValueError\u001b[39;00m(\u001b[38;5;124m\"\u001b[39m\u001b[38;5;124mAt least one array required as input\u001b[39m\u001b[38;5;124m\"\u001b[39m)\n\u001b[1;32m-> 2646\u001b[0m arrays \u001b[38;5;241m=\u001b[39m \u001b[43mindexable\u001b[49m\u001b[43m(\u001b[49m\u001b[38;5;241;43m*\u001b[39;49m\u001b[43marrays\u001b[49m\u001b[43m)\u001b[49m\n\u001b[0;32m   2648\u001b[0m n_samples \u001b[38;5;241m=\u001b[39m _num_samples(arrays[\u001b[38;5;241m0\u001b[39m])\n\u001b[0;32m   2649\u001b[0m n_train, n_test \u001b[38;5;241m=\u001b[39m _validate_shuffle_split(\n\u001b[0;32m   2650\u001b[0m     n_samples, test_size, train_size, default_test_size\u001b[38;5;241m=\u001b[39m\u001b[38;5;241m0.25\u001b[39m\n\u001b[0;32m   2651\u001b[0m )\n",
      "File \u001b[1;32m~\\AppData\\Local\\Packages\\PythonSoftwareFoundation.Python.3.11_qbz5n2kfra8p0\\LocalCache\\local-packages\\Python311\\site-packages\\sklearn\\utils\\validation.py:453\u001b[0m, in \u001b[0;36mindexable\u001b[1;34m(*iterables)\u001b[0m\n\u001b[0;32m    434\u001b[0m \u001b[38;5;250m\u001b[39m\u001b[38;5;124;03m\"\"\"Make arrays indexable for cross-validation.\u001b[39;00m\n\u001b[0;32m    435\u001b[0m \n\u001b[0;32m    436\u001b[0m \u001b[38;5;124;03mChecks consistent length, passes through None, and ensures that everything\u001b[39;00m\n\u001b[1;32m   (...)\u001b[0m\n\u001b[0;32m    449\u001b[0m \u001b[38;5;124;03m    sparse matrix, or dataframe) or `None`.\u001b[39;00m\n\u001b[0;32m    450\u001b[0m \u001b[38;5;124;03m\"\"\"\u001b[39;00m\n\u001b[0;32m    452\u001b[0m result \u001b[38;5;241m=\u001b[39m [_make_indexable(X) \u001b[38;5;28;01mfor\u001b[39;00m X \u001b[38;5;129;01min\u001b[39;00m iterables]\n\u001b[1;32m--> 453\u001b[0m \u001b[43mcheck_consistent_length\u001b[49m\u001b[43m(\u001b[49m\u001b[38;5;241;43m*\u001b[39;49m\u001b[43mresult\u001b[49m\u001b[43m)\u001b[49m\n\u001b[0;32m    454\u001b[0m \u001b[38;5;28;01mreturn\u001b[39;00m result\n",
      "File \u001b[1;32m~\\AppData\\Local\\Packages\\PythonSoftwareFoundation.Python.3.11_qbz5n2kfra8p0\\LocalCache\\local-packages\\Python311\\site-packages\\sklearn\\utils\\validation.py:407\u001b[0m, in \u001b[0;36mcheck_consistent_length\u001b[1;34m(*arrays)\u001b[0m\n\u001b[0;32m    405\u001b[0m uniques \u001b[38;5;241m=\u001b[39m np\u001b[38;5;241m.\u001b[39munique(lengths)\n\u001b[0;32m    406\u001b[0m \u001b[38;5;28;01mif\u001b[39;00m \u001b[38;5;28mlen\u001b[39m(uniques) \u001b[38;5;241m>\u001b[39m \u001b[38;5;241m1\u001b[39m:\n\u001b[1;32m--> 407\u001b[0m     \u001b[38;5;28;01mraise\u001b[39;00m \u001b[38;5;167;01mValueError\u001b[39;00m(\n\u001b[0;32m    408\u001b[0m         \u001b[38;5;124m\"\u001b[39m\u001b[38;5;124mFound input variables with inconsistent numbers of samples: \u001b[39m\u001b[38;5;132;01m%r\u001b[39;00m\u001b[38;5;124m\"\u001b[39m\n\u001b[0;32m    409\u001b[0m         \u001b[38;5;241m%\u001b[39m [\u001b[38;5;28mint\u001b[39m(l) \u001b[38;5;28;01mfor\u001b[39;00m l \u001b[38;5;129;01min\u001b[39;00m lengths]\n\u001b[0;32m    410\u001b[0m     )\n",
      "\u001b[1;31mValueError\u001b[0m: Found input variables with inconsistent numbers of samples: [9, 751315]"
     ]
    }
   ],
   "source": [
    "# Split the data into training and testing sets\n",
    "X_train, X_test, y_train, y_test = train_test_split(x, y, test_size=0.2, random_state=42)\n",
    "\n",
    "# Create a XGBoost Classifier\n",
    "xgb_classifier = xgb.XGBClassifier(n_estimators=100, learning_rate=0.1, max_depth=3, random_state=42)\n",
    "\n",
    "# Fit the model to the training data\n",
    "xgb_classifier.fit(X_train, y_train)\n",
    "\n",
    "# Make predictions on the test set\n",
    "predictions = xgb_classifier.predict(X_test)\n",
    "\n",
    "# Evaluate the accuracy of the model\n",
    "accuracy = accuracy_score(y_test, predictions)\n",
    "print(f\"Accuracy: {accuracy}\")"
   ]
  },
  {
   "cell_type": "code",
   "execution_count": null,
   "metadata": {},
   "outputs": [],
   "source": [
    "import xgboost as xgb\n",
    "from xgboost import XGBClassifier\n",
    "\n",
    "# Extreme Gradient Boosting (xgboost) 모델 사용\n",
    "\n",
    "# 1. 모델 선언\n",
    "xgb  = XGBClassifier()\n",
    "\n",
    "# 2. 모델 훈련 fit()함수\n",
    "xgb.fit(X_train, Y_train)\n",
    "\n",
    "# 3. 모델 예측 predict()함수\n",
    "Y_pred = xgb.predict(X_test)\n",
    "\n",
    "# 4. score()\n",
    "xgb.score(X_train, Y_train)"
   ]
  },
  {
   "cell_type": "code",
   "execution_count": 28,
   "metadata": {},
   "outputs": [
    {
     "name": "stdout",
     "output_type": "stream",
     "text": [
      "Random_forest_model Cross-Validation 평균 정확도: 1.0\n"
     ]
    }
   ],
   "source": [
    "    from sklearn.model_selection import cross_val_score\n",
    "\n",
    "    scores = cross_val_score(xgb_classifier, X_train, y_train, cv=5)  # 5-fold cross-validation\n",
    "    print(\"Random_forest_model Cross-Validation 평균 정확도:\", scores.mean())"
   ]
  }
 ],
 "metadata": {
  "kernelspec": {
   "display_name": "Python 3",
   "language": "python",
   "name": "python3"
  },
  "language_info": {
   "codemirror_mode": {
    "name": "ipython",
    "version": 3
   },
   "file_extension": ".py",
   "mimetype": "text/x-python",
   "name": "python",
   "nbconvert_exporter": "python",
   "pygments_lexer": "ipython3",
   "version": "3.11.7"
  }
 },
 "nbformat": 4,
 "nbformat_minor": 2
}
