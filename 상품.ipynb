{
 "cells": [
  {
   "cell_type": "markdown",
   "id": "b9735266-4627-4e7f-be01-f1bd8d7f6c95",
   "metadata": {},
   "source": [
    "# 상품정보 로딩"
   ]
  },
  {
   "cell_type": "code",
   "execution_count": 2,
   "id": "c16873f4-a553-4df4-a303-019ac98d5b7b",
   "metadata": {},
   "outputs": [],
   "source": [
    "import pandas as pd\n",
    "Weird_products = pd.read_csv('./EC21 dataset//이상상품_V2.csv')\n",
    "Normal_products = pd.read_csv('./EC21 dataset//정상상품_V2.csv')\n",
    "Normal_products['N,W'] = 0\n",
    "Weird_products['N,W'] = 1\n",
    "products = pd.concat([Weird_products, Normal_products])"
   ]
  },
  {
   "cell_type": "code",
   "execution_count": 3,
   "id": "82d7492d-d61d-42d6-8635-47570c47a7fa",
   "metadata": {},
   "outputs": [
    {
     "name": "stdout",
     "output_type": "stream",
     "text": [
      "<class 'pandas.core.frame.DataFrame'>\n",
      "Index: 751315 entries, 0 to 538721\n",
      "Data columns (total 13 columns):\n",
      " #   Column        Non-Null Count   Dtype \n",
      "---  ------        --------------   ----- \n",
      " 0   MEMBER_ID     751315 non-null  object\n",
      " 1   GCATALOG_ID   751315 non-null  object\n",
      " 2   CATALOG_ID    751315 non-null  object\n",
      " 3   CATALOG_NM    751315 non-null  object\n",
      " 4   CATEGORYM_ID  751315 non-null  int64 \n",
      " 5   KEYWORD       741044 non-null  object\n",
      " 6   DISPLAY       751315 non-null  object\n",
      " 7   CATALOG_DESC  746678 non-null  object\n",
      " 8   INPUT_DT      751315 non-null  int64 \n",
      " 9   UPDATE_DT     751315 non-null  int64 \n",
      " 10  REMOTEIP      751315 non-null  object\n",
      " 11  SHOW_CHK      751315 non-null  object\n",
      " 12  N,W           751315 non-null  int64 \n",
      "dtypes: int64(4), object(9)\n",
      "memory usage: 80.2+ MB\n"
     ]
    },
    {
     "data": {
      "text/html": [
       "<div>\n",
       "<style scoped>\n",
       "    .dataframe tbody tr th:only-of-type {\n",
       "        vertical-align: middle;\n",
       "    }\n",
       "\n",
       "    .dataframe tbody tr th {\n",
       "        vertical-align: top;\n",
       "    }\n",
       "\n",
       "    .dataframe thead th {\n",
       "        text-align: right;\n",
       "    }\n",
       "</style>\n",
       "<table border=\"1\" class=\"dataframe\">\n",
       "  <thead>\n",
       "    <tr style=\"text-align: right;\">\n",
       "      <th></th>\n",
       "      <th>MEMBER_ID</th>\n",
       "      <th>GCATALOG_ID</th>\n",
       "      <th>CATALOG_ID</th>\n",
       "      <th>CATALOG_NM</th>\n",
       "      <th>CATEGORYM_ID</th>\n",
       "      <th>KEYWORD</th>\n",
       "      <th>DISPLAY</th>\n",
       "      <th>CATALOG_DESC</th>\n",
       "      <th>INPUT_DT</th>\n",
       "      <th>UPDATE_DT</th>\n",
       "      <th>REMOTEIP</th>\n",
       "      <th>SHOW_CHK</th>\n",
       "      <th>N,W</th>\n",
       "    </tr>\n",
       "  </thead>\n",
       "  <tbody>\n",
       "    <tr>\n",
       "      <th>0</th>\n",
       "      <td>shangyuanshibang</td>\n",
       "      <td>GC11736713</td>\n",
       "      <td>CA11736718</td>\n",
       "      <td>1-BOC-4-(4-BROMO-PHENYLAMINO)-PIPERIDINECas 44...</td>\n",
       "      <td>212815</td>\n",
       "      <td>1-BOC-4- 4-BROMO-PHENYLAM</td>\n",
       "      <td>Y</td>\n",
       "      <td>1. 名称和标识符1.1 名称1-叔丁氧羰基-4-（4-溴苯基氨基）哌啶1.2 同义词1-哌...</td>\n",
       "      <td>20230228100427</td>\n",
       "      <td>20230228100427</td>\n",
       "      <td>219.78.227.175</td>\n",
       "      <td>R</td>\n",
       "      <td>1</td>\n",
       "    </tr>\n",
       "    <tr>\n",
       "      <th>1</th>\n",
       "      <td>shangyuanshibang</td>\n",
       "      <td>GC11736706</td>\n",
       "      <td>CA11736712</td>\n",
       "      <td>High Purity N- (Tert-Butoxycarbonyl) -4-Piperi...</td>\n",
       "      <td>212815</td>\n",
       "      <td>N- tert-Butoxycarbonyl -4</td>\n",
       "      <td>Y</td>\n",
       "      <td>1. 名称和标识符1.1 名称N-叔丁氧羰基-4-哌啶酮1.2 同义词1-叔丁氧羰基-4-哌...</td>\n",
       "      <td>20230228094237</td>\n",
       "      <td>20230228094237</td>\n",
       "      <td>42.3.79.92</td>\n",
       "      <td>R</td>\n",
       "      <td>1</td>\n",
       "    </tr>\n",
       "    <tr>\n",
       "      <th>2</th>\n",
       "      <td>shangyuanshibang</td>\n",
       "      <td>GC11736708</td>\n",
       "      <td>CA11736711</td>\n",
       "      <td>1,1-dimethylethyl Ester CAS 288573-56-8</td>\n",
       "      <td>212815</td>\n",
       "      <td>1-BOC-4- 4-FLUORO-PHENYLA</td>\n",
       "      <td>Y</td>\n",
       "      <td>1. Names and Identifiers1.1 Name1-BOC-4-(4-FLU...</td>\n",
       "      <td>20230228093820</td>\n",
       "      <td>20230228093820</td>\n",
       "      <td>42.3.79.92</td>\n",
       "      <td>R</td>\n",
       "      <td>1</td>\n",
       "    </tr>\n",
       "    <tr>\n",
       "      <th>3</th>\n",
       "      <td>shangyuanshibang</td>\n",
       "      <td>GC11736704</td>\n",
       "      <td>CA11736705</td>\n",
       "      <td>White Crystal N-Isopropylbenzylamine CAS 102-9...</td>\n",
       "      <td>212815</td>\n",
       "      <td>N-Isopropylbenzylamine</td>\n",
       "      <td>Y</td>\n",
       "      <td>1. Names and Identifiers1.1 NameN-Isopropylben...</td>\n",
       "      <td>20230228091028</td>\n",
       "      <td>20230228091028</td>\n",
       "      <td>42.3.79.92</td>\n",
       "      <td>R</td>\n",
       "      <td>1</td>\n",
       "    </tr>\n",
       "    <tr>\n",
       "      <th>4</th>\n",
       "      <td>5527</td>\n",
       "      <td>GC11736699</td>\n",
       "      <td>CA11736700</td>\n",
       "      <td>Soybean GMO &amp; NON-GMO</td>\n",
       "      <td>11607</td>\n",
       "      <td>Soybean soybean gmo</td>\n",
       "      <td>Y</td>\n",
       "      <td>Soja GMO &amp; Soja NON-GMOEm estoque:  5000000 MT...</td>\n",
       "      <td>20230228075935</td>\n",
       "      <td>20230228075935</td>\n",
       "      <td>131.196.216.214</td>\n",
       "      <td>R</td>\n",
       "      <td>1</td>\n",
       "    </tr>\n",
       "  </tbody>\n",
       "</table>\n",
       "</div>"
      ],
      "text/plain": [
       "          MEMBER_ID GCATALOG_ID  CATALOG_ID  \\\n",
       "0  shangyuanshibang  GC11736713  CA11736718   \n",
       "1  shangyuanshibang  GC11736706  CA11736712   \n",
       "2  shangyuanshibang  GC11736708  CA11736711   \n",
       "3  shangyuanshibang  GC11736704  CA11736705   \n",
       "4              5527  GC11736699  CA11736700   \n",
       "\n",
       "                                          CATALOG_NM  CATEGORYM_ID  \\\n",
       "0  1-BOC-4-(4-BROMO-PHENYLAMINO)-PIPERIDINECas 44...        212815   \n",
       "1  High Purity N- (Tert-Butoxycarbonyl) -4-Piperi...        212815   \n",
       "2            1,1-dimethylethyl Ester CAS 288573-56-8        212815   \n",
       "3  White Crystal N-Isopropylbenzylamine CAS 102-9...        212815   \n",
       "4                              Soybean GMO & NON-GMO         11607   \n",
       "\n",
       "                     KEYWORD DISPLAY  \\\n",
       "0  1-BOC-4- 4-BROMO-PHENYLAM       Y   \n",
       "1  N- tert-Butoxycarbonyl -4       Y   \n",
       "2  1-BOC-4- 4-FLUORO-PHENYLA       Y   \n",
       "3     N-Isopropylbenzylamine       Y   \n",
       "4        Soybean soybean gmo       Y   \n",
       "\n",
       "                                        CATALOG_DESC        INPUT_DT  \\\n",
       "0  1. 名称和标识符1.1 名称1-叔丁氧羰基-4-（4-溴苯基氨基）哌啶1.2 同义词1-哌...  20230228100427   \n",
       "1  1. 名称和标识符1.1 名称N-叔丁氧羰基-4-哌啶酮1.2 同义词1-叔丁氧羰基-4-哌...  20230228094237   \n",
       "2  1. Names and Identifiers1.1 Name1-BOC-4-(4-FLU...  20230228093820   \n",
       "3  1. Names and Identifiers1.1 NameN-Isopropylben...  20230228091028   \n",
       "4  Soja GMO & Soja NON-GMOEm estoque:  5000000 MT...  20230228075935   \n",
       "\n",
       "        UPDATE_DT         REMOTEIP SHOW_CHK  N,W  \n",
       "0  20230228100427   219.78.227.175        R    1  \n",
       "1  20230228094237       42.3.79.92        R    1  \n",
       "2  20230228093820       42.3.79.92        R    1  \n",
       "3  20230228091028       42.3.79.92        R    1  \n",
       "4  20230228075935  131.196.216.214        R    1  "
      ]
     },
     "execution_count": 3,
     "metadata": {},
     "output_type": "execute_result"
    }
   ],
   "source": [
    "products.info()\n",
    "products.head()"
   ]
  },
  {
   "cell_type": "code",
   "execution_count": 4,
   "id": "279caba3-8810-4e1c-9ee7-c6dd65e10b3c",
   "metadata": {},
   "outputs": [
    {
     "name": "stdout",
     "output_type": "stream",
     "text": [
      "MEMBER_ID           0\n",
      "GCATALOG_ID         0\n",
      "CATALOG_ID          0\n",
      "CATALOG_NM          0\n",
      "CATEGORYM_ID        0\n",
      "KEYWORD         10271\n",
      "DISPLAY             0\n",
      "CATALOG_DESC     4637\n",
      "INPUT_DT            0\n",
      "UPDATE_DT           0\n",
      "REMOTEIP            0\n",
      "SHOW_CHK            0\n",
      "N,W                 0\n",
      "dtype: int64\n"
     ]
    }
   ],
   "source": [
    "a = products.isna().sum()\n",
    "print(a)"
   ]
  },
  {
   "cell_type": "code",
   "execution_count": 5,
   "id": "f517b2fe-467b-434b-be66-91653c05c4d2",
   "metadata": {},
   "outputs": [
    {
     "data": {
      "text/html": [
       "<div>\n",
       "<style scoped>\n",
       "    .dataframe tbody tr th:only-of-type {\n",
       "        vertical-align: middle;\n",
       "    }\n",
       "\n",
       "    .dataframe tbody tr th {\n",
       "        vertical-align: top;\n",
       "    }\n",
       "\n",
       "    .dataframe thead th {\n",
       "        text-align: right;\n",
       "    }\n",
       "</style>\n",
       "<table border=\"1\" class=\"dataframe\">\n",
       "  <thead>\n",
       "    <tr style=\"text-align: right;\">\n",
       "      <th></th>\n",
       "      <th>MEMBER_ID</th>\n",
       "      <th>GCATALOG_ID</th>\n",
       "      <th>CATALOG_ID</th>\n",
       "      <th>CATALOG_NM</th>\n",
       "      <th>CATEGORYM_ID</th>\n",
       "      <th>KEYWORD</th>\n",
       "      <th>DISPLAY</th>\n",
       "      <th>CATALOG_DESC</th>\n",
       "      <th>INPUT_DT</th>\n",
       "      <th>UPDATE_DT</th>\n",
       "      <th>REMOTEIP</th>\n",
       "      <th>SHOW_CHK</th>\n",
       "      <th>N,W</th>\n",
       "    </tr>\n",
       "  </thead>\n",
       "  <tbody>\n",
       "    <tr>\n",
       "      <th>0</th>\n",
       "      <td>shangyuanshibang</td>\n",
       "      <td>GC11736713</td>\n",
       "      <td>CA11736718</td>\n",
       "      <td>1-BOC-4-(4-BROMO-PHENYLAMINO)-PIPERIDINECas 44...</td>\n",
       "      <td>212815</td>\n",
       "      <td>1-BOC-4- 4-BROMO-PHENYLAM</td>\n",
       "      <td>Y</td>\n",
       "      <td>1. 名称和标识符1.1 名称1-叔丁氧羰基-4-（4-溴苯基氨基）哌啶1.2 同义词1-哌...</td>\n",
       "      <td>20230228100427</td>\n",
       "      <td>20230228100427</td>\n",
       "      <td>219.78.227.175</td>\n",
       "      <td>R</td>\n",
       "      <td>1</td>\n",
       "    </tr>\n",
       "    <tr>\n",
       "      <th>1</th>\n",
       "      <td>shangyuanshibang</td>\n",
       "      <td>GC11736706</td>\n",
       "      <td>CA11736712</td>\n",
       "      <td>High Purity N- (Tert-Butoxycarbonyl) -4-Piperi...</td>\n",
       "      <td>212815</td>\n",
       "      <td>N- tert-Butoxycarbonyl -4</td>\n",
       "      <td>Y</td>\n",
       "      <td>1. 名称和标识符1.1 名称N-叔丁氧羰基-4-哌啶酮1.2 同义词1-叔丁氧羰基-4-哌...</td>\n",
       "      <td>20230228094237</td>\n",
       "      <td>20230228094237</td>\n",
       "      <td>42.3.79.92</td>\n",
       "      <td>R</td>\n",
       "      <td>1</td>\n",
       "    </tr>\n",
       "    <tr>\n",
       "      <th>2</th>\n",
       "      <td>shangyuanshibang</td>\n",
       "      <td>GC11736708</td>\n",
       "      <td>CA11736711</td>\n",
       "      <td>1,1-dimethylethyl Ester CAS 288573-56-8</td>\n",
       "      <td>212815</td>\n",
       "      <td>1-BOC-4- 4-FLUORO-PHENYLA</td>\n",
       "      <td>Y</td>\n",
       "      <td>1. Names and Identifiers1.1 Name1-BOC-4-(4-FLU...</td>\n",
       "      <td>20230228093820</td>\n",
       "      <td>20230228093820</td>\n",
       "      <td>42.3.79.92</td>\n",
       "      <td>R</td>\n",
       "      <td>1</td>\n",
       "    </tr>\n",
       "    <tr>\n",
       "      <th>3</th>\n",
       "      <td>shangyuanshibang</td>\n",
       "      <td>GC11736704</td>\n",
       "      <td>CA11736705</td>\n",
       "      <td>White Crystal N-Isopropylbenzylamine CAS 102-9...</td>\n",
       "      <td>212815</td>\n",
       "      <td>N-Isopropylbenzylamine</td>\n",
       "      <td>Y</td>\n",
       "      <td>1. Names and Identifiers1.1 NameN-Isopropylben...</td>\n",
       "      <td>20230228091028</td>\n",
       "      <td>20230228091028</td>\n",
       "      <td>42.3.79.92</td>\n",
       "      <td>R</td>\n",
       "      <td>1</td>\n",
       "    </tr>\n",
       "    <tr>\n",
       "      <th>4</th>\n",
       "      <td>5527</td>\n",
       "      <td>GC11736699</td>\n",
       "      <td>CA11736700</td>\n",
       "      <td>Soybean GMO &amp; NON-GMO</td>\n",
       "      <td>11607</td>\n",
       "      <td>Soybean soybean gmo</td>\n",
       "      <td>Y</td>\n",
       "      <td>Soja GMO &amp; Soja NON-GMOEm estoque:  5000000 MT...</td>\n",
       "      <td>20230228075935</td>\n",
       "      <td>20230228075935</td>\n",
       "      <td>131.196.216.214</td>\n",
       "      <td>R</td>\n",
       "      <td>1</td>\n",
       "    </tr>\n",
       "  </tbody>\n",
       "</table>\n",
       "</div>"
      ],
      "text/plain": [
       "          MEMBER_ID GCATALOG_ID  CATALOG_ID  \\\n",
       "0  shangyuanshibang  GC11736713  CA11736718   \n",
       "1  shangyuanshibang  GC11736706  CA11736712   \n",
       "2  shangyuanshibang  GC11736708  CA11736711   \n",
       "3  shangyuanshibang  GC11736704  CA11736705   \n",
       "4              5527  GC11736699  CA11736700   \n",
       "\n",
       "                                          CATALOG_NM  CATEGORYM_ID  \\\n",
       "0  1-BOC-4-(4-BROMO-PHENYLAMINO)-PIPERIDINECas 44...        212815   \n",
       "1  High Purity N- (Tert-Butoxycarbonyl) -4-Piperi...        212815   \n",
       "2            1,1-dimethylethyl Ester CAS 288573-56-8        212815   \n",
       "3  White Crystal N-Isopropylbenzylamine CAS 102-9...        212815   \n",
       "4                              Soybean GMO & NON-GMO         11607   \n",
       "\n",
       "                     KEYWORD DISPLAY  \\\n",
       "0  1-BOC-4- 4-BROMO-PHENYLAM       Y   \n",
       "1  N- tert-Butoxycarbonyl -4       Y   \n",
       "2  1-BOC-4- 4-FLUORO-PHENYLA       Y   \n",
       "3     N-Isopropylbenzylamine       Y   \n",
       "4        Soybean soybean gmo       Y   \n",
       "\n",
       "                                        CATALOG_DESC        INPUT_DT  \\\n",
       "0  1. 名称和标识符1.1 名称1-叔丁氧羰基-4-（4-溴苯基氨基）哌啶1.2 同义词1-哌...  20230228100427   \n",
       "1  1. 名称和标识符1.1 名称N-叔丁氧羰基-4-哌啶酮1.2 同义词1-叔丁氧羰基-4-哌...  20230228094237   \n",
       "2  1. Names and Identifiers1.1 Name1-BOC-4-(4-FLU...  20230228093820   \n",
       "3  1. Names and Identifiers1.1 NameN-Isopropylben...  20230228091028   \n",
       "4  Soja GMO & Soja NON-GMOEm estoque:  5000000 MT...  20230228075935   \n",
       "\n",
       "        UPDATE_DT         REMOTEIP SHOW_CHK  N,W  \n",
       "0  20230228100427   219.78.227.175        R    1  \n",
       "1  20230228094237       42.3.79.92        R    1  \n",
       "2  20230228093820       42.3.79.92        R    1  \n",
       "3  20230228091028       42.3.79.92        R    1  \n",
       "4  20230228075935  131.196.216.214        R    1  "
      ]
     },
     "execution_count": 5,
     "metadata": {},
     "output_type": "execute_result"
    }
   ],
   "source": [
    "#products = products.drop(['KEYWORD','CATALOG_DESC','REMOTEIP'], axis=1)\n",
    "products.head()"
   ]
  },
  {
   "cell_type": "markdown",
   "id": "df8b3f1d-716e-4631-8232-f378255500c9",
   "metadata": {},
   "source": [
    "# 상품 설명만 분류모델"
   ]
  },
  {
   "cell_type": "markdown",
   "id": "6737a846-b6fd-44ba-bd70-95331b89efbf",
   "metadata": {},
   "source": [
    "## 문자, 숫자 데이터 같이 있는거 문자로 변경"
   ]
  },
  {
   "cell_type": "code",
   "execution_count": 6,
   "id": "7cb6f60e-50ff-4c80-9292-3d8b5ecced28",
   "metadata": {},
   "outputs": [],
   "source": [
    "products.loc[:, 'CATALOG_DESC'] = products['CATALOG_DESC'].astype(str)"
   ]
  },
  {
   "cell_type": "markdown",
   "id": "6fd5d174-2bb6-4ae8-8d76-084920b414c8",
   "metadata": {},
   "source": [
    "## 영어인 데이터만 뽑기"
   ]
  },
  {
   "cell_type": "code",
   "execution_count": 7,
   "id": "ee5a8821-423c-4d31-9739-eed1e16005c5",
   "metadata": {},
   "outputs": [],
   "source": [
    "import re\n",
    "\n",
    "products['CATALOG_DESC'] = products['CATALOG_DESC'].apply(lambda x: re.sub('[^a-zA-Z]',' ',str(x)))"
   ]
  },
  {
   "cell_type": "markdown",
   "id": "184301bc-5301-4523-a362-3d2389a2c271",
   "metadata": {},
   "source": [
    "## 학습, 평가데이터 분리"
   ]
  },
  {
   "cell_type": "code",
   "execution_count": 8,
   "id": "630eab27-0ec0-4056-87f5-837df6e641f4",
   "metadata": {},
   "outputs": [],
   "source": [
    "from sklearn.model_selection import train_test_split\n",
    "x = products['CATALOG_DESC']\n",
    "y = products['N,W']\n",
    "x_train, x_test, y_train, y_test = train_test_split(x, y, test_size= 0.3, stratify=y, random_state=0) # 분류이니까 stratify=y 해서 "
   ]
  },
  {
   "cell_type": "markdown",
   "id": "e1525718-2bfc-42bd-9aee-470a330ac97e",
   "metadata": {},
   "source": [
    "## Countervectorizer"
   ]
  },
  {
   "cell_type": "code",
   "execution_count": 9,
   "id": "c9150b5f-daba-4479-ad22-11a4960c1d51",
   "metadata": {},
   "outputs": [],
   "source": [
    "from sklearn.feature_extraction.text import CountVectorizer\n",
    "from nltk.corpus import stopwords\n",
    "\n",
    "cnt_vect = CountVectorizer(stop_words=stopwords.words('english'), ngram_range=(1,2))\n",
    "cnt_vect.fit(x_train)\n",
    "x_train_cnt_vect = cnt_vect.transform(x_train)\n",
    "x_test_cnt_vect = cnt_vect.transform(x_test)"
   ]
  },
  {
   "cell_type": "markdown",
   "id": "27c506aa-07f7-4035-91f5-6b8e6896995b",
   "metadata": {},
   "source": [
    "## 평가"
   ]
  },
  {
   "cell_type": "code",
   "execution_count": 10,
   "id": "dd3dec6a-8681-41c8-8011-89e151ea09a1",
   "metadata": {},
   "outputs": [
    {
     "name": "stderr",
     "output_type": "stream",
     "text": [
      "C:\\Users\\user\\AppData\\Roaming\\Python\\Python311\\site-packages\\sklearn\\svm\\_base.py:1244: ConvergenceWarning: Liblinear failed to converge, increase the number of iterations.\n",
      "  warnings.warn(\n"
     ]
    },
    {
     "name": "stdout",
     "output_type": "stream",
     "text": [
      "정확도  0.845\n",
      "AUC  0.782\n"
     ]
    }
   ],
   "source": [
    "from sklearn.linear_model import LogisticRegression\n",
    "from sklearn.metrics import accuracy_score, roc_auc_score\n",
    "\n",
    "model = LogisticRegression(solver='liblinear')\n",
    "model.fit(x_train_cnt_vect, y_train)\n",
    "\n",
    "y_hat = model.predict(x_test_cnt_vect)\n",
    "pred_prob = model.predict_proba(x_test_cnt_vect)[:,1]\n",
    "# positive로 예측한 확률 값\n",
    "\n",
    "print(f'정확도 {accuracy_score(y_test, y_hat): .3f}')\n",
    "print(f'AUC {roc_auc_score(y_test, y_hat): .3f}')                                                                                  "
   ]
  },
  {
   "cell_type": "markdown",
   "id": "12d7d625-1f2a-40c8-b441-ec4a86426a40",
   "metadata": {},
   "source": [
    "## 과적합 확인 ㅠㅠ"
   ]
  },
  {
   "cell_type": "code",
   "execution_count": 11,
   "id": "77f0bf6f-6f83-4f9d-9eda-196d9c515795",
   "metadata": {},
   "outputs": [
    {
     "name": "stderr",
     "output_type": "stream",
     "text": [
      "C:\\Users\\user\\AppData\\Roaming\\Python\\Python311\\site-packages\\sklearn\\svm\\_base.py:1244: ConvergenceWarning: Liblinear failed to converge, increase the number of iterations.\n",
      "  warnings.warn(\n",
      "C:\\Users\\user\\AppData\\Roaming\\Python\\Python311\\site-packages\\sklearn\\svm\\_base.py:1244: ConvergenceWarning: Liblinear failed to converge, increase the number of iterations.\n",
      "  warnings.warn(\n",
      "C:\\Users\\user\\AppData\\Roaming\\Python\\Python311\\site-packages\\sklearn\\svm\\_base.py:1244: ConvergenceWarning: Liblinear failed to converge, increase the number of iterations.\n",
      "  warnings.warn(\n",
      "C:\\Users\\user\\AppData\\Roaming\\Python\\Python311\\site-packages\\sklearn\\svm\\_base.py:1244: ConvergenceWarning: Liblinear failed to converge, increase the number of iterations.\n",
      "  warnings.warn(\n",
      "C:\\Users\\user\\AppData\\Roaming\\Python\\Python311\\site-packages\\sklearn\\svm\\_base.py:1244: ConvergenceWarning: Liblinear failed to converge, increase the number of iterations.\n",
      "  warnings.warn(\n"
     ]
    },
    {
     "name": "stdout",
     "output_type": "stream",
     "text": [
      "Cross-Validation 평균 정확도: 0.845493611195619\n"
     ]
    }
   ],
   "source": [
    "from sklearn.model_selection import cross_val_score\n",
    "\n",
    "scores = cross_val_score(model, x_train_cnt_vect, y_train, cv=5)  # 5-fold cross-validation\n",
    "print(\"Cross-Validation 평균 정확도:\", scores.mean())"
   ]
  },
  {
   "cell_type": "code",
   "execution_count": null,
   "id": "c6f4a140-a752-45cd-90da-d9b2aa045974",
   "metadata": {},
   "outputs": [],
   "source": []
  },
  {
   "cell_type": "code",
   "execution_count": null,
   "id": "3b2d250b-ffdc-4d65-8780-5c986af51d08",
   "metadata": {},
   "outputs": [],
   "source": []
  },
  {
   "cell_type": "code",
   "execution_count": null,
   "id": "5b8058aa-0eea-4ded-b5c1-243465513d88",
   "metadata": {},
   "outputs": [],
   "source": []
  },
  {
   "cell_type": "code",
   "execution_count": null,
   "id": "2a7191df-d246-4b62-9bee-57dfba9be34c",
   "metadata": {},
   "outputs": [],
   "source": []
  },
  {
   "cell_type": "code",
   "execution_count": null,
   "id": "e7fe9328-5899-4c8f-9465-79334fb85342",
   "metadata": {},
   "outputs": [],
   "source": []
  },
  {
   "cell_type": "code",
   "execution_count": null,
   "id": "9aad82ed-835e-4e01-9345-a6d0cfb01fd0",
   "metadata": {},
   "outputs": [],
   "source": []
  },
  {
   "cell_type": "markdown",
   "id": "57c8f901-7178-4e0b-9e62-d33fa1959b57",
   "metadata": {},
   "source": [
    "# 회원정보 데이터 로딩"
   ]
  },
  {
   "cell_type": "code",
   "execution_count": 12,
   "id": "2a43b727-de0a-4a9f-88f6-8f82896ce927",
   "metadata": {},
   "outputs": [
    {
     "ename": "FileNotFoundError",
     "evalue": "[Errno 2] No such file or directory: './EC21_회원-상품정보_20231205/이상회원데이터.csv'",
     "output_type": "error",
     "traceback": [
      "\u001b[1;31m---------------------------------------------------------------------------\u001b[0m",
      "\u001b[1;31mFileNotFoundError\u001b[0m                         Traceback (most recent call last)",
      "Cell \u001b[1;32mIn[12], line 1\u001b[0m\n\u001b[1;32m----> 1\u001b[0m Weird_members \u001b[38;5;241m=\u001b[39m pd\u001b[38;5;241m.\u001b[39mread_csv(\u001b[38;5;124m'\u001b[39m\u001b[38;5;124m./EC21_회원-상품정보_20231205/이상회원데이터.csv\u001b[39m\u001b[38;5;124m'\u001b[39m)\n\u001b[0;32m      2\u001b[0m Normal_members \u001b[38;5;241m=\u001b[39m pd\u001b[38;5;241m.\u001b[39mread_csv(\u001b[38;5;124m'\u001b[39m\u001b[38;5;124m./EC21_회원-상품정보_20231205/정상회원데이터.csv\u001b[39m\u001b[38;5;124m'\u001b[39m)\n\u001b[0;32m      3\u001b[0m Normal_members[\u001b[38;5;124m'\u001b[39m\u001b[38;5;124mN,W\u001b[39m\u001b[38;5;124m'\u001b[39m] \u001b[38;5;241m=\u001b[39m \u001b[38;5;241m0\u001b[39m\n",
      "File \u001b[1;32m~\\anaconda3\\Lib\\site-packages\\pandas\\io\\parsers\\readers.py:912\u001b[0m, in \u001b[0;36mread_csv\u001b[1;34m(filepath_or_buffer, sep, delimiter, header, names, index_col, usecols, dtype, engine, converters, true_values, false_values, skipinitialspace, skiprows, skipfooter, nrows, na_values, keep_default_na, na_filter, verbose, skip_blank_lines, parse_dates, infer_datetime_format, keep_date_col, date_parser, date_format, dayfirst, cache_dates, iterator, chunksize, compression, thousands, decimal, lineterminator, quotechar, quoting, doublequote, escapechar, comment, encoding, encoding_errors, dialect, on_bad_lines, delim_whitespace, low_memory, memory_map, float_precision, storage_options, dtype_backend)\u001b[0m\n\u001b[0;32m    899\u001b[0m kwds_defaults \u001b[38;5;241m=\u001b[39m _refine_defaults_read(\n\u001b[0;32m    900\u001b[0m     dialect,\n\u001b[0;32m    901\u001b[0m     delimiter,\n\u001b[1;32m   (...)\u001b[0m\n\u001b[0;32m    908\u001b[0m     dtype_backend\u001b[38;5;241m=\u001b[39mdtype_backend,\n\u001b[0;32m    909\u001b[0m )\n\u001b[0;32m    910\u001b[0m kwds\u001b[38;5;241m.\u001b[39mupdate(kwds_defaults)\n\u001b[1;32m--> 912\u001b[0m \u001b[38;5;28;01mreturn\u001b[39;00m _read(filepath_or_buffer, kwds)\n",
      "File \u001b[1;32m~\\anaconda3\\Lib\\site-packages\\pandas\\io\\parsers\\readers.py:577\u001b[0m, in \u001b[0;36m_read\u001b[1;34m(filepath_or_buffer, kwds)\u001b[0m\n\u001b[0;32m    574\u001b[0m _validate_names(kwds\u001b[38;5;241m.\u001b[39mget(\u001b[38;5;124m\"\u001b[39m\u001b[38;5;124mnames\u001b[39m\u001b[38;5;124m\"\u001b[39m, \u001b[38;5;28;01mNone\u001b[39;00m))\n\u001b[0;32m    576\u001b[0m \u001b[38;5;66;03m# Create the parser.\u001b[39;00m\n\u001b[1;32m--> 577\u001b[0m parser \u001b[38;5;241m=\u001b[39m TextFileReader(filepath_or_buffer, \u001b[38;5;241m*\u001b[39m\u001b[38;5;241m*\u001b[39mkwds)\n\u001b[0;32m    579\u001b[0m \u001b[38;5;28;01mif\u001b[39;00m chunksize \u001b[38;5;129;01mor\u001b[39;00m iterator:\n\u001b[0;32m    580\u001b[0m     \u001b[38;5;28;01mreturn\u001b[39;00m parser\n",
      "File \u001b[1;32m~\\anaconda3\\Lib\\site-packages\\pandas\\io\\parsers\\readers.py:1407\u001b[0m, in \u001b[0;36mTextFileReader.__init__\u001b[1;34m(self, f, engine, **kwds)\u001b[0m\n\u001b[0;32m   1404\u001b[0m     \u001b[38;5;28mself\u001b[39m\u001b[38;5;241m.\u001b[39moptions[\u001b[38;5;124m\"\u001b[39m\u001b[38;5;124mhas_index_names\u001b[39m\u001b[38;5;124m\"\u001b[39m] \u001b[38;5;241m=\u001b[39m kwds[\u001b[38;5;124m\"\u001b[39m\u001b[38;5;124mhas_index_names\u001b[39m\u001b[38;5;124m\"\u001b[39m]\n\u001b[0;32m   1406\u001b[0m \u001b[38;5;28mself\u001b[39m\u001b[38;5;241m.\u001b[39mhandles: IOHandles \u001b[38;5;241m|\u001b[39m \u001b[38;5;28;01mNone\u001b[39;00m \u001b[38;5;241m=\u001b[39m \u001b[38;5;28;01mNone\u001b[39;00m\n\u001b[1;32m-> 1407\u001b[0m \u001b[38;5;28mself\u001b[39m\u001b[38;5;241m.\u001b[39m_engine \u001b[38;5;241m=\u001b[39m \u001b[38;5;28mself\u001b[39m\u001b[38;5;241m.\u001b[39m_make_engine(f, \u001b[38;5;28mself\u001b[39m\u001b[38;5;241m.\u001b[39mengine)\n",
      "File \u001b[1;32m~\\anaconda3\\Lib\\site-packages\\pandas\\io\\parsers\\readers.py:1661\u001b[0m, in \u001b[0;36mTextFileReader._make_engine\u001b[1;34m(self, f, engine)\u001b[0m\n\u001b[0;32m   1659\u001b[0m     \u001b[38;5;28;01mif\u001b[39;00m \u001b[38;5;124m\"\u001b[39m\u001b[38;5;124mb\u001b[39m\u001b[38;5;124m\"\u001b[39m \u001b[38;5;129;01mnot\u001b[39;00m \u001b[38;5;129;01min\u001b[39;00m mode:\n\u001b[0;32m   1660\u001b[0m         mode \u001b[38;5;241m+\u001b[39m\u001b[38;5;241m=\u001b[39m \u001b[38;5;124m\"\u001b[39m\u001b[38;5;124mb\u001b[39m\u001b[38;5;124m\"\u001b[39m\n\u001b[1;32m-> 1661\u001b[0m \u001b[38;5;28mself\u001b[39m\u001b[38;5;241m.\u001b[39mhandles \u001b[38;5;241m=\u001b[39m get_handle(\n\u001b[0;32m   1662\u001b[0m     f,\n\u001b[0;32m   1663\u001b[0m     mode,\n\u001b[0;32m   1664\u001b[0m     encoding\u001b[38;5;241m=\u001b[39m\u001b[38;5;28mself\u001b[39m\u001b[38;5;241m.\u001b[39moptions\u001b[38;5;241m.\u001b[39mget(\u001b[38;5;124m\"\u001b[39m\u001b[38;5;124mencoding\u001b[39m\u001b[38;5;124m\"\u001b[39m, \u001b[38;5;28;01mNone\u001b[39;00m),\n\u001b[0;32m   1665\u001b[0m     compression\u001b[38;5;241m=\u001b[39m\u001b[38;5;28mself\u001b[39m\u001b[38;5;241m.\u001b[39moptions\u001b[38;5;241m.\u001b[39mget(\u001b[38;5;124m\"\u001b[39m\u001b[38;5;124mcompression\u001b[39m\u001b[38;5;124m\"\u001b[39m, \u001b[38;5;28;01mNone\u001b[39;00m),\n\u001b[0;32m   1666\u001b[0m     memory_map\u001b[38;5;241m=\u001b[39m\u001b[38;5;28mself\u001b[39m\u001b[38;5;241m.\u001b[39moptions\u001b[38;5;241m.\u001b[39mget(\u001b[38;5;124m\"\u001b[39m\u001b[38;5;124mmemory_map\u001b[39m\u001b[38;5;124m\"\u001b[39m, \u001b[38;5;28;01mFalse\u001b[39;00m),\n\u001b[0;32m   1667\u001b[0m     is_text\u001b[38;5;241m=\u001b[39mis_text,\n\u001b[0;32m   1668\u001b[0m     errors\u001b[38;5;241m=\u001b[39m\u001b[38;5;28mself\u001b[39m\u001b[38;5;241m.\u001b[39moptions\u001b[38;5;241m.\u001b[39mget(\u001b[38;5;124m\"\u001b[39m\u001b[38;5;124mencoding_errors\u001b[39m\u001b[38;5;124m\"\u001b[39m, \u001b[38;5;124m\"\u001b[39m\u001b[38;5;124mstrict\u001b[39m\u001b[38;5;124m\"\u001b[39m),\n\u001b[0;32m   1669\u001b[0m     storage_options\u001b[38;5;241m=\u001b[39m\u001b[38;5;28mself\u001b[39m\u001b[38;5;241m.\u001b[39moptions\u001b[38;5;241m.\u001b[39mget(\u001b[38;5;124m\"\u001b[39m\u001b[38;5;124mstorage_options\u001b[39m\u001b[38;5;124m\"\u001b[39m, \u001b[38;5;28;01mNone\u001b[39;00m),\n\u001b[0;32m   1670\u001b[0m )\n\u001b[0;32m   1671\u001b[0m \u001b[38;5;28;01massert\u001b[39;00m \u001b[38;5;28mself\u001b[39m\u001b[38;5;241m.\u001b[39mhandles \u001b[38;5;129;01mis\u001b[39;00m \u001b[38;5;129;01mnot\u001b[39;00m \u001b[38;5;28;01mNone\u001b[39;00m\n\u001b[0;32m   1672\u001b[0m f \u001b[38;5;241m=\u001b[39m \u001b[38;5;28mself\u001b[39m\u001b[38;5;241m.\u001b[39mhandles\u001b[38;5;241m.\u001b[39mhandle\n",
      "File \u001b[1;32m~\\anaconda3\\Lib\\site-packages\\pandas\\io\\common.py:859\u001b[0m, in \u001b[0;36mget_handle\u001b[1;34m(path_or_buf, mode, encoding, compression, memory_map, is_text, errors, storage_options)\u001b[0m\n\u001b[0;32m    854\u001b[0m \u001b[38;5;28;01melif\u001b[39;00m \u001b[38;5;28misinstance\u001b[39m(handle, \u001b[38;5;28mstr\u001b[39m):\n\u001b[0;32m    855\u001b[0m     \u001b[38;5;66;03m# Check whether the filename is to be opened in binary mode.\u001b[39;00m\n\u001b[0;32m    856\u001b[0m     \u001b[38;5;66;03m# Binary mode does not support 'encoding' and 'newline'.\u001b[39;00m\n\u001b[0;32m    857\u001b[0m     \u001b[38;5;28;01mif\u001b[39;00m ioargs\u001b[38;5;241m.\u001b[39mencoding \u001b[38;5;129;01mand\u001b[39;00m \u001b[38;5;124m\"\u001b[39m\u001b[38;5;124mb\u001b[39m\u001b[38;5;124m\"\u001b[39m \u001b[38;5;129;01mnot\u001b[39;00m \u001b[38;5;129;01min\u001b[39;00m ioargs\u001b[38;5;241m.\u001b[39mmode:\n\u001b[0;32m    858\u001b[0m         \u001b[38;5;66;03m# Encoding\u001b[39;00m\n\u001b[1;32m--> 859\u001b[0m         handle \u001b[38;5;241m=\u001b[39m \u001b[38;5;28mopen\u001b[39m(\n\u001b[0;32m    860\u001b[0m             handle,\n\u001b[0;32m    861\u001b[0m             ioargs\u001b[38;5;241m.\u001b[39mmode,\n\u001b[0;32m    862\u001b[0m             encoding\u001b[38;5;241m=\u001b[39mioargs\u001b[38;5;241m.\u001b[39mencoding,\n\u001b[0;32m    863\u001b[0m             errors\u001b[38;5;241m=\u001b[39merrors,\n\u001b[0;32m    864\u001b[0m             newline\u001b[38;5;241m=\u001b[39m\u001b[38;5;124m\"\u001b[39m\u001b[38;5;124m\"\u001b[39m,\n\u001b[0;32m    865\u001b[0m         )\n\u001b[0;32m    866\u001b[0m     \u001b[38;5;28;01melse\u001b[39;00m:\n\u001b[0;32m    867\u001b[0m         \u001b[38;5;66;03m# Binary mode\u001b[39;00m\n\u001b[0;32m    868\u001b[0m         handle \u001b[38;5;241m=\u001b[39m \u001b[38;5;28mopen\u001b[39m(handle, ioargs\u001b[38;5;241m.\u001b[39mmode)\n",
      "\u001b[1;31mFileNotFoundError\u001b[0m: [Errno 2] No such file or directory: './EC21_회원-상품정보_20231205/이상회원데이터.csv'"
     ]
    }
   ],
   "source": [
    "Weird_members = pd.read_csv('./EC21_회원-상품정보_20231205/이상회원데이터.csv')\n",
    "Normal_members = pd.read_csv('./EC21_회원-상품정보_20231205/정상회원데이터.csv')\n",
    "Normal_members['N,W'] = 0\n",
    "Weird_members['N,W'] = 1\n",
    "members = pd.concat([Weird_members, Normal_members])"
   ]
  },
  {
   "cell_type": "code",
   "execution_count": null,
   "id": "9d574e7b-97fd-49df-8fac-79aff0e3beb4",
   "metadata": {},
   "outputs": [],
   "source": [
    "members.info()"
   ]
  },
  {
   "cell_type": "code",
   "execution_count": null,
   "id": "84b1fbe6-164a-4424-9937-6d9113be9ea5",
   "metadata": {},
   "outputs": [],
   "source": [
    "len(Weird_members['COMP_INFO'])-Weird_members['COMP_INFO'].isna().sum()"
   ]
  }
 ],
 "metadata": {
  "kernelspec": {
   "display_name": "Python 3 (ipykernel)",
   "language": "python",
   "name": "python3"
  },
  "language_info": {
   "codemirror_mode": {
    "name": "ipython",
    "version": 3
   },
   "file_extension": ".py",
   "mimetype": "text/x-python",
   "name": "python",
   "nbconvert_exporter": "python",
   "pygments_lexer": "ipython3",
   "version": "3.11.5"
  }
 },
 "nbformat": 4,
 "nbformat_minor": 5
}
