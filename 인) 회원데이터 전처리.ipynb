{
 "cells": [
  {
   "cell_type": "markdown",
   "id": "9ff5890e-c992-4d97-9bfd-e15b27a1d3db",
   "metadata": {},
   "source": [
    "# 정상/이상 회원데이터 로딩 및 concat"
   ]
  },
  {
   "cell_type": "code",
   "execution_count": 114,
   "id": "cf9bd4f2-a092-49db-a3f6-14542e8ec72c",
   "metadata": {},
   "outputs": [
    {
     "name": "stderr",
     "output_type": "stream",
     "text": [
      "C:\\Users\\user\\AppData\\Local\\Temp\\ipykernel_17800\\615075011.py:4: DtypeWarning: Columns (4,5) have mixed types. Specify dtype option on import or set low_memory=False.\n",
      "  Normal_members = pd.read_csv('./dataset/정상회원데이터v2.csv')\n"
     ]
    }
   ],
   "source": [
    "import pandas as pd\n",
    "import numpy as np\n",
    "Weird_members = pd.read_csv('./dataset/이상회원데이터v2.csv')\n",
    "Normal_members = pd.read_csv('./dataset/정상회원데이터v2.csv')\n",
    "Weird_members['judge'] = 0\n",
    "Normal_members['judge'] = 1\n",
    "Members = pd.concat([Weird_members, Normal_members], ignore_index=True)"
   ]
  },
  {
   "cell_type": "markdown",
   "id": "7973dbc0-7d6f-4e69-b6e0-9aa75d58236b",
   "metadata": {},
   "source": [
    "# 필요 컬럼만 저장"
   ]
  },
  {
   "cell_type": "code",
   "execution_count": 115,
   "id": "38c56545-3754-4c8b-9311-d07f403d18ce",
   "metadata": {},
   "outputs": [],
   "source": [
    "Members = Members[['MEMBER_ID', 'GUBUN', 'COUNTRY_CD', 'KEYWORD','LOGIN_DT', 'LOGIN_CNT', 'INPUT_DT', 'UPDATE_DT', 'REMOTEIP', 'SHOW_CHK', 'MTYPE', 'ORDER_FLG', 'judge']]"
   ]
  },
  {
   "cell_type": "code",
   "execution_count": 68,
   "id": "a9ebedc8-79ca-4316-8525-cbfdd6135a2f",
   "metadata": {},
   "outputs": [
    {
     "name": "stdout",
     "output_type": "stream",
     "text": [
      "Index(['MEMBER_ID', 'GUBUN', 'COUNTRY_CD', 'KEYWORD', 'LOGIN_DT', 'LOGIN_CNT',\n",
      "       'INPUT_DT', 'UPDATE_DT', 'REMOTEIP', 'SHOW_CHK', 'MTYPE', 'ORDER_FLG',\n",
      "       'judge'],\n",
      "      dtype='object')\n",
      "<class 'pandas.core.frame.DataFrame'>\n",
      "RangeIndex: 466764 entries, 0 to 466763\n",
      "Data columns (total 13 columns):\n",
      " #   Column      Non-Null Count   Dtype \n",
      "---  ------      --------------   ----- \n",
      " 0   MEMBER_ID   466764 non-null  object\n",
      " 1   GUBUN       466762 non-null  object\n",
      " 2   COUNTRY_CD  466579 non-null  object\n",
      " 3   KEYWORD     191511 non-null  object\n",
      " 4   LOGIN_DT    466764 non-null  int64 \n",
      " 5   LOGIN_CNT   466764 non-null  int64 \n",
      " 6   INPUT_DT    466764 non-null  int64 \n",
      " 7   UPDATE_DT   466764 non-null  int64 \n",
      " 8   REMOTEIP    466764 non-null  object\n",
      " 9   SHOW_CHK    466764 non-null  object\n",
      " 10  MTYPE       466764 non-null  object\n",
      " 11  ORDER_FLG   466764 non-null  int64 \n",
      " 12  judge       466764 non-null  int64 \n",
      "dtypes: int64(6), object(7)\n",
      "memory usage: 46.3+ MB\n"
     ]
    }
   ],
   "source": [
    "print(Members.columns)\n",
    "Members.info()"
   ]
  },
  {
   "cell_type": "markdown",
   "id": "b1a881ba-8add-4c8f-bb90-54ab5fe19b5b",
   "metadata": {},
   "source": [
    "# 'GUBUN'"
   ]
  },
  {
   "cell_type": "code",
   "execution_count": 116,
   "id": "a0bc4a12-a220-4fe3-baba-2e4f39bab394",
   "metadata": {},
   "outputs": [
    {
     "data": {
      "text/plain": [
       "GUBUN\n",
       "0    254461\n",
       "1    190797\n",
       "2     21504\n",
       "Name: count, dtype: int64"
      ]
     },
     "execution_count": 116,
     "metadata": {},
     "output_type": "execute_result"
    }
   ],
   "source": [
    "Members.dropna(subset=['GUBUN'], inplace=True)\n",
    "Members['GUBUN'] = Members['GUBUN'].replace({'S': 0, 'B': 1, 'M': 2})\n",
    "Members['GUBUN'].value_counts()"
   ]
  },
  {
   "cell_type": "markdown",
   "id": "fb55570e-a043-4228-bfcf-bece6915a8ea",
   "metadata": {},
   "source": [
    "# date 값들 년,월,일만 뽑기"
   ]
  },
  {
   "cell_type": "code",
   "execution_count": 118,
   "id": "b5dd4dff-ece5-4946-9b15-32f332e34eee",
   "metadata": {},
   "outputs": [],
   "source": [
    "# 'LOGIN_DT'\n",
    "try:\n",
    "    Members['LOGIN_DT'] = pd.to_datetime(Members['LOGIN_DT'], format='%Y%m%d%H%M%S')\n",
    "    Members['LOGIN_DT'] = Members['LOGIN_DT'].dt.strftime('%Y%m%d')  # 예제에서는 연도만 남김\n",
    "except ValueError as e:\n",
    "    print(f\"Error: {e}\")\n",
    "    print(\"Skipping datetime conversion.\")"
   ]
  },
  {
   "cell_type": "code",
   "execution_count": 119,
   "id": "3c4ce1d9-fabf-48db-9f88-5109aae26602",
   "metadata": {},
   "outputs": [],
   "source": [
    "# INPUT_DT\n",
    "try:\n",
    "    Members['INPUT_DT'] = pd.to_datetime(Members['INPUT_DT'], format='%Y%m%d%H%M%S')\n",
    "    Members['INPUT_DT'] = Members['INPUT_DT'].dt.strftime('%Y%m%d')  # 예제에서는 연도만 남김\n",
    "except ValueError as e:\n",
    "    print(f\"Error: {e}\")\n",
    "    print(\"Skipping datetime conversion.\")"
   ]
  },
  {
   "cell_type": "code",
   "execution_count": 120,
   "id": "f9aa8bac-e29b-451a-b42a-d7e23aa58ba4",
   "metadata": {},
   "outputs": [],
   "source": [
    "# 'UPDATE_DT'\n",
    "try:\n",
    "    # Members['LOGIN_DT'] = Members['LOGIN_DT'].astype(str)\n",
    "    # Members['UPDATE_DT'] = Members['UPDATE_DT'].str.pad(width=14, side='right', fillchar='0')\n",
    "    Members['UPDATE_DT'] = pd.to_datetime(Members['UPDATE_DT'], format='%Y%m%d%H%M%S')\n",
    "    Members['UPDATE_DT'] = Members['UPDATE_DT'].dt.strftime('%Y%m%d')  # 예제에서는 연도만 남김\n",
    "except ValueError as e:\n",
    "    print(f\"Error: {e}\")\n",
    "    print(\"Skipping datetime conversion.\")"
   ]
  },
  {
   "cell_type": "markdown",
   "id": "7a07e533-2e33-43e9-b2b5-067c9cf7cc9e",
   "metadata": {},
   "source": [
    "# SHOW_CHK "
   ]
  },
  {
   "cell_type": "code",
   "execution_count": 122,
   "id": "de8c234d-38ab-4095-8015-aec11b2f66a7",
   "metadata": {},
   "outputs": [
    {
     "data": {
      "text/plain": [
       "SHOW_CHK\n",
       "1    373341\n",
       "0     93421\n",
       "Name: count, dtype: int64"
      ]
     },
     "execution_count": 122,
     "metadata": {},
     "output_type": "execute_result"
    }
   ],
   "source": [
    "Members['SHOW_CHK'] = Members['SHOW_CHK'].replace({'P': 0, 'A': 1})\n",
    "\n",
    "Members['SHOW_CHK'].value_counts()"
   ]
  },
  {
   "cell_type": "markdown",
   "id": "f53dca18-4356-4a3e-ad47-904c60deb92b",
   "metadata": {},
   "source": [
    "# MTYPE"
   ]
  },
  {
   "cell_type": "code",
   "execution_count": 124,
   "id": "16cc13ed-401b-4ccf-a820-b300822f9b66",
   "metadata": {},
   "outputs": [
    {
     "data": {
      "text/plain": [
       "MTYPE\n",
       "1    274840\n",
       "0    191922\n",
       "Name: count, dtype: int64"
      ]
     },
     "execution_count": 124,
     "metadata": {},
     "output_type": "execute_result"
    }
   ],
   "source": [
    "Members['MTYPE'] = Members['MTYPE'].replace({'R': 0, 'T': 1})\n",
    "\n",
    "Members['MTYPE'].value_counts()"
   ]
  },
  {
   "cell_type": "code",
   "execution_count": 125,
   "id": "9db7e914-5d2a-40f2-a496-11f3d57ce54b",
   "metadata": {},
   "outputs": [
    {
     "data": {
      "text/html": [
       "<div>\n",
       "<style scoped>\n",
       "    .dataframe tbody tr th:only-of-type {\n",
       "        vertical-align: middle;\n",
       "    }\n",
       "\n",
       "    .dataframe tbody tr th {\n",
       "        vertical-align: top;\n",
       "    }\n",
       "\n",
       "    .dataframe thead th {\n",
       "        text-align: right;\n",
       "    }\n",
       "</style>\n",
       "<table border=\"1\" class=\"dataframe\">\n",
       "  <thead>\n",
       "    <tr style=\"text-align: right;\">\n",
       "      <th></th>\n",
       "      <th>MEMBER_ID</th>\n",
       "      <th>GUBUN</th>\n",
       "      <th>COUNTRY_CD</th>\n",
       "      <th>KEYWORD</th>\n",
       "      <th>LOGIN_DT</th>\n",
       "      <th>LOGIN_CNT</th>\n",
       "      <th>INPUT_DT</th>\n",
       "      <th>UPDATE_DT</th>\n",
       "      <th>REMOTEIP</th>\n",
       "      <th>SHOW_CHK</th>\n",
       "      <th>MTYPE</th>\n",
       "      <th>ORDER_FLG</th>\n",
       "      <th>judge</th>\n",
       "    </tr>\n",
       "  </thead>\n",
       "  <tbody>\n",
       "    <tr>\n",
       "      <th>0</th>\n",
       "      <td>mobilestore11</td>\n",
       "      <td>0</td>\n",
       "      <td>US</td>\n",
       "      <td>stroller</td>\n",
       "      <td>20210311</td>\n",
       "      <td>1</td>\n",
       "      <td>20210311</td>\n",
       "      <td>20210311</td>\n",
       "      <td>104.129.18.208</td>\n",
       "      <td>0</td>\n",
       "      <td>0</td>\n",
       "      <td>90</td>\n",
       "      <td>0</td>\n",
       "    </tr>\n",
       "    <tr>\n",
       "      <th>1</th>\n",
       "      <td>spexstores</td>\n",
       "      <td>0</td>\n",
       "      <td>US</td>\n",
       "      <td>Electric Bikes,Mobile Phone,Speakers,Drones,Ou...</td>\n",
       "      <td>20221214</td>\n",
       "      <td>7</td>\n",
       "      <td>20221122</td>\n",
       "      <td>20230116</td>\n",
       "      <td>191.101.209.9</td>\n",
       "      <td>0</td>\n",
       "      <td>0</td>\n",
       "      <td>90</td>\n",
       "      <td>0</td>\n",
       "    </tr>\n",
       "    <tr>\n",
       "      <th>2</th>\n",
       "      <td>jejrhdh785b</td>\n",
       "      <td>0</td>\n",
       "      <td>CA</td>\n",
       "      <td>Cream</td>\n",
       "      <td>20221223</td>\n",
       "      <td>3</td>\n",
       "      <td>20221122</td>\n",
       "      <td>20221122</td>\n",
       "      <td>209.127.24.6</td>\n",
       "      <td>0</td>\n",
       "      <td>0</td>\n",
       "      <td>90</td>\n",
       "      <td>0</td>\n",
       "    </tr>\n",
       "    <tr>\n",
       "      <th>3</th>\n",
       "      <td>hdhdhdhdudh987</td>\n",
       "      <td>0</td>\n",
       "      <td>US</td>\n",
       "      <td>Huggies</td>\n",
       "      <td>20221223</td>\n",
       "      <td>2</td>\n",
       "      <td>20221122</td>\n",
       "      <td>20221122</td>\n",
       "      <td>198.181.163.103</td>\n",
       "      <td>0</td>\n",
       "      <td>0</td>\n",
       "      <td>90</td>\n",
       "      <td>0</td>\n",
       "    </tr>\n",
       "    <tr>\n",
       "      <th>4</th>\n",
       "      <td>georgss568</td>\n",
       "      <td>0</td>\n",
       "      <td>US</td>\n",
       "      <td>Baby diapers</td>\n",
       "      <td>20221122</td>\n",
       "      <td>1</td>\n",
       "      <td>20221122</td>\n",
       "      <td>20221122</td>\n",
       "      <td>198.23.242.152</td>\n",
       "      <td>0</td>\n",
       "      <td>0</td>\n",
       "      <td>90</td>\n",
       "      <td>0</td>\n",
       "    </tr>\n",
       "  </tbody>\n",
       "</table>\n",
       "</div>"
      ],
      "text/plain": [
       "        MEMBER_ID  GUBUN COUNTRY_CD  \\\n",
       "0   mobilestore11      0         US   \n",
       "1      spexstores      0         US   \n",
       "2     jejrhdh785b      0         CA   \n",
       "3  hdhdhdhdudh987      0         US   \n",
       "4      georgss568      0         US   \n",
       "\n",
       "                                             KEYWORD  LOGIN_DT  LOGIN_CNT  \\\n",
       "0                                           stroller  20210311          1   \n",
       "1  Electric Bikes,Mobile Phone,Speakers,Drones,Ou...  20221214          7   \n",
       "2                                              Cream  20221223          3   \n",
       "3                                            Huggies  20221223          2   \n",
       "4                                       Baby diapers  20221122          1   \n",
       "\n",
       "   INPUT_DT UPDATE_DT         REMOTEIP  SHOW_CHK  MTYPE  ORDER_FLG  judge  \n",
       "0  20210311  20210311   104.129.18.208         0      0         90      0  \n",
       "1  20221122  20230116    191.101.209.9         0      0         90      0  \n",
       "2  20221122  20221122     209.127.24.6         0      0         90      0  \n",
       "3  20221122  20221122  198.181.163.103         0      0         90      0  \n",
       "4  20221122  20221122   198.23.242.152         0      0         90      0  "
      ]
     },
     "execution_count": 125,
     "metadata": {},
     "output_type": "execute_result"
    }
   ],
   "source": [
    "Members.head()"
   ]
  }
 ],
 "metadata": {
  "kernelspec": {
   "display_name": "Python 3 (ipykernel)",
   "language": "python",
   "name": "python3"
  },
  "language_info": {
   "codemirror_mode": {
    "name": "ipython",
    "version": 3
   },
   "file_extension": ".py",
   "mimetype": "text/x-python",
   "name": "python",
   "nbconvert_exporter": "python",
   "pygments_lexer": "ipython3",
   "version": "3.11.5"
  }
 },
 "nbformat": 4,
 "nbformat_minor": 5
}
