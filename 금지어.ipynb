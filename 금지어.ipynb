{
 "cells": [
  {
   "cell_type": "code",
   "execution_count": 8,
   "metadata": {},
   "outputs": [
    {
     "name": "stdout",
     "output_type": "stream",
     "text": [
      "금지어: (923, 1)\n",
      "상품데이터: (751315, 11)\n"
     ]
    }
   ],
   "source": [
    "import pandas as pd\n",
    "\n",
    "keyword = pd.read_csv('./dataset/금지어keyword.csv')\n",
    "products = pd.read_csv('./dataset/product_concat_v3.csv')\n",
    "\n",
    "print('금지어:', keyword.shape)\n",
    "print('상품데이터:', products.shape)"
   ]
  },
  {
   "cell_type": "code",
   "execution_count": 15,
   "metadata": {},
   "outputs": [
    {
     "data": {
      "text/plain": [
       "0         1-BOC-4-(4-BROMO-PHENYLAMINO)-PIPERIDINECas 44...\n",
       "1         High Purity N- (Tert-Butoxycarbonyl) -4-Piperi...\n",
       "2                   1,1-dimethylethyl Ester CAS 288573-56-8\n",
       "3         White Crystal N-Isopropylbenzylamine CAS 102-9...\n",
       "4                                     Soybean GMO & NON-GMO\n",
       "                                ...                        \n",
       "751310     Cosmetic Ingredient Peptides Lipotec Serilesine \n",
       "751311    60HRC  2 Flutes Solide Carbide Twist Drilling ...\n",
       "751312    45 HRC Solide Carbide 3 Flutes Fat Square Stan...\n",
       "751313    Factory Manufacture 55 HRC Solide Carbide 4 Fl...\n",
       "751314    55 HRC Solide Carbide 4 Flutes Fat Square Stan...\n",
       "Name: CATALOG_NM, Length: 751315, dtype: object"
      ]
     },
     "execution_count": 15,
     "metadata": {},
     "output_type": "execute_result"
    }
   ],
   "source": [
    "products['CATALOG_NM']"
   ]
  },
  {
   "cell_type": "code",
   "execution_count": 17,
   "metadata": {},
   "outputs": [
    {
     "data": {
      "text/plain": [
       "0         1 B O C 4 4 B R O M O P H E N Y L A M I N O P ...\n",
       "1         H i g h   P u r i t y   N   T e r t B u t o x ...\n",
       "2         1 1 d i m e t h y l e t h y l   E s t e r   C ...\n",
       "3         W h i t e   C r y s t a l   N I s o p r o p y ...\n",
       "4                     S o y b e a n   G M O     N O N G M O\n",
       "                                ...                        \n",
       "751310    C o s m e t i c   I n g r e d i e n t   P e p ...\n",
       "751311    6 0 H R C     2   F l u t e s   S o l i d e   ...\n",
       "751312    4 5   H R C   S o l i d e   C a r b i d e   3 ...\n",
       "751313    F a c t o r y   M a n u f a c t u r e   5 5   ...\n",
       "751314    5 5   H R C   S o l i d e   C a r b i d e   4 ...\n",
       "Name: CATALOG_NM, Length: 751315, dtype: object"
      ]
     },
     "execution_count": 17,
     "metadata": {},
     "output_type": "execute_result"
    }
   ],
   "source": [
    "products['CATALOG_NM'].apply(remove_punctuation)"
   ]
  },
  {
   "cell_type": "markdown",
   "metadata": {},
   "source": [
    "#  설명 안에 불필요한 개행 기호 제거, 특수기호"
   ]
  },
  {
   "cell_type": "code",
   "execution_count": 16,
   "metadata": {},
   "outputs": [],
   "source": [
    "import string\n",
    "\n",
    "# 'CATALOG_DESC' 열에는 문자열과 숫자(float) 값이 혼합되어 있다고 가정\n",
    "def remove_punctuation (text):\n",
    "    if isinstance(text, str):\n",
    "        return ' '.join(char for char in text if char not in string.punctuation)\n",
    "    else:\n",
    "        return str(text)\n",
    "\n",
    "# 함수를 'CATALOG_DESC' 열에 적용\n",
    "# products['CATALOG_DESC'] = products['CATALOG_DESC'].apply(remove_punctuation)"
   ]
  },
  {
   "cell_type": "code",
   "execution_count": 3,
   "metadata": {},
   "outputs": [
    {
     "name": "stdout",
     "output_type": "stream",
     "text": [
      "           KEYWORD\n",
      "0            Xanax\n",
      "1             Yaba\n",
      "2        Yohimbine\n",
      "3    Yucantan Fire\n",
      "4    ZUMBA Fitness\n",
      "..             ...\n",
      "918   Norephedrine\n",
      "919     North Face\n",
      "920        Norvasc\n",
      "921         Nubain\n",
      "922       Nutropin\n",
      "\n",
      "[923 rows x 1 columns]\n"
     ]
    }
   ],
   "source": [
    "print(keyword)"
   ]
  },
  {
   "cell_type": "code",
   "execution_count": 4,
   "metadata": {},
   "outputs": [],
   "source": [
    "products['CATALOG_DESC'] = products['CATALOG_DESC'].str.lower()\n",
    "keywords = keyword['KEYWORD'].str.lower()"
   ]
  },
  {
   "cell_type": "code",
   "execution_count": 5,
   "metadata": {},
   "outputs": [],
   "source": [
    "def keywords_in_products(col):\n",
    "    matched_keywords = [word for word in keywords if word in col]\n",
    "    return matched_keywords if matched_keywords else None"
   ]
  },
  {
   "cell_type": "markdown",
   "metadata": {},
   "source": [
    "# 상품설명 안에 키워드 데이터 프레임"
   ]
  },
  {
   "cell_type": "code",
   "execution_count": 6,
   "metadata": {},
   "outputs": [],
   "source": [
    "keyword_in_desc_df = pd.DataFrame({'CATALOG_DESC':products['CATALOG_DESC'],\n",
    "                           'KEYWORD':products['CATALOG_DESC'].apply(keywords_in_products),\n",
    "                           'judge': products['judge']})"
   ]
  },
  {
   "cell_type": "code",
   "execution_count": 33,
   "metadata": {},
   "outputs": [
    {
     "data": {
      "text/html": [
       "<div>\n",
       "<style scoped>\n",
       "    .dataframe tbody tr th:only-of-type {\n",
       "        vertical-align: middle;\n",
       "    }\n",
       "\n",
       "    .dataframe tbody tr th {\n",
       "        vertical-align: top;\n",
       "    }\n",
       "\n",
       "    .dataframe thead th {\n",
       "        text-align: right;\n",
       "    }\n",
       "</style>\n",
       "<table border=\"1\" class=\"dataframe\">\n",
       "  <thead>\n",
       "    <tr style=\"text-align: right;\">\n",
       "      <th></th>\n",
       "      <th>CATALOG_DESC</th>\n",
       "      <th>KEYWORD</th>\n",
       "      <th>judge</th>\n",
       "    </tr>\n",
       "  </thead>\n",
       "  <tbody>\n",
       "    <tr>\n",
       "      <th>0</th>\n",
       "      <td>1 名称和标识符11 名称1叔丁氧羰基4（4溴苯基氨基）哌啶12 同义词1哌啶羧酸4（4溴苯...</td>\n",
       "      <td>None</td>\n",
       "      <td>0</td>\n",
       "    </tr>\n",
       "    <tr>\n",
       "      <th>1</th>\n",
       "      <td>1 名称和标识符11 名称n叔丁氧羰基4哌啶酮12 同义词1叔丁氧羰基4哌啶酮1叔丁氧羰基4...</td>\n",
       "      <td>None</td>\n",
       "      <td>0</td>\n",
       "    </tr>\n",
       "    <tr>\n",
       "      <th>2</th>\n",
       "      <td>1 names and identifiers11 name1boc44fluorophen...</td>\n",
       "      <td>[piperidine]</td>\n",
       "      <td>0</td>\n",
       "    </tr>\n",
       "    <tr>\n",
       "      <th>3</th>\n",
       "      <td>1 names and identifiers11 namenisopropylbenzyl...</td>\n",
       "      <td>[opana, ambien]</td>\n",
       "      <td>0</td>\n",
       "    </tr>\n",
       "    <tr>\n",
       "      <th>4</th>\n",
       "      <td>soja gmo  soja nongmoem estoque  5000000 mtori...</td>\n",
       "      <td>[sblc]</td>\n",
       "      <td>0</td>\n",
       "    </tr>\n",
       "  </tbody>\n",
       "</table>\n",
       "</div>"
      ],
      "text/plain": [
       "                                        CATALOG_DESC          KEYWORD  judge\n",
       "0  1 名称和标识符11 名称1叔丁氧羰基4（4溴苯基氨基）哌啶12 同义词1哌啶羧酸4（4溴苯...             None      0\n",
       "1  1 名称和标识符11 名称n叔丁氧羰基4哌啶酮12 同义词1叔丁氧羰基4哌啶酮1叔丁氧羰基4...             None      0\n",
       "2  1 names and identifiers11 name1boc44fluorophen...     [piperidine]      0\n",
       "3  1 names and identifiers11 namenisopropylbenzyl...  [opana, ambien]      0\n",
       "4  soja gmo  soja nongmoem estoque  5000000 mtori...           [sblc]      0"
      ]
     },
     "execution_count": 33,
     "metadata": {},
     "output_type": "execute_result"
    }
   ],
   "source": [
    "keyword_in_desc_df.head()"
   ]
  },
  {
   "cell_type": "code",
   "execution_count": 10,
   "metadata": {},
   "outputs": [
    {
     "data": {
      "text/plain": [
       "(63084, 3)"
      ]
     },
     "execution_count": 10,
     "metadata": {},
     "output_type": "execute_result"
    }
   ],
   "source": [
    "keyword_in_desc_df[keyword_in_desc_df['KEYWORD'].isna()==False].shape"
   ]
  },
  {
   "cell_type": "code",
   "execution_count": 11,
   "metadata": {},
   "outputs": [
    {
     "data": {
      "text/plain": [
       "judge\n",
       "1    34284\n",
       "0    28800\n",
       "Name: count, dtype: int64"
      ]
     },
     "execution_count": 11,
     "metadata": {},
     "output_type": "execute_result"
    }
   ],
   "source": [
    "keyword_in_desc_df[keyword_in_desc_df['KEYWORD'].isna()==False]['judge'].value_counts()"
   ]
  },
  {
   "cell_type": "code",
   "execution_count": 40,
   "metadata": {},
   "outputs": [
    {
     "data": {
      "image/png": "[encoded data removed]",
      "text/plain": [
       "<Figure size 800x800 with 1 Axes>"
      ]
     },
     "metadata": {},
     "output_type": "display_data"
    }
   ],
   "source": [
    "import matplotlib.pyplot as plt\n",
    "import numpy as np\n",
    "\n",
    "# 주어진 코드에서 얻은 값\n",
    "value_counts = keyword_in_desc_df[keyword_in_desc_df['KEYWORD'].notna()]['judge'].value_counts()\n",
    "\n",
    "# 원 그래프 그리기\n",
    "plt.figure(figsize=(8, 8))\n",
    "plt.pie(value_counts, labels=value_counts.index, autopct='%1.1f%%', startangle=90, colors=['skyblue', 'lightcoral'])\n",
    "plt.title('Distribution of \"judge\" for non-null \"KEYWORD\" values')\n",
    "plt.legend()\n",
    "plt.show()"
   ]
  },
  {
   "cell_type": "code",
   "execution_count": 29,
   "metadata": {},
   "outputs": [
    {
     "name": "stdout",
     "output_type": "stream",
     "text": [
      "이상상품: 0.46\n",
      "정상상품: 0.54\n"
     ]
    }
   ],
   "source": [
    "in_keyword = len(keyword_in_desc_df[keyword_in_desc_df['KEYWORD'].isna()==False]['judge'])\n",
    "judge_0_keyword= len(keyword_in_desc_df[(keyword_in_desc_df['KEYWORD'].isna()==False) & (keyword_in_desc_df['judge']==0)])\n",
    "judge_1_keyword= len(keyword_in_desc_df[(keyword_in_desc_df['KEYWORD'].isna()==False) & (keyword_in_desc_df['judge']==1)])\n",
    "\n",
    "print('이상상품:', round(judge_0_keyword / in_keyword,2))\n",
    "print('정상상품:', round(judge_1_keyword / in_keyword,2))\n",
    "\n"
   ]
  },
  {
   "cell_type": "markdown",
   "metadata": {},
   "source": [
    "# 상품명 안에 소문자, 특수문자 제거"
   ]
  },
  {
   "cell_type": "code",
   "execution_count": 31,
   "metadata": {},
   "outputs": [],
   "source": [
    "products['CATALOG_NM'] = products['CATALOG_NM'].str.lower()\n",
    "products['CATALOG_NM'] = products['CATALOG_NM'].apply(remove_punctuation)"
   ]
  },
  {
   "cell_type": "markdown",
   "metadata": {},
   "source": [
    "# 상품명 안에 키워드"
   ]
  },
  {
   "cell_type": "code",
   "execution_count": 32,
   "metadata": {},
   "outputs": [],
   "source": [
    "keyword_in_nm_df = pd.DataFrame({'CATALOG_NM':products['CATALOG_NM'],\n",
    "                           'KEYWORD':products['CATALOG_NM'].apply(keywords_in_products),\n",
    "                           'judge': products['judge']})"
   ]
  },
  {
   "cell_type": "code",
   "execution_count": 34,
   "metadata": {},
   "outputs": [
    {
     "data": {
      "text/html": [
       "<div>\n",
       "<style scoped>\n",
       "    .dataframe tbody tr th:only-of-type {\n",
       "        vertical-align: middle;\n",
       "    }\n",
       "\n",
       "    .dataframe tbody tr th {\n",
       "        vertical-align: top;\n",
       "    }\n",
       "\n",
       "    .dataframe thead th {\n",
       "        text-align: right;\n",
       "    }\n",
       "</style>\n",
       "<table border=\"1\" class=\"dataframe\">\n",
       "  <thead>\n",
       "    <tr style=\"text-align: right;\">\n",
       "      <th></th>\n",
       "      <th>CATALOG_NM</th>\n",
       "      <th>KEYWORD</th>\n",
       "      <th>judge</th>\n",
       "    </tr>\n",
       "  </thead>\n",
       "  <tbody>\n",
       "    <tr>\n",
       "      <th>0</th>\n",
       "      <td>1boc44bromophenylaminopiperidinecas 443998650</td>\n",
       "      <td>[piperidine]</td>\n",
       "      <td>0</td>\n",
       "    </tr>\n",
       "    <tr>\n",
       "      <th>1</th>\n",
       "      <td>high purity n tertbutoxycarbonyl 4piperidone c...</td>\n",
       "      <td>None</td>\n",
       "      <td>0</td>\n",
       "    </tr>\n",
       "    <tr>\n",
       "      <th>2</th>\n",
       "      <td>11dimethylethyl ester cas 288573568</td>\n",
       "      <td>None</td>\n",
       "      <td>0</td>\n",
       "    </tr>\n",
       "    <tr>\n",
       "      <th>3</th>\n",
       "      <td>white crystal nisopropylbenzylamine cas 102976...</td>\n",
       "      <td>None</td>\n",
       "      <td>0</td>\n",
       "    </tr>\n",
       "    <tr>\n",
       "      <th>4</th>\n",
       "      <td>soybean gmo  nongmo</td>\n",
       "      <td>None</td>\n",
       "      <td>0</td>\n",
       "    </tr>\n",
       "  </tbody>\n",
       "</table>\n",
       "</div>"
      ],
      "text/plain": [
       "                                          CATALOG_NM       KEYWORD  judge\n",
       "0      1boc44bromophenylaminopiperidinecas 443998650  [piperidine]      0\n",
       "1  high purity n tertbutoxycarbonyl 4piperidone c...          None      0\n",
       "2                11dimethylethyl ester cas 288573568          None      0\n",
       "3  white crystal nisopropylbenzylamine cas 102976...          None      0\n",
       "4                                soybean gmo  nongmo          None      0"
      ]
     },
     "execution_count": 34,
     "metadata": {},
     "output_type": "execute_result"
    }
   ],
   "source": [
    "keyword_in_nm_df.head()"
   ]
  },
  {
   "cell_type": "code",
   "execution_count": 35,
   "metadata": {},
   "outputs": [
    {
     "data": {
      "text/plain": [
       "(54999, 3)"
      ]
     },
     "execution_count": 35,
     "metadata": {},
     "output_type": "execute_result"
    }
   ],
   "source": [
    "keyword_in_nm_df[keyword_in_nm_df['KEYWORD'].notna()].shape"
   ]
  },
  {
   "cell_type": "code",
   "execution_count": 37,
   "metadata": {},
   "outputs": [
    {
     "data": {
      "text/plain": [
       "judge\n",
       "0    33424\n",
       "1    21575\n",
       "Name: count, dtype: int64"
      ]
     },
     "execution_count": 37,
     "metadata": {},
     "output_type": "execute_result"
    }
   ],
   "source": [
    "keyword_in_nm_df[keyword_in_nm_df['KEYWORD'].notna()]['judge'].value_counts()"
   ]
  },
  {
   "cell_type": "code",
   "execution_count": 39,
   "metadata": {},
   "outputs": [
    {
     "data": {
      "image/png": "[encoded data removed]",
      "text/plain": [
       "<Figure size 800x800 with 1 Axes>"
      ]
     },
     "metadata": {},
     "output_type": "display_data"
    }
   ],
   "source": [
    "# 주어진 코드에서 얻은 값\n",
    "value_counts = keyword_in_nm_df[keyword_in_nm_df['KEYWORD'].notna()]['judge'].value_counts()\n",
    "\n",
    "# 원 그래프 그리기\n",
    "plt.figure(figsize=(8, 8))\n",
    "plt.pie(value_counts, labels=value_counts.index, autopct='%1.1f%%', startangle=90, colors=['skyblue', 'lightcoral'])\n",
    "plt.legend()\n",
    "plt.title('Distribution of \"judge\" for non-null \"KEYWORD\" values')\n",
    "plt.show()"
   ]
  },
  {
   "cell_type": "code",
   "execution_count": 41,
   "metadata": {},
   "outputs": [
    {
     "name": "stdout",
     "output_type": "stream",
     "text": [
      "이상상품: 0.61\n",
      "정상상품: 0.39\n"
     ]
    }
   ],
   "source": [
    "in_keyword = len(keyword_in_nm_df[keyword_in_nm_df['KEYWORD'].notna()]['judge'])\n",
    "judge_0_keyword= len(keyword_in_nm_df[(keyword_in_nm_df['KEYWORD'].notna()) & (keyword_in_nm_df['judge']==0)])\n",
    "judge_1_keyword= len(keyword_in_nm_df[(keyword_in_nm_df['KEYWORD'].notna()) & (keyword_in_nm_df['judge']==1)])\n",
    "\n",
    "print('이상상품:', round(judge_0_keyword / in_keyword,2))\n",
    "print('정상상품:', round(judge_1_keyword / in_keyword,2))"
   ]
  },
  {
   "cell_type": "markdown",
   "metadata": {},
   "source": [
    "# 인콰이어리 데이터"
   ]
  },
  {
   "cell_type": "code",
   "execution_count": 42,
   "metadata": {},
   "outputs": [],
   "source": [
    "inquiry = pd.read_csv('./dataset/인콰이어리데이터.csv')"
   ]
  },
  {
   "cell_type": "code",
   "execution_count": 43,
   "metadata": {},
   "outputs": [
    {
     "data": {
      "text/plain": [
       "(460000, 21)"
      ]
     },
     "execution_count": 43,
     "metadata": {},
     "output_type": "execute_result"
    }
   ],
   "source": [
    "inquiry.shape"
   ]
  },
  {
   "cell_type": "code",
   "execution_count": 63,
   "metadata": {},
   "outputs": [
    {
     "data": {
      "text/plain": [
       "0         Dear Davis Brooks ,<br/><br/>Uchida Huynh from...\n",
       "1         Dear Azhar Ayub,<br/><br/>Uchida Huynh from Ja...\n",
       "2         Dear Kevin Hill,<br/><br/>Uchida Huynh from Ja...\n",
       "3         Dear Toby ,<br/><br/>Uchida Huynh from Japan h...\n",
       "4         Dear Alex Empedrad,<br/><br/>Uchida Huynh from...\n",
       "                                ...                        \n",
       "459995    We are importers of petroleum products, we int...\n",
       "459996        HELLO    We are willing and ready to purch...\n",
       "459997    Hello,    I have interest in your 7 Inch Andro...\n",
       "459998    We are GREENWORLD IMPORT EXPORT CO., LTD, once...\n",
       "459999    Dear Sir/Madam,    we, PRED OOO TMT are DIRECT...\n",
       "Name: MESSAGE, Length: 460000, dtype: object"
      ]
     },
     "execution_count": 63,
     "metadata": {},
     "output_type": "execute_result"
    }
   ],
   "source": [
    "inquiry['MESSAGE']"
   ]
  },
  {
   "cell_type": "code",
   "execution_count": 47,
   "metadata": {},
   "outputs": [],
   "source": [
    "inquiry['MESSAGE'] = inquiry['MESSAGE'].str.replace('\\r','').str.replace('\\\\','').str.replace('\\n','')"
   ]
  },
  {
   "cell_type": "code",
   "execution_count": 48,
   "metadata": {},
   "outputs": [
    {
     "data": {
      "text/plain": [
       "0         Dear Davis Brooks ,<br/><br/>Uchida Huynh from...\n",
       "1         Dear Azhar Ayub,<br/><br/>Uchida Huynh from Ja...\n",
       "2         Dear Kevin Hill,<br/><br/>Uchida Huynh from Ja...\n",
       "3         Dear Toby ,<br/><br/>Uchida Huynh from Japan h...\n",
       "4         Dear Alex Empedrad,<br/><br/>Uchida Huynh from...\n",
       "                                ...                        \n",
       "459995    We are importers of petroleum products, we int...\n",
       "459996        HELLO    We are willing and ready to purch...\n",
       "459997    Hello,    I have interest in your 7 Inch Andro...\n",
       "459998    We are GREENWORLD IMPORT EXPORT CO., LTD, once...\n",
       "459999    Dear Sir/Madam,    we, PRED OOO TMT are DIRECT...\n",
       "Name: MESSAGE, Length: 460000, dtype: object"
      ]
     },
     "execution_count": 48,
     "metadata": {},
     "output_type": "execute_result"
    }
   ],
   "source": [
    "inquiry['MESSAGE']"
   ]
  },
  {
   "cell_type": "code",
   "execution_count": 64,
   "metadata": {},
   "outputs": [],
   "source": [
    "# <부터 '까지의 패턴 정의\n",
    "pattern = r'<br/>*'\n",
    "\n",
    "# 정규표현식을 사용하여 지우고 싶은 부분 삭제\n",
    "inquiry['MESSAGE'] = inquiry['MESSAGE'].apply(lambda x: re.sub(pattern,'', x))"
   ]
  },
  {
   "cell_type": "code",
   "execution_count": 7,
   "metadata": {},
   "outputs": [
    {
     "ename": "NameError",
     "evalue": "name 'inquiry' is not defined",
     "output_type": "error",
     "traceback": [
      "\u001b[1;31m---------------------------------------------------------------------------\u001b[0m",
      "\u001b[1;31mNameError\u001b[0m                                 Traceback (most recent call last)",
      "Cell \u001b[1;32mIn[7], line 1\u001b[0m\n\u001b[1;32m----> 1\u001b[0m \u001b[43minquiry\u001b[49m[\u001b[38;5;124m'\u001b[39m\u001b[38;5;124mMESSAGE\u001b[39m\u001b[38;5;124m'\u001b[39m]\n",
      "\u001b[1;31mNameError\u001b[0m: name 'inquiry' is not defined"
     ]
    }
   ],
   "source": [
    "\n",
    "inquiry['MESSAGE']"
   ]
  }
 ],
 "metadata": {
  "kernelspec": {
   "display_name": "Python 3",
   "language": "python",
   "name": "python3"
  },
  "language_info": {
   "codemirror_mode": {
    "name": "ipython",
    "version": 3
   },
   "file_extension": ".py",
   "mimetype": "text/x-python",
   "name": "python",
   "nbconvert_exporter": "python",
   "pygments_lexer": "ipython3",
   "version": "3.12.0"
  }
 },
 "nbformat": 4,
 "nbformat_minor": 2
}
