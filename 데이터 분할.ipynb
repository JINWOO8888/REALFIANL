{
 "cells": [
  {
   "cell_type": "code",
   "execution_count": 15,
   "id": "fc8db7e7-f9a0-49cf-b698-7093ad585c9c",
   "metadata": {},
   "outputs": [
    {
     "name": "stderr",
     "output_type": "stream",
     "text": [
      "C:\\Users\\user\\AppData\\Local\\Temp\\ipykernel_10600\\3308064549.py:2: DtypeWarning: Columns (7,10,11,12,16,17) have mixed types. Specify dtype option on import or set low_memory=False.\n",
      "  weird_member = pd.read_csv('./이상회원데이터.csv')\n"
     ]
    }
   ],
   "source": [
    "import pandas as pd\n",
    "weird_member = pd.read_csv('./이상회원데이터.csv')\n",
    "\n",
    "weird_member = weird_member.drop(['ADDR2', 'ADDR3', 'ZIP_NO','TEL1_NO','TEL2_NO','TEL3_NO','FAX1_NO','FAX2_NO','FAX3_NO','CONTACT_NM','CONTACT_TITLE','CONTACT_DEPT','EMAIL2','HOMEURL','TRADE_NO','BUSI_NO','COMP_NM'],axis=1)\n",
    "\n",
    "\n",
    "\n",
    "weird_member.to_csv('이상회원데이터v2.csv',index=False)"
   ]
  },
  {
   "cell_type": "code",
   "execution_count": null,
   "id": "6ffdf8dc-8c9d-4df5-90b1-512cb3f766f3",
   "metadata": {},
   "outputs": [],
   "source": []
  }
 ],
 "metadata": {
  "kernelspec": {
   "display_name": "Python 3 (ipykernel)",
   "language": "python",
   "name": "python3"
  },
  "language_info": {
   "codemirror_mode": {
    "name": "ipython",
    "version": 3
   },
   "file_extension": ".py",
   "mimetype": "text/x-python",
   "name": "python",
   "nbconvert_exporter": "python",
   "pygments_lexer": "ipython3",
   "version": "3.11.5"
  }
 },
 "nbformat": 4,
 "nbformat_minor": 5
}
